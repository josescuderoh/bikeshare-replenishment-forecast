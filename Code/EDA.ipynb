{
 "cells": [
  {
   "cell_type": "markdown",
   "metadata": {},
   "source": [
    "# Exploratory Data Analysis\n",
    "\n",
    "**Highlights**\n",
    "\n",
    "- Outliers were detected using two criteria (1) *false trips* criteria for short trips (trips with less than 1 minute duration) which is about 1.3% of the data and (2) *IQR* interquartile range for long trips (trips over 1.5 IQR from the middle 50%).\n",
    "- The top 10 origin and destination stations were found. These 10 stations out of 266 (3.6%) account for the 13% and 14% of all trips, respectively. To create a first modeling approach, we will only analyze bike supply and demand for the top station, which is **Union Station**, accounting for a 2% and 2.6% as origin and destination, respectively.\n",
    "- During 2017, 63.102 bikes were taken from and to Union Station in total. Considering the 5.000 bikes available today, and Union Station's average of 172 bikes a day, with a maximum of nearly 500 bikes, *up to 10% of all bikes could be used at specific hours* at this station alone. Furthermore, this mean goes up to 213 bikes during weekdays, which means trips are mainly skewed towards weekdays instead of weekends.\n",
    "- \n"
   ]
  },
  {
   "cell_type": "code",
   "execution_count": 2,
   "metadata": {
    "colab": {
     "base_uri": "https://localhost:8080/",
     "height": 267
    },
    "colab_type": "code",
    "id": "3aD662vdveZ9",
    "outputId": "e7288713-8292-4b5a-9048-9b5eb93fbe39",
    "scrolled": true
   },
   "outputs": [],
   "source": [
    "# Basics\n",
    "import pandas as pd\n",
    "import numpy as np\n",
    "import math\n",
    "from datetime import datetime\n",
    "\n",
    "# Viz\n",
    "import matplotlib.pyplot as plt\n",
    "import seaborn as sns\n",
    "\n",
    "import warnings\n",
    "warnings.filterwarnings('ignore')"
   ]
  },
  {
   "cell_type": "markdown",
   "metadata": {},
   "source": [
    "## Loading the data "
   ]
  },
  {
   "cell_type": "code",
   "execution_count": 3,
   "metadata": {
    "colab": {},
    "colab_type": "code",
    "id": "H4jISSdyEWqT"
   },
   "outputs": [],
   "source": [
    "#Import the data\n",
    "bike_df = pd.read_csv('../data/bts_clean.csv', parse_dates=['trip_start_time_f', 'trip_stop_time_f'])"
   ]
  },
  {
   "cell_type": "markdown",
   "metadata": {
    "colab_type": "text",
    "id": "XfFKabj_FG2O"
   },
   "source": [
    "## Outliers detection\n",
    "\n",
    "Let's begin with the `trip_duration` variable which seems to have some outliers given the previous statistics explored\n"
   ]
  },
  {
   "cell_type": "code",
   "execution_count": 4,
   "metadata": {
    "colab": {
     "base_uri": "https://localhost:8080/",
     "height": 302
    },
    "colab_type": "code",
    "id": "xpUri3R2FhtU",
    "outputId": "331907a2-7a96-4848-af16-daeaf041feb9"
   },
   "outputs": [
    {
     "data": {
      "text/plain": [
       "<matplotlib.axes._subplots.AxesSubplot at 0x1d30c71ca48>"
      ]
     },
     "execution_count": 4,
     "metadata": {},
     "output_type": "execute_result"
    },
    {
     "data": {
      "image/png": "[encoded data removed]",
      "text/plain": [
       "<Figure size 432x288 with 1 Axes>"
      ]
     },
     "metadata": {
      "needs_background": "light"
     },
     "output_type": "display_data"
    }
   ],
   "source": [
    "sns.distplot(bike_df.trip_duration, hist=False)"
   ]
  },
  {
   "cell_type": "markdown",
   "metadata": {},
   "source": [
    "### Remove false trips"
   ]
  },
  {
   "cell_type": "markdown",
   "metadata": {
    "colab_type": "text",
    "id": "FAFB-C_gGZBS"
   },
   "source": [
    "**Toronto Parking Authority (TPA)** generally considers trips less than a minute to be *false trips* in their own analysis, hence we are going to remove these from our data."
   ]
  },
  {
   "cell_type": "code",
   "execution_count": 5,
   "metadata": {
    "colab": {
     "base_uri": "https://localhost:8080/",
     "height": 34
    },
    "colab_type": "code",
    "id": "zBj2L7Z2Gtgv",
    "outputId": "34517977-aaca-4987-d416-b1b0940eae28"
   },
   "outputs": [
    {
     "data": {
      "text/plain": [
       "0.013096799323931816"
      ]
     },
     "execution_count": 5,
     "metadata": {},
     "output_type": "execute_result"
    }
   ],
   "source": [
    "#Calculate the percentage of false trips\n",
    "bike_df[bike_df.trip_duration < 60].shape[0]/bike_df.shape[0]"
   ]
  },
  {
   "cell_type": "markdown",
   "metadata": {
    "colab_type": "text",
    "id": "1Ze0aHvG8WOH"
   },
   "source": [
    "This is about 1.3% of the data to be deleted.\n"
   ]
  },
  {
   "cell_type": "code",
   "execution_count": 6,
   "metadata": {
    "colab": {
     "base_uri": "https://localhost:8080/",
     "height": 302
    },
    "colab_type": "code",
    "id": "z7_whgOEHXJM",
    "outputId": "89bc2e87-b293-4ecd-b6db-04a4005d90dd"
   },
   "outputs": [],
   "source": [
    "#Drop the false trips\n",
    "bike_df = bike_df[bike_df.trip_duration > 60]"
   ]
  },
  {
   "cell_type": "code",
   "execution_count": 7,
   "metadata": {},
   "outputs": [
    {
     "data": {
      "text/plain": [
       "<matplotlib.axes._subplots.AxesSubplot at 0x1d31da5c348>"
      ]
     },
     "execution_count": 7,
     "metadata": {},
     "output_type": "execute_result"
    },
    {
     "data": {
      "image/png": "[encoded data removed]",
      "text/plain": [
       "<Figure size 432x288 with 1 Axes>"
      ]
     },
     "metadata": {
      "needs_background": "light"
     },
     "output_type": "display_data"
    }
   ],
   "source": [
    "#Now plot the new distribution of trips\n",
    "sns.distplot(bike_df.trip_duration, hist=False)"
   ]
  },
  {
   "cell_type": "markdown",
   "metadata": {
    "colab_type": "text",
    "id": "iM5-vo9tHQGV"
   },
   "source": [
    "### Long trips\n",
    "\n",
    "The outliers could be defined as data points that are $±1.5 IQR$ (Inter Quartile Range) away from the middle 50% of the data. Some of the outliers will be removed using this criteria:"
   ]
  },
  {
   "cell_type": "code",
   "execution_count": 8,
   "metadata": {
    "colab": {
     "base_uri": "https://localhost:8080/",
     "height": 34
    },
    "colab_type": "code",
    "id": "-7Tv3VuEIJIT",
    "outputId": "82b6f7d4-74c0-4641-f239-25f60e62e409"
   },
   "outputs": [
    {
     "data": {
      "text/plain": [
       "0.055536042885634636"
      ]
     },
     "execution_count": 8,
     "metadata": {},
     "output_type": "execute_result"
    }
   ],
   "source": [
    "# Get 25th and 75th quantile\n",
    "q1 = bike_df.trip_duration.quantile(0.25)\n",
    "q3 = bike_df.trip_duration.quantile(0.75)\n",
    "\n",
    "# Calculate IQR\n",
    "IQR = q3 - q1\n",
    "\n",
    "#Get the percentage of data within this category\n",
    "bike_df[((bike_df.trip_duration < (q1 - 1.5 * IQR)) | \\\n",
    "                                     (bike_df.trip_duration > (q3 + 1.5 * IQR)))] \\\n",
    ".reset_index(drop=True).shape[0]/bike_df.shape[0]"
   ]
  },
  {
   "cell_type": "markdown",
   "metadata": {
    "colab_type": "text",
    "id": "B3HC7rTnO0mX"
   },
   "source": [
    "According to this criteria, outliers represent about 5.6% of the dataset. This data will be removed since we are interested in modeling an \"usual\" service of the system."
   ]
  },
  {
   "cell_type": "code",
   "execution_count": 9,
   "metadata": {
    "colab": {
     "base_uri": "https://localhost:8080/",
     "height": 302
    },
    "colab_type": "code",
    "id": "mgOb9yOLJ04h",
    "outputId": "675500a4-d0eb-4e7e-a254-f0791d7f442a"
   },
   "outputs": [],
   "source": [
    "#Filtering out outliers\n",
    "bike_df = bike_df[~((bike_df.trip_duration < (q1 - 1.5 * IQR)) | \\\n",
    "                    (bike_df.trip_duration > (q3 + 1.5 * IQR)))].reset_index(drop=True)"
   ]
  },
  {
   "cell_type": "code",
   "execution_count": 10,
   "metadata": {},
   "outputs": [
    {
     "data": {
      "text/plain": [
       "<matplotlib.axes._subplots.AxesSubplot at 0x1d31b7067c8>"
      ]
     },
     "execution_count": 10,
     "metadata": {},
     "output_type": "execute_result"
    },
    {
     "data": {
      "image/png": "[encoded data removed]",
      "text/plain": [
       "<Figure size 432x288 with 1 Axes>"
      ]
     },
     "metadata": {
      "needs_background": "light"
     },
     "output_type": "display_data"
    }
   ],
   "source": [
    "#Plot new distribution\n",
    "sns.distplot(bike_df.trip_duration, hist=False)"
   ]
  },
  {
   "cell_type": "markdown",
   "metadata": {},
   "source": [
    "Now we have a better distribution of the `trip_duration` variable to work with less extreme values."
   ]
  },
  {
   "cell_type": "markdown",
   "metadata": {
    "colab_type": "text",
    "id": "KLKUXo_LD2sY"
   },
   "source": [
    "## Narowing down the problem\n",
    "\n",
    "In order to narrow down the analysis and test modeling approaches, we will start analyzing popular start and stop stations and how these two numbers match."
   ]
  },
  {
   "cell_type": "code",
   "execution_count": 12,
   "metadata": {
    "colab": {
     "base_uri": "https://localhost:8080/",
     "height": 197
    },
    "colab_type": "code",
    "id": "LmYpVRBLD6Dl",
    "outputId": "e7616678-5201-4f66-fadd-69c0f016b9dd"
   },
   "outputs": [
    {
     "data": {
      "text/html": [
       "<div>\n",
       "<style scoped>\n",
       "    .dataframe tbody tr th:only-of-type {\n",
       "        vertical-align: middle;\n",
       "    }\n",
       "\n",
       "    .dataframe tbody tr th {\n",
       "        vertical-align: top;\n",
       "    }\n",
       "\n",
       "    .dataframe thead th {\n",
       "        text-align: right;\n",
       "    }\n",
       "</style>\n",
       "<table border=\"1\" class=\"dataframe\">\n",
       "  <thead>\n",
       "    <tr style=\"text-align: right;\">\n",
       "      <th></th>\n",
       "      <th>start_counts</th>\n",
       "      <th>stop_counts</th>\n",
       "      <th>start_pct</th>\n",
       "      <th>stop_pct</th>\n",
       "    </tr>\n",
       "  </thead>\n",
       "  <tbody>\n",
       "    <tr>\n",
       "      <td>Union Station</td>\n",
       "      <td>27766</td>\n",
       "      <td>35604</td>\n",
       "      <td>2.02</td>\n",
       "      <td>2.60</td>\n",
       "    </tr>\n",
       "    <tr>\n",
       "      <td>Simcoe St / Wellington St South</td>\n",
       "      <td>20196</td>\n",
       "      <td>21613</td>\n",
       "      <td>1.47</td>\n",
       "      <td>1.58</td>\n",
       "    </tr>\n",
       "    <tr>\n",
       "      <td>Bathurst St / Dundas St W</td>\n",
       "      <td>18645</td>\n",
       "      <td>18376</td>\n",
       "      <td>1.36</td>\n",
       "      <td>1.34</td>\n",
       "    </tr>\n",
       "    <tr>\n",
       "      <td>Dundas St W / Yonge St</td>\n",
       "      <td>18206</td>\n",
       "      <td>19760</td>\n",
       "      <td>1.33</td>\n",
       "      <td>1.44</td>\n",
       "    </tr>\n",
       "    <tr>\n",
       "      <td>Bay St / Wellesley St W</td>\n",
       "      <td>17469</td>\n",
       "      <td>11278</td>\n",
       "      <td>1.27</td>\n",
       "      <td>0.82</td>\n",
       "    </tr>\n",
       "  </tbody>\n",
       "</table>\n",
       "</div>"
      ],
      "text/plain": [
       "                                 start_counts  stop_counts  start_pct  \\\n",
       "Union Station                           27766        35604       2.02   \n",
       "Simcoe St / Wellington St South         20196        21613       1.47   \n",
       "Bathurst St / Dundas St W               18645        18376       1.36   \n",
       "Dundas St W / Yonge St                  18206        19760       1.33   \n",
       "Bay St / Wellesley St W                 17469        11278       1.27   \n",
       "\n",
       "                                 stop_pct  \n",
       "Union Station                        2.60  \n",
       "Simcoe St / Wellington St South      1.58  \n",
       "Bathurst St / Dundas St W            1.34  \n",
       "Dundas St W / Yonge St               1.44  \n",
       "Bay St / Wellesley St W              0.82  "
      ]
     },
     "execution_count": 12,
     "metadata": {},
     "output_type": "execute_result"
    }
   ],
   "source": [
    "#Top 5 start stations (sorted by origin counts)\n",
    "pd.DataFrame({'start_counts':bike_df.st_name_orig.value_counts(),\n",
    "              'stop_counts': bike_df.st_name_dest.value_counts(),\n",
    "             'start_pct': bike_df.st_name_orig.value_counts()/sum(bike_df.st_name_orig.value_counts())*100,\n",
    "             'stop_pct': bike_df.st_name_dest.value_counts()/sum(bike_df.st_name_dest.value_counts())*100})\\\n",
    ".sort_values(by='start_counts', ascending=False).head(5).round(2)"
   ]
  },
  {
   "cell_type": "code",
   "execution_count": 13,
   "metadata": {
    "colab": {
     "base_uri": "https://localhost:8080/",
     "height": 197
    },
    "colab_type": "code",
    "id": "bYdx6GUvE6Ga",
    "outputId": "72b898c8-8037-485b-a382-d8f86fa40843"
   },
   "outputs": [
    {
     "data": {
      "text/html": [
       "<div>\n",
       "<style scoped>\n",
       "    .dataframe tbody tr th:only-of-type {\n",
       "        vertical-align: middle;\n",
       "    }\n",
       "\n",
       "    .dataframe tbody tr th {\n",
       "        vertical-align: top;\n",
       "    }\n",
       "\n",
       "    .dataframe thead th {\n",
       "        text-align: right;\n",
       "    }\n",
       "</style>\n",
       "<table border=\"1\" class=\"dataframe\">\n",
       "  <thead>\n",
       "    <tr style=\"text-align: right;\">\n",
       "      <th></th>\n",
       "      <th>start_counts</th>\n",
       "      <th>stop_counts</th>\n",
       "      <th>start_pct</th>\n",
       "      <th>stop_pct</th>\n",
       "    </tr>\n",
       "  </thead>\n",
       "  <tbody>\n",
       "    <tr>\n",
       "      <td>Union Station</td>\n",
       "      <td>27766</td>\n",
       "      <td>35604</td>\n",
       "      <td>2.02</td>\n",
       "      <td>2.60</td>\n",
       "    </tr>\n",
       "    <tr>\n",
       "      <td>Simcoe St / Wellington St South</td>\n",
       "      <td>20196</td>\n",
       "      <td>21613</td>\n",
       "      <td>1.47</td>\n",
       "      <td>1.58</td>\n",
       "    </tr>\n",
       "    <tr>\n",
       "      <td>Dundas St W / Yonge St</td>\n",
       "      <td>18206</td>\n",
       "      <td>19760</td>\n",
       "      <td>1.33</td>\n",
       "      <td>1.44</td>\n",
       "    </tr>\n",
       "    <tr>\n",
       "      <td>Princess St / Adelaide St E</td>\n",
       "      <td>15905</td>\n",
       "      <td>18826</td>\n",
       "      <td>1.16</td>\n",
       "      <td>1.37</td>\n",
       "    </tr>\n",
       "    <tr>\n",
       "      <td>King St W / Spadina Ave</td>\n",
       "      <td>16944</td>\n",
       "      <td>18435</td>\n",
       "      <td>1.24</td>\n",
       "      <td>1.34</td>\n",
       "    </tr>\n",
       "  </tbody>\n",
       "</table>\n",
       "</div>"
      ],
      "text/plain": [
       "                                 start_counts  stop_counts  start_pct  \\\n",
       "Union Station                           27766        35604       2.02   \n",
       "Simcoe St / Wellington St South         20196        21613       1.47   \n",
       "Dundas St W / Yonge St                  18206        19760       1.33   \n",
       "Princess St / Adelaide St E             15905        18826       1.16   \n",
       "King St W / Spadina Ave                 16944        18435       1.24   \n",
       "\n",
       "                                 stop_pct  \n",
       "Union Station                        2.60  \n",
       "Simcoe St / Wellington St South      1.58  \n",
       "Dundas St W / Yonge St               1.44  \n",
       "Princess St / Adelaide St E          1.37  \n",
       "King St W / Spadina Ave              1.34  "
      ]
     },
     "execution_count": 13,
     "metadata": {},
     "output_type": "execute_result"
    }
   ],
   "source": [
    "#Top 5 stop stations (sorted by destination counts)\n",
    "pd.DataFrame({'start_counts':bike_df.st_name_orig.value_counts(),\n",
    "              'stop_counts': bike_df.st_name_dest.value_counts(),\n",
    "             'start_pct': bike_df.st_name_orig.value_counts()/sum(bike_df.st_name_orig.value_counts())*100,\n",
    "             'stop_pct': bike_df.st_name_dest.value_counts()/sum(bike_df.st_name_dest.value_counts())*100})\\\n",
    ".sort_values(by='stop_counts', ascending=False).head(5).round(2)"
   ]
  },
  {
   "cell_type": "markdown",
   "metadata": {
    "colab_type": "text",
    "id": "9fsiUQ6VRx6O"
   },
   "source": [
    "For the start and stop stations, the top 10 stations of 266 (3.6%) account for the 13% and 14% of all trips, respectively. To create a first modeling approach, we will only analyze supply and demand for the top station, which is **Union Station**, accounting for a 2% and 2.6% as origin and stop station, respectively."
   ]
  },
  {
   "cell_type": "markdown",
   "metadata": {
    "colab_type": "text",
    "id": "_y5pAXCoS7FS"
   },
   "source": [
    "### Extracting Union ridership\n",
    "\n",
    "With this data, let's slice the rows containing Union Station as origin or destination."
   ]
  },
  {
   "cell_type": "code",
   "execution_count": 14,
   "metadata": {
    "colab": {
     "base_uri": "https://localhost:8080/",
     "height": 34
    },
    "colab_type": "code",
    "id": "j7q85Zz-S1fZ",
    "outputId": "3876d11f-88bd-44cb-dc52-4db69c5742e3"
   },
   "outputs": [
    {
     "data": {
      "text/plain": [
       "(63102, 15)"
      ]
     },
     "execution_count": 14,
     "metadata": {},
     "output_type": "execute_result"
    }
   ],
   "source": [
    "bike_union = bike_df[(bike_df.st_name_orig == 'Union Station') | (bike_df.st_name_dest == 'Union Station')]\n",
    "bike_union.shape"
   ]
  },
  {
   "cell_type": "markdown",
   "metadata": {
    "colab_type": "text",
    "id": "8RR3ECSsTd8t"
   },
   "source": [
    "We have that during 2017, 63.102 bikes were taken from and to Union Station. Given that the systems uses about 5.000 bikes according to their website, it's critical to know how much of these bikes are being used at this station. However, that is the number of bikes today, we could think that as stations were nearly half of what they are today, the amount of bikes available could have been much less at that point in time.\n",
    "\n",
    "Let's evaluate some statistics for this data:"
   ]
  },
  {
   "cell_type": "code",
   "execution_count": 15,
   "metadata": {
    "colab": {
     "base_uri": "https://localhost:8080/",
     "height": 77
    },
    "colab_type": "code",
    "id": "S-F38dzcTTMw",
    "outputId": "f798639d-cc92-4e22-f81c-51a64519e528"
   },
   "outputs": [
    {
     "data": {
      "text/html": [
       "<div>\n",
       "<style scoped>\n",
       "    .dataframe tbody tr th:only-of-type {\n",
       "        vertical-align: middle;\n",
       "    }\n",
       "\n",
       "    .dataframe tbody tr th {\n",
       "        vertical-align: top;\n",
       "    }\n",
       "\n",
       "    .dataframe thead th {\n",
       "        text-align: right;\n",
       "    }\n",
       "</style>\n",
       "<table border=\"1\" class=\"dataframe\">\n",
       "  <thead>\n",
       "    <tr style=\"text-align: right;\">\n",
       "      <th></th>\n",
       "      <th>count</th>\n",
       "      <th>mean</th>\n",
       "      <th>std</th>\n",
       "      <th>min</th>\n",
       "      <th>25%</th>\n",
       "      <th>50%</th>\n",
       "      <th>75%</th>\n",
       "      <th>max</th>\n",
       "    </tr>\n",
       "  </thead>\n",
       "  <tbody>\n",
       "    <tr>\n",
       "      <td>trip_id</td>\n",
       "      <td>365.0</td>\n",
       "      <td>172.882192</td>\n",
       "      <td>113.074126</td>\n",
       "      <td>2.0</td>\n",
       "      <td>81.0</td>\n",
       "      <td>141.0</td>\n",
       "      <td>267.0</td>\n",
       "      <td>499.0</td>\n",
       "    </tr>\n",
       "  </tbody>\n",
       "</table>\n",
       "</div>"
      ],
      "text/plain": [
       "         count        mean         std  min   25%    50%    75%    max\n",
       "trip_id  365.0  172.882192  113.074126  2.0  81.0  141.0  267.0  499.0"
      ]
     },
     "execution_count": 15,
     "metadata": {},
     "output_type": "execute_result"
    }
   ],
   "source": [
    "#Summary of the amount of trips per day of the year\n",
    "bike_union.groupby(bike_union.trip_start_time_f.dt.dayofyear).aggregate({'trip_id':'count'}).describe().T"
   ]
  },
  {
   "cell_type": "markdown",
   "metadata": {
    "colab_type": "text",
    "id": "02L97DfQVWB6"
   },
   "source": [
    "With this statistics we can evidence that even considering the 5.000 bikes, Union Station uses on average 172 bikes a day, with a maximum of nearly 500 bikes! Almost 10% of all bikes available today! Let's see how these numbers are distributed for **busines days**."
   ]
  },
  {
   "cell_type": "code",
   "execution_count": 16,
   "metadata": {
    "colab": {
     "base_uri": "https://localhost:8080/",
     "height": 77
    },
    "colab_type": "code",
    "id": "FFffFPx7U3Ck",
    "outputId": "80de580d-d8c2-4861-e9bb-76a4cfae9bdd"
   },
   "outputs": [
    {
     "data": {
      "text/html": [
       "<div>\n",
       "<style scoped>\n",
       "    .dataframe tbody tr th:only-of-type {\n",
       "        vertical-align: middle;\n",
       "    }\n",
       "\n",
       "    .dataframe tbody tr th {\n",
       "        vertical-align: top;\n",
       "    }\n",
       "\n",
       "    .dataframe thead th {\n",
       "        text-align: right;\n",
       "    }\n",
       "</style>\n",
       "<table border=\"1\" class=\"dataframe\">\n",
       "  <thead>\n",
       "    <tr style=\"text-align: right;\">\n",
       "      <th></th>\n",
       "      <th>count</th>\n",
       "      <th>mean</th>\n",
       "      <th>std</th>\n",
       "      <th>min</th>\n",
       "      <th>25%</th>\n",
       "      <th>50%</th>\n",
       "      <th>75%</th>\n",
       "      <th>max</th>\n",
       "    </tr>\n",
       "  </thead>\n",
       "  <tbody>\n",
       "    <tr>\n",
       "      <td>trip_id</td>\n",
       "      <td>260.0</td>\n",
       "      <td>213.342308</td>\n",
       "      <td>106.808538</td>\n",
       "      <td>2.0</td>\n",
       "      <td>116.75</td>\n",
       "      <td>221.0</td>\n",
       "      <td>300.5</td>\n",
       "      <td>499.0</td>\n",
       "    </tr>\n",
       "  </tbody>\n",
       "</table>\n",
       "</div>"
      ],
      "text/plain": [
       "         count        mean         std  min     25%    50%    75%    max\n",
       "trip_id  260.0  213.342308  106.808538  2.0  116.75  221.0  300.5  499.0"
      ]
     },
     "execution_count": 16,
     "metadata": {},
     "output_type": "execute_result"
    }
   ],
   "source": [
    "# Count trips per weekday of the year\n",
    "bike_union[~bike_union.trip_start_time_f.dt.weekday_name.isin(['Sunday', 'Saturday'])].\\\n",
    "groupby(bike_union.trip_start_time_f.dt.dayofyear).\\\n",
    "aggregate({'trip_id':'count'}).describe().T"
   ]
  },
  {
   "cell_type": "markdown",
   "metadata": {},
   "source": [
    "As we see, the mean goes up to 213 bikes during weekdays, which means trips are mainly skewed towards weekdays.\n"
   ]
  },
  {
   "cell_type": "markdown",
   "metadata": {
    "colab_type": "text",
    "id": "P7m0JHLxC8Om"
   },
   "source": [
    "## Approximating the station status variable\n",
    "\n",
    "The 2017 ridership data should be used as raw material to create a model that helps us predict the necesary replenishment of the BTS stations on an hourly basis. For this, a time series of `station_status` data could be useful, but since that information is not at hand, we will use a **surrogate** variable: the **rate of change** of bikes inventory. Since we have the amount of bikes arriving and leaving the stations, and we have the stations' capacity, we could create a new variable that helps us assess how the inventory is changing with time so as to move bikes around the city from loaded stations to empty stations in an efficient manner."
   ]
  },
  {
   "cell_type": "markdown",
   "metadata": {
    "colab_type": "text",
    "id": "UXBElJTxXgxH"
   },
   "source": [
    "### Creating dataset for stations\n",
    "\n",
    "Now that we have narrowed down our search, it's time to create the dataset that will help us build our model. Let's first review what would be our ideal dataset:\n",
    "\n",
    "**Ideal dataset fields**: timestamp, station name, station ID, number of bikes at the station\n",
    "\n",
    "Since we don’t have the static variable that we want to predict, namely the number of bikes at every time at each station, we calculate a **rate of change** of this value, assuming known initial conditions. This variable will approximate the inflow and outflow of bikes for Union Station during each day hour of every day of the year.\n",
    "\n",
    "**Derived dataset fields:** month, day, hour, station name, station ID, count of bikes arriving, count of bikes leaving\n",
    "\n",
    "We will first extract the day of the year, month, day of the week and hour in which every event happened.\n"
   ]
  },
  {
   "cell_type": "code",
   "execution_count": 21,
   "metadata": {
    "colab": {},
    "colab_type": "code",
    "id": "NRcC2FYJzh9D"
   },
   "outputs": [],
   "source": [
    "# Add new fields to dataframe\n",
    "bike_union['dayofyear'] = bike_union.trip_start_time_f.dt.dayofyear\n",
    "bike_union['weekday'] = bike_union.trip_start_time_f.dt.weekday\n",
    "bike_union['hour'] = bike_union.trip_start_time_f.dt.hour"
   ]
  },
  {
   "cell_type": "markdown",
   "metadata": {
    "colab_type": "text",
    "id": "ke4focayVdqI"
   },
   "source": [
    "Now let's reshape the dataframe to obtain trip counts by weekday, hour and day of the year for trips going in and out of Union Station, for this we do the following"
   ]
  },
  {
   "cell_type": "code",
   "execution_count": 22,
   "metadata": {
    "colab": {
     "base_uri": "https://localhost:8080/",
     "height": 197
    },
    "colab_type": "code",
    "id": "imQ3RtAn5dwq",
    "outputId": "dfc3dd86-529c-4a48-facd-0375c3499c55"
   },
   "outputs": [
    {
     "data": {
      "text/html": [
       "<div>\n",
       "<style scoped>\n",
       "    .dataframe tbody tr th:only-of-type {\n",
       "        vertical-align: middle;\n",
       "    }\n",
       "\n",
       "    .dataframe tbody tr th {\n",
       "        vertical-align: top;\n",
       "    }\n",
       "\n",
       "    .dataframe thead th {\n",
       "        text-align: right;\n",
       "    }\n",
       "</style>\n",
       "<table border=\"1\" class=\"dataframe\">\n",
       "  <thead>\n",
       "    <tr style=\"text-align: right;\">\n",
       "      <th></th>\n",
       "      <th>dayofyear</th>\n",
       "      <th>weekday</th>\n",
       "      <th>hour</th>\n",
       "      <th>trip_id_orig</th>\n",
       "      <th>trip_id_dest</th>\n",
       "    </tr>\n",
       "  </thead>\n",
       "  <tbody>\n",
       "    <tr>\n",
       "      <td>0</td>\n",
       "      <td>1</td>\n",
       "      <td>6</td>\n",
       "      <td>0</td>\n",
       "      <td>NaN</td>\n",
       "      <td>2.0</td>\n",
       "    </tr>\n",
       "    <tr>\n",
       "      <td>1</td>\n",
       "      <td>1</td>\n",
       "      <td>6</td>\n",
       "      <td>1</td>\n",
       "      <td>1.0</td>\n",
       "      <td>NaN</td>\n",
       "    </tr>\n",
       "    <tr>\n",
       "      <td>2</td>\n",
       "      <td>1</td>\n",
       "      <td>6</td>\n",
       "      <td>2</td>\n",
       "      <td>2.0</td>\n",
       "      <td>NaN</td>\n",
       "    </tr>\n",
       "    <tr>\n",
       "      <td>3</td>\n",
       "      <td>1</td>\n",
       "      <td>6</td>\n",
       "      <td>3</td>\n",
       "      <td>1.0</td>\n",
       "      <td>NaN</td>\n",
       "    </tr>\n",
       "    <tr>\n",
       "      <td>4</td>\n",
       "      <td>1</td>\n",
       "      <td>6</td>\n",
       "      <td>4</td>\n",
       "      <td>NaN</td>\n",
       "      <td>1.0</td>\n",
       "    </tr>\n",
       "  </tbody>\n",
       "</table>\n",
       "</div>"
      ],
      "text/plain": [
       "   dayofyear  weekday  hour  trip_id_orig  trip_id_dest\n",
       "0          1        6     0           NaN           2.0\n",
       "1          1        6     1           1.0           NaN\n",
       "2          1        6     2           2.0           NaN\n",
       "3          1        6     3           1.0           NaN\n",
       "4          1        6     4           NaN           1.0"
      ]
     },
     "execution_count": 22,
     "metadata": {},
     "output_type": "execute_result"
    }
   ],
   "source": [
    "# Separating the dataframe into origin and destination registers\n",
    "bike_union_orig = bike_union[bike_union.st_name_orig == 'Union Station']\n",
    "bike_union_dest = bike_union[bike_union.st_name_dest == 'Union Station']\n",
    "\n",
    "#Melting and the merging by days to get count of trips in and out of the station every hour\n",
    "counts_union = pd.merge(bike_union_orig.groupby(['dayofyear','weekday','hour']).aggregate({'trip_id':'count'}).reset_index(),\n",
    "                        bike_union_dest.groupby(['dayofyear','weekday','hour']).aggregate({'trip_id':'count'}).reset_index(),\n",
    "                        how='outer',\n",
    "                        left_on = ['dayofyear', 'weekday', 'hour'],\n",
    "                        right_on = ['dayofyear', 'weekday', 'hour'],\n",
    "                        suffixes=('_orig','_dest'), sort = True)\n",
    "\n",
    "counts_union.head()"
   ]
  },
  {
   "cell_type": "markdown",
   "metadata": {
    "colab_type": "text",
    "id": "o1nIIbaeV3Pc"
   },
   "source": [
    "Here we have it, for every day of the year we have the weekday number, the hour of the day and the amount of trips with Union as origin and Union as destination. Let's do some further processing to tidy up the data."
   ]
  },
  {
   "cell_type": "code",
   "execution_count": 23,
   "metadata": {
    "colab": {
     "base_uri": "https://localhost:8080/",
     "height": 197
    },
    "colab_type": "code",
    "id": "BmxhuTxn_YWP",
    "outputId": "c7ced567-20d5-468b-a83d-2356578b314b"
   },
   "outputs": [
    {
     "data": {
      "text/html": [
       "<div>\n",
       "<style scoped>\n",
       "    .dataframe tbody tr th:only-of-type {\n",
       "        vertical-align: middle;\n",
       "    }\n",
       "\n",
       "    .dataframe tbody tr th {\n",
       "        vertical-align: top;\n",
       "    }\n",
       "\n",
       "    .dataframe thead th {\n",
       "        text-align: right;\n",
       "    }\n",
       "</style>\n",
       "<table border=\"1\" class=\"dataframe\">\n",
       "  <thead>\n",
       "    <tr style=\"text-align: right;\">\n",
       "      <th></th>\n",
       "      <th>dayofyear</th>\n",
       "      <th>weekday</th>\n",
       "      <th>hour</th>\n",
       "      <th>count_trips_orig</th>\n",
       "      <th>count_trips_dest</th>\n",
       "    </tr>\n",
       "  </thead>\n",
       "  <tbody>\n",
       "    <tr>\n",
       "      <td>0</td>\n",
       "      <td>0</td>\n",
       "      <td>6</td>\n",
       "      <td>0</td>\n",
       "      <td>0.0</td>\n",
       "      <td>2.0</td>\n",
       "    </tr>\n",
       "    <tr>\n",
       "      <td>1</td>\n",
       "      <td>0</td>\n",
       "      <td>6</td>\n",
       "      <td>1</td>\n",
       "      <td>1.0</td>\n",
       "      <td>0.0</td>\n",
       "    </tr>\n",
       "    <tr>\n",
       "      <td>2</td>\n",
       "      <td>0</td>\n",
       "      <td>6</td>\n",
       "      <td>2</td>\n",
       "      <td>2.0</td>\n",
       "      <td>0.0</td>\n",
       "    </tr>\n",
       "    <tr>\n",
       "      <td>3</td>\n",
       "      <td>0</td>\n",
       "      <td>6</td>\n",
       "      <td>3</td>\n",
       "      <td>1.0</td>\n",
       "      <td>0.0</td>\n",
       "    </tr>\n",
       "    <tr>\n",
       "      <td>4</td>\n",
       "      <td>0</td>\n",
       "      <td>6</td>\n",
       "      <td>4</td>\n",
       "      <td>0.0</td>\n",
       "      <td>1.0</td>\n",
       "    </tr>\n",
       "  </tbody>\n",
       "</table>\n",
       "</div>"
      ],
      "text/plain": [
       "   dayofyear  weekday  hour  count_trips_orig  count_trips_dest\n",
       "0          0        6     0               0.0               2.0\n",
       "1          0        6     1               1.0               0.0\n",
       "2          0        6     2               2.0               0.0\n",
       "3          0        6     3               1.0               0.0\n",
       "4          0        6     4               0.0               1.0"
      ]
     },
     "execution_count": 23,
     "metadata": {},
     "output_type": "execute_result"
    }
   ],
   "source": [
    "#Change the column names\n",
    "counts_union.columns = ['dayofyear', 'weekday', 'hour', 'count_trips_orig', 'count_trips_dest']\n",
    "\n",
    "#Fill NAs in counts_union\n",
    "counts_union.fillna(value=0, inplace=True)\n",
    "\n",
    "#Modify so all time variables start at 0\n",
    "counts_union.dayofyear = counts_union.dayofyear - 1\n",
    "\n",
    "#Preview\n",
    "counts_union.head()"
   ]
  },
  {
   "cell_type": "markdown",
   "metadata": {
    "colab_type": "text",
    "id": "Nt7Cs42839-2"
   },
   "source": [
    "## Exploring the rate of change\n",
    "\n",
    "Now let's create our target variable, which is defined as the hourly rate of change of bikes stock, that is to say how many bikes are taken out vs how many bikes are taken to this station. This variable will be formulated as the substraction between `count_trips_orig` - `count_trips_dest`.\n",
    "\n",
    "* When the rate of change is positive, we will have more bikes taken from the station (stock deficit)\n",
    "* When the rate of change is negative, we will have more bikes are arriving to the station (stock surplus).\n"
   ]
  },
  {
   "cell_type": "code",
   "execution_count": 24,
   "metadata": {
    "colab": {},
    "colab_type": "code",
    "id": "wimZ86Q1X0HR"
   },
   "outputs": [],
   "source": [
    "#Create new variable\n",
    "counts_union['rate_of_change'] = counts_union.count_trips_orig - counts_union.count_trips_dest"
   ]
  },
  {
   "cell_type": "code",
   "execution_count": 25,
   "metadata": {
    "colab": {
     "base_uri": "https://localhost:8080/",
     "height": 176
    },
    "colab_type": "code",
    "id": "_Y0LbAbU6JJE",
    "outputId": "21683bde-9e2a-4bb0-ad80-8639d4325da8"
   },
   "outputs": [
    {
     "data": {
      "text/plain": [
       "count    6673.0\n",
       "mean       -1.2\n",
       "std         6.3\n",
       "min       -45.0\n",
       "25%        -2.0\n",
       "50%        -1.0\n",
       "75%         1.0\n",
       "max        26.0\n",
       "Name: rate_of_change, dtype: float64"
      ]
     },
     "execution_count": 25,
     "metadata": {},
     "output_type": "execute_result"
    }
   ],
   "source": [
    "#Get statistics for all days\n",
    "counts_union.rate_of_change.describe().round(1)"
   ]
  },
  {
   "cell_type": "code",
   "execution_count": 26,
   "metadata": {
    "colab": {
     "base_uri": "https://localhost:8080/",
     "height": 176
    },
    "colab_type": "code",
    "id": "2c5j9olG4y6w",
    "outputId": "1b308f87-7888-4694-d49d-e2504a814f23"
   },
   "outputs": [
    {
     "data": {
      "text/plain": [
       "count    4812.0\n",
       "mean       -1.4\n",
       "std         6.7\n",
       "min       -45.0\n",
       "25%        -3.0\n",
       "50%        -1.0\n",
       "75%         1.0\n",
       "max        26.0\n",
       "Name: rate_of_change, dtype: float64"
      ]
     },
     "execution_count": 26,
     "metadata": {},
     "output_type": "execute_result"
    }
   ],
   "source": [
    "#Get statistics for the business days\n",
    "counts_union[counts_union.weekday.isin([1,2,3,4,5])].rate_of_change.describe().round(1)"
   ]
  },
  {
   "cell_type": "markdown",
   "metadata": {
    "colab_type": "text",
    "id": "oR_D_jch6gfI"
   },
   "source": [
    "From this we can get some interesting facts:\n",
    "\n",
    "* The overall mean value of the rate of change is negative, which means that on average 1.2 bikes are added the bike stock every hour, and this number increases to 1.4 during business days. We could conclude that for this station we will not require bike replenishment on average, on the contrary, bikes will need to be removed from the station to free capacity for incoming riders.\n",
    "\n",
    "* The maximum and minimum points are significantly high and would imply an arrival of bikes greater than the capacity of the station, which is 26 bikes and maybe the capacity of one replenishment truck. It is quite important to identify the hours of the day in which that happens so as to be prepared.\n",
    "\n",
    "Now let's check the distribution of this variable"
   ]
  },
  {
   "cell_type": "code",
   "execution_count": 27,
   "metadata": {
    "colab": {
     "base_uri": "https://localhost:8080/",
     "height": 312
    },
    "colab_type": "code",
    "id": "SVB7_80K6p39",
    "outputId": "7074515a-5cc3-402f-cf6e-9b245526949d"
   },
   "outputs": [
    {
     "data": {
      "text/plain": [
       "Text(0.5, 1.0, 'Distribution of the hourly rate of change')"
      ]
     },
     "execution_count": 27,
     "metadata": {},
     "output_type": "execute_result"
    },
    {
     "data": {
      "image/png": "[encoded data removed]",
      "text/plain": [
       "<Figure size 432x288 with 1 Axes>"
      ]
     },
     "metadata": {
      "needs_background": "light"
     },
     "output_type": "display_data"
    }
   ],
   "source": [
    "ax = sns.distplot(counts_union.rate_of_change)\n",
    "\n",
    "ax.set_xlabel('Hourly rate of change')\n",
    "ax.set_title('Distribution of the hourly rate of change')"
   ]
  },
  {
   "cell_type": "markdown",
   "metadata": {
    "colab_type": "text",
    "id": "8DrAmlNu3vMO"
   },
   "source": [
    "The variable seems to follow a normal-like distribution with a mean close to zero, however, the values to the left are up to two times the capacity of the station. These are critical hours that must be evaluated. Now let's see the behavior of the rate of change for all days of the week."
   ]
  },
  {
   "cell_type": "code",
   "execution_count": 28,
   "metadata": {
    "colab": {
     "base_uri": "https://localhost:8080/",
     "height": 350
    },
    "colab_type": "code",
    "id": "F2d3HYyT3uCU",
    "outputId": "bf407228-1117-46df-db6a-1937abc8f588"
   },
   "outputs": [
    {
     "data": {
      "text/plain": [
       "Text(0, 0.5, 'Mean hourly rate of change')"
      ]
     },
     "execution_count": 28,
     "metadata": {},
     "output_type": "execute_result"
    },
    {
     "data": {
      "image/png": "[encoded data removed]",
      "text/plain": [
       "<Figure size 432x288 with 1 Axes>"
      ]
     },
     "metadata": {
      "needs_background": "light"
     },
     "output_type": "display_data"
    }
   ],
   "source": [
    "ax = counts_union.groupby('weekday').aggregate({'rate_of_change': 'mean'}).plot(kind='bar')\n",
    "\n",
    "ax.set_xticklabels(['Monday', 'Tuesday', 'Wednesday', 'Thursday', 'Friday', 'Saturday', 'Sunday'])\n",
    "ax.set_xlabel('Day of the week')\n",
    "ax.set_ylabel('Mean hourly rate of change')"
   ]
  },
  {
   "cell_type": "markdown",
   "metadata": {
    "colab_type": "text",
    "id": "7CgV42Zv6Dc9"
   },
   "source": [
    "Here we can see that for this specific station everyday we have a bike surplus every day of the week, however, for weekends this surplus is almost negligible and the suply/demand is almost balanced. Now lets get more granual, by looking at hourly averages:"
   ]
  },
  {
   "cell_type": "code",
   "execution_count": 29,
   "metadata": {
    "colab": {
     "base_uri": "https://localhost:8080/",
     "height": 368
    },
    "colab_type": "code",
    "id": "hUPnjlLZQb7_",
    "outputId": "b4dd0992-7569-4725-bd46-d09c71883352"
   },
   "outputs": [
    {
     "data": {
      "image/png": "[encoded data removed]",
      "text/plain": [
       "<Figure size 720x360 with 2 Axes>"
      ]
     },
     "metadata": {
      "needs_background": "light"
     },
     "output_type": "display_data"
    }
   ],
   "source": [
    "fig, axarr = plt.subplots(nrows = 1, ncols=2, figsize=(10,5), sharey=True)\n",
    "\n",
    "df1 = counts_union[counts_union.weekday.isin([6,7])].groupby('hour').aggregate({'rate_of_change': ['mean', 'std']})\n",
    "df2 = counts_union[~counts_union.weekday.isin([6,7])].groupby('hour').aggregate({'rate_of_change': ['mean', 'std']})\n",
    "\n",
    "plt.sca(axarr[0])\n",
    "plt.errorbar(df1.index, df1.rate_of_change['mean'], df1.rate_of_change['std'], \n",
    "             linestyle='None', marker='^')\n",
    "\n",
    "axarr[0].set_title('Weekends')\n",
    "axarr[0].set_xlabel('Hour of the day')\n",
    "axarr[0].set_ylabel('Hourly rate of change')\n",
    "plt.grid()\n",
    "\n",
    "plt.sca(axarr[1])\n",
    "plt.errorbar(df2.index, df2.rate_of_change['mean'], df2.rate_of_change['std'], \n",
    "             linestyle='None', marker='^')\n",
    "axarr[1].set_title('Business days')\n",
    "axarr[1].set_xlabel('Hour of the day')\n",
    "plt.grid()\n",
    "plt.tight_layout()\n"
   ]
  },
  {
   "cell_type": "markdown",
   "metadata": {
    "colab_type": "text",
    "id": "2hdJCX7ZC73O"
   },
   "source": [
    "Here, we can extract a few insights:\n",
    "\n",
    "* **During weekends we see a steady rate of change around zero**, this insight is important because it will mean that on average, we will not need people replenishing or taking bikes out of Union Station (here we could have some savings in resources).\n",
    "\n",
    "* During the morning we tend to have a positive rate of change on average, and until 6 AM we have a balanced rate of change, also, we notice that for a peak demand at 7 AM the capacity of the station will satisfy the demand of about 10 bikes on average, hence the capacity is optimal for inflow of bikes during morning hours and we might not need to replenish bikes at Union Station.\n",
    "\n",
    "* During afternoon we have the opposite, with **negative rates of change from 3 PM until 10 PM**. We will need to remove a significant amount of bikes during afternoon hours, even more during peak inflow hours (from 2 to 6) the capacity of the station will be exceeded users might arrive without anywhere to park their bikes, this might lead users to incur in overage affecting the service and even the probability of churn.\n",
    "\n",
    "* One significant insight is the fact that on average, the mean and standard deviations will be within the capacity of the station, which seems to be optimal for the rate of change in general.\n"
   ]
  },
  {
   "cell_type": "markdown",
   "metadata": {
    "colab_type": "text",
    "id": "VGG-4at366Ei"
   },
   "source": [
    "**Extreme values**\n",
    "\n",
    "Let's dig deeper into where are these ouliers happenning. We are going to highlight the hours in which the rate of change is grater than the capacity of the station, given the fact that these peaks will create significant operational challenges."
   ]
  },
  {
   "cell_type": "code",
   "execution_count": 30,
   "metadata": {
    "colab": {},
    "colab_type": "code",
    "id": "AFEddRK58UtJ"
   },
   "outputs": [],
   "source": [
    "#Extract those from the dataset\n",
    "peaks = counts_union[(counts_union.rate_of_change > 26) | (counts_union.rate_of_change < -26)]"
   ]
  },
  {
   "cell_type": "code",
   "execution_count": 31,
   "metadata": {
    "colab": {
     "base_uri": "https://localhost:8080/",
     "height": 34
    },
    "colab_type": "code",
    "id": "1eUd4WP99s9T",
    "outputId": "6ab92df1-e641-484b-a94a-28c597506a9e"
   },
   "outputs": [
    {
     "data": {
      "text/plain": [
       "65"
      ]
     },
     "execution_count": 31,
     "metadata": {},
     "output_type": "execute_result"
    }
   ],
   "source": [
    "# Count those hours\n",
    "peaks.shape[0]"
   ]
  },
  {
   "cell_type": "code",
   "execution_count": 32,
   "metadata": {
    "colab": {
     "base_uri": "https://localhost:8080/",
     "height": 301
    },
    "colab_type": "code",
    "id": "wnjZXf8OAy4B",
    "outputId": "3e350926-f50f-4f3d-c976-9d5507c0846d"
   },
   "outputs": [
    {
     "data": {
      "text/plain": [
       "Text(0.5, 0, 'Rate of change')"
      ]
     },
     "execution_count": 32,
     "metadata": {},
     "output_type": "execute_result"
    },
    {
     "data": {
      "image/png": "[encoded data removed]",
      "text/plain": [
       "<Figure size 432x288 with 1 Axes>"
      ]
     },
     "metadata": {
      "needs_background": "light"
     },
     "output_type": "display_data"
    }
   ],
   "source": [
    "# How are distributed\n",
    "peaks.rate_of_change.plot(kind='hist')\n",
    "plt.xlabel('Rate of change')"
   ]
  },
  {
   "cell_type": "markdown",
   "metadata": {
    "colab_type": "text",
    "id": "fbWWEFYo9zFG"
   },
   "source": [
    "So we have 65 hours in which we will have inflow of bikes (negative rate of change), let's check at how these are distributed throughout the hours of the day, days of the week and days of the year."
   ]
  },
  {
   "cell_type": "code",
   "execution_count": 33,
   "metadata": {
    "colab": {
     "base_uri": "https://localhost:8080/",
     "height": 315
    },
    "colab_type": "code",
    "id": "BkIC4tYy7FGr",
    "outputId": "dd0578bf-4d2b-4b35-9612-764ff9781b48"
   },
   "outputs": [
    {
     "data": {
      "text/plain": [
       "Text(0.5, 1.0, 'Count of peaks')"
      ]
     },
     "execution_count": 33,
     "metadata": {},
     "output_type": "execute_result"
    },
    {
     "data": {
      "image/png": "[encoded data removed]",
      "text/plain": [
       "<Figure size 1080x288 with 2 Axes>"
      ]
     },
     "metadata": {
      "needs_background": "light"
     },
     "output_type": "display_data"
    }
   ],
   "source": [
    "fig, ax = plt.subplots(nrows=1, ncols=2, figsize=(15,4))\n",
    "\n",
    "#Check distribution during the hours of the day\n",
    "peaks.hour.value_counts().plot(kind='bar', ax=ax[0])\n",
    "ax[0].set_xlabel('Hour of the day')\n",
    "ax[0].set_title('Count of peaks')\n",
    "\n",
    "#Check distribution during the week\n",
    "peaks.weekday.value_counts().plot(kind='bar', ax=ax[1])\n",
    "ax[1].set_xlabel('Days of the week')\n",
    "ax[1].set_title('Count of peaks')"
   ]
  },
  {
   "cell_type": "code",
   "execution_count": 34,
   "metadata": {
    "colab": {
     "base_uri": "https://localhost:8080/",
     "height": 176
    },
    "colab_type": "code",
    "id": "djn2Y38l-6Pg",
    "outputId": "1e03ad93-328f-497f-c3c1-67398cab38e0"
   },
   "outputs": [
    {
     "data": {
      "text/plain": [
       "count    64.000000\n",
       "mean      1.015625\n",
       "std       0.125000\n",
       "min       1.000000\n",
       "25%       1.000000\n",
       "50%       1.000000\n",
       "75%       1.000000\n",
       "max       2.000000\n",
       "Name: dayofyear, dtype: float64"
      ]
     },
     "execution_count": 34,
     "metadata": {},
     "output_type": "execute_result"
    }
   ],
   "source": [
    "#Check distribution during the year\n",
    "peaks.dayofyear.value_counts().describe()"
   ]
  },
  {
   "cell_type": "markdown",
   "metadata": {
    "colab_type": "text",
    "id": "s2y35vW-_H9H"
   },
   "source": [
    "Some observations regarding this graphs:\n",
    "\n",
    "* We see that these peaks are mostly at 4 PM (busy hour for commuting), which is consistent with the data previously reviewed. At this time of the day, a large number of bikes are taken to this station for the \"ride back home\". However, it's interesting that the \"ride to work\" is not symmetric to this number. This station is used for getting home from work but not as much for getting to work.\n",
    "* Almost every day of the week at 4 PM we will have an overflow of bikes at this station, however, at 5 PM and 8 PM is quite rare.\n",
    "* Wednesday is the day that presents the most peaks for rate of change, followed in simmilar proportion by Tuesday, Thursday and Monday. On a Friday is rare to have a bike overflow.\n",
    "* Also, we have a mean of one peak a day for this station, this insight could optimize the trips taken to Union Station to pick up bikes."
   ]
  }
 ],
 "metadata": {
  "kernelspec": {
   "display_name": "Python 3",
   "language": "python",
   "name": "python3"
  },
  "language_info": {
   "codemirror_mode": {
    "name": "ipython",
    "version": 3
   },
   "file_extension": ".py",
   "mimetype": "text/x-python",
   "name": "python",
   "nbconvert_exporter": "python",
   "pygments_lexer": "ipython3",
   "version": "3.7.4"
  }
 },
 "nbformat": 4,
 "nbformat_minor": 2
}
