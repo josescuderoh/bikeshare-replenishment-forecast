{
 "cells": [
  {
   "cell_type": "markdown",
   "metadata": {},
   "source": [
    "# Exploratory Data Analysis\n",
    "\n",
    "**Highlights**\n",
    "\n",
    "- The top 10 origin and destination stations were found. These 10 stations out of 266 (3.6%) account for the 13% and 14% of all trips, respectively. To create a first modeling approach, we will only analyze bike supply and demand for the top station, which is **Union Station**, accounting for a 2% and 2.6% as origin and destination, respectively.\n",
    "- During 2017, 63.102 bikes were taken from and to Union Station in total. Considering the 5.000 bikes available today, and Union Station's average of 172 bikes a day, with a maximum of nearly 500 bikes, *up to 10% of all bikes could be used* at this station alone. Furthermore, this mean goes up to 213 bikes during weekdays, which means trips are mainly skewed towards weekdays instead of weekends.\n",
    "- A surrogate variable was created in order to approximate the demand of bikes at Union Station for every hour of every day of the year 2017. This variable is called **rate of change** and, is calculated as the amount of trips leaving the station minus the amount of trips arriving to the station. We will have a signed number that will describe the deficit or surplus of bikes for every hour, respectively.\n",
    "- Union Station has a -1.2 average rate of change, meaning that on average *more bikes will arrive to the station than those leaving the station*. In terms of operations, this station will have a surplus of bikes that need to be taken from the station. \n",
    "- Peak hours present 49 bikes arriving to the station (almost twice the station's capacity) and 26 bikes leaving the station (full station capacity).\n",
    "- For weekends, the average rate of change tends to zero (with low variance), which means a balanced supply and demand. This means that on average, *we will not need resources for bike replenishment at Union Station on weekends*.\n",
    "- For weekdays, morning hours have a positive rate of change on average and, until 6 AM a neutral rate of change. Demand peaks at 7 AM, in which the capacity is enough to satisfy the demand of about 10 bikes. This capacity seems to be optmial and we will not need replenishment.\n",
    "- For weekdays' afternoons the opposite is the case. With negative rates of change from 3 PM until 10 PM, *we will need to remove a significant amount of bikes during afternoon hours*, even more during peak hours (from 2 to 6) the capacity of the station will be exceeded many times as users will arrive and have nowhere to park their bikes. Users could even incur in overage.\n",
    "- For every hour of the day, the mean and standard deviation of the rate of change will be within the capacity of the station, which is optimal for operations.\n",
    "- Extreme values are present at 4 PM, the \"ride back home\", in which the station's capacity is exceeded. However, the \"ride to work\" is not symmetric to this number. This station is used for the trip back home more than the trip to work.\n",
    "- Wednesday is the day that presents the *most negative peaks* for rate of change, followed in similar magnitudes by Tuesday, Thursday and Monday. On a Friday is rare to have a bike surplus."
   ]
  },
  {
   "cell_type": "code",
   "execution_count": 1,
   "metadata": {
    "colab": {
     "base_uri": "https://localhost:8080/",
     "height": 267
    },
    "colab_type": "code",
    "id": "3aD662vdveZ9",
    "outputId": "e7288713-8292-4b5a-9048-9b5eb93fbe39",
    "scrolled": true
   },
   "outputs": [],
   "source": [
    "import warnings\n",
    "warnings.filterwarnings('ignore')\n",
    "\n",
    "# Basics\n",
    "import pandas as pd\n",
    "import numpy as np\n",
    "import math\n",
    "from datetime import datetime\n",
    "\n",
    "# Viz\n",
    "import matplotlib.pyplot as plt\n",
    "import seaborn as sns\n",
    "\n",
    "# Others\n",
    "import holidays\n",
    "\n",
    "#Imputing\n",
    "from sklearn.impute import KNNImputer"
   ]
  },
  {
   "cell_type": "markdown",
   "metadata": {},
   "source": [
    "## Loading the data "
   ]
  },
  {
   "cell_type": "code",
   "execution_count": 2,
   "metadata": {
    "colab": {},
    "colab_type": "code",
    "id": "H4jISSdyEWqT"
   },
   "outputs": [],
   "source": [
    "#Import the data\n",
    "bike_df = pd.read_csv('../data/bts_clean.csv', parse_dates=['trip_start_time_f', 'trip_stop_time_f'])"
   ]
  },
  {
   "cell_type": "markdown",
   "metadata": {
    "colab_type": "text",
    "id": "KLKUXo_LD2sY"
   },
   "source": [
    "## Narowing down the problem\n",
    "\n",
    "In order to narrow down the analysis and test modeling approaches, we will start analyzing popular start and stop stations and how these two numbers match."
   ]
  },
  {
   "cell_type": "code",
   "execution_count": 3,
   "metadata": {
    "colab": {
     "base_uri": "https://localhost:8080/",
     "height": 197
    },
    "colab_type": "code",
    "id": "LmYpVRBLD6Dl",
    "outputId": "e7616678-5201-4f66-fadd-69c0f016b9dd"
   },
   "outputs": [
    {
     "data": {
      "text/html": [
       "<div>\n",
       "<style scoped>\n",
       "    .dataframe tbody tr th:only-of-type {\n",
       "        vertical-align: middle;\n",
       "    }\n",
       "\n",
       "    .dataframe tbody tr th {\n",
       "        vertical-align: top;\n",
       "    }\n",
       "\n",
       "    .dataframe thead th {\n",
       "        text-align: right;\n",
       "    }\n",
       "</style>\n",
       "<table border=\"1\" class=\"dataframe\">\n",
       "  <thead>\n",
       "    <tr style=\"text-align: right;\">\n",
       "      <th></th>\n",
       "      <th>start_counts</th>\n",
       "      <th>stop_counts</th>\n",
       "      <th>start_pct</th>\n",
       "      <th>stop_pct</th>\n",
       "    </tr>\n",
       "  </thead>\n",
       "  <tbody>\n",
       "    <tr>\n",
       "      <th>Union Station</th>\n",
       "      <td>39822</td>\n",
       "      <td>50878</td>\n",
       "      <td>2.07</td>\n",
       "      <td>2.65</td>\n",
       "    </tr>\n",
       "    <tr>\n",
       "      <th>Simcoe St / Wellington St South</th>\n",
       "      <td>29004</td>\n",
       "      <td>31026</td>\n",
       "      <td>1.51</td>\n",
       "      <td>1.61</td>\n",
       "    </tr>\n",
       "    <tr>\n",
       "      <th>Bathurst St / Dundas St W</th>\n",
       "      <td>27932</td>\n",
       "      <td>27517</td>\n",
       "      <td>1.45</td>\n",
       "      <td>1.43</td>\n",
       "    </tr>\n",
       "    <tr>\n",
       "      <th>Dundas St W / Yonge St</th>\n",
       "      <td>26584</td>\n",
       "      <td>29177</td>\n",
       "      <td>1.38</td>\n",
       "      <td>1.52</td>\n",
       "    </tr>\n",
       "    <tr>\n",
       "      <th>Bay St / Wellesley St W</th>\n",
       "      <td>25668</td>\n",
       "      <td>16744</td>\n",
       "      <td>1.34</td>\n",
       "      <td>0.87</td>\n",
       "    </tr>\n",
       "  </tbody>\n",
       "</table>\n",
       "</div>"
      ],
      "text/plain": [
       "                                 start_counts  stop_counts  start_pct  \\\n",
       "Union Station                           39822        50878       2.07   \n",
       "Simcoe St / Wellington St South         29004        31026       1.51   \n",
       "Bathurst St / Dundas St W               27932        27517       1.45   \n",
       "Dundas St W / Yonge St                  26584        29177       1.38   \n",
       "Bay St / Wellesley St W                 25668        16744       1.34   \n",
       "\n",
       "                                 stop_pct  \n",
       "Union Station                        2.65  \n",
       "Simcoe St / Wellington St South      1.61  \n",
       "Bathurst St / Dundas St W            1.43  \n",
       "Dundas St W / Yonge St               1.52  \n",
       "Bay St / Wellesley St W              0.87  "
      ]
     },
     "execution_count": 3,
     "metadata": {},
     "output_type": "execute_result"
    }
   ],
   "source": [
    "#Top 5 start stations (sorted by origin counts)\n",
    "pd.DataFrame({'start_counts':bike_df.st_name_orig.value_counts(),\n",
    "              'stop_counts': bike_df.st_name_dest.value_counts(),\n",
    "             'start_pct': bike_df.st_name_orig.value_counts()/sum(bike_df.st_name_orig.value_counts())*100,\n",
    "             'stop_pct': bike_df.st_name_dest.value_counts()/sum(bike_df.st_name_dest.value_counts())*100})\\\n",
    ".sort_values(by='start_counts', ascending=False).head(5).round(2)"
   ]
  },
  {
   "cell_type": "code",
   "execution_count": 4,
   "metadata": {},
   "outputs": [
    {
     "data": {
      "text/html": [
       "<div>\n",
       "<style scoped>\n",
       "    .dataframe tbody tr th:only-of-type {\n",
       "        vertical-align: middle;\n",
       "    }\n",
       "\n",
       "    .dataframe tbody tr th {\n",
       "        vertical-align: top;\n",
       "    }\n",
       "\n",
       "    .dataframe thead th {\n",
       "        text-align: right;\n",
       "    }\n",
       "</style>\n",
       "<table border=\"1\" class=\"dataframe\">\n",
       "  <thead>\n",
       "    <tr style=\"text-align: right;\">\n",
       "      <th></th>\n",
       "      <th>start_counts</th>\n",
       "      <th>stop_counts</th>\n",
       "      <th>start_pct</th>\n",
       "      <th>stop_pct</th>\n",
       "    </tr>\n",
       "  </thead>\n",
       "  <tbody>\n",
       "    <tr>\n",
       "      <th>Union Station</th>\n",
       "      <td>39822</td>\n",
       "      <td>50878</td>\n",
       "      <td>2.07</td>\n",
       "      <td>2.65</td>\n",
       "    </tr>\n",
       "    <tr>\n",
       "      <th>Simcoe St / Wellington St South</th>\n",
       "      <td>29004</td>\n",
       "      <td>31026</td>\n",
       "      <td>1.51</td>\n",
       "      <td>1.61</td>\n",
       "    </tr>\n",
       "    <tr>\n",
       "      <th>Bathurst St / Dundas St W</th>\n",
       "      <td>27932</td>\n",
       "      <td>27517</td>\n",
       "      <td>1.45</td>\n",
       "      <td>1.43</td>\n",
       "    </tr>\n",
       "    <tr>\n",
       "      <th>Dundas St W / Yonge St</th>\n",
       "      <td>26584</td>\n",
       "      <td>29177</td>\n",
       "      <td>1.38</td>\n",
       "      <td>1.52</td>\n",
       "    </tr>\n",
       "    <tr>\n",
       "      <th>Bay St / Wellesley St W</th>\n",
       "      <td>25668</td>\n",
       "      <td>16744</td>\n",
       "      <td>1.34</td>\n",
       "      <td>0.87</td>\n",
       "    </tr>\n",
       "  </tbody>\n",
       "</table>\n",
       "</div>"
      ],
      "text/plain": [
       "                                 start_counts  stop_counts  start_pct  \\\n",
       "Union Station                           39822        50878       2.07   \n",
       "Simcoe St / Wellington St South         29004        31026       1.51   \n",
       "Bathurst St / Dundas St W               27932        27517       1.45   \n",
       "Dundas St W / Yonge St                  26584        29177       1.38   \n",
       "Bay St / Wellesley St W                 25668        16744       1.34   \n",
       "\n",
       "                                 stop_pct  \n",
       "Union Station                        2.65  \n",
       "Simcoe St / Wellington St South      1.61  \n",
       "Bathurst St / Dundas St W            1.43  \n",
       "Dundas St W / Yonge St               1.52  \n",
       "Bay St / Wellesley St W              0.87  "
      ]
     },
     "execution_count": 4,
     "metadata": {},
     "output_type": "execute_result"
    }
   ],
   "source": [
    "pd.DataFrame({'start_counts':bike_df.st_name_orig.value_counts(),\n",
    "              'stop_counts': bike_df.st_name_dest.value_counts(),\n",
    "             'start_pct': bike_df.st_name_orig.value_counts()/sum(bike_df.st_name_orig.value_counts())*100,\n",
    "             'stop_pct': bike_df.st_name_dest.value_counts()/sum(bike_df.st_name_dest.value_counts())*100})\\\n",
    ".sort_values(by='start_counts', ascending=False).head(5).round(2)"
   ]
  },
  {
   "cell_type": "code",
   "execution_count": 5,
   "metadata": {
    "colab": {
     "base_uri": "https://localhost:8080/",
     "height": 197
    },
    "colab_type": "code",
    "id": "bYdx6GUvE6Ga",
    "outputId": "72b898c8-8037-485b-a382-d8f86fa40843"
   },
   "outputs": [
    {
     "data": {
      "text/html": [
       "<div>\n",
       "<style scoped>\n",
       "    .dataframe tbody tr th:only-of-type {\n",
       "        vertical-align: middle;\n",
       "    }\n",
       "\n",
       "    .dataframe tbody tr th {\n",
       "        vertical-align: top;\n",
       "    }\n",
       "\n",
       "    .dataframe thead th {\n",
       "        text-align: right;\n",
       "    }\n",
       "</style>\n",
       "<table border=\"1\" class=\"dataframe\">\n",
       "  <thead>\n",
       "    <tr style=\"text-align: right;\">\n",
       "      <th></th>\n",
       "      <th>start_counts</th>\n",
       "      <th>stop_counts</th>\n",
       "      <th>start_pct</th>\n",
       "      <th>stop_pct</th>\n",
       "    </tr>\n",
       "  </thead>\n",
       "  <tbody>\n",
       "    <tr>\n",
       "      <th>Union Station</th>\n",
       "      <td>39822</td>\n",
       "      <td>50878</td>\n",
       "      <td>2.07</td>\n",
       "      <td>2.65</td>\n",
       "    </tr>\n",
       "    <tr>\n",
       "      <th>Simcoe St / Wellington St South</th>\n",
       "      <td>29004</td>\n",
       "      <td>31026</td>\n",
       "      <td>1.51</td>\n",
       "      <td>1.61</td>\n",
       "    </tr>\n",
       "    <tr>\n",
       "      <th>Dundas St W / Yonge St</th>\n",
       "      <td>26584</td>\n",
       "      <td>29177</td>\n",
       "      <td>1.38</td>\n",
       "      <td>1.52</td>\n",
       "    </tr>\n",
       "    <tr>\n",
       "      <th>King St W / Spadina Ave</th>\n",
       "      <td>25339</td>\n",
       "      <td>27807</td>\n",
       "      <td>1.32</td>\n",
       "      <td>1.45</td>\n",
       "    </tr>\n",
       "    <tr>\n",
       "      <th>Bathurst St / Dundas St W</th>\n",
       "      <td>27932</td>\n",
       "      <td>27517</td>\n",
       "      <td>1.45</td>\n",
       "      <td>1.43</td>\n",
       "    </tr>\n",
       "  </tbody>\n",
       "</table>\n",
       "</div>"
      ],
      "text/plain": [
       "                                 start_counts  stop_counts  start_pct  \\\n",
       "Union Station                           39822        50878       2.07   \n",
       "Simcoe St / Wellington St South         29004        31026       1.51   \n",
       "Dundas St W / Yonge St                  26584        29177       1.38   \n",
       "King St W / Spadina Ave                 25339        27807       1.32   \n",
       "Bathurst St / Dundas St W               27932        27517       1.45   \n",
       "\n",
       "                                 stop_pct  \n",
       "Union Station                        2.65  \n",
       "Simcoe St / Wellington St South      1.61  \n",
       "Dundas St W / Yonge St               1.52  \n",
       "King St W / Spadina Ave              1.45  \n",
       "Bathurst St / Dundas St W            1.43  "
      ]
     },
     "execution_count": 5,
     "metadata": {},
     "output_type": "execute_result"
    }
   ],
   "source": [
    "#Top 5 stop stations (sorted by destination counts)\n",
    "pd.DataFrame({'start_counts':bike_df.st_name_orig.value_counts(),\n",
    "              'stop_counts': bike_df.st_name_dest.value_counts(),\n",
    "             'start_pct': bike_df.st_name_orig.value_counts()/sum(bike_df.st_name_orig.value_counts())*100,\n",
    "             'stop_pct': bike_df.st_name_dest.value_counts()/sum(bike_df.st_name_dest.value_counts())*100})\\\n",
    ".sort_values(by='stop_counts', ascending=False).head(5).round(2)"
   ]
  },
  {
   "cell_type": "markdown",
   "metadata": {
    "colab_type": "text",
    "id": "9fsiUQ6VRx6O"
   },
   "source": [
    "For the start and stop stations, the top 10 stations of 269 (3.7%) account for the 14% of all trips, for origin and destination. To create a first modeling approach, we will only analyze supply and demand for the top station, which is **Union Station**, accounting for a 2% and 2.6% as origin and stop station, respectively."
   ]
  },
  {
   "cell_type": "markdown",
   "metadata": {
    "colab_type": "text",
    "id": "_y5pAXCoS7FS"
   },
   "source": [
    "### Extracting Union ridership\n",
    "\n",
    "With this data, let's slice the rows containing Union Station as origin or destination."
   ]
  },
  {
   "cell_type": "code",
   "execution_count": 6,
   "metadata": {
    "colab": {
     "base_uri": "https://localhost:8080/",
     "height": 34
    },
    "colab_type": "code",
    "id": "j7q85Zz-S1fZ",
    "outputId": "3876d11f-88bd-44cb-dc52-4db69c5742e3"
   },
   "outputs": [
    {
     "data": {
      "text/plain": [
       "(90325, 15)"
      ]
     },
     "execution_count": 6,
     "metadata": {},
     "output_type": "execute_result"
    }
   ],
   "source": [
    "bike_union = bike_df[(bike_df.st_name_orig == 'Union Station') | (bike_df.st_name_dest == 'Union Station')]\n",
    "bike_union.shape"
   ]
  },
  {
   "cell_type": "markdown",
   "metadata": {
    "colab_type": "text",
    "id": "8RR3ECSsTd8t"
   },
   "source": [
    "We have that during Q3 and Q4 of 2016 and 2017, 90.325 bikes were taken from and to Union Station. Given that the systems uses about 5.000 bikes according to their website, it's critical to know how much of these bikes are being used at this station. However, that is the number of bikes today, we could think that as stations were nearly half of what they are today, the amount of bikes available could have been much less at that point in time.\n",
    "\n",
    "Let's evaluate some statistics for this data:"
   ]
  },
  {
   "cell_type": "code",
   "execution_count": 7,
   "metadata": {
    "colab": {
     "base_uri": "https://localhost:8080/",
     "height": 77
    },
    "colab_type": "code",
    "id": "S-F38dzcTTMw",
    "outputId": "f798639d-cc92-4e22-f81c-51a64519e528"
   },
   "outputs": [
    {
     "data": {
      "text/html": [
       "<div>\n",
       "<style scoped>\n",
       "    .dataframe tbody tr th:only-of-type {\n",
       "        vertical-align: middle;\n",
       "    }\n",
       "\n",
       "    .dataframe tbody tr th {\n",
       "        vertical-align: top;\n",
       "    }\n",
       "\n",
       "    .dataframe thead th {\n",
       "        text-align: right;\n",
       "    }\n",
       "</style>\n",
       "<table border=\"1\" class=\"dataframe\">\n",
       "  <thead>\n",
       "    <tr style=\"text-align: right;\">\n",
       "      <th></th>\n",
       "      <th>count</th>\n",
       "      <th>mean</th>\n",
       "      <th>std</th>\n",
       "      <th>min</th>\n",
       "      <th>25%</th>\n",
       "      <th>50%</th>\n",
       "      <th>75%</th>\n",
       "      <th>max</th>\n",
       "    </tr>\n",
       "  </thead>\n",
       "  <tbody>\n",
       "    <tr>\n",
       "      <th>trip_id</th>\n",
       "      <td>366.0</td>\n",
       "      <td>246.789617</td>\n",
       "      <td>181.046295</td>\n",
       "      <td>6.0</td>\n",
       "      <td>100.0</td>\n",
       "      <td>211.0</td>\n",
       "      <td>381.0</td>\n",
       "      <td>798.0</td>\n",
       "    </tr>\n",
       "  </tbody>\n",
       "</table>\n",
       "</div>"
      ],
      "text/plain": [
       "         count        mean         std  min    25%    50%    75%    max\n",
       "trip_id  366.0  246.789617  181.046295  6.0  100.0  211.0  381.0  798.0"
      ]
     },
     "execution_count": 7,
     "metadata": {},
     "output_type": "execute_result"
    }
   ],
   "source": [
    "#Summary of the amount of trips per day of the year\n",
    "bike_union.groupby(bike_union.trip_start_time_f.dt.dayofyear).aggregate({'trip_id':'count'}).describe().T"
   ]
  },
  {
   "cell_type": "markdown",
   "metadata": {
    "colab_type": "text",
    "id": "02L97DfQVWB6"
   },
   "source": [
    "With this statistics we can evidence that even considering the 5.000 bikes, Union Station uses on average 246 bikes a day, with a maximum of nearly 800 bikes! A huge chunk of the bikes available today! Let's see how these numbers are distributed for **business days**."
   ]
  },
  {
   "cell_type": "code",
   "execution_count": 8,
   "metadata": {
    "colab": {
     "base_uri": "https://localhost:8080/",
     "height": 77
    },
    "colab_type": "code",
    "id": "FFffFPx7U3Ck",
    "outputId": "80de580d-d8c2-4861-e9bb-76a4cfae9bdd"
   },
   "outputs": [
    {
     "data": {
      "text/html": [
       "<div>\n",
       "<style scoped>\n",
       "    .dataframe tbody tr th:only-of-type {\n",
       "        vertical-align: middle;\n",
       "    }\n",
       "\n",
       "    .dataframe tbody tr th {\n",
       "        vertical-align: top;\n",
       "    }\n",
       "\n",
       "    .dataframe thead th {\n",
       "        text-align: right;\n",
       "    }\n",
       "</style>\n",
       "<table border=\"1\" class=\"dataframe\">\n",
       "  <thead>\n",
       "    <tr style=\"text-align: right;\">\n",
       "      <th></th>\n",
       "      <th>count</th>\n",
       "      <th>mean</th>\n",
       "      <th>std</th>\n",
       "      <th>min</th>\n",
       "      <th>25%</th>\n",
       "      <th>50%</th>\n",
       "      <th>75%</th>\n",
       "      <th>max</th>\n",
       "    </tr>\n",
       "  </thead>\n",
       "  <tbody>\n",
       "    <tr>\n",
       "      <th>trip_id</th>\n",
       "      <td>310.0</td>\n",
       "      <td>253.341935</td>\n",
       "      <td>167.366154</td>\n",
       "      <td>2.0</td>\n",
       "      <td>121.25</td>\n",
       "      <td>208.5</td>\n",
       "      <td>349.5</td>\n",
       "      <td>798.0</td>\n",
       "    </tr>\n",
       "  </tbody>\n",
       "</table>\n",
       "</div>"
      ],
      "text/plain": [
       "         count        mean         std  min     25%    50%    75%    max\n",
       "trip_id  310.0  253.341935  167.366154  2.0  121.25  208.5  349.5  798.0"
      ]
     },
     "execution_count": 8,
     "metadata": {},
     "output_type": "execute_result"
    }
   ],
   "source": [
    "# Count trips per weekday of the year\n",
    "bike_union[~bike_union.trip_start_time_f.dt.weekday_name.isin(['Sunday', 'Saturday'])].\\\n",
    "groupby(bike_union.trip_start_time_f.dt.dayofyear).\\\n",
    "aggregate({'trip_id':'count'}).describe().T"
   ]
  },
  {
   "cell_type": "markdown",
   "metadata": {},
   "source": [
    "As we see, the mean goes up to 253 bikes during weekdays, which means trips are mainly skewed towards weekdays.\n"
   ]
  },
  {
   "cell_type": "markdown",
   "metadata": {
    "colab_type": "text",
    "id": "P7m0JHLxC8Om"
   },
   "source": [
    "## Approximating the station status variable\n",
    "\n",
    "The 2016 and 2017 ridership data should be used as raw material to create a model that helps us predict the necesary replenishment of the BST stations on an hourly basis. For this, a time series with the satus of each station could be optimal, but since that information is not at hand, we will use a **surrogate** variable: the **rate of change** of bikes inventory. \n",
    "\n",
    "Given the amount of bikes arriving and leaving the stations and the stations' capacity, we could create a new variable that helps us assess how the inventory is changing (increasing or decreasing) with time so as to move bikes around the city from stations with surplus to stations with deficit in an efficient manner."
   ]
  },
  {
   "cell_type": "markdown",
   "metadata": {
    "colab_type": "text",
    "id": "UXBElJTxXgxH"
   },
   "source": [
    "### Creating dataset for stations\n",
    "\n",
    "Now that we have narrowed down our search to analyze Union Station, it's time to create the dataset that will help us build our model. Let's first review what would be our ideal dataset:\n",
    "\n",
    "**Ideal dataset fields**: month, day, hour, station name, station ID, number of bikes at the station\n",
    "\n",
    "Since we don’t have the static variable that we want to predict, namely the *number of bikes at every time at each station*, we calculate a **rate of change** of this value, assuming known initial conditions. This variable will approximate the demand of bikes for Union Station for each hour of every day of the year.\n",
    "\n",
    "**Derived dataset fields:** month, day, hour, station name, station ID, count of bikes arriving, count of bikes leaving\n",
    "\n",
    "We will first extract the day of the year, month, day of the week and hour in which every event happened."
   ]
  },
  {
   "cell_type": "code",
   "execution_count": 9,
   "metadata": {
    "colab": {},
    "colab_type": "code",
    "id": "NRcC2FYJzh9D"
   },
   "outputs": [],
   "source": [
    "# Add new fields to dataframe\n",
    "bike_union['year'] = bike_union.trip_start_time_f.dt.year\n",
    "bike_union['dayofyear'] = bike_union.trip_start_time_f.dt.dayofyear\n",
    "bike_union['weekday'] = bike_union.trip_start_time_f.dt.weekday\n",
    "bike_union['hour'] = bike_union.trip_start_time_f.dt.hour"
   ]
  },
  {
   "cell_type": "markdown",
   "metadata": {
    "colab_type": "text",
    "id": "ke4focayVdqI"
   },
   "source": [
    "Now we reshape the dataframe to obtain trip counts by hour of the day of the year for trips arriving and leaving Union Station:"
   ]
  },
  {
   "cell_type": "code",
   "execution_count": 10,
   "metadata": {
    "colab": {
     "base_uri": "https://localhost:8080/",
     "height": 197
    },
    "colab_type": "code",
    "id": "imQ3RtAn5dwq",
    "outputId": "dfc3dd86-529c-4a48-facd-0375c3499c55"
   },
   "outputs": [
    {
     "data": {
      "text/html": [
       "<div>\n",
       "<style scoped>\n",
       "    .dataframe tbody tr th:only-of-type {\n",
       "        vertical-align: middle;\n",
       "    }\n",
       "\n",
       "    .dataframe tbody tr th {\n",
       "        vertical-align: top;\n",
       "    }\n",
       "\n",
       "    .dataframe thead th {\n",
       "        text-align: right;\n",
       "    }\n",
       "</style>\n",
       "<table border=\"1\" class=\"dataframe\">\n",
       "  <thead>\n",
       "    <tr style=\"text-align: right;\">\n",
       "      <th></th>\n",
       "      <th>year</th>\n",
       "      <th>dayofyear</th>\n",
       "      <th>weekday</th>\n",
       "      <th>hour</th>\n",
       "      <th>trip_id_orig</th>\n",
       "      <th>trip_id_dest</th>\n",
       "    </tr>\n",
       "  </thead>\n",
       "  <tbody>\n",
       "    <tr>\n",
       "      <th>0</th>\n",
       "      <td>2016</td>\n",
       "      <td>183</td>\n",
       "      <td>4</td>\n",
       "      <td>0</td>\n",
       "      <td>2.0</td>\n",
       "      <td>4.0</td>\n",
       "    </tr>\n",
       "    <tr>\n",
       "      <th>1</th>\n",
       "      <td>2016</td>\n",
       "      <td>183</td>\n",
       "      <td>4</td>\n",
       "      <td>1</td>\n",
       "      <td>1.0</td>\n",
       "      <td>NaN</td>\n",
       "    </tr>\n",
       "    <tr>\n",
       "      <th>2</th>\n",
       "      <td>2016</td>\n",
       "      <td>183</td>\n",
       "      <td>4</td>\n",
       "      <td>2</td>\n",
       "      <td>3.0</td>\n",
       "      <td>2.0</td>\n",
       "    </tr>\n",
       "    <tr>\n",
       "      <th>3</th>\n",
       "      <td>2016</td>\n",
       "      <td>183</td>\n",
       "      <td>4</td>\n",
       "      <td>3</td>\n",
       "      <td>1.0</td>\n",
       "      <td>NaN</td>\n",
       "    </tr>\n",
       "    <tr>\n",
       "      <th>4</th>\n",
       "      <td>2016</td>\n",
       "      <td>183</td>\n",
       "      <td>4</td>\n",
       "      <td>4</td>\n",
       "      <td>1.0</td>\n",
       "      <td>2.0</td>\n",
       "    </tr>\n",
       "  </tbody>\n",
       "</table>\n",
       "</div>"
      ],
      "text/plain": [
       "   year  dayofyear  weekday  hour  trip_id_orig  trip_id_dest\n",
       "0  2016        183        4     0           2.0           4.0\n",
       "1  2016        183        4     1           1.0           NaN\n",
       "2  2016        183        4     2           3.0           2.0\n",
       "3  2016        183        4     3           1.0           NaN\n",
       "4  2016        183        4     4           1.0           2.0"
      ]
     },
     "execution_count": 10,
     "metadata": {},
     "output_type": "execute_result"
    }
   ],
   "source": [
    "# Separating the dataframe into origin and destination registers\n",
    "bike_union_orig = bike_union[bike_union.st_name_orig == 'Union Station']\n",
    "bike_union_dest = bike_union[bike_union.st_name_dest == 'Union Station']\n",
    "\n",
    "#Melting and the merging by days to get count of trips in and out of the station every hour\n",
    "counts_union = pd.merge(bike_union_orig.groupby(['year', 'dayofyear','weekday','hour']).aggregate({'trip_id':'count'}).reset_index(),\n",
    "                        bike_union_dest.groupby(['year', 'dayofyear','weekday','hour']).aggregate({'trip_id':'count'}).reset_index(),\n",
    "                        how='outer',\n",
    "                        left_on = ['year', 'dayofyear', 'weekday', 'hour'],\n",
    "                        right_on = ['year', 'dayofyear', 'weekday', 'hour'],\n",
    "                        suffixes=('_orig','_dest'), sort = True)\n",
    "\n",
    "counts_union.head()"
   ]
  },
  {
   "cell_type": "markdown",
   "metadata": {
    "colab_type": "text",
    "id": "o1nIIbaeV3Pc"
   },
   "source": [
    "Here we have it, for every day of the year we have the day of the week number, the hour of the day and the amount of trips with Union Station as origin and as destination. Doing some further processing to tidy up the data."
   ]
  },
  {
   "cell_type": "code",
   "execution_count": 11,
   "metadata": {
    "colab": {
     "base_uri": "https://localhost:8080/",
     "height": 197
    },
    "colab_type": "code",
    "id": "BmxhuTxn_YWP",
    "outputId": "c7ced567-20d5-468b-a83d-2356578b314b"
   },
   "outputs": [
    {
     "data": {
      "text/html": [
       "<div>\n",
       "<style scoped>\n",
       "    .dataframe tbody tr th:only-of-type {\n",
       "        vertical-align: middle;\n",
       "    }\n",
       "\n",
       "    .dataframe tbody tr th {\n",
       "        vertical-align: top;\n",
       "    }\n",
       "\n",
       "    .dataframe thead th {\n",
       "        text-align: right;\n",
       "    }\n",
       "</style>\n",
       "<table border=\"1\" class=\"dataframe\">\n",
       "  <thead>\n",
       "    <tr style=\"text-align: right;\">\n",
       "      <th></th>\n",
       "      <th>year</th>\n",
       "      <th>dayofyear</th>\n",
       "      <th>weekday</th>\n",
       "      <th>hour</th>\n",
       "      <th>count_trips_orig</th>\n",
       "      <th>count_trips_dest</th>\n",
       "    </tr>\n",
       "  </thead>\n",
       "  <tbody>\n",
       "    <tr>\n",
       "      <th>0</th>\n",
       "      <td>2016</td>\n",
       "      <td>182</td>\n",
       "      <td>4</td>\n",
       "      <td>0</td>\n",
       "      <td>2.0</td>\n",
       "      <td>4.0</td>\n",
       "    </tr>\n",
       "    <tr>\n",
       "      <th>1</th>\n",
       "      <td>2016</td>\n",
       "      <td>182</td>\n",
       "      <td>4</td>\n",
       "      <td>1</td>\n",
       "      <td>1.0</td>\n",
       "      <td>0.0</td>\n",
       "    </tr>\n",
       "    <tr>\n",
       "      <th>2</th>\n",
       "      <td>2016</td>\n",
       "      <td>182</td>\n",
       "      <td>4</td>\n",
       "      <td>2</td>\n",
       "      <td>3.0</td>\n",
       "      <td>2.0</td>\n",
       "    </tr>\n",
       "    <tr>\n",
       "      <th>3</th>\n",
       "      <td>2016</td>\n",
       "      <td>182</td>\n",
       "      <td>4</td>\n",
       "      <td>3</td>\n",
       "      <td>1.0</td>\n",
       "      <td>0.0</td>\n",
       "    </tr>\n",
       "    <tr>\n",
       "      <th>4</th>\n",
       "      <td>2016</td>\n",
       "      <td>182</td>\n",
       "      <td>4</td>\n",
       "      <td>4</td>\n",
       "      <td>1.0</td>\n",
       "      <td>2.0</td>\n",
       "    </tr>\n",
       "  </tbody>\n",
       "</table>\n",
       "</div>"
      ],
      "text/plain": [
       "   year  dayofyear  weekday  hour  count_trips_orig  count_trips_dest\n",
       "0  2016        182        4     0               2.0               4.0\n",
       "1  2016        182        4     1               1.0               0.0\n",
       "2  2016        182        4     2               3.0               2.0\n",
       "3  2016        182        4     3               1.0               0.0\n",
       "4  2016        182        4     4               1.0               2.0"
      ]
     },
     "execution_count": 11,
     "metadata": {},
     "output_type": "execute_result"
    }
   ],
   "source": [
    "#Change the column names\n",
    "counts_union.columns = ['year', 'dayofyear', 'weekday', 'hour', 'count_trips_orig', 'count_trips_dest']\n",
    "\n",
    "#Fill NAs in counts_union\n",
    "counts_union.fillna(value=0, inplace=True)\n",
    "\n",
    "#Modify so all time variables start at 0\n",
    "counts_union.dayofyear = counts_union.dayofyear - 1\n",
    "\n",
    "#Preview\n",
    "counts_union.head()"
   ]
  },
  {
   "cell_type": "markdown",
   "metadata": {
    "colab_type": "text",
    "id": "Nt7Cs42839-2"
   },
   "source": [
    "## Exploring the rate of change\n",
    "\n",
    "Now we create the *target variable*, which is defined as the hourly *rate of change* of bikes stock, that is to say, how many bikes are taken out vs how many bikes are brought into Union Station. This variable will be formulated as the substraction between `count_trips_orig` - `count_trips_dest`.\n",
    "\n",
    "* When the rate of change is positive, we will have more bikes leaving the station (stock deficit).\n",
    "* When the rate of change is negative, we will have more bikes are arriving to the station (stock surplus).\n",
    "\n",
    "This variable will help us predict how many bikes should be required for every time of the day at all stations. It could also help us optimize how many bikes we need at each station to start the day optimally (initial stock), among other things."
   ]
  },
  {
   "cell_type": "code",
   "execution_count": 12,
   "metadata": {
    "colab": {},
    "colab_type": "code",
    "id": "wimZ86Q1X0HR"
   },
   "outputs": [],
   "source": [
    "#Create new variable\n",
    "counts_union['rate_of_change'] = counts_union.count_trips_orig - counts_union.count_trips_dest"
   ]
  },
  {
   "cell_type": "code",
   "execution_count": 13,
   "metadata": {
    "colab": {
     "base_uri": "https://localhost:8080/",
     "height": 176
    },
    "colab_type": "code",
    "id": "_Y0LbAbU6JJE",
    "outputId": "21683bde-9e2a-4bb0-ad80-8639d4325da8"
   },
   "outputs": [
    {
     "data": {
      "text/plain": [
       "count    9882.0\n",
       "mean       -1.1\n",
       "std         6.0\n",
       "min       -45.0\n",
       "25%        -2.0\n",
       "50%        -1.0\n",
       "75%         1.0\n",
       "max        26.0\n",
       "Name: rate_of_change, dtype: float64"
      ]
     },
     "execution_count": 13,
     "metadata": {},
     "output_type": "execute_result"
    }
   ],
   "source": [
    "#Get statistics for all days\n",
    "counts_union.rate_of_change.describe().round(1)"
   ]
  },
  {
   "cell_type": "code",
   "execution_count": 14,
   "metadata": {
    "colab": {
     "base_uri": "https://localhost:8080/",
     "height": 176
    },
    "colab_type": "code",
    "id": "2c5j9olG4y6w",
    "outputId": "1b308f87-7888-4694-d49d-e2504a814f23"
   },
   "outputs": [
    {
     "data": {
      "text/plain": [
       "count    7136.0\n",
       "mean       -1.3\n",
       "std         6.3\n",
       "min       -45.0\n",
       "25%        -3.0\n",
       "50%        -1.0\n",
       "75%         1.0\n",
       "max        26.0\n",
       "Name: rate_of_change, dtype: float64"
      ]
     },
     "execution_count": 14,
     "metadata": {},
     "output_type": "execute_result"
    }
   ],
   "source": [
    "#Get statistics for the business days\n",
    "counts_union[counts_union.weekday.isin([1,2,3,4,5])].rate_of_change.describe().round(1)"
   ]
  },
  {
   "cell_type": "markdown",
   "metadata": {
    "colab_type": "text",
    "id": "oR_D_jch6gfI"
   },
   "source": [
    "From this we can draw some interesting facts:\n",
    "\n",
    "* The overall mean value of the rate of change is negative, meaning that, on average, *the inventory of bikes is increasing by 1.1 bikes every hour*, and 1.3 bikes for weekdays. We could conclude that for this station we will not require bike replenishment, on the contrary, bikes will need to be removed from the station to free up capacity for incoming riders.\n",
    "\n",
    "* Even with outliers removed, the minimum is significantly low and would imply an arrival of bikes greater than the capacity of the station which is 26 bikes and, maybe the capacity of one replenishment truck. This variable would help us identify the hours of the day in which that is likely to happen and act accordingly.\n",
    "\n",
    "* In terms of bike demand, we have a maximum of 26 bikes an hour, which would mean that all bikes are taken from this station, requiring restock for the following hour. This is important in terms of operations. \n",
    "\n",
    "Now we will check the distribution of this variable"
   ]
  },
  {
   "cell_type": "code",
   "execution_count": 15,
   "metadata": {
    "colab": {
     "base_uri": "https://localhost:8080/",
     "height": 312
    },
    "colab_type": "code",
    "id": "SVB7_80K6p39",
    "outputId": "7074515a-5cc3-402f-cf6e-9b245526949d"
   },
   "outputs": [
    {
     "data": {
      "text/plain": [
       "Text(0.5, 1.0, 'Distribution of the hourly rate of change')"
      ]
     },
     "execution_count": 15,
     "metadata": {},
     "output_type": "execute_result"
    },
    {
     "data": {
      "image/png": "[encoded data removed]",
      "text/plain": [
       "<Figure size 432x288 with 1 Axes>"
      ]
     },
     "metadata": {
      "needs_background": "light"
     },
     "output_type": "display_data"
    }
   ],
   "source": [
    "ax = sns.distplot(counts_union.rate_of_change)\n",
    "\n",
    "ax.set_xlabel('Hourly rate of change')\n",
    "ax.set_title('Distribution of the hourly rate of change')"
   ]
  },
  {
   "cell_type": "markdown",
   "metadata": {
    "colab_type": "text",
    "id": "8DrAmlNu3vMO"
   },
   "source": [
    "The variable seems to follow a normal-like distribution with a mean close to zero, however, as discussed, the values to the left are up to twice as much as the capacity of the station. These are critical hours that must be analyzed. Now let's see the behavior of the rate of change for all days of the week."
   ]
  },
  {
   "cell_type": "code",
   "execution_count": 16,
   "metadata": {
    "colab": {
     "base_uri": "https://localhost:8080/",
     "height": 350
    },
    "colab_type": "code",
    "id": "F2d3HYyT3uCU",
    "outputId": "bf407228-1117-46df-db6a-1937abc8f588"
   },
   "outputs": [
    {
     "data": {
      "text/plain": [
       "Text(0, 0.5, 'Mean hourly rate of change')"
      ]
     },
     "execution_count": 16,
     "metadata": {},
     "output_type": "execute_result"
    },
    {
     "data": {
      "image/png": "[encoded data removed]",
      "text/plain": [
       "<Figure size 432x288 with 1 Axes>"
      ]
     },
     "metadata": {
      "needs_background": "light"
     },
     "output_type": "display_data"
    }
   ],
   "source": [
    "ax = counts_union.groupby('weekday').aggregate({'rate_of_change': 'mean'}).plot(kind='bar')\n",
    "\n",
    "ax.set_xticklabels(['Monday', 'Tuesday', 'Wednesday', 'Thursday', 'Friday', 'Saturday', 'Sunday'])\n",
    "ax.set_xlabel('Day of the week')\n",
    "ax.set_ylabel('Mean hourly rate of change')"
   ]
  },
  {
   "cell_type": "markdown",
   "metadata": {
    "colab_type": "text",
    "id": "7CgV42Zv6Dc9"
   },
   "source": [
    "Here we can see that for this specific station everyday we have a bike surplus every day of the week, however, for weekends this surplus is almost negligible and the suply/demand is almost balanced. Now lets get more granual, by looking at hourly averages:"
   ]
  },
  {
   "cell_type": "code",
   "execution_count": 17,
   "metadata": {
    "colab": {
     "base_uri": "https://localhost:8080/",
     "height": 368
    },
    "colab_type": "code",
    "id": "hUPnjlLZQb7_",
    "outputId": "b4dd0992-7569-4725-bd46-d09c71883352"
   },
   "outputs": [
    {
     "data": {
      "image/png": "[encoded data removed]",
      "text/plain": [
       "<Figure size 720x360 with 2 Axes>"
      ]
     },
     "metadata": {
      "needs_background": "light"
     },
     "output_type": "display_data"
    }
   ],
   "source": [
    "fig, axarr = plt.subplots(nrows = 1, ncols=2, figsize=(10,5), sharey=True)\n",
    "\n",
    "df1 = counts_union[counts_union.weekday.isin([6,7])].groupby('hour').aggregate({'rate_of_change': ['mean', 'std']})\n",
    "df2 = counts_union[~counts_union.weekday.isin([6,7])].groupby('hour').aggregate({'rate_of_change': ['mean', 'std']})\n",
    "\n",
    "plt.sca(axarr[0])\n",
    "plt.errorbar(df1.index, df1.rate_of_change['mean'], df1.rate_of_change['std'], \n",
    "             linestyle='None', marker='^')\n",
    "\n",
    "axarr[0].set_title('Weekends')\n",
    "axarr[0].set_xlabel('Hour of the day')\n",
    "axarr[0].set_ylabel('Hourly rate of change')\n",
    "plt.grid()\n",
    "\n",
    "plt.sca(axarr[1])\n",
    "plt.errorbar(df2.index, df2.rate_of_change['mean'], df2.rate_of_change['std'], \n",
    "             linestyle='None', marker='^')\n",
    "axarr[1].set_title('Business days')\n",
    "axarr[1].set_xlabel('Hour of the day')\n",
    "plt.grid()\n",
    "plt.tight_layout()\n"
   ]
  },
  {
   "cell_type": "markdown",
   "metadata": {
    "colab_type": "text",
    "id": "2hdJCX7ZC73O"
   },
   "source": [
    "Here, we can evidence the following:\n",
    "- For weekends, the average rate of change tends to zero (and has low variance), which means a **balanced supply and demand**. This insight is important because it will mean that on average, we will not need resources for bike replenishment at Union Station on weekends.\n",
    "\n",
    "- For weekdays, morning hours imply a positive rate of change on average and, until 6 AM a near-zero rate of change. Demand peaks at 7 AM, in which the capacity is enough to satisfy an average demand of about 10 bikes. The capacity is optimal for this demand and we do not need to replenish bikes at Union Station.\n",
    "\n",
    "* During afternoon we have the opposite, with **negative rates of change from 3 PM until 10 PM**. We will need to remove a significant amount of bikes during afternoon hours, even more during peak inflow hours (from 3 to 6) the capacity of the station will be exceeded and users might arrive without anywhere to park their bikes, this might lead users to incur in overage affecting the service and even the probability of churn.\n",
    "\n",
    "* One significant insight is the fact that on average, the mean and standard deviations will be within the capacity of the station, which seems to be optimal for the rate of change in general.\n"
   ]
  },
  {
   "cell_type": "markdown",
   "metadata": {
    "colab_type": "text",
    "id": "VGG-4at366Ei"
   },
   "source": [
    "**Extreme values**\n",
    "\n",
    "Let's dig deeper into ouliers. We are going to highlight the hours in which the rate of change is grater than the capacity of the station, given the fact that these peaks will create operational challenges."
   ]
  },
  {
   "cell_type": "code",
   "execution_count": 18,
   "metadata": {
    "colab": {},
    "colab_type": "code",
    "id": "AFEddRK58UtJ"
   },
   "outputs": [],
   "source": [
    "#Extract those from the dataset\n",
    "peaks = counts_union[(counts_union.rate_of_change > 26) | (counts_union.rate_of_change < -26)]"
   ]
  },
  {
   "cell_type": "code",
   "execution_count": 19,
   "metadata": {
    "colab": {
     "base_uri": "https://localhost:8080/",
     "height": 34
    },
    "colab_type": "code",
    "id": "1eUd4WP99s9T",
    "outputId": "6ab92df1-e641-484b-a94a-28c597506a9e"
   },
   "outputs": [
    {
     "data": {
      "text/plain": [
       "74"
      ]
     },
     "execution_count": 19,
     "metadata": {},
     "output_type": "execute_result"
    }
   ],
   "source": [
    "# Count those hours\n",
    "peaks.shape[0]"
   ]
  },
  {
   "cell_type": "code",
   "execution_count": 20,
   "metadata": {
    "colab": {
     "base_uri": "https://localhost:8080/",
     "height": 301
    },
    "colab_type": "code",
    "id": "wnjZXf8OAy4B",
    "outputId": "3e350926-f50f-4f3d-c976-9d5507c0846d"
   },
   "outputs": [
    {
     "data": {
      "text/plain": [
       "Text(0.5, 0, 'Rate of change')"
      ]
     },
     "execution_count": 20,
     "metadata": {},
     "output_type": "execute_result"
    },
    {
     "data": {
      "image/png": "[encoded data removed]",
      "text/plain": [
       "<Figure size 432x288 with 1 Axes>"
      ]
     },
     "metadata": {
      "needs_background": "light"
     },
     "output_type": "display_data"
    }
   ],
   "source": [
    "# How these are distributed\n",
    "peaks.rate_of_change.plot(kind='hist')\n",
    "plt.xlabel('Rate of change')"
   ]
  },
  {
   "cell_type": "markdown",
   "metadata": {
    "colab_type": "text",
    "id": "fbWWEFYo9zFG"
   },
   "source": [
    "So we have 74 hours in which we will have negative rate of change over the station capacity. Now we will check how these are distributed throughout the day and days of the week."
   ]
  },
  {
   "cell_type": "code",
   "execution_count": 21,
   "metadata": {
    "colab": {
     "base_uri": "https://localhost:8080/",
     "height": 315
    },
    "colab_type": "code",
    "id": "BkIC4tYy7FGr",
    "outputId": "dd0578bf-4d2b-4b35-9612-764ff9781b48"
   },
   "outputs": [
    {
     "data": {
      "text/plain": [
       "Text(0.5, 1.0, 'Count of peaks')"
      ]
     },
     "execution_count": 21,
     "metadata": {},
     "output_type": "execute_result"
    },
    {
     "data": {
      "image/png": "[encoded data removed]",
      "text/plain": [
       "<Figure size 1080x288 with 2 Axes>"
      ]
     },
     "metadata": {
      "needs_background": "light"
     },
     "output_type": "display_data"
    }
   ],
   "source": [
    "fig, ax = plt.subplots(nrows=1, ncols=2, figsize=(15,4))\n",
    "\n",
    "#Check distribution during the hours of the day\n",
    "peaks.hour.value_counts().plot(kind='bar', ax=ax[0])\n",
    "ax[0].set_xlabel('Hour of the day')\n",
    "ax[0].set_title('Count of peaks')\n",
    "\n",
    "#Check distribution during the week\n",
    "peaks.weekday.value_counts().plot(kind='bar', ax=ax[1])\n",
    "ax[1].set_xlabel('Days of the week')\n",
    "ax[1].set_title('Count of peaks')"
   ]
  },
  {
   "cell_type": "markdown",
   "metadata": {
    "colab_type": "text",
    "id": "s2y35vW-_H9H"
   },
   "source": [
    "Some observations regarding this graphs:\n",
    "\n",
    "* We see that these peaks are mostly at 4 PM (busy hour for commuting), which is consistent with the data previously reviewed. At this time of the day, a large number of bikes are brought to this station for the \"ride back home\". However, it's interesting that the \"ride to work\" is not symmetric to this number. This station is used for getting home from work but not as much for getting to work.\n",
    "* At 4 PM is the most likely hour to have a surplus of bikes at this station, at 5 PM and 8 PM is quite rare.\n",
    "* Wednesday is the day that presents the most peaks for rate of change, followed by Tuesday, Thursday and Monday, in similar proportion. On a Friday is rare to have a bike surplus."
   ]
  },
  {
   "cell_type": "markdown",
   "metadata": {},
   "source": [
    "## Add new variables "
   ]
  },
  {
   "cell_type": "markdown",
   "metadata": {},
   "source": [
    "We have some information that could help us increase number of features in order to better understand the behavior of our target variable. For this, we have collected variables related to weather for every hour of every day and also we have a boolean variable that confirms if the day is a holiday or not."
   ]
  },
  {
   "cell_type": "markdown",
   "metadata": {},
   "source": [
    "### Holidays \n",
    "\n",
    "We also collected the boolean variable informing if a day was a holiday or not, this is to be included in our dataset. "
   ]
  },
  {
   "cell_type": "markdown",
   "metadata": {},
   "source": [
    "Append a temporary datetime to the dataset to match the holidays using the year and the day of the year"
   ]
  },
  {
   "cell_type": "code",
   "execution_count": 22,
   "metadata": {},
   "outputs": [],
   "source": [
    "counts_union['date'] = [datetime.strptime(''.join([str(int(row[1]['year'])), str(int(row[1]['dayofyear'] + 1))]), '%Y%j') for row in counts_union.iterrows()]"
   ]
  },
  {
   "cell_type": "markdown",
   "metadata": {},
   "source": [
    "Add a new column with the flag if it is a holiday"
   ]
  },
  {
   "cell_type": "code",
   "execution_count": 23,
   "metadata": {},
   "outputs": [],
   "source": [
    "def flag_holiday(day, country, prov=None):\n",
    "    \"\"\"Return a flag if the day given is a holiday according to country, province and years in the\n",
    "    format required by the holidays package.\n",
    "    day: datetime object with with the day that needs to be queried.\n",
    "    country: ISO 3166 code for the country.\n",
    "    prov: ISO 3166-2 code for the province/state\n",
    "    >>> import datetime\n",
    "    >>> day1 = datetime.datetime.strptime('2017-12-26', '%Y-%m-%d')\n",
    "    >>> flag_holiday(day1, 'CA', 'ON')\n",
    "    1\n",
    "    >>> day2 = datetime.datetime.strptime('2019-07-04', '%Y-%m-%d')\n",
    "    >>> flag_holiday(day2, 'US')\n",
    "    1\n",
    "    \"\"\"\n",
    "\n",
    "    import holidays\n",
    "\n",
    "    #Get datetimes\n",
    "    holidays_list = list(holidays.CountryHoliday(country=country, years=day.year, prov=prov).keys())\n",
    "    # Format as strings\n",
    "    holidays_dates = [day.strftime('%Y-%m-%d') for day in holidays_list]\n",
    "    # Compare\n",
    "    flag = day.strftime('%Y-%m-%d') in holidays_dates\n",
    "    return int(flag)\n",
    "\n",
    "if __name__ == \"__main__\":\n",
    "    import doctest\n",
    "    doctest.run_docstring_examples(flag_holiday, globals())"
   ]
  },
  {
   "cell_type": "code",
   "execution_count": 24,
   "metadata": {},
   "outputs": [],
   "source": [
    "counts_union['is_holiday'] = counts_union.date.apply(lambda x: flag_holiday(x, 'CA', 'ON'))"
   ]
  },
  {
   "cell_type": "code",
   "execution_count": 25,
   "metadata": {},
   "outputs": [
    {
     "data": {
      "text/html": [
       "<div>\n",
       "<style scoped>\n",
       "    .dataframe tbody tr th:only-of-type {\n",
       "        vertical-align: middle;\n",
       "    }\n",
       "\n",
       "    .dataframe tbody tr th {\n",
       "        vertical-align: top;\n",
       "    }\n",
       "\n",
       "    .dataframe thead th {\n",
       "        text-align: right;\n",
       "    }\n",
       "</style>\n",
       "<table border=\"1\" class=\"dataframe\">\n",
       "  <thead>\n",
       "    <tr style=\"text-align: right;\">\n",
       "      <th></th>\n",
       "      <th>year</th>\n",
       "      <th>dayofyear</th>\n",
       "      <th>weekday</th>\n",
       "      <th>hour</th>\n",
       "      <th>count_trips_orig</th>\n",
       "      <th>count_trips_dest</th>\n",
       "      <th>rate_of_change</th>\n",
       "      <th>date</th>\n",
       "      <th>is_holiday</th>\n",
       "    </tr>\n",
       "  </thead>\n",
       "  <tbody>\n",
       "    <tr>\n",
       "      <th>0</th>\n",
       "      <td>2016</td>\n",
       "      <td>182</td>\n",
       "      <td>4</td>\n",
       "      <td>0</td>\n",
       "      <td>2.0</td>\n",
       "      <td>4.0</td>\n",
       "      <td>-2.0</td>\n",
       "      <td>2016-07-01</td>\n",
       "      <td>1</td>\n",
       "    </tr>\n",
       "    <tr>\n",
       "      <th>1</th>\n",
       "      <td>2016</td>\n",
       "      <td>182</td>\n",
       "      <td>4</td>\n",
       "      <td>1</td>\n",
       "      <td>1.0</td>\n",
       "      <td>0.0</td>\n",
       "      <td>1.0</td>\n",
       "      <td>2016-07-01</td>\n",
       "      <td>1</td>\n",
       "    </tr>\n",
       "    <tr>\n",
       "      <th>2</th>\n",
       "      <td>2016</td>\n",
       "      <td>182</td>\n",
       "      <td>4</td>\n",
       "      <td>2</td>\n",
       "      <td>3.0</td>\n",
       "      <td>2.0</td>\n",
       "      <td>1.0</td>\n",
       "      <td>2016-07-01</td>\n",
       "      <td>1</td>\n",
       "    </tr>\n",
       "    <tr>\n",
       "      <th>3</th>\n",
       "      <td>2016</td>\n",
       "      <td>182</td>\n",
       "      <td>4</td>\n",
       "      <td>3</td>\n",
       "      <td>1.0</td>\n",
       "      <td>0.0</td>\n",
       "      <td>1.0</td>\n",
       "      <td>2016-07-01</td>\n",
       "      <td>1</td>\n",
       "    </tr>\n",
       "    <tr>\n",
       "      <th>4</th>\n",
       "      <td>2016</td>\n",
       "      <td>182</td>\n",
       "      <td>4</td>\n",
       "      <td>4</td>\n",
       "      <td>1.0</td>\n",
       "      <td>2.0</td>\n",
       "      <td>-1.0</td>\n",
       "      <td>2016-07-01</td>\n",
       "      <td>1</td>\n",
       "    </tr>\n",
       "  </tbody>\n",
       "</table>\n",
       "</div>"
      ],
      "text/plain": [
       "   year  dayofyear  weekday  hour  count_trips_orig  count_trips_dest  \\\n",
       "0  2016        182        4     0               2.0               4.0   \n",
       "1  2016        182        4     1               1.0               0.0   \n",
       "2  2016        182        4     2               3.0               2.0   \n",
       "3  2016        182        4     3               1.0               0.0   \n",
       "4  2016        182        4     4               1.0               2.0   \n",
       "\n",
       "   rate_of_change       date  is_holiday  \n",
       "0            -2.0 2016-07-01           1  \n",
       "1             1.0 2016-07-01           1  \n",
       "2             1.0 2016-07-01           1  \n",
       "3             1.0 2016-07-01           1  \n",
       "4            -1.0 2016-07-01           1  "
      ]
     },
     "execution_count": 25,
     "metadata": {},
     "output_type": "execute_result"
    }
   ],
   "source": [
    "counts_union.head()"
   ]
  },
  {
   "cell_type": "markdown",
   "metadata": {},
   "source": [
    "### Weather related variables \n",
    "\n",
    "The weather variables were taken from the source aforementioned, and specifically from the TORONTO CITY CENTRE station, which is nearly 2 km away from Union Station. This station was chosen given the data availability for most variables of interest, namely, date and time, temperature, relative humidity, wind speed, visibility, wind chill and weather features (snow, rain, fog, etc.). Intuitively, these are all expected to impact the number of riders, and hence, the rate of change."
   ]
  },
  {
   "cell_type": "code",
   "execution_count": 26,
   "metadata": {},
   "outputs": [],
   "source": [
    "weather_df_2016 = pd.read_csv('../Data/2016_hourly_weather.csv')\n",
    "weather_df_2017 = pd.read_csv('../Data/2017_hourly_weather.csv')"
   ]
  },
  {
   "cell_type": "code",
   "execution_count": 27,
   "metadata": {},
   "outputs": [],
   "source": [
    "weather_df = pd.concat([weather_df_2016, weather_df_2017], axis = 0).reset_index(drop=True)"
   ]
  },
  {
   "cell_type": "markdown",
   "metadata": {},
   "source": [
    "#### Fixing column names\n",
    "\n",
    "We will import one function from my Github, which is suited for standardizing this kind of column names:"
   ]
  },
  {
   "cell_type": "code",
   "execution_count": 28,
   "metadata": {},
   "outputs": [],
   "source": [
    "def fix_names(names):\n",
    "    \"\"\"\n",
    "    This function takes a list of names and standardizes the names\n",
    "    for Python analysis returning a list of fixed names to be used in\n",
    "    the dataframe.\n",
    "    names: list of strings to be fixed\n",
    "    >>> fix_names(['New Col 1', 'NeW. Col. 2_'])\n",
    "    ['new_col_1', 'new_col_2']\n",
    "    \"\"\"\n",
    "    import re\n",
    "\n",
    "    fixed_names = [name.lower().replace(' ','_').strip('_') for name in names]\n",
    "    fixed_names = [re.sub(r'[^\\w_]', '', name) for name in fixed_names]\n",
    "\n",
    "    return fixed_names"
   ]
  },
  {
   "cell_type": "code",
   "execution_count": 29,
   "metadata": {},
   "outputs": [],
   "source": [
    "weather_df.columns = fix_names(weather_df.columns.to_list())"
   ]
  },
  {
   "cell_type": "code",
   "execution_count": 30,
   "metadata": {},
   "outputs": [
    {
     "data": {
      "text/plain": [
       "Index(['longitude_x', 'latitude_y', 'station_name', 'climate_id', 'datetime',\n",
       "       'year', 'month', 'day', 'time', 'temp_c', 'temp_flag',\n",
       "       'dew_point_temp_c', 'dew_point_temp_flag', 'rel_hum_', 'rel_hum_flag',\n",
       "       'wind_dir_10s_deg', 'wind_dir_flag', 'wind_spd_kmh', 'wind_spd_flag',\n",
       "       'visibility_km', 'visibility_flag', 'stn_press_kpa', 'stn_press_flag',\n",
       "       'hmdx', 'hmdx_flag', 'wind_chill', 'wind_chill_flag', 'weather'],\n",
       "      dtype='object')"
      ]
     },
     "execution_count": 30,
     "metadata": {},
     "output_type": "execute_result"
    }
   ],
   "source": [
    "weather_df.columns"
   ]
  },
  {
   "cell_type": "markdown",
   "metadata": {},
   "source": [
    "#### Selecting variables of interest"
   ]
  },
  {
   "cell_type": "code",
   "execution_count": 31,
   "metadata": {},
   "outputs": [],
   "source": [
    "weather_df = weather_df[['datetime','temp_c', 'rel_hum_', 'wind_spd_kmh',\n",
    "                        'visibility_km', 'wind_chill', 'weather']]"
   ]
  },
  {
   "cell_type": "code",
   "execution_count": 32,
   "metadata": {},
   "outputs": [],
   "source": [
    "weather_df.datetime = pd.to_datetime(weather_df.datetime)"
   ]
  },
  {
   "cell_type": "code",
   "execution_count": 33,
   "metadata": {},
   "outputs": [
    {
     "data": {
      "text/html": [
       "<div>\n",
       "<style scoped>\n",
       "    .dataframe tbody tr th:only-of-type {\n",
       "        vertical-align: middle;\n",
       "    }\n",
       "\n",
       "    .dataframe tbody tr th {\n",
       "        vertical-align: top;\n",
       "    }\n",
       "\n",
       "    .dataframe thead th {\n",
       "        text-align: right;\n",
       "    }\n",
       "</style>\n",
       "<table border=\"1\" class=\"dataframe\">\n",
       "  <thead>\n",
       "    <tr style=\"text-align: right;\">\n",
       "      <th></th>\n",
       "      <th>datetime</th>\n",
       "      <th>temp_c</th>\n",
       "      <th>rel_hum_</th>\n",
       "      <th>wind_spd_kmh</th>\n",
       "      <th>visibility_km</th>\n",
       "      <th>wind_chill</th>\n",
       "      <th>weather</th>\n",
       "    </tr>\n",
       "  </thead>\n",
       "  <tbody>\n",
       "    <tr>\n",
       "      <th>0</th>\n",
       "      <td>2016-07-01 00:00:00</td>\n",
       "      <td>16.1</td>\n",
       "      <td>74.0</td>\n",
       "      <td>0.0</td>\n",
       "      <td>16.1</td>\n",
       "      <td>NaN</td>\n",
       "      <td>NaN</td>\n",
       "    </tr>\n",
       "    <tr>\n",
       "      <th>1</th>\n",
       "      <td>2016-07-01 01:00:00</td>\n",
       "      <td>16.7</td>\n",
       "      <td>68.0</td>\n",
       "      <td>0.0</td>\n",
       "      <td>16.1</td>\n",
       "      <td>NaN</td>\n",
       "      <td>NaN</td>\n",
       "    </tr>\n",
       "    <tr>\n",
       "      <th>2</th>\n",
       "      <td>2016-07-01 02:00:00</td>\n",
       "      <td>15.4</td>\n",
       "      <td>77.0</td>\n",
       "      <td>0.0</td>\n",
       "      <td>16.1</td>\n",
       "      <td>NaN</td>\n",
       "      <td>NaN</td>\n",
       "    </tr>\n",
       "    <tr>\n",
       "      <th>3</th>\n",
       "      <td>2016-07-01 03:00:00</td>\n",
       "      <td>15.1</td>\n",
       "      <td>72.0</td>\n",
       "      <td>0.0</td>\n",
       "      <td>16.1</td>\n",
       "      <td>NaN</td>\n",
       "      <td>NaN</td>\n",
       "    </tr>\n",
       "    <tr>\n",
       "      <th>4</th>\n",
       "      <td>2016-07-01 04:00:00</td>\n",
       "      <td>16.5</td>\n",
       "      <td>69.0</td>\n",
       "      <td>9.0</td>\n",
       "      <td>16.1</td>\n",
       "      <td>NaN</td>\n",
       "      <td>NaN</td>\n",
       "    </tr>\n",
       "  </tbody>\n",
       "</table>\n",
       "</div>"
      ],
      "text/plain": [
       "             datetime  temp_c  rel_hum_  wind_spd_kmh  visibility_km  \\\n",
       "0 2016-07-01 00:00:00    16.1      74.0           0.0           16.1   \n",
       "1 2016-07-01 01:00:00    16.7      68.0           0.0           16.1   \n",
       "2 2016-07-01 02:00:00    15.4      77.0           0.0           16.1   \n",
       "3 2016-07-01 03:00:00    15.1      72.0           0.0           16.1   \n",
       "4 2016-07-01 04:00:00    16.5      69.0           9.0           16.1   \n",
       "\n",
       "   wind_chill weather  \n",
       "0         NaN     NaN  \n",
       "1         NaN     NaN  \n",
       "2         NaN     NaN  \n",
       "3         NaN     NaN  \n",
       "4         NaN     NaN  "
      ]
     },
     "execution_count": 33,
     "metadata": {},
     "output_type": "execute_result"
    }
   ],
   "source": [
    "weather_df.head()"
   ]
  },
  {
   "cell_type": "markdown",
   "metadata": {},
   "source": [
    "#### Removing NAs "
   ]
  },
  {
   "cell_type": "code",
   "execution_count": 34,
   "metadata": {},
   "outputs": [
    {
     "data": {
      "text/plain": [
       "datetime             0\n",
       "temp_c              13\n",
       "rel_hum_            12\n",
       "wind_spd_kmh        24\n",
       "visibility_km       26\n",
       "wind_chill       11280\n",
       "weather          11258\n",
       "dtype: int64"
      ]
     },
     "execution_count": 34,
     "metadata": {},
     "output_type": "execute_result"
    }
   ],
   "source": [
    "weather_df.isna().sum()"
   ]
  },
  {
   "cell_type": "code",
   "execution_count": 35,
   "metadata": {},
   "outputs": [
    {
     "data": {
      "text/html": [
       "<div>\n",
       "<style scoped>\n",
       "    .dataframe tbody tr th:only-of-type {\n",
       "        vertical-align: middle;\n",
       "    }\n",
       "\n",
       "    .dataframe tbody tr th {\n",
       "        vertical-align: top;\n",
       "    }\n",
       "\n",
       "    .dataframe thead th {\n",
       "        text-align: right;\n",
       "    }\n",
       "</style>\n",
       "<table border=\"1\" class=\"dataframe\">\n",
       "  <thead>\n",
       "    <tr style=\"text-align: right;\">\n",
       "      <th></th>\n",
       "      <th>datetime</th>\n",
       "      <th>temp_c</th>\n",
       "      <th>rel_hum_</th>\n",
       "      <th>wind_spd_kmh</th>\n",
       "      <th>visibility_km</th>\n",
       "      <th>wind_chill</th>\n",
       "      <th>weather</th>\n",
       "    </tr>\n",
       "  </thead>\n",
       "  <tbody>\n",
       "    <tr>\n",
       "      <th>777</th>\n",
       "      <td>2016-08-02 09:00:00</td>\n",
       "      <td>23.3</td>\n",
       "      <td>84.0</td>\n",
       "      <td>15.0</td>\n",
       "      <td>NaN</td>\n",
       "      <td>NaN</td>\n",
       "      <td>NaN</td>\n",
       "    </tr>\n",
       "    <tr>\n",
       "      <th>1933</th>\n",
       "      <td>2016-09-19 13:00:00</td>\n",
       "      <td>23.1</td>\n",
       "      <td>69.0</td>\n",
       "      <td>NaN</td>\n",
       "      <td>NaN</td>\n",
       "      <td>NaN</td>\n",
       "      <td>NaN</td>\n",
       "    </tr>\n",
       "    <tr>\n",
       "      <th>1934</th>\n",
       "      <td>2016-09-19 14:00:00</td>\n",
       "      <td>24.0</td>\n",
       "      <td>63.0</td>\n",
       "      <td>NaN</td>\n",
       "      <td>NaN</td>\n",
       "      <td>NaN</td>\n",
       "      <td>NaN</td>\n",
       "    </tr>\n",
       "    <tr>\n",
       "      <th>1978</th>\n",
       "      <td>2016-09-21 10:00:00</td>\n",
       "      <td>21.9</td>\n",
       "      <td>55.0</td>\n",
       "      <td>NaN</td>\n",
       "      <td>NaN</td>\n",
       "      <td>NaN</td>\n",
       "      <td>NaN</td>\n",
       "    </tr>\n",
       "    <tr>\n",
       "      <th>1980</th>\n",
       "      <td>2016-09-21 12:00:00</td>\n",
       "      <td>23.0</td>\n",
       "      <td>61.0</td>\n",
       "      <td>15.0</td>\n",
       "      <td>NaN</td>\n",
       "      <td>NaN</td>\n",
       "      <td>NaN</td>\n",
       "    </tr>\n",
       "    <tr>\n",
       "      <th>2788</th>\n",
       "      <td>2016-10-25 04:00:00</td>\n",
       "      <td>6.2</td>\n",
       "      <td>61.0</td>\n",
       "      <td>NaN</td>\n",
       "      <td>NaN</td>\n",
       "      <td>NaN</td>\n",
       "      <td>NaN</td>\n",
       "    </tr>\n",
       "    <tr>\n",
       "      <th>2812</th>\n",
       "      <td>2016-10-26 04:00:00</td>\n",
       "      <td>3.3</td>\n",
       "      <td>54.0</td>\n",
       "      <td>NaN</td>\n",
       "      <td>NaN</td>\n",
       "      <td>NaN</td>\n",
       "      <td>NaN</td>\n",
       "    </tr>\n",
       "    <tr>\n",
       "      <th>2968</th>\n",
       "      <td>2016-11-01 16:00:00</td>\n",
       "      <td>NaN</td>\n",
       "      <td>NaN</td>\n",
       "      <td>NaN</td>\n",
       "      <td>NaN</td>\n",
       "      <td>NaN</td>\n",
       "      <td>NaN</td>\n",
       "    </tr>\n",
       "    <tr>\n",
       "      <th>3289</th>\n",
       "      <td>2016-11-15 01:00:00</td>\n",
       "      <td>7.3</td>\n",
       "      <td>84.0</td>\n",
       "      <td>NaN</td>\n",
       "      <td>NaN</td>\n",
       "      <td>NaN</td>\n",
       "      <td>NaN</td>\n",
       "    </tr>\n",
       "    <tr>\n",
       "      <th>4104</th>\n",
       "      <td>2016-12-19 00:00:00</td>\n",
       "      <td>-8.4</td>\n",
       "      <td>69.0</td>\n",
       "      <td>NaN</td>\n",
       "      <td>NaN</td>\n",
       "      <td>NaN</td>\n",
       "      <td>NaN</td>\n",
       "    </tr>\n",
       "    <tr>\n",
       "      <th>4105</th>\n",
       "      <td>2016-12-19 01:00:00</td>\n",
       "      <td>-8.0</td>\n",
       "      <td>75.0</td>\n",
       "      <td>NaN</td>\n",
       "      <td>NaN</td>\n",
       "      <td>NaN</td>\n",
       "      <td>NaN</td>\n",
       "    </tr>\n",
       "    <tr>\n",
       "      <th>4106</th>\n",
       "      <td>2016-12-19 02:00:00</td>\n",
       "      <td>-7.0</td>\n",
       "      <td>64.0</td>\n",
       "      <td>NaN</td>\n",
       "      <td>NaN</td>\n",
       "      <td>NaN</td>\n",
       "      <td>NaN</td>\n",
       "    </tr>\n",
       "    <tr>\n",
       "      <th>4107</th>\n",
       "      <td>2016-12-19 03:00:00</td>\n",
       "      <td>-6.2</td>\n",
       "      <td>55.0</td>\n",
       "      <td>NaN</td>\n",
       "      <td>NaN</td>\n",
       "      <td>NaN</td>\n",
       "      <td>NaN</td>\n",
       "    </tr>\n",
       "    <tr>\n",
       "      <th>4108</th>\n",
       "      <td>2016-12-19 04:00:00</td>\n",
       "      <td>-6.9</td>\n",
       "      <td>59.0</td>\n",
       "      <td>NaN</td>\n",
       "      <td>NaN</td>\n",
       "      <td>NaN</td>\n",
       "      <td>NaN</td>\n",
       "    </tr>\n",
       "    <tr>\n",
       "      <th>4109</th>\n",
       "      <td>2016-12-19 05:00:00</td>\n",
       "      <td>-7.1</td>\n",
       "      <td>64.0</td>\n",
       "      <td>NaN</td>\n",
       "      <td>NaN</td>\n",
       "      <td>NaN</td>\n",
       "      <td>NaN</td>\n",
       "    </tr>\n",
       "    <tr>\n",
       "      <th>10625</th>\n",
       "      <td>2017-09-16 17:00:00</td>\n",
       "      <td>NaN</td>\n",
       "      <td>66.0</td>\n",
       "      <td>4.0</td>\n",
       "      <td>NaN</td>\n",
       "      <td>NaN</td>\n",
       "      <td>NaN</td>\n",
       "    </tr>\n",
       "    <tr>\n",
       "      <th>10834</th>\n",
       "      <td>2017-09-25 10:00:00</td>\n",
       "      <td>NaN</td>\n",
       "      <td>NaN</td>\n",
       "      <td>NaN</td>\n",
       "      <td>NaN</td>\n",
       "      <td>NaN</td>\n",
       "      <td>NaN</td>\n",
       "    </tr>\n",
       "    <tr>\n",
       "      <th>10835</th>\n",
       "      <td>2017-09-25 11:00:00</td>\n",
       "      <td>NaN</td>\n",
       "      <td>NaN</td>\n",
       "      <td>NaN</td>\n",
       "      <td>NaN</td>\n",
       "      <td>NaN</td>\n",
       "      <td>NaN</td>\n",
       "    </tr>\n",
       "    <tr>\n",
       "      <th>10836</th>\n",
       "      <td>2017-09-25 12:00:00</td>\n",
       "      <td>NaN</td>\n",
       "      <td>NaN</td>\n",
       "      <td>NaN</td>\n",
       "      <td>NaN</td>\n",
       "      <td>NaN</td>\n",
       "      <td>NaN</td>\n",
       "    </tr>\n",
       "    <tr>\n",
       "      <th>10837</th>\n",
       "      <td>2017-09-25 13:00:00</td>\n",
       "      <td>NaN</td>\n",
       "      <td>NaN</td>\n",
       "      <td>NaN</td>\n",
       "      <td>NaN</td>\n",
       "      <td>NaN</td>\n",
       "      <td>NaN</td>\n",
       "    </tr>\n",
       "    <tr>\n",
       "      <th>10858</th>\n",
       "      <td>2017-09-26 10:00:00</td>\n",
       "      <td>NaN</td>\n",
       "      <td>NaN</td>\n",
       "      <td>NaN</td>\n",
       "      <td>NaN</td>\n",
       "      <td>NaN</td>\n",
       "      <td>NaN</td>\n",
       "    </tr>\n",
       "    <tr>\n",
       "      <th>10859</th>\n",
       "      <td>2017-09-26 11:00:00</td>\n",
       "      <td>25.8</td>\n",
       "      <td>79.0</td>\n",
       "      <td>8.0</td>\n",
       "      <td>NaN</td>\n",
       "      <td>NaN</td>\n",
       "      <td>NaN</td>\n",
       "    </tr>\n",
       "    <tr>\n",
       "      <th>10882</th>\n",
       "      <td>2017-09-27 10:00:00</td>\n",
       "      <td>NaN</td>\n",
       "      <td>NaN</td>\n",
       "      <td>NaN</td>\n",
       "      <td>NaN</td>\n",
       "      <td>NaN</td>\n",
       "      <td>NaN</td>\n",
       "    </tr>\n",
       "    <tr>\n",
       "      <th>10883</th>\n",
       "      <td>2017-09-27 11:00:00</td>\n",
       "      <td>NaN</td>\n",
       "      <td>NaN</td>\n",
       "      <td>NaN</td>\n",
       "      <td>NaN</td>\n",
       "      <td>NaN</td>\n",
       "      <td>NaN</td>\n",
       "    </tr>\n",
       "    <tr>\n",
       "      <th>10884</th>\n",
       "      <td>2017-09-27 12:00:00</td>\n",
       "      <td>NaN</td>\n",
       "      <td>NaN</td>\n",
       "      <td>NaN</td>\n",
       "      <td>NaN</td>\n",
       "      <td>NaN</td>\n",
       "      <td>NaN</td>\n",
       "    </tr>\n",
       "    <tr>\n",
       "      <th>11892</th>\n",
       "      <td>2017-11-08 12:00:00</td>\n",
       "      <td>NaN</td>\n",
       "      <td>NaN</td>\n",
       "      <td>NaN</td>\n",
       "      <td>NaN</td>\n",
       "      <td>NaN</td>\n",
       "      <td>NaN</td>\n",
       "    </tr>\n",
       "  </tbody>\n",
       "</table>\n",
       "</div>"
      ],
      "text/plain": [
       "                 datetime  temp_c  rel_hum_  wind_spd_kmh  visibility_km  \\\n",
       "777   2016-08-02 09:00:00    23.3      84.0          15.0            NaN   \n",
       "1933  2016-09-19 13:00:00    23.1      69.0           NaN            NaN   \n",
       "1934  2016-09-19 14:00:00    24.0      63.0           NaN            NaN   \n",
       "1978  2016-09-21 10:00:00    21.9      55.0           NaN            NaN   \n",
       "1980  2016-09-21 12:00:00    23.0      61.0          15.0            NaN   \n",
       "2788  2016-10-25 04:00:00     6.2      61.0           NaN            NaN   \n",
       "2812  2016-10-26 04:00:00     3.3      54.0           NaN            NaN   \n",
       "2968  2016-11-01 16:00:00     NaN       NaN           NaN            NaN   \n",
       "3289  2016-11-15 01:00:00     7.3      84.0           NaN            NaN   \n",
       "4104  2016-12-19 00:00:00    -8.4      69.0           NaN            NaN   \n",
       "4105  2016-12-19 01:00:00    -8.0      75.0           NaN            NaN   \n",
       "4106  2016-12-19 02:00:00    -7.0      64.0           NaN            NaN   \n",
       "4107  2016-12-19 03:00:00    -6.2      55.0           NaN            NaN   \n",
       "4108  2016-12-19 04:00:00    -6.9      59.0           NaN            NaN   \n",
       "4109  2016-12-19 05:00:00    -7.1      64.0           NaN            NaN   \n",
       "10625 2017-09-16 17:00:00     NaN      66.0           4.0            NaN   \n",
       "10834 2017-09-25 10:00:00     NaN       NaN           NaN            NaN   \n",
       "10835 2017-09-25 11:00:00     NaN       NaN           NaN            NaN   \n",
       "10836 2017-09-25 12:00:00     NaN       NaN           NaN            NaN   \n",
       "10837 2017-09-25 13:00:00     NaN       NaN           NaN            NaN   \n",
       "10858 2017-09-26 10:00:00     NaN       NaN           NaN            NaN   \n",
       "10859 2017-09-26 11:00:00    25.8      79.0           8.0            NaN   \n",
       "10882 2017-09-27 10:00:00     NaN       NaN           NaN            NaN   \n",
       "10883 2017-09-27 11:00:00     NaN       NaN           NaN            NaN   \n",
       "10884 2017-09-27 12:00:00     NaN       NaN           NaN            NaN   \n",
       "11892 2017-11-08 12:00:00     NaN       NaN           NaN            NaN   \n",
       "\n",
       "       wind_chill weather  \n",
       "777           NaN     NaN  \n",
       "1933          NaN     NaN  \n",
       "1934          NaN     NaN  \n",
       "1978          NaN     NaN  \n",
       "1980          NaN     NaN  \n",
       "2788          NaN     NaN  \n",
       "2812          NaN     NaN  \n",
       "2968          NaN     NaN  \n",
       "3289          NaN     NaN  \n",
       "4104          NaN     NaN  \n",
       "4105          NaN     NaN  \n",
       "4106          NaN     NaN  \n",
       "4107          NaN     NaN  \n",
       "4108          NaN     NaN  \n",
       "4109          NaN     NaN  \n",
       "10625         NaN     NaN  \n",
       "10834         NaN     NaN  \n",
       "10835         NaN     NaN  \n",
       "10836         NaN     NaN  \n",
       "10837         NaN     NaN  \n",
       "10858         NaN     NaN  \n",
       "10859         NaN     NaN  \n",
       "10882         NaN     NaN  \n",
       "10883         NaN     NaN  \n",
       "10884         NaN     NaN  \n",
       "11892         NaN     NaN  "
      ]
     },
     "execution_count": 35,
     "metadata": {},
     "output_type": "execute_result"
    }
   ],
   "source": [
    "null_idcs = weather_df[weather_df.visibility_km.isna()].index\n",
    "weather_df[weather_df.visibility_km.isna()]"
   ]
  },
  {
   "cell_type": "markdown",
   "metadata": {},
   "source": [
    "The missing values are all clustered together within a subset of records in which the system may have malfunctioned. We will need to impute this values properly and accounting for seasonality."
   ]
  },
  {
   "cell_type": "code",
   "execution_count": 36,
   "metadata": {},
   "outputs": [],
   "source": [
    "weather_df.fillna(np.nan, inplace=True)"
   ]
  },
  {
   "cell_type": "markdown",
   "metadata": {},
   "source": [
    "##### KNN imputing "
   ]
  },
  {
   "cell_type": "markdown",
   "metadata": {},
   "source": [
    "We will use a KNN imputing strategy for temperature, relative humidity, wind speed and visibility and, we will later analyze the remaining variables that present multiple NAs but still might provide meaningful information."
   ]
  },
  {
   "cell_type": "markdown",
   "metadata": {},
   "source": [
    "First, we are going to create a variable that will link closer hours together, so that KNN can access relevant information around NAs. Then, we will create the imputer instance and check how it is working on the null values for the first subset of relevant columns."
   ]
  },
  {
   "cell_type": "code",
   "execution_count": 37,
   "metadata": {},
   "outputs": [],
   "source": [
    "weather_df['hours_elapsed'] = weather_df.datetime.apply(lambda t: (t-datetime(1970,1,1)).total_seconds()/60/60)"
   ]
  },
  {
   "cell_type": "code",
   "execution_count": 38,
   "metadata": {},
   "outputs": [],
   "source": [
    "#create instance\n",
    "imputer =  KNNImputer(n_neighbors=5)"
   ]
  },
  {
   "cell_type": "code",
   "execution_count": 39,
   "metadata": {},
   "outputs": [],
   "source": [
    "colnames = ['hours_elapsed', 'temp_c', 'rel_hum_', 'wind_spd_kmh', 'visibility_km']\n",
    "weather_subset1 = imputer.fit_transform(weather_df[colnames])"
   ]
  },
  {
   "cell_type": "code",
   "execution_count": 40,
   "metadata": {},
   "outputs": [
    {
     "data": {
      "text/plain": [
       "datetime             0\n",
       "temp_c               0\n",
       "rel_hum_             0\n",
       "wind_spd_kmh         0\n",
       "visibility_km        0\n",
       "wind_chill       11280\n",
       "weather          11258\n",
       "hours_elapsed        0\n",
       "dtype: int64"
      ]
     },
     "execution_count": 40,
     "metadata": {},
     "output_type": "execute_result"
    }
   ],
   "source": [
    "#Put the columns back into dataframe\n",
    "weather_df[colnames] = weather_subset1\n",
    "weather_df.isna().sum()"
   ]
  },
  {
   "cell_type": "markdown",
   "metadata": {},
   "source": [
    "Let's check how it works on a couple of values that were null in the previous table."
   ]
  },
  {
   "cell_type": "code",
   "execution_count": 41,
   "metadata": {},
   "outputs": [
    {
     "data": {
      "text/plain": [
       "777"
      ]
     },
     "execution_count": 41,
     "metadata": {},
     "output_type": "execute_result"
    }
   ],
   "source": [
    "null_idcs[0]"
   ]
  },
  {
   "cell_type": "code",
   "execution_count": 42,
   "metadata": {},
   "outputs": [
    {
     "data": {
      "text/html": [
       "<div>\n",
       "<style scoped>\n",
       "    .dataframe tbody tr th:only-of-type {\n",
       "        vertical-align: middle;\n",
       "    }\n",
       "\n",
       "    .dataframe tbody tr th {\n",
       "        vertical-align: top;\n",
       "    }\n",
       "\n",
       "    .dataframe thead th {\n",
       "        text-align: right;\n",
       "    }\n",
       "</style>\n",
       "<table border=\"1\" class=\"dataframe\">\n",
       "  <thead>\n",
       "    <tr style=\"text-align: right;\">\n",
       "      <th></th>\n",
       "      <th>datetime</th>\n",
       "      <th>temp_c</th>\n",
       "      <th>rel_hum_</th>\n",
       "      <th>wind_spd_kmh</th>\n",
       "      <th>visibility_km</th>\n",
       "      <th>wind_chill</th>\n",
       "      <th>weather</th>\n",
       "      <th>hours_elapsed</th>\n",
       "    </tr>\n",
       "  </thead>\n",
       "  <tbody>\n",
       "    <tr>\n",
       "      <th>772</th>\n",
       "      <td>2016-08-02 04:00:00</td>\n",
       "      <td>21.0</td>\n",
       "      <td>76.0</td>\n",
       "      <td>8.0</td>\n",
       "      <td>16.1</td>\n",
       "      <td>NaN</td>\n",
       "      <td>NaN</td>\n",
       "      <td>408364.0</td>\n",
       "    </tr>\n",
       "    <tr>\n",
       "      <th>773</th>\n",
       "      <td>2016-08-02 05:00:00</td>\n",
       "      <td>20.7</td>\n",
       "      <td>76.0</td>\n",
       "      <td>8.0</td>\n",
       "      <td>16.1</td>\n",
       "      <td>NaN</td>\n",
       "      <td>NaN</td>\n",
       "      <td>408365.0</td>\n",
       "    </tr>\n",
       "    <tr>\n",
       "      <th>774</th>\n",
       "      <td>2016-08-02 06:00:00</td>\n",
       "      <td>20.1</td>\n",
       "      <td>81.0</td>\n",
       "      <td>0.0</td>\n",
       "      <td>16.1</td>\n",
       "      <td>NaN</td>\n",
       "      <td>NaN</td>\n",
       "      <td>408366.0</td>\n",
       "    </tr>\n",
       "    <tr>\n",
       "      <th>775</th>\n",
       "      <td>2016-08-02 07:00:00</td>\n",
       "      <td>21.5</td>\n",
       "      <td>76.0</td>\n",
       "      <td>8.0</td>\n",
       "      <td>16.1</td>\n",
       "      <td>NaN</td>\n",
       "      <td>NaN</td>\n",
       "      <td>408367.0</td>\n",
       "    </tr>\n",
       "    <tr>\n",
       "      <th>776</th>\n",
       "      <td>2016-08-02 08:00:00</td>\n",
       "      <td>22.6</td>\n",
       "      <td>79.0</td>\n",
       "      <td>13.0</td>\n",
       "      <td>16.1</td>\n",
       "      <td>NaN</td>\n",
       "      <td>NaN</td>\n",
       "      <td>408368.0</td>\n",
       "    </tr>\n",
       "    <tr>\n",
       "      <th>777</th>\n",
       "      <td>2016-08-02 09:00:00</td>\n",
       "      <td>23.3</td>\n",
       "      <td>84.0</td>\n",
       "      <td>15.0</td>\n",
       "      <td>16.1</td>\n",
       "      <td>NaN</td>\n",
       "      <td>NaN</td>\n",
       "      <td>408369.0</td>\n",
       "    </tr>\n",
       "    <tr>\n",
       "      <th>778</th>\n",
       "      <td>2016-08-02 10:00:00</td>\n",
       "      <td>24.0</td>\n",
       "      <td>77.0</td>\n",
       "      <td>9.0</td>\n",
       "      <td>16.1</td>\n",
       "      <td>NaN</td>\n",
       "      <td>NaN</td>\n",
       "      <td>408370.0</td>\n",
       "    </tr>\n",
       "    <tr>\n",
       "      <th>779</th>\n",
       "      <td>2016-08-02 11:00:00</td>\n",
       "      <td>24.4</td>\n",
       "      <td>74.0</td>\n",
       "      <td>11.0</td>\n",
       "      <td>16.1</td>\n",
       "      <td>NaN</td>\n",
       "      <td>NaN</td>\n",
       "      <td>408371.0</td>\n",
       "    </tr>\n",
       "    <tr>\n",
       "      <th>780</th>\n",
       "      <td>2016-08-02 12:00:00</td>\n",
       "      <td>24.6</td>\n",
       "      <td>74.0</td>\n",
       "      <td>11.0</td>\n",
       "      <td>16.1</td>\n",
       "      <td>NaN</td>\n",
       "      <td>NaN</td>\n",
       "      <td>408372.0</td>\n",
       "    </tr>\n",
       "    <tr>\n",
       "      <th>781</th>\n",
       "      <td>2016-08-02 13:00:00</td>\n",
       "      <td>24.8</td>\n",
       "      <td>71.0</td>\n",
       "      <td>13.0</td>\n",
       "      <td>16.1</td>\n",
       "      <td>NaN</td>\n",
       "      <td>NaN</td>\n",
       "      <td>408373.0</td>\n",
       "    </tr>\n",
       "  </tbody>\n",
       "</table>\n",
       "</div>"
      ],
      "text/plain": [
       "               datetime  temp_c  rel_hum_  wind_spd_kmh  visibility_km  \\\n",
       "772 2016-08-02 04:00:00    21.0      76.0           8.0           16.1   \n",
       "773 2016-08-02 05:00:00    20.7      76.0           8.0           16.1   \n",
       "774 2016-08-02 06:00:00    20.1      81.0           0.0           16.1   \n",
       "775 2016-08-02 07:00:00    21.5      76.0           8.0           16.1   \n",
       "776 2016-08-02 08:00:00    22.6      79.0          13.0           16.1   \n",
       "777 2016-08-02 09:00:00    23.3      84.0          15.0           16.1   \n",
       "778 2016-08-02 10:00:00    24.0      77.0           9.0           16.1   \n",
       "779 2016-08-02 11:00:00    24.4      74.0          11.0           16.1   \n",
       "780 2016-08-02 12:00:00    24.6      74.0          11.0           16.1   \n",
       "781 2016-08-02 13:00:00    24.8      71.0          13.0           16.1   \n",
       "\n",
       "     wind_chill weather  hours_elapsed  \n",
       "772         NaN     NaN       408364.0  \n",
       "773         NaN     NaN       408365.0  \n",
       "774         NaN     NaN       408366.0  \n",
       "775         NaN     NaN       408367.0  \n",
       "776         NaN     NaN       408368.0  \n",
       "777         NaN     NaN       408369.0  \n",
       "778         NaN     NaN       408370.0  \n",
       "779         NaN     NaN       408371.0  \n",
       "780         NaN     NaN       408372.0  \n",
       "781         NaN     NaN       408373.0  "
      ]
     },
     "execution_count": 42,
     "metadata": {},
     "output_type": "execute_result"
    }
   ],
   "source": [
    "#Index 777\n",
    "weather_df.loc[range(null_idcs[0]-5, null_idcs[0]+5),:]"
   ]
  },
  {
   "cell_type": "code",
   "execution_count": 43,
   "metadata": {},
   "outputs": [
    {
     "data": {
      "text/html": [
       "<div>\n",
       "<style scoped>\n",
       "    .dataframe tbody tr th:only-of-type {\n",
       "        vertical-align: middle;\n",
       "    }\n",
       "\n",
       "    .dataframe tbody tr th {\n",
       "        vertical-align: top;\n",
       "    }\n",
       "\n",
       "    .dataframe thead th {\n",
       "        text-align: right;\n",
       "    }\n",
       "</style>\n",
       "<table border=\"1\" class=\"dataframe\">\n",
       "  <thead>\n",
       "    <tr style=\"text-align: right;\">\n",
       "      <th></th>\n",
       "      <th>datetime</th>\n",
       "      <th>temp_c</th>\n",
       "      <th>rel_hum_</th>\n",
       "      <th>wind_spd_kmh</th>\n",
       "      <th>visibility_km</th>\n",
       "      <th>wind_chill</th>\n",
       "      <th>weather</th>\n",
       "      <th>hours_elapsed</th>\n",
       "    </tr>\n",
       "  </thead>\n",
       "  <tbody>\n",
       "    <tr>\n",
       "      <th>1928</th>\n",
       "      <td>2016-09-19 08:00:00</td>\n",
       "      <td>20.6</td>\n",
       "      <td>78.0</td>\n",
       "      <td>0.0</td>\n",
       "      <td>16.10</td>\n",
       "      <td>NaN</td>\n",
       "      <td>NaN</td>\n",
       "      <td>409520.0</td>\n",
       "    </tr>\n",
       "    <tr>\n",
       "      <th>1929</th>\n",
       "      <td>2016-09-19 09:00:00</td>\n",
       "      <td>21.2</td>\n",
       "      <td>76.0</td>\n",
       "      <td>8.0</td>\n",
       "      <td>16.10</td>\n",
       "      <td>NaN</td>\n",
       "      <td>NaN</td>\n",
       "      <td>409521.0</td>\n",
       "    </tr>\n",
       "    <tr>\n",
       "      <th>1930</th>\n",
       "      <td>2016-09-19 10:00:00</td>\n",
       "      <td>22.6</td>\n",
       "      <td>62.0</td>\n",
       "      <td>8.0</td>\n",
       "      <td>16.10</td>\n",
       "      <td>NaN</td>\n",
       "      <td>NaN</td>\n",
       "      <td>409522.0</td>\n",
       "    </tr>\n",
       "    <tr>\n",
       "      <th>1931</th>\n",
       "      <td>2016-09-19 11:00:00</td>\n",
       "      <td>22.4</td>\n",
       "      <td>69.0</td>\n",
       "      <td>13.0</td>\n",
       "      <td>16.10</td>\n",
       "      <td>NaN</td>\n",
       "      <td>NaN</td>\n",
       "      <td>409523.0</td>\n",
       "    </tr>\n",
       "    <tr>\n",
       "      <th>1932</th>\n",
       "      <td>2016-09-19 12:00:00</td>\n",
       "      <td>22.7</td>\n",
       "      <td>69.0</td>\n",
       "      <td>17.0</td>\n",
       "      <td>16.10</td>\n",
       "      <td>NaN</td>\n",
       "      <td>NaN</td>\n",
       "      <td>409524.0</td>\n",
       "    </tr>\n",
       "    <tr>\n",
       "      <th>1933</th>\n",
       "      <td>2016-09-19 13:00:00</td>\n",
       "      <td>23.1</td>\n",
       "      <td>69.0</td>\n",
       "      <td>10.4</td>\n",
       "      <td>16.10</td>\n",
       "      <td>NaN</td>\n",
       "      <td>NaN</td>\n",
       "      <td>409525.0</td>\n",
       "    </tr>\n",
       "    <tr>\n",
       "      <th>1934</th>\n",
       "      <td>2016-09-19 14:00:00</td>\n",
       "      <td>24.0</td>\n",
       "      <td>63.0</td>\n",
       "      <td>11.6</td>\n",
       "      <td>14.82</td>\n",
       "      <td>NaN</td>\n",
       "      <td>NaN</td>\n",
       "      <td>409526.0</td>\n",
       "    </tr>\n",
       "    <tr>\n",
       "      <th>1935</th>\n",
       "      <td>2016-09-19 15:00:00</td>\n",
       "      <td>24.1</td>\n",
       "      <td>61.0</td>\n",
       "      <td>11.0</td>\n",
       "      <td>9.70</td>\n",
       "      <td>NaN</td>\n",
       "      <td>Haze</td>\n",
       "      <td>409527.0</td>\n",
       "    </tr>\n",
       "    <tr>\n",
       "      <th>1936</th>\n",
       "      <td>2016-09-19 16:00:00</td>\n",
       "      <td>24.2</td>\n",
       "      <td>65.0</td>\n",
       "      <td>9.0</td>\n",
       "      <td>16.10</td>\n",
       "      <td>NaN</td>\n",
       "      <td>NaN</td>\n",
       "      <td>409528.0</td>\n",
       "    </tr>\n",
       "    <tr>\n",
       "      <th>1937</th>\n",
       "      <td>2016-09-19 17:00:00</td>\n",
       "      <td>23.1</td>\n",
       "      <td>71.0</td>\n",
       "      <td>5.0</td>\n",
       "      <td>16.10</td>\n",
       "      <td>NaN</td>\n",
       "      <td>NaN</td>\n",
       "      <td>409529.0</td>\n",
       "    </tr>\n",
       "    <tr>\n",
       "      <th>1938</th>\n",
       "      <td>2016-09-19 18:00:00</td>\n",
       "      <td>23.0</td>\n",
       "      <td>70.0</td>\n",
       "      <td>8.0</td>\n",
       "      <td>16.10</td>\n",
       "      <td>NaN</td>\n",
       "      <td>NaN</td>\n",
       "      <td>409530.0</td>\n",
       "    </tr>\n",
       "  </tbody>\n",
       "</table>\n",
       "</div>"
      ],
      "text/plain": [
       "                datetime  temp_c  rel_hum_  wind_spd_kmh  visibility_km  \\\n",
       "1928 2016-09-19 08:00:00    20.6      78.0           0.0          16.10   \n",
       "1929 2016-09-19 09:00:00    21.2      76.0           8.0          16.10   \n",
       "1930 2016-09-19 10:00:00    22.6      62.0           8.0          16.10   \n",
       "1931 2016-09-19 11:00:00    22.4      69.0          13.0          16.10   \n",
       "1932 2016-09-19 12:00:00    22.7      69.0          17.0          16.10   \n",
       "1933 2016-09-19 13:00:00    23.1      69.0          10.4          16.10   \n",
       "1934 2016-09-19 14:00:00    24.0      63.0          11.6          14.82   \n",
       "1935 2016-09-19 15:00:00    24.1      61.0          11.0           9.70   \n",
       "1936 2016-09-19 16:00:00    24.2      65.0           9.0          16.10   \n",
       "1937 2016-09-19 17:00:00    23.1      71.0           5.0          16.10   \n",
       "1938 2016-09-19 18:00:00    23.0      70.0           8.0          16.10   \n",
       "\n",
       "      wind_chill weather  hours_elapsed  \n",
       "1928         NaN     NaN       409520.0  \n",
       "1929         NaN     NaN       409521.0  \n",
       "1930         NaN     NaN       409522.0  \n",
       "1931         NaN     NaN       409523.0  \n",
       "1932         NaN     NaN       409524.0  \n",
       "1933         NaN     NaN       409525.0  \n",
       "1934         NaN     NaN       409526.0  \n",
       "1935         NaN    Haze       409527.0  \n",
       "1936         NaN     NaN       409528.0  \n",
       "1937         NaN     NaN       409529.0  \n",
       "1938         NaN     NaN       409530.0  "
      ]
     },
     "execution_count": 43,
     "metadata": {},
     "output_type": "execute_result"
    }
   ],
   "source": [
    "# Index 1933\n",
    "weather_df.loc[null_idcs[1]-5: null_idcs[1]+5,:]"
   ]
  },
  {
   "cell_type": "markdown",
   "metadata": {},
   "source": [
    "#### Windchill\n",
    "\n",
    "For this case, we will substitute the values of temperature into the wind chill column, considering that the sensation of \"chill\" will be a critical variable for a rider to take or not take a bike, even more than the temperature. Also, this the calculation of the windchill index includes the windspeed, so this value will be highly correlated to windspeed values (see [this post](https://www.canada.ca/en/environment-climate-change/services/weather-health/wind-chill-cold-weather/wind-chill-index.html)). Hence, the temperature value and the windspeed value will be ommited from the analysis."
   ]
  },
  {
   "cell_type": "code",
   "execution_count": 44,
   "metadata": {},
   "outputs": [
    {
     "data": {
      "text/plain": [
       "<matplotlib.axes._subplots.AxesSubplot at 0x22282c88408>"
      ]
     },
     "execution_count": 44,
     "metadata": {},
     "output_type": "execute_result"
    },
    {
     "data": {
      "image/png": "[encoded data removed]",
      "text/plain": [
       "<Figure size 432x288 with 1 Axes>"
      ]
     },
     "metadata": {
      "needs_background": "light"
     },
     "output_type": "display_data"
    }
   ],
   "source": [
    "# How different are these two?\n",
    "weather_df.temp_c.subtract(weather_df.wind_chill).plot(kind='hist')"
   ]
  },
  {
   "cell_type": "code",
   "execution_count": 45,
   "metadata": {},
   "outputs": [],
   "source": [
    "weather_df.wind_chill.fillna(weather_df.temp_c, inplace=True)"
   ]
  },
  {
   "cell_type": "code",
   "execution_count": 46,
   "metadata": {},
   "outputs": [
    {
     "data": {
      "text/html": [
       "<div>\n",
       "<style scoped>\n",
       "    .dataframe tbody tr th:only-of-type {\n",
       "        vertical-align: middle;\n",
       "    }\n",
       "\n",
       "    .dataframe tbody tr th {\n",
       "        vertical-align: top;\n",
       "    }\n",
       "\n",
       "    .dataframe thead th {\n",
       "        text-align: right;\n",
       "    }\n",
       "</style>\n",
       "<table border=\"1\" class=\"dataframe\">\n",
       "  <thead>\n",
       "    <tr style=\"text-align: right;\">\n",
       "      <th></th>\n",
       "      <th>datetime</th>\n",
       "      <th>temp_c</th>\n",
       "      <th>rel_hum_</th>\n",
       "      <th>wind_spd_kmh</th>\n",
       "      <th>visibility_km</th>\n",
       "      <th>wind_chill</th>\n",
       "      <th>weather</th>\n",
       "      <th>hours_elapsed</th>\n",
       "    </tr>\n",
       "  </thead>\n",
       "  <tbody>\n",
       "    <tr>\n",
       "      <th>0</th>\n",
       "      <td>2016-07-01 00:00:00</td>\n",
       "      <td>16.1</td>\n",
       "      <td>74.0</td>\n",
       "      <td>0.0</td>\n",
       "      <td>16.1</td>\n",
       "      <td>16.1</td>\n",
       "      <td>NaN</td>\n",
       "      <td>407592.0</td>\n",
       "    </tr>\n",
       "    <tr>\n",
       "      <th>1</th>\n",
       "      <td>2016-07-01 01:00:00</td>\n",
       "      <td>16.7</td>\n",
       "      <td>68.0</td>\n",
       "      <td>0.0</td>\n",
       "      <td>16.1</td>\n",
       "      <td>16.7</td>\n",
       "      <td>NaN</td>\n",
       "      <td>407593.0</td>\n",
       "    </tr>\n",
       "    <tr>\n",
       "      <th>2</th>\n",
       "      <td>2016-07-01 02:00:00</td>\n",
       "      <td>15.4</td>\n",
       "      <td>77.0</td>\n",
       "      <td>0.0</td>\n",
       "      <td>16.1</td>\n",
       "      <td>15.4</td>\n",
       "      <td>NaN</td>\n",
       "      <td>407594.0</td>\n",
       "    </tr>\n",
       "    <tr>\n",
       "      <th>3</th>\n",
       "      <td>2016-07-01 03:00:00</td>\n",
       "      <td>15.1</td>\n",
       "      <td>72.0</td>\n",
       "      <td>0.0</td>\n",
       "      <td>16.1</td>\n",
       "      <td>15.1</td>\n",
       "      <td>NaN</td>\n",
       "      <td>407595.0</td>\n",
       "    </tr>\n",
       "    <tr>\n",
       "      <th>4</th>\n",
       "      <td>2016-07-01 04:00:00</td>\n",
       "      <td>16.5</td>\n",
       "      <td>69.0</td>\n",
       "      <td>9.0</td>\n",
       "      <td>16.1</td>\n",
       "      <td>16.5</td>\n",
       "      <td>NaN</td>\n",
       "      <td>407596.0</td>\n",
       "    </tr>\n",
       "  </tbody>\n",
       "</table>\n",
       "</div>"
      ],
      "text/plain": [
       "             datetime  temp_c  rel_hum_  wind_spd_kmh  visibility_km  \\\n",
       "0 2016-07-01 00:00:00    16.1      74.0           0.0           16.1   \n",
       "1 2016-07-01 01:00:00    16.7      68.0           0.0           16.1   \n",
       "2 2016-07-01 02:00:00    15.4      77.0           0.0           16.1   \n",
       "3 2016-07-01 03:00:00    15.1      72.0           0.0           16.1   \n",
       "4 2016-07-01 04:00:00    16.5      69.0           9.0           16.1   \n",
       "\n",
       "   wind_chill weather  hours_elapsed  \n",
       "0        16.1     NaN       407592.0  \n",
       "1        16.7     NaN       407593.0  \n",
       "2        15.4     NaN       407594.0  \n",
       "3        15.1     NaN       407595.0  \n",
       "4        16.5     NaN       407596.0  "
      ]
     },
     "execution_count": 46,
     "metadata": {},
     "output_type": "execute_result"
    }
   ],
   "source": [
    "weather_df.head()"
   ]
  },
  {
   "cell_type": "markdown",
   "metadata": {},
   "source": [
    "#### Weather column "
   ]
  },
  {
   "cell_type": "code",
   "execution_count": 47,
   "metadata": {},
   "outputs": [
    {
     "data": {
      "text/plain": [
       "array([nan, 'Rain', 'Thunderstorms,Moderate Rain', 'Fog', 'Haze',\n",
       "       'Thunderstorms,Haze', 'Rain,Fog', 'Moderate Rain',\n",
       "       'Thunderstorms,Rain', 'Thunderstorms', 'Thunderstorms,Heavy Rain',\n",
       "       'Heavy Rain,Fog', 'Moderate Rain,Fog', 'Snow', 'Rain,Snow',\n",
       "       'Moderate Snow', 'Heavy Snow', 'Freezing Rain,Fog',\n",
       "       'Freezing Rain,Snow', 'Thunderstorms,Rain,Fog',\n",
       "       'Thunderstorms,Moderate Rain,Fog', 'Thunderstorms,Heavy Rain,Fog'],\n",
       "      dtype=object)"
      ]
     },
     "execution_count": 47,
     "metadata": {},
     "output_type": "execute_result"
    }
   ],
   "source": [
    "weather_df.weather.unique()"
   ]
  },
  {
   "cell_type": "markdown",
   "metadata": {},
   "source": [
    "Break into multiple columns"
   ]
  },
  {
   "cell_type": "code",
   "execution_count": 48,
   "metadata": {},
   "outputs": [],
   "source": [
    "def break_string(string, sep=' '):\n",
    "    \"\"\"\n",
    "    Take one string and breaks it into a list of elements using the sep inside the string.\n",
    "    string: string to break apart\n",
    "    sep: separator (default: space)\n",
    "    Example:\n",
    "    >>> break_string('RA RA FZFG BR')\n",
    "    {'RA': 2, 'FZFG': 1, 'BR': 1}\n",
    "    >>> break_string('RA, RA, FZFG, BR', sep=',')\n",
    "    {'RA': 2, 'FZFG': 1, 'BR': 1}\n",
    "    \"\"\"\n",
    "\n",
    "    import re\n",
    "    from collections import defaultdict\n",
    "\n",
    "    if string.strip() != '':\n",
    "        sym_count = defaultdict(int)\n",
    "        for sym in re.split(''.join([sep, '+']) , string.strip()):\n",
    "            sym_count[sym.strip()] += 1\n",
    "    else:\n",
    "        sym_count = {}\n",
    "\n",
    "    return dict(sym_count)\n",
    "\n",
    "if __name__ == '__main__':\n",
    "    import doctest\n",
    "    doctest.run_docstring_examples(break_string, globals())"
   ]
  },
  {
   "cell_type": "markdown",
   "metadata": {},
   "source": [
    "Replace NAs"
   ]
  },
  {
   "cell_type": "code",
   "execution_count": 49,
   "metadata": {},
   "outputs": [],
   "source": [
    "weather_df.weather.fillna('', inplace=True)"
   ]
  },
  {
   "cell_type": "code",
   "execution_count": 50,
   "metadata": {},
   "outputs": [
    {
     "data": {
      "text/html": [
       "<div>\n",
       "<style scoped>\n",
       "    .dataframe tbody tr th:only-of-type {\n",
       "        vertical-align: middle;\n",
       "    }\n",
       "\n",
       "    .dataframe tbody tr th {\n",
       "        vertical-align: top;\n",
       "    }\n",
       "\n",
       "    .dataframe thead th {\n",
       "        text-align: right;\n",
       "    }\n",
       "</style>\n",
       "<table border=\"1\" class=\"dataframe\">\n",
       "  <thead>\n",
       "    <tr style=\"text-align: right;\">\n",
       "      <th></th>\n",
       "      <th>datetime</th>\n",
       "      <th>temp_c</th>\n",
       "      <th>rel_hum_</th>\n",
       "      <th>wind_spd_kmh</th>\n",
       "      <th>visibility_km</th>\n",
       "      <th>wind_chill</th>\n",
       "      <th>weather</th>\n",
       "      <th>hours_elapsed</th>\n",
       "    </tr>\n",
       "  </thead>\n",
       "  <tbody>\n",
       "    <tr>\n",
       "      <th>0</th>\n",
       "      <td>2016-07-01 00:00:00</td>\n",
       "      <td>16.1</td>\n",
       "      <td>74.0</td>\n",
       "      <td>0.0</td>\n",
       "      <td>16.1</td>\n",
       "      <td>16.1</td>\n",
       "      <td></td>\n",
       "      <td>407592.0</td>\n",
       "    </tr>\n",
       "    <tr>\n",
       "      <th>1</th>\n",
       "      <td>2016-07-01 01:00:00</td>\n",
       "      <td>16.7</td>\n",
       "      <td>68.0</td>\n",
       "      <td>0.0</td>\n",
       "      <td>16.1</td>\n",
       "      <td>16.7</td>\n",
       "      <td></td>\n",
       "      <td>407593.0</td>\n",
       "    </tr>\n",
       "    <tr>\n",
       "      <th>2</th>\n",
       "      <td>2016-07-01 02:00:00</td>\n",
       "      <td>15.4</td>\n",
       "      <td>77.0</td>\n",
       "      <td>0.0</td>\n",
       "      <td>16.1</td>\n",
       "      <td>15.4</td>\n",
       "      <td></td>\n",
       "      <td>407594.0</td>\n",
       "    </tr>\n",
       "    <tr>\n",
       "      <th>3</th>\n",
       "      <td>2016-07-01 03:00:00</td>\n",
       "      <td>15.1</td>\n",
       "      <td>72.0</td>\n",
       "      <td>0.0</td>\n",
       "      <td>16.1</td>\n",
       "      <td>15.1</td>\n",
       "      <td></td>\n",
       "      <td>407595.0</td>\n",
       "    </tr>\n",
       "    <tr>\n",
       "      <th>4</th>\n",
       "      <td>2016-07-01 04:00:00</td>\n",
       "      <td>16.5</td>\n",
       "      <td>69.0</td>\n",
       "      <td>9.0</td>\n",
       "      <td>16.1</td>\n",
       "      <td>16.5</td>\n",
       "      <td></td>\n",
       "      <td>407596.0</td>\n",
       "    </tr>\n",
       "  </tbody>\n",
       "</table>\n",
       "</div>"
      ],
      "text/plain": [
       "             datetime  temp_c  rel_hum_  wind_spd_kmh  visibility_km  \\\n",
       "0 2016-07-01 00:00:00    16.1      74.0           0.0           16.1   \n",
       "1 2016-07-01 01:00:00    16.7      68.0           0.0           16.1   \n",
       "2 2016-07-01 02:00:00    15.4      77.0           0.0           16.1   \n",
       "3 2016-07-01 03:00:00    15.1      72.0           0.0           16.1   \n",
       "4 2016-07-01 04:00:00    16.5      69.0           9.0           16.1   \n",
       "\n",
       "   wind_chill weather  hours_elapsed  \n",
       "0        16.1               407592.0  \n",
       "1        16.7               407593.0  \n",
       "2        15.4               407594.0  \n",
       "3        15.1               407595.0  \n",
       "4        16.5               407596.0  "
      ]
     },
     "execution_count": 50,
     "metadata": {},
     "output_type": "execute_result"
    }
   ],
   "source": [
    "weather_df.head()"
   ]
  },
  {
   "cell_type": "code",
   "execution_count": 51,
   "metadata": {},
   "outputs": [],
   "source": [
    "codesum_df = pd.DataFrame.from_dict([break_string(string, ',') for idx, string in enumerate(weather_df.weather)])\n",
    "codesum_df.fillna(0,inplace=True)"
   ]
  },
  {
   "cell_type": "markdown",
   "metadata": {},
   "source": [
    "Fix variables names"
   ]
  },
  {
   "cell_type": "code",
   "execution_count": 52,
   "metadata": {},
   "outputs": [],
   "source": [
    "codesum_df.columns = fix_names(codesum_df.columns.to_list())"
   ]
  },
  {
   "cell_type": "code",
   "execution_count": 53,
   "metadata": {},
   "outputs": [
    {
     "data": {
      "text/html": [
       "<div>\n",
       "<style scoped>\n",
       "    .dataframe tbody tr th:only-of-type {\n",
       "        vertical-align: middle;\n",
       "    }\n",
       "\n",
       "    .dataframe tbody tr th {\n",
       "        vertical-align: top;\n",
       "    }\n",
       "\n",
       "    .dataframe thead th {\n",
       "        text-align: right;\n",
       "    }\n",
       "</style>\n",
       "<table border=\"1\" class=\"dataframe\">\n",
       "  <thead>\n",
       "    <tr style=\"text-align: right;\">\n",
       "      <th></th>\n",
       "      <th>rain</th>\n",
       "      <th>thunderstorms</th>\n",
       "      <th>moderate_rain</th>\n",
       "      <th>fog</th>\n",
       "      <th>haze</th>\n",
       "      <th>heavy_rain</th>\n",
       "      <th>snow</th>\n",
       "      <th>moderate_snow</th>\n",
       "      <th>heavy_snow</th>\n",
       "      <th>freezing_rain</th>\n",
       "    </tr>\n",
       "  </thead>\n",
       "  <tbody>\n",
       "    <tr>\n",
       "      <th>8</th>\n",
       "      <td>1.0</td>\n",
       "      <td>0.0</td>\n",
       "      <td>0.0</td>\n",
       "      <td>0.0</td>\n",
       "      <td>0.0</td>\n",
       "      <td>0.0</td>\n",
       "      <td>0.0</td>\n",
       "      <td>0.0</td>\n",
       "      <td>0.0</td>\n",
       "      <td>0.0</td>\n",
       "    </tr>\n",
       "    <tr>\n",
       "      <th>9</th>\n",
       "      <td>1.0</td>\n",
       "      <td>0.0</td>\n",
       "      <td>0.0</td>\n",
       "      <td>0.0</td>\n",
       "      <td>0.0</td>\n",
       "      <td>0.0</td>\n",
       "      <td>0.0</td>\n",
       "      <td>0.0</td>\n",
       "      <td>0.0</td>\n",
       "      <td>0.0</td>\n",
       "    </tr>\n",
       "    <tr>\n",
       "      <th>13</th>\n",
       "      <td>0.0</td>\n",
       "      <td>1.0</td>\n",
       "      <td>1.0</td>\n",
       "      <td>0.0</td>\n",
       "      <td>0.0</td>\n",
       "      <td>0.0</td>\n",
       "      <td>0.0</td>\n",
       "      <td>0.0</td>\n",
       "      <td>0.0</td>\n",
       "      <td>0.0</td>\n",
       "    </tr>\n",
       "    <tr>\n",
       "      <th>14</th>\n",
       "      <td>1.0</td>\n",
       "      <td>0.0</td>\n",
       "      <td>0.0</td>\n",
       "      <td>0.0</td>\n",
       "      <td>0.0</td>\n",
       "      <td>0.0</td>\n",
       "      <td>0.0</td>\n",
       "      <td>0.0</td>\n",
       "      <td>0.0</td>\n",
       "      <td>0.0</td>\n",
       "    </tr>\n",
       "    <tr>\n",
       "      <th>149</th>\n",
       "      <td>0.0</td>\n",
       "      <td>0.0</td>\n",
       "      <td>0.0</td>\n",
       "      <td>1.0</td>\n",
       "      <td>0.0</td>\n",
       "      <td>0.0</td>\n",
       "      <td>0.0</td>\n",
       "      <td>0.0</td>\n",
       "      <td>0.0</td>\n",
       "      <td>0.0</td>\n",
       "    </tr>\n",
       "  </tbody>\n",
       "</table>\n",
       "</div>"
      ],
      "text/plain": [
       "     rain  thunderstorms  moderate_rain  fog  haze  heavy_rain  snow  \\\n",
       "8     1.0            0.0            0.0  0.0   0.0         0.0   0.0   \n",
       "9     1.0            0.0            0.0  0.0   0.0         0.0   0.0   \n",
       "13    0.0            1.0            1.0  0.0   0.0         0.0   0.0   \n",
       "14    1.0            0.0            0.0  0.0   0.0         0.0   0.0   \n",
       "149   0.0            0.0            0.0  1.0   0.0         0.0   0.0   \n",
       "\n",
       "     moderate_snow  heavy_snow  freezing_rain  \n",
       "8              0.0         0.0            0.0  \n",
       "9              0.0         0.0            0.0  \n",
       "13             0.0         0.0            0.0  \n",
       "14             0.0         0.0            0.0  \n",
       "149            0.0         0.0            0.0  "
      ]
     },
     "execution_count": 53,
     "metadata": {},
     "output_type": "execute_result"
    }
   ],
   "source": [
    "codesum_df[codesum_df.sum(axis=1)>0].head()"
   ]
  },
  {
   "cell_type": "markdown",
   "metadata": {},
   "source": [
    "Check frequency"
   ]
  },
  {
   "cell_type": "code",
   "execution_count": 54,
   "metadata": {},
   "outputs": [
    {
     "data": {
      "text/plain": [
       "Text(0.5, 1.0, 'Frequency of different weather phenomena')"
      ]
     },
     "execution_count": 54,
     "metadata": {},
     "output_type": "execute_result"
    },
    {
     "data": {
      "image/png": "[encoded data removed]",
      "text/plain": [
       "<Figure size 720x360 with 1 Axes>"
      ]
     },
     "metadata": {
      "needs_background": "light"
     },
     "output_type": "display_data"
    }
   ],
   "source": [
    "fig,ax = plt.subplots(1,1, figsize=(10,5))\n",
    "codesum_df.sum().divide(codesum_df.shape[0]).sort_values(ascending=False).plot(kind='bar', ax=ax)\n",
    "ax.set_title('Frequency of different weather phenomena')"
   ]
  },
  {
   "cell_type": "markdown",
   "metadata": {},
   "source": [
    "Filter and select only relevant ones"
   ]
  },
  {
   "cell_type": "code",
   "execution_count": 55,
   "metadata": {},
   "outputs": [],
   "source": [
    "codesum_df = codesum_df[['rain', 'fog', 'snow']]"
   ]
  },
  {
   "cell_type": "markdown",
   "metadata": {},
   "source": [
    "Append to dataframe"
   ]
  },
  {
   "cell_type": "code",
   "execution_count": 56,
   "metadata": {},
   "outputs": [],
   "source": [
    "weather_df = pd.concat([weather_df, codesum_df], ignore_index=False, axis=1)"
   ]
  },
  {
   "cell_type": "code",
   "execution_count": 57,
   "metadata": {},
   "outputs": [
    {
     "data": {
      "text/html": [
       "<div>\n",
       "<style scoped>\n",
       "    .dataframe tbody tr th:only-of-type {\n",
       "        vertical-align: middle;\n",
       "    }\n",
       "\n",
       "    .dataframe tbody tr th {\n",
       "        vertical-align: top;\n",
       "    }\n",
       "\n",
       "    .dataframe thead th {\n",
       "        text-align: right;\n",
       "    }\n",
       "</style>\n",
       "<table border=\"1\" class=\"dataframe\">\n",
       "  <thead>\n",
       "    <tr style=\"text-align: right;\">\n",
       "      <th></th>\n",
       "      <th>datetime</th>\n",
       "      <th>temp_c</th>\n",
       "      <th>rel_hum_</th>\n",
       "      <th>wind_spd_kmh</th>\n",
       "      <th>visibility_km</th>\n",
       "      <th>wind_chill</th>\n",
       "      <th>weather</th>\n",
       "      <th>hours_elapsed</th>\n",
       "      <th>rain</th>\n",
       "      <th>fog</th>\n",
       "      <th>snow</th>\n",
       "    </tr>\n",
       "  </thead>\n",
       "  <tbody>\n",
       "    <tr>\n",
       "      <th>0</th>\n",
       "      <td>2016-07-01 00:00:00</td>\n",
       "      <td>16.1</td>\n",
       "      <td>74.0</td>\n",
       "      <td>0.0</td>\n",
       "      <td>16.1</td>\n",
       "      <td>16.1</td>\n",
       "      <td></td>\n",
       "      <td>407592.0</td>\n",
       "      <td>0.0</td>\n",
       "      <td>0.0</td>\n",
       "      <td>0.0</td>\n",
       "    </tr>\n",
       "    <tr>\n",
       "      <th>1</th>\n",
       "      <td>2016-07-01 01:00:00</td>\n",
       "      <td>16.7</td>\n",
       "      <td>68.0</td>\n",
       "      <td>0.0</td>\n",
       "      <td>16.1</td>\n",
       "      <td>16.7</td>\n",
       "      <td></td>\n",
       "      <td>407593.0</td>\n",
       "      <td>0.0</td>\n",
       "      <td>0.0</td>\n",
       "      <td>0.0</td>\n",
       "    </tr>\n",
       "    <tr>\n",
       "      <th>2</th>\n",
       "      <td>2016-07-01 02:00:00</td>\n",
       "      <td>15.4</td>\n",
       "      <td>77.0</td>\n",
       "      <td>0.0</td>\n",
       "      <td>16.1</td>\n",
       "      <td>15.4</td>\n",
       "      <td></td>\n",
       "      <td>407594.0</td>\n",
       "      <td>0.0</td>\n",
       "      <td>0.0</td>\n",
       "      <td>0.0</td>\n",
       "    </tr>\n",
       "    <tr>\n",
       "      <th>3</th>\n",
       "      <td>2016-07-01 03:00:00</td>\n",
       "      <td>15.1</td>\n",
       "      <td>72.0</td>\n",
       "      <td>0.0</td>\n",
       "      <td>16.1</td>\n",
       "      <td>15.1</td>\n",
       "      <td></td>\n",
       "      <td>407595.0</td>\n",
       "      <td>0.0</td>\n",
       "      <td>0.0</td>\n",
       "      <td>0.0</td>\n",
       "    </tr>\n",
       "    <tr>\n",
       "      <th>4</th>\n",
       "      <td>2016-07-01 04:00:00</td>\n",
       "      <td>16.5</td>\n",
       "      <td>69.0</td>\n",
       "      <td>9.0</td>\n",
       "      <td>16.1</td>\n",
       "      <td>16.5</td>\n",
       "      <td></td>\n",
       "      <td>407596.0</td>\n",
       "      <td>0.0</td>\n",
       "      <td>0.0</td>\n",
       "      <td>0.0</td>\n",
       "    </tr>\n",
       "  </tbody>\n",
       "</table>\n",
       "</div>"
      ],
      "text/plain": [
       "             datetime  temp_c  rel_hum_  wind_spd_kmh  visibility_km  \\\n",
       "0 2016-07-01 00:00:00    16.1      74.0           0.0           16.1   \n",
       "1 2016-07-01 01:00:00    16.7      68.0           0.0           16.1   \n",
       "2 2016-07-01 02:00:00    15.4      77.0           0.0           16.1   \n",
       "3 2016-07-01 03:00:00    15.1      72.0           0.0           16.1   \n",
       "4 2016-07-01 04:00:00    16.5      69.0           9.0           16.1   \n",
       "\n",
       "   wind_chill weather  hours_elapsed  rain  fog  snow  \n",
       "0        16.1               407592.0   0.0  0.0   0.0  \n",
       "1        16.7               407593.0   0.0  0.0   0.0  \n",
       "2        15.4               407594.0   0.0  0.0   0.0  \n",
       "3        15.1               407595.0   0.0  0.0   0.0  \n",
       "4        16.5               407596.0   0.0  0.0   0.0  "
      ]
     },
     "execution_count": 57,
     "metadata": {},
     "output_type": "execute_result"
    }
   ],
   "source": [
    "weather_df.head()"
   ]
  },
  {
   "cell_type": "markdown",
   "metadata": {},
   "source": [
    "### Merge `weather_df` and `counts_union` "
   ]
  },
  {
   "cell_type": "markdown",
   "metadata": {},
   "source": [
    "Format variables for the weather dataset"
   ]
  },
  {
   "cell_type": "code",
   "execution_count": 58,
   "metadata": {},
   "outputs": [],
   "source": [
    "weather_df['date'] = weather_df.datetime.dt.strftime('%Y-%m-%d')\n",
    "weather_df['hour'] = weather_df.datetime.dt.hour"
   ]
  },
  {
   "cell_type": "markdown",
   "metadata": {},
   "source": [
    "Format date for the ridership dataset"
   ]
  },
  {
   "cell_type": "code",
   "execution_count": 59,
   "metadata": {},
   "outputs": [],
   "source": [
    "counts_union.date = counts_union.date.dt.strftime('%Y-%m-%d')"
   ]
  },
  {
   "cell_type": "markdown",
   "metadata": {},
   "source": [
    "Choose relevant variables"
   ]
  },
  {
   "cell_type": "code",
   "execution_count": 60,
   "metadata": {},
   "outputs": [],
   "source": [
    "weather_vars = weather_df[['temp_c', 'rel_hum_', 'visibility_km', 'wind_chill', 'date', 'hour',\n",
    "                          'fog', 'rain', 'snow']]"
   ]
  },
  {
   "cell_type": "code",
   "execution_count": 61,
   "metadata": {},
   "outputs": [
    {
     "data": {
      "text/html": [
       "<div>\n",
       "<style scoped>\n",
       "    .dataframe tbody tr th:only-of-type {\n",
       "        vertical-align: middle;\n",
       "    }\n",
       "\n",
       "    .dataframe tbody tr th {\n",
       "        vertical-align: top;\n",
       "    }\n",
       "\n",
       "    .dataframe thead th {\n",
       "        text-align: right;\n",
       "    }\n",
       "</style>\n",
       "<table border=\"1\" class=\"dataframe\">\n",
       "  <thead>\n",
       "    <tr style=\"text-align: right;\">\n",
       "      <th></th>\n",
       "      <th>temp_c</th>\n",
       "      <th>rel_hum_</th>\n",
       "      <th>visibility_km</th>\n",
       "      <th>wind_chill</th>\n",
       "      <th>date</th>\n",
       "      <th>hour</th>\n",
       "      <th>fog</th>\n",
       "      <th>rain</th>\n",
       "      <th>snow</th>\n",
       "    </tr>\n",
       "  </thead>\n",
       "  <tbody>\n",
       "    <tr>\n",
       "      <th>0</th>\n",
       "      <td>16.1</td>\n",
       "      <td>74.0</td>\n",
       "      <td>16.1</td>\n",
       "      <td>16.1</td>\n",
       "      <td>2016-07-01</td>\n",
       "      <td>0</td>\n",
       "      <td>0.0</td>\n",
       "      <td>0.0</td>\n",
       "      <td>0.0</td>\n",
       "    </tr>\n",
       "    <tr>\n",
       "      <th>1</th>\n",
       "      <td>16.7</td>\n",
       "      <td>68.0</td>\n",
       "      <td>16.1</td>\n",
       "      <td>16.7</td>\n",
       "      <td>2016-07-01</td>\n",
       "      <td>1</td>\n",
       "      <td>0.0</td>\n",
       "      <td>0.0</td>\n",
       "      <td>0.0</td>\n",
       "    </tr>\n",
       "    <tr>\n",
       "      <th>2</th>\n",
       "      <td>15.4</td>\n",
       "      <td>77.0</td>\n",
       "      <td>16.1</td>\n",
       "      <td>15.4</td>\n",
       "      <td>2016-07-01</td>\n",
       "      <td>2</td>\n",
       "      <td>0.0</td>\n",
       "      <td>0.0</td>\n",
       "      <td>0.0</td>\n",
       "    </tr>\n",
       "    <tr>\n",
       "      <th>3</th>\n",
       "      <td>15.1</td>\n",
       "      <td>72.0</td>\n",
       "      <td>16.1</td>\n",
       "      <td>15.1</td>\n",
       "      <td>2016-07-01</td>\n",
       "      <td>3</td>\n",
       "      <td>0.0</td>\n",
       "      <td>0.0</td>\n",
       "      <td>0.0</td>\n",
       "    </tr>\n",
       "    <tr>\n",
       "      <th>4</th>\n",
       "      <td>16.5</td>\n",
       "      <td>69.0</td>\n",
       "      <td>16.1</td>\n",
       "      <td>16.5</td>\n",
       "      <td>2016-07-01</td>\n",
       "      <td>4</td>\n",
       "      <td>0.0</td>\n",
       "      <td>0.0</td>\n",
       "      <td>0.0</td>\n",
       "    </tr>\n",
       "  </tbody>\n",
       "</table>\n",
       "</div>"
      ],
      "text/plain": [
       "   temp_c  rel_hum_  visibility_km  wind_chill        date  hour  fog  rain  \\\n",
       "0    16.1      74.0           16.1        16.1  2016-07-01     0  0.0   0.0   \n",
       "1    16.7      68.0           16.1        16.7  2016-07-01     1  0.0   0.0   \n",
       "2    15.4      77.0           16.1        15.4  2016-07-01     2  0.0   0.0   \n",
       "3    15.1      72.0           16.1        15.1  2016-07-01     3  0.0   0.0   \n",
       "4    16.5      69.0           16.1        16.5  2016-07-01     4  0.0   0.0   \n",
       "\n",
       "   snow  \n",
       "0   0.0  \n",
       "1   0.0  \n",
       "2   0.0  \n",
       "3   0.0  \n",
       "4   0.0  "
      ]
     },
     "execution_count": 61,
     "metadata": {},
     "output_type": "execute_result"
    }
   ],
   "source": [
    "weather_vars.head()"
   ]
  },
  {
   "cell_type": "code",
   "execution_count": 62,
   "metadata": {},
   "outputs": [],
   "source": [
    "counts_union = counts_union.merge(weather_vars, how='left', on=['date', 'hour'])"
   ]
  },
  {
   "cell_type": "markdown",
   "metadata": {},
   "source": [
    "### Export the full dataset"
   ]
  },
  {
   "cell_type": "code",
   "execution_count": 63,
   "metadata": {},
   "outputs": [],
   "source": [
    "counts_union.drop(columns=['date', 'count_trips_orig', 'count_trips_dest'], inplace=True)"
   ]
  },
  {
   "cell_type": "code",
   "execution_count": 64,
   "metadata": {},
   "outputs": [],
   "source": [
    "# Export the dataset\n",
    "counts_union.to_csv('union_df.csv', index=False)"
   ]
  }
 ],
 "metadata": {
  "kernelspec": {
   "display_name": "Python 3",
   "language": "python",
   "name": "python3"
  },
  "language_info": {
   "codemirror_mode": {
    "name": "ipython",
    "version": 3
   },
   "file_extension": ".py",
   "mimetype": "text/x-python",
   "name": "python",
   "nbconvert_exporter": "python",
   "pygments_lexer": "ipython3",
   "version": "3.7.5"
  }
 },
 "nbformat": 4,
 "nbformat_minor": 2
}
