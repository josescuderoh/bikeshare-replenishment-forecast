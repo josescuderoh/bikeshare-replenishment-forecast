{
 "cells": [
  {
   "cell_type": "markdown",
   "metadata": {
    "colab_type": "text",
    "id": "rEVxaaBvvaUZ"
   },
   "source": [
    "# Data Preprocessing\n",
    "\n",
    "This section explores the preprocessing steps that were carried out to clean the data and to produce a dataset with relevant information for exploratory and predictive data analysis.\n",
    "\n",
    "**Highlights**\n",
    "\n",
    "- Datatime formats did not match accross the dataset and contained multiple errors, these were standardized and corrected.\n",
    "- Station IDs were inexistent for Q3 and Q4, these were matched with a new source of data from stations.\n",
    "- Some null values were removed.\n",
    "- Outliers were detected using two criteria (1) *false trips* criteria for short trips (trips with less than 1 minute duration) which is about 1.3% of the data and (2) *IQR* interquartile range for long trips (about 5% of the data).\n"
   ]
  },
  {
   "cell_type": "code",
   "execution_count": 1,
   "metadata": {
    "colab": {
     "base_uri": "https://localhost:8080/",
     "height": 267
    },
    "colab_type": "code",
    "id": "3aD662vdveZ9",
    "outputId": "e7288713-8292-4b5a-9048-9b5eb93fbe39",
    "scrolled": true
   },
   "outputs": [],
   "source": [
    "import warnings\n",
    "warnings.filterwarnings('ignore')\n",
    "\n",
    "# Basics\n",
    "import pandas as pd\n",
    "import numpy as np\n",
    "import math\n",
    "from datetime import datetime\n",
    "import os\n",
    "\n",
    "#Viz\n",
    "import matplotlib.pyplot as plt\n",
    "import seaborn as sns\n",
    "\n",
    "# Preprocessing\n",
    "import requests\n",
    "import json\n",
    "from fuzzywuzzy import process\n",
    "from fuzzywuzzy import fuzz"
   ]
  },
  {
   "cell_type": "markdown",
   "metadata": {
    "colab_type": "text",
    "id": "S3YJOhzFlw0J"
   },
   "source": [
    "## Loading"
   ]
  },
  {
   "cell_type": "markdown",
   "metadata": {},
   "source": [
    "After extracting the zip file containing the datasets, we then read the files of interest."
   ]
  },
  {
   "cell_type": "code",
   "execution_count": 2,
   "metadata": {},
   "outputs": [
    {
     "data": {
      "text/plain": [
       "['2016_hourly_weather.csv',\n",
       " '2017_hourly_weather.csv',\n",
       " 'Bikeshare Ridership (2016 Q3).csv',\n",
       " 'Bikeshare Ridership (2016 Q4).csv',\n",
       " 'Bikeshare Ridership (2017 Q1).csv',\n",
       " 'Bikeshare Ridership (2017 Q2).csv',\n",
       " 'Bikeshare Ridership (2017 Q3).csv',\n",
       " 'Bikeshare Ridership (2017 Q4).csv',\n",
       " 'bts_clean.csv']"
      ]
     },
     "execution_count": 2,
     "metadata": {},
     "output_type": "execute_result"
    }
   ],
   "source": [
    "os.listdir('../Data')"
   ]
  },
  {
   "cell_type": "code",
   "execution_count": 3,
   "metadata": {},
   "outputs": [],
   "source": [
    "# List all the files available related to bikeshare\n",
    "data_files = [file_name for file_name in os.listdir('../Data') if file_name.startswith('B')]"
   ]
  },
  {
   "cell_type": "code",
   "execution_count": 4,
   "metadata": {
    "colab": {},
    "colab_type": "code",
    "id": "6POvZtdUvpIi"
   },
   "outputs": [],
   "source": [
    "# Read files into dictionary of dataframes\n",
    "bike_dict = {file_name: pd.read_csv(f'../Data/{file_name}') for file_name in data_files}"
   ]
  },
  {
   "cell_type": "code",
   "execution_count": 5,
   "metadata": {},
   "outputs": [
    {
     "data": {
      "text/plain": [
       "{'Bikeshare Ridership (2016 Q3).csv': ['trip_id',\n",
       "  'trip_start_time',\n",
       "  'trip_stop_time',\n",
       "  'trip_duration_seconds',\n",
       "  'from_station_name',\n",
       "  'to_station_name',\n",
       "  'user_type'],\n",
       " 'Bikeshare Ridership (2016 Q4).csv': ['trip_id',\n",
       "  'trip_start_time',\n",
       "  'trip_stop_time',\n",
       "  'trip_duration_seconds',\n",
       "  'from_station_name',\n",
       "  'to_station_name',\n",
       "  'user_type'],\n",
       " 'Bikeshare Ridership (2017 Q1).csv': ['trip_id',\n",
       "  'trip_start_time',\n",
       "  'trip_stop_time',\n",
       "  'trip_duration_seconds',\n",
       "  'from_station_id',\n",
       "  'from_station_name',\n",
       "  'to_station_id',\n",
       "  'to_station_name',\n",
       "  'user_type'],\n",
       " 'Bikeshare Ridership (2017 Q2).csv': ['trip_id',\n",
       "  'trip_start_time',\n",
       "  'trip_stop_time',\n",
       "  'trip_duration_seconds',\n",
       "  'from_station_id',\n",
       "  'from_station_name',\n",
       "  'to_station_id',\n",
       "  'to_station_name',\n",
       "  'user_type'],\n",
       " 'Bikeshare Ridership (2017 Q3).csv': ['trip_id',\n",
       "  'trip_start_time',\n",
       "  'trip_stop_time',\n",
       "  'trip_duration_seconds',\n",
       "  'from_station_name',\n",
       "  'to_station_name',\n",
       "  'user_type'],\n",
       " 'Bikeshare Ridership (2017 Q4).csv': ['trip_id',\n",
       "  'trip_start_time',\n",
       "  'trip_stop_time',\n",
       "  'trip_duration_seconds',\n",
       "  'from_station_name',\n",
       "  'to_station_name',\n",
       "  'user_type']}"
      ]
     },
     "execution_count": 5,
     "metadata": {},
     "output_type": "execute_result"
    }
   ],
   "source": [
    "# Check if column names are consistent for all files\n",
    "{key: df.columns.to_list() for key, df in bike_dict.items()}"
   ]
  },
  {
   "cell_type": "markdown",
   "metadata": {},
   "source": [
    "We see that for Q3 and Q4 (both years) we have two fields missing: `from_station_id` and `to_station_id`. We will have to deal with this in the future."
   ]
  },
  {
   "cell_type": "code",
   "execution_count": 6,
   "metadata": {},
   "outputs": [
    {
     "data": {
      "text/plain": [
       "585531"
      ]
     },
     "execution_count": 6,
     "metadata": {},
     "output_type": "execute_result"
    }
   ],
   "source": [
    "bike_dict['Bikeshare Ridership (2016 Q3).csv'].shape[0] + bike_dict['Bikeshare Ridership (2016 Q4).csv'].shape[0]"
   ]
  },
  {
   "cell_type": "code",
   "execution_count": 7,
   "metadata": {},
   "outputs": [
    {
     "data": {
      "text/plain": [
       "1051007"
      ]
     },
     "execution_count": 7,
     "metadata": {},
     "output_type": "execute_result"
    }
   ],
   "source": [
    "bike_dict['Bikeshare Ridership (2016 Q3).csv'].shape[0] + bike_dict['Bikeshare Ridership (2016 Q4).csv'].shape[0] + \\\n",
    "bike_dict['Bikeshare Ridership (2017 Q1).csv'].shape[0] + bike_dict['Bikeshare Ridership (2017 Q2).csv'].shape[0]"
   ]
  },
  {
   "cell_type": "markdown",
   "metadata": {},
   "source": [
    "## Aggregating the data "
   ]
  },
  {
   "cell_type": "code",
   "execution_count": 8,
   "metadata": {},
   "outputs": [
    {
     "data": {
      "text/plain": [
       "2077900"
      ]
     },
     "execution_count": 8,
     "metadata": {},
     "output_type": "execute_result"
    }
   ],
   "source": [
    "# First let's check the total number of rows\n",
    "sum([df.shape[0] for _, df in bike_dict.items()])"
   ]
  },
  {
   "cell_type": "code",
   "execution_count": 9,
   "metadata": {},
   "outputs": [],
   "source": [
    "# Create first dataframe\n",
    "bike_df = bike_dict['Bikeshare Ridership (2016 Q3).csv'].copy()\n",
    "\n",
    "#Iterate over dictionary and append to first dataframe\n",
    "i=0\n",
    "for key, df in bike_dict.items():\n",
    "    if i!=0:\n",
    "        bike_df = bike_df.append(df)\n",
    "    i+=1"
   ]
  },
  {
   "cell_type": "code",
   "execution_count": 10,
   "metadata": {},
   "outputs": [
    {
     "data": {
      "text/plain": [
       "2077900"
      ]
     },
     "execution_count": 10,
     "metadata": {},
     "output_type": "execute_result"
    }
   ],
   "source": [
    "#Check shape again\n",
    "bike_df.shape[0]"
   ]
  },
  {
   "cell_type": "code",
   "execution_count": 11,
   "metadata": {},
   "outputs": [],
   "source": [
    "bike_df.reset_index(inplace=True, drop=True)"
   ]
  },
  {
   "cell_type": "markdown",
   "metadata": {},
   "source": [
    "The number of records matches correctly. Let's examine head and tail to verify that the fields were correctly merged for all dataframes:"
   ]
  },
  {
   "cell_type": "code",
   "execution_count": 12,
   "metadata": {},
   "outputs": [
    {
     "data": {
      "text/html": [
       "<div>\n",
       "<style scoped>\n",
       "    .dataframe tbody tr th:only-of-type {\n",
       "        vertical-align: middle;\n",
       "    }\n",
       "\n",
       "    .dataframe tbody tr th {\n",
       "        vertical-align: top;\n",
       "    }\n",
       "\n",
       "    .dataframe thead th {\n",
       "        text-align: right;\n",
       "    }\n",
       "</style>\n",
       "<table border=\"1\" class=\"dataframe\">\n",
       "  <thead>\n",
       "    <tr style=\"text-align: right;\">\n",
       "      <th></th>\n",
       "      <th>from_station_id</th>\n",
       "      <th>from_station_name</th>\n",
       "      <th>to_station_id</th>\n",
       "      <th>to_station_name</th>\n",
       "      <th>trip_duration_seconds</th>\n",
       "      <th>trip_id</th>\n",
       "      <th>trip_start_time</th>\n",
       "      <th>trip_stop_time</th>\n",
       "      <th>user_type</th>\n",
       "    </tr>\n",
       "  </thead>\n",
       "  <tbody>\n",
       "    <tr>\n",
       "      <th>0</th>\n",
       "      <td>NaN</td>\n",
       "      <td>Dundas St E / Regent Park Blvd</td>\n",
       "      <td>NaN</td>\n",
       "      <td>Danforth Ave / Ellerbeck St</td>\n",
       "      <td>714</td>\n",
       "      <td>53279</td>\n",
       "      <td>7-9-16 1:03</td>\n",
       "      <td>7-9-16 1:15</td>\n",
       "      <td>Member</td>\n",
       "    </tr>\n",
       "    <tr>\n",
       "      <th>1</th>\n",
       "      <td>NaN</td>\n",
       "      <td>Riverdale Park North (Broadview Ave)</td>\n",
       "      <td>NaN</td>\n",
       "      <td>Dundas St E / Regent Park Blvd</td>\n",
       "      <td>417</td>\n",
       "      <td>53394</td>\n",
       "      <td>7-9-16 2:15</td>\n",
       "      <td>7-9-16 2:22</td>\n",
       "      <td>Member</td>\n",
       "    </tr>\n",
       "  </tbody>\n",
       "</table>\n",
       "</div>"
      ],
      "text/plain": [
       "   from_station_id                     from_station_name  to_station_id  \\\n",
       "0              NaN        Dundas St E / Regent Park Blvd            NaN   \n",
       "1              NaN  Riverdale Park North (Broadview Ave)            NaN   \n",
       "\n",
       "                  to_station_name  trip_duration_seconds  trip_id  \\\n",
       "0     Danforth Ave / Ellerbeck St                    714    53279   \n",
       "1  Dundas St E / Regent Park Blvd                    417    53394   \n",
       "\n",
       "  trip_start_time trip_stop_time user_type  \n",
       "0     7-9-16 1:03    7-9-16 1:15    Member  \n",
       "1     7-9-16 2:15    7-9-16 2:22    Member  "
      ]
     },
     "metadata": {},
     "output_type": "display_data"
    },
    {
     "data": {
      "text/html": [
       "<div>\n",
       "<style scoped>\n",
       "    .dataframe tbody tr th:only-of-type {\n",
       "        vertical-align: middle;\n",
       "    }\n",
       "\n",
       "    .dataframe tbody tr th {\n",
       "        vertical-align: top;\n",
       "    }\n",
       "\n",
       "    .dataframe thead th {\n",
       "        text-align: right;\n",
       "    }\n",
       "</style>\n",
       "<table border=\"1\" class=\"dataframe\">\n",
       "  <thead>\n",
       "    <tr style=\"text-align: right;\">\n",
       "      <th></th>\n",
       "      <th>from_station_id</th>\n",
       "      <th>from_station_name</th>\n",
       "      <th>to_station_id</th>\n",
       "      <th>to_station_name</th>\n",
       "      <th>trip_duration_seconds</th>\n",
       "      <th>trip_id</th>\n",
       "      <th>trip_start_time</th>\n",
       "      <th>trip_stop_time</th>\n",
       "      <th>user_type</th>\n",
       "    </tr>\n",
       "  </thead>\n",
       "  <tbody>\n",
       "    <tr>\n",
       "      <th>2077898</th>\n",
       "      <td>NaN</td>\n",
       "      <td>Phoebe St / Spadina Ave</td>\n",
       "      <td>NaN</td>\n",
       "      <td>Phoebe St / Spadina Ave</td>\n",
       "      <td>26</td>\n",
       "      <td>2383645</td>\n",
       "      <td>12/31/17 23:49:08</td>\n",
       "      <td>12/31/17 23:49:34</td>\n",
       "      <td>Member</td>\n",
       "    </tr>\n",
       "    <tr>\n",
       "      <th>2077899</th>\n",
       "      <td>NaN</td>\n",
       "      <td>Phoebe St / Spadina Ave</td>\n",
       "      <td>NaN</td>\n",
       "      <td>Simcoe St / Queen St W</td>\n",
       "      <td>480</td>\n",
       "      <td>2383646</td>\n",
       "      <td>12/31/17 23:49:41</td>\n",
       "      <td>12/31/17 23:57:41</td>\n",
       "      <td>Member</td>\n",
       "    </tr>\n",
       "  </tbody>\n",
       "</table>\n",
       "</div>"
      ],
      "text/plain": [
       "         from_station_id        from_station_name  to_station_id  \\\n",
       "2077898              NaN  Phoebe St / Spadina Ave            NaN   \n",
       "2077899              NaN  Phoebe St / Spadina Ave            NaN   \n",
       "\n",
       "                 to_station_name  trip_duration_seconds  trip_id  \\\n",
       "2077898  Phoebe St / Spadina Ave                     26  2383645   \n",
       "2077899   Simcoe St / Queen St W                    480  2383646   \n",
       "\n",
       "           trip_start_time     trip_stop_time user_type  \n",
       "2077898  12/31/17 23:49:08  12/31/17 23:49:34    Member  \n",
       "2077899  12/31/17 23:49:41  12/31/17 23:57:41    Member  "
      ]
     },
     "metadata": {},
     "output_type": "display_data"
    }
   ],
   "source": [
    "display(bike_df.head(2))\n",
    "display(bike_df.tail(2))"
   ]
  },
  {
   "cell_type": "markdown",
   "metadata": {
    "colab_type": "text",
    "id": "Siu0Faqdxmj0"
   },
   "source": [
    "## Null Values\n",
    "\n",
    "As seen, the dataset contains 9 columns and 2.077.900 records or trips. However, we will have some null values in Q3 and Q4 (both years) given non-existing columns (see `to_station_id` and `from_station_id`). These were created when all dataframes were appended together\n"
   ]
  },
  {
   "cell_type": "code",
   "execution_count": 13,
   "metadata": {
    "colab": {
     "base_uri": "https://localhost:8080/",
     "height": 194
    },
    "colab_type": "code",
    "id": "PgeLpB5gxpBS",
    "outputId": "93186e67-4a66-4109-bfb9-cbe7d8292801"
   },
   "outputs": [
    {
     "data": {
      "text/plain": [
       "from_station_id          1612424\n",
       "from_station_name              5\n",
       "to_station_id            1612424\n",
       "to_station_name                5\n",
       "trip_duration_seconds          0\n",
       "trip_id                        0\n",
       "trip_start_time                0\n",
       "trip_stop_time                 0\n",
       "user_type                      0\n",
       "dtype: int64"
      ]
     },
     "execution_count": 13,
     "metadata": {},
     "output_type": "execute_result"
    }
   ],
   "source": [
    "#Get count of null registers\n",
    "bike_df.isna().sum()"
   ]
  },
  {
   "cell_type": "markdown",
   "metadata": {
    "colab_type": "text",
    "id": "3gSOS-2BoeQE"
   },
   "source": [
    "Let's take a look at the null values (different than the ones we know of)"
   ]
  },
  {
   "cell_type": "code",
   "execution_count": 14,
   "metadata": {
    "colab": {
     "base_uri": "https://localhost:8080/",
     "height": 144
    },
    "colab_type": "code",
    "id": "kVJSzI6Cx2ib",
    "outputId": "e3fdd10e-88ae-4943-9c27-5c95608e35d3"
   },
   "outputs": [
    {
     "data": {
      "text/html": [
       "<div>\n",
       "<style scoped>\n",
       "    .dataframe tbody tr th:only-of-type {\n",
       "        vertical-align: middle;\n",
       "    }\n",
       "\n",
       "    .dataframe tbody tr th {\n",
       "        vertical-align: top;\n",
       "    }\n",
       "\n",
       "    .dataframe thead th {\n",
       "        text-align: right;\n",
       "    }\n",
       "</style>\n",
       "<table border=\"1\" class=\"dataframe\">\n",
       "  <thead>\n",
       "    <tr style=\"text-align: right;\">\n",
       "      <th></th>\n",
       "      <th>from_station_id</th>\n",
       "      <th>from_station_name</th>\n",
       "      <th>to_station_id</th>\n",
       "      <th>to_station_name</th>\n",
       "      <th>trip_duration_seconds</th>\n",
       "      <th>trip_id</th>\n",
       "      <th>trip_start_time</th>\n",
       "      <th>trip_stop_time</th>\n",
       "      <th>user_type</th>\n",
       "    </tr>\n",
       "  </thead>\n",
       "  <tbody>\n",
       "    <tr>\n",
       "      <th>23240</th>\n",
       "      <td>NaN</td>\n",
       "      <td>King St W / Bay St (West Side)</td>\n",
       "      <td>NaN</td>\n",
       "      <td>NaN</td>\n",
       "      <td>4736</td>\n",
       "      <td>459742</td>\n",
       "      <td>9-30-16 16:05</td>\n",
       "      <td>9-30-16 17:24</td>\n",
       "      <td>Member</td>\n",
       "    </tr>\n",
       "    <tr>\n",
       "      <th>367761</th>\n",
       "      <td>NaN</td>\n",
       "      <td>Queens Quay W / Lower Simcoe St</td>\n",
       "      <td>NaN</td>\n",
       "      <td>NaN</td>\n",
       "      <td>760</td>\n",
       "      <td>459636</td>\n",
       "      <td>9-30-16 15:33</td>\n",
       "      <td>9-30-16 15:46</td>\n",
       "      <td>Casual</td>\n",
       "    </tr>\n",
       "    <tr>\n",
       "      <th>368121</th>\n",
       "      <td>NaN</td>\n",
       "      <td>Church St / Alexander St</td>\n",
       "      <td>NaN</td>\n",
       "      <td>NaN</td>\n",
       "      <td>1057</td>\n",
       "      <td>462477</td>\n",
       "      <td>1-10-16 0:54</td>\n",
       "      <td>1-10-16 1:12</td>\n",
       "      <td>Member</td>\n",
       "    </tr>\n",
       "    <tr>\n",
       "      <th>371359</th>\n",
       "      <td>NaN</td>\n",
       "      <td>Simcoe St / Wellington St W</td>\n",
       "      <td>NaN</td>\n",
       "      <td>NaN</td>\n",
       "      <td>324</td>\n",
       "      <td>466039</td>\n",
       "      <td>2-10-16 8:27</td>\n",
       "      <td>2-10-16 8:32</td>\n",
       "      <td>Casual</td>\n",
       "    </tr>\n",
       "    <tr>\n",
       "      <th>2010133</th>\n",
       "      <td>NaN</td>\n",
       "      <td>Seaton St / Dundas St E</td>\n",
       "      <td>NaN</td>\n",
       "      <td>NaN</td>\n",
       "      <td>0</td>\n",
       "      <td>2302635</td>\n",
       "      <td>11/29/17 05:53:54</td>\n",
       "      <td>NULLNULL</td>\n",
       "      <td>Casual</td>\n",
       "    </tr>\n",
       "  </tbody>\n",
       "</table>\n",
       "</div>"
      ],
      "text/plain": [
       "         from_station_id                from_station_name  to_station_id  \\\n",
       "23240                NaN   King St W / Bay St (West Side)            NaN   \n",
       "367761               NaN  Queens Quay W / Lower Simcoe St            NaN   \n",
       "368121               NaN         Church St / Alexander St            NaN   \n",
       "371359               NaN      Simcoe St / Wellington St W            NaN   \n",
       "2010133              NaN          Seaton St / Dundas St E            NaN   \n",
       "\n",
       "        to_station_name  trip_duration_seconds  trip_id    trip_start_time  \\\n",
       "23240               NaN                   4736   459742      9-30-16 16:05   \n",
       "367761              NaN                    760   459636      9-30-16 15:33   \n",
       "368121              NaN                   1057   462477       1-10-16 0:54   \n",
       "371359              NaN                    324   466039       2-10-16 8:27   \n",
       "2010133             NaN                      0  2302635  11/29/17 05:53:54   \n",
       "\n",
       "        trip_stop_time user_type  \n",
       "23240    9-30-16 17:24    Member  \n",
       "367761   9-30-16 15:46    Casual  \n",
       "368121    1-10-16 1:12    Member  \n",
       "371359    2-10-16 8:32    Casual  \n",
       "2010133       NULLNULL    Casual  "
      ]
     },
     "execution_count": 14,
     "metadata": {},
     "output_type": "execute_result"
    }
   ],
   "source": [
    "bike_df[bike_df.to_station_name.isna()]"
   ]
  },
  {
   "cell_type": "markdown",
   "metadata": {
    "colab_type": "text",
    "id": "lhM4Jo2UojzT"
   },
   "source": [
    "These rows are trips that started at a specific station but have no destination, that could mean that the bicycle was not returned to any station. We will delete these since there is no relevant information about the duration of the trip and the destination."
   ]
  },
  {
   "cell_type": "code",
   "execution_count": 15,
   "metadata": {
    "colab": {},
    "colab_type": "code",
    "id": "sIuvQpE7x-KI"
   },
   "outputs": [],
   "source": [
    "# Drop null row\n",
    "bike_df.drop(index=bike_df[bike_df.to_station_name.isna()].index, inplace=True)"
   ]
  },
  {
   "cell_type": "markdown",
   "metadata": {
    "colab_type": "text",
    "id": "WNqa5VqUoki5"
   },
   "source": [
    "## Cleaning timestamps\n",
    "\n",
    "After manually reviewing the dataset, we could observe that datetimes columns for each quarter were parsed differently with the following formats\n",
    "\n",
    "```\n",
    "\n",
    "date_formats = {\n",
    "    '2016 Q3': ['%m-%d-%Y %H:%M', 0], *\n",
    "    '2016 Q4': ['%m/%d/%y %H:%M:%S', 0], *\n",
    "    '2017 Q1': ['%d/%m/%Y %H:%M', 0],\n",
    "    '2017 Q2': ['%d/%m/%Y %H:%M', 0],\n",
    "    '2017 Q3': ['%m/%d/%Y %H:%M', 0],  *\n",
    "    '2017 Q4': ['%m/%d/%y %H:%M:%S', 0], *\n",
    "}\n",
    "\n",
    "```\n",
    "\n",
    "\\* These also have some string issues to deal with. First thing we do, is divide the dataset in two parts for proper preprocessing: `bike_df1` with Q1 and Q2 and `bike_df2` with Q3 and Q4.\n"
   ]
  },
  {
   "cell_type": "code",
   "execution_count": 16,
   "metadata": {
    "colab": {},
    "colab_type": "code",
    "id": "zSddhhnVuFhl"
   },
   "outputs": [],
   "source": [
    "#Split the data into wo semesters for date correction\n",
    "first_index = 585530\n",
    "second_index = 1051006\n",
    "bike_df0 = bike_df.loc[:first_index,:]\n",
    "bike_df1 = bike_df.loc[first_index+1:second_index,:]\n",
    "bike_df2 = bike_df.loc[second_index + 1:,:]"
   ]
  },
  {
   "cell_type": "markdown",
   "metadata": {
    "colab_type": "text",
    "id": "YWOdPl3OuGyG"
   },
   "source": [
    "Then, a couple of functions are created to properly handle each of the dataframes aforementioned."
   ]
  },
  {
   "cell_type": "code",
   "execution_count": 17,
   "metadata": {
    "colab": {},
    "colab_type": "code",
    "id": "FFfVNLLNosO4"
   },
   "outputs": [],
   "source": [
    "def format_date_type1(date):\n",
    "    \"\"\"Function for cleaning datetimes according to detected format for the first semester subset:\n",
    "    Takes a date with format ['%d/%m/%Y %H:%M'] and returns a datetime object.\n",
    "    \n",
    "    >>> date = '1/1/2017 0:05'\n",
    "    >>> format_date_type1(date).strftime('%d/%m/%Y %H:%M:%S')\n",
    "    '01/01/2017 00:05:00'\n",
    "    \n",
    "    \"\"\"\n",
    "    \n",
    "    formatted = datetime.strptime(date, '%d/%m/%Y %H:%M')\n",
    "    return formatted\n",
    "\n",
    "if __name__ == '__main__':\n",
    "    import doctest\n",
    "    doctest.run_docstring_examples(format_date_type1, globals())"
   ]
  },
  {
   "cell_type": "code",
   "execution_count": 18,
   "metadata": {},
   "outputs": [],
   "source": [
    "def format_date_type2(date):\n",
    "    \"\"\"Function for cleaning the second semester subset, which is known to have some string issues\n",
    "    along with two different formats for each Q, as stated before.\n",
    "  \n",
    "    Takes a date with any of the formats ['%m/%d/%Y %H:%M', 0] or ['%m/%d/%y %H:%M:%S', 0] and returns\n",
    "    a d datetime object.\n",
    "\n",
    "    >>> date = '7/1/17 0:01'\n",
    "    >>> format_date_type2(date).strftime('%d/%m/%Y %H:%M:%S')\n",
    "    '01/07/2017 00:01:00'\n",
    "    \n",
    "    \"\"\"  \n",
    "\n",
    "    # Check for years detected within the dataset that are incorrect.\n",
    "    not_wanted = ('2001', '2010', '2011', '2012')\n",
    "\n",
    "    #Check if formatting is standard and belongs to the group of interest for applying pd.to_datetime function\n",
    "    if not date.startswith(not_wanted):\n",
    "        #Check first type of formatting\n",
    "        try:\n",
    "            formatted = datetime.strptime(date, '%m/%d/%y %H:%M:%S')\n",
    "        except ValueError:\n",
    "            try:\n",
    "                #Check second type of formatting\n",
    "                formatted = datetime.strptime(date, '%m/%d/%y %H:%M')\n",
    "            except ValueError:\n",
    "                try:\n",
    "                    #Check third type of formatting\n",
    "                    formatted = datetime.strptime(date, '%m/%d/%Y %H:%M')\n",
    "                except:\n",
    "                    #Check fourth type of formatting\n",
    "                    formatted = datetime.strptime(date, '%d/%m/%Y %H:%M')\n",
    "\n",
    "\n",
    "    else:\n",
    "      #Check first type of formatting\n",
    "        try:\n",
    "            formatted = datetime.strptime(date[2:], '%m/%d/%y %H:%M:%S')\n",
    "        except ValueError:\n",
    "            #Check second type of formatting\n",
    "            formatted = datetime.strptime(date[2:], '%m-%d-%y %H:%M')\n",
    "\n",
    "    return formatted\n",
    "\n",
    "if __name__ == '__main__':\n",
    "    import doctest\n",
    "    doctest.run_docstring_examples(format_date_type2, globals())"
   ]
  },
  {
   "cell_type": "markdown",
   "metadata": {
    "colab_type": "text",
    "id": "pAd-7RmEp95Q"
   },
   "source": [
    "Now we will vectorize both functions in order to apply it efficiently along the timestamp columns."
   ]
  },
  {
   "cell_type": "code",
   "execution_count": 19,
   "metadata": {
    "colab": {},
    "colab_type": "code",
    "id": "O0SLGIr5qHnM"
   },
   "outputs": [],
   "source": [
    "format_date_type1v = np.vectorize(format_date_type1)\n",
    "format_date_type2v = np.vectorize(format_date_type2)"
   ]
  },
  {
   "cell_type": "markdown",
   "metadata": {
    "colab_type": "text",
    "id": "ZQUA9v3eqYwd"
   },
   "source": [
    "Apply datetime transformation for the 0th semester subset using the appropriate functions:"
   ]
  },
  {
   "cell_type": "code",
   "execution_count": 20,
   "metadata": {},
   "outputs": [],
   "source": [
    "# Change hyphen for forward slashes on dates\n",
    "bike_df0.trip_start_time = bike_df0.trip_start_time.str.replace('-', '/')\n",
    "bike_df0.trip_stop_time = bike_df0.trip_stop_time.str.replace('-', '/')"
   ]
  },
  {
   "cell_type": "code",
   "execution_count": 21,
   "metadata": {
    "colab": {},
    "colab_type": "code",
    "id": "BIqNnLlvqeGV"
   },
   "outputs": [],
   "source": [
    "#Apply to two date columns\n",
    "bike_df0['trip_start_time_f'] = format_date_type2v(bike_df0.trip_start_time)\n",
    "bike_df0['trip_stop_time_f'] = format_date_type2v(bike_df0.trip_stop_time)"
   ]
  },
  {
   "cell_type": "markdown",
   "metadata": {
    "colab_type": "text",
    "id": "ZQUA9v3eqYwd"
   },
   "source": [
    "Apply datetime transformation for the first semester subset using the appropriate functions:"
   ]
  },
  {
   "cell_type": "code",
   "execution_count": 22,
   "metadata": {
    "colab": {},
    "colab_type": "code",
    "id": "BIqNnLlvqeGV"
   },
   "outputs": [],
   "source": [
    "#Apply to two date columns\n",
    "bike_df1['trip_start_time_f'] = format_date_type1v(bike_df1.trip_start_time)\n",
    "bike_df1['trip_stop_time_f'] = format_date_type1v(bike_df1.trip_stop_time)"
   ]
  },
  {
   "cell_type": "markdown",
   "metadata": {
    "colab_type": "text",
    "id": "es3qu8L9qhZG"
   },
   "source": [
    "Now let's apply datetime transformation for the second semester subset with the second function:"
   ]
  },
  {
   "cell_type": "code",
   "execution_count": 23,
   "metadata": {
    "colab": {},
    "colab_type": "code",
    "id": "1oAxVGNaqlPt",
    "scrolled": true
   },
   "outputs": [],
   "source": [
    "#Apply to two date columns\n",
    "bike_df2['trip_start_time_f'] = format_date_type2v(bike_df2.trip_start_time)\n",
    "bike_df2['trip_stop_time_f'] = format_date_type2v(bike_df2.trip_stop_time)"
   ]
  },
  {
   "cell_type": "markdown",
   "metadata": {
    "colab_type": "text",
    "id": "Q1Fc33myrMdW"
   },
   "source": [
    "**Test datetimes**\n",
    "\n",
    "Now we will double-check that we have the years we want with the following tests:"
   ]
  },
  {
   "cell_type": "markdown",
   "metadata": {},
   "source": [
    "* For fields `trip_start_time_f` and `trip_stop_time_f`, year should be 2016 and 2017, respectively, for the *second semester* (since some trips finish in 2018)."
   ]
  },
  {
   "cell_type": "code",
   "execution_count": 24,
   "metadata": {
    "colab": {
     "base_uri": "https://localhost:8080/",
     "height": 34
    },
    "colab_type": "code",
    "id": "PzFNomvGrWBy",
    "outputId": "cb4bed24-cc9d-4db3-ee1d-decbb86d003f"
   },
   "outputs": [
    {
     "data": {
      "text/plain": [
       "[{2000, 2016}, {2000, 2016}]"
      ]
     },
     "execution_count": 24,
     "metadata": {},
     "output_type": "execute_result"
    }
   ],
   "source": [
    "[set([date.year for date in bike_df0.trip_start_time_f]), set([date.year for date in bike_df0.trip_stop_time_f])]"
   ]
  },
  {
   "cell_type": "markdown",
   "metadata": {},
   "source": [
    "That year is not correct, let's review what could have happened."
   ]
  },
  {
   "cell_type": "code",
   "execution_count": 25,
   "metadata": {},
   "outputs": [
    {
     "data": {
      "text/html": [
       "<div>\n",
       "<style scoped>\n",
       "    .dataframe tbody tr th:only-of-type {\n",
       "        vertical-align: middle;\n",
       "    }\n",
       "\n",
       "    .dataframe tbody tr th {\n",
       "        vertical-align: top;\n",
       "    }\n",
       "\n",
       "    .dataframe thead th {\n",
       "        text-align: right;\n",
       "    }\n",
       "</style>\n",
       "<table border=\"1\" class=\"dataframe\">\n",
       "  <thead>\n",
       "    <tr style=\"text-align: right;\">\n",
       "      <th></th>\n",
       "      <th>from_station_id</th>\n",
       "      <th>from_station_name</th>\n",
       "      <th>to_station_id</th>\n",
       "      <th>to_station_name</th>\n",
       "      <th>trip_duration_seconds</th>\n",
       "      <th>trip_id</th>\n",
       "      <th>trip_start_time</th>\n",
       "      <th>trip_stop_time</th>\n",
       "      <th>user_type</th>\n",
       "      <th>trip_start_time_f</th>\n",
       "      <th>trip_stop_time_f</th>\n",
       "    </tr>\n",
       "  </thead>\n",
       "  <tbody>\n",
       "    <tr>\n",
       "      <th>365004</th>\n",
       "      <td>NaN</td>\n",
       "      <td>Front St / Yonge St (Hockey Hall of Fame)</td>\n",
       "      <td>NaN</td>\n",
       "      <td>Front St / Yonge St (Hockey Hall of Fame)</td>\n",
       "      <td>3794</td>\n",
       "      <td>622515</td>\n",
       "      <td>1/1/00 14:40</td>\n",
       "      <td>1/1/00 15:44</td>\n",
       "      <td>Member</td>\n",
       "      <td>2000-01-01 14:40:00</td>\n",
       "      <td>2000-01-01 15:44:00</td>\n",
       "    </tr>\n",
       "  </tbody>\n",
       "</table>\n",
       "</div>"
      ],
      "text/plain": [
       "        from_station_id                          from_station_name  \\\n",
       "365004              NaN  Front St / Yonge St (Hockey Hall of Fame)   \n",
       "\n",
       "        to_station_id                            to_station_name  \\\n",
       "365004            NaN  Front St / Yonge St (Hockey Hall of Fame)   \n",
       "\n",
       "        trip_duration_seconds  trip_id trip_start_time trip_stop_time  \\\n",
       "365004                   3794   622515    1/1/00 14:40   1/1/00 15:44   \n",
       "\n",
       "       user_type   trip_start_time_f    trip_stop_time_f  \n",
       "365004    Member 2000-01-01 14:40:00 2000-01-01 15:44:00  "
      ]
     },
     "execution_count": 25,
     "metadata": {},
     "output_type": "execute_result"
    }
   ],
   "source": [
    "bike_df0[bike_df0.trip_start_time_f.dt.year == 2000]"
   ]
  },
  {
   "cell_type": "markdown",
   "metadata": {},
   "source": [
    "This is an odd row, we will delete it since the date information is not reliable."
   ]
  },
  {
   "cell_type": "code",
   "execution_count": 26,
   "metadata": {},
   "outputs": [],
   "source": [
    "bike_df0 = bike_df0[~(bike_df0.trip_start_time_f.dt.year == 2000)]"
   ]
  },
  {
   "cell_type": "markdown",
   "metadata": {},
   "source": [
    "* For fields `trip_start_time_f` and `trip_stop_time_f`, year should only be 2017 for the *first semester* (since we are only dealing with data from 2017)"
   ]
  },
  {
   "cell_type": "code",
   "execution_count": 27,
   "metadata": {
    "colab": {
     "base_uri": "https://localhost:8080/",
     "height": 34
    },
    "colab_type": "code",
    "id": "PzFNomvGrWBy",
    "outputId": "cb4bed24-cc9d-4db3-ee1d-decbb86d003f"
   },
   "outputs": [
    {
     "data": {
      "text/plain": [
       "[{2017}, {2017}]"
      ]
     },
     "execution_count": 27,
     "metadata": {},
     "output_type": "execute_result"
    }
   ],
   "source": [
    "[set([date.year for date in bike_df1.trip_start_time_f]), set([date.year for date in bike_df1.trip_stop_time_f])]"
   ]
  },
  {
   "cell_type": "markdown",
   "metadata": {},
   "source": [
    "* For fields `trip_start_time_f` and `trip_stop_time_f`, year should be 2017 and 2017 and 2018, respectively, for the *second semester* (since some trips finish in 2018)."
   ]
  },
  {
   "cell_type": "code",
   "execution_count": 28,
   "metadata": {
    "colab": {
     "base_uri": "https://localhost:8080/",
     "height": 34
    },
    "colab_type": "code",
    "id": "6VOZCzbdrrRh",
    "outputId": "7ac15b79-037b-4506-f352-0f12263257e5"
   },
   "outputs": [
    {
     "data": {
      "text/plain": [
       "[{2017}, {2017, 2018}]"
      ]
     },
     "execution_count": 28,
     "metadata": {},
     "output_type": "execute_result"
    }
   ],
   "source": [
    "[set([date.year for date in bike_df2.trip_start_time_f]), set([date.year for date in bike_df2.trip_stop_time_f])]"
   ]
  },
  {
   "cell_type": "markdown",
   "metadata": {
    "colab_type": "text",
    "id": "IK4MCKEssAZz"
   },
   "source": [
    "**Check time continuiity**\n",
    "\n",
    "Create a temporary column to verify the difference between one ``trip_start_time_f`` and the previous one. The difference shouldn't be negative for a sorted dataframe and shouldn't be more than 1 day (for overnight trips only)."
   ]
  },
  {
   "cell_type": "code",
   "execution_count": 29,
   "metadata": {
    "colab": {
     "base_uri": "https://localhost:8080/",
     "height": 34
    },
    "colab_type": "code",
    "id": "8OvgBeA5sLi5",
    "outputId": "0944baaf-90dd-4d57-aacf-d61732367355"
   },
   "outputs": [
    {
     "data": {
      "text/plain": [
       "66579"
      ]
     },
     "execution_count": 29,
     "metadata": {},
     "output_type": "execute_result"
    }
   ],
   "source": [
    "# Concatenate dataframes\n",
    "bike_df = pd.concat([bike_df0, bike_df1, bike_df2])\n",
    "\n",
    "#Create desired column using the formatted start time\n",
    "bike_df['temp_start_diff'] = bike_df.trip_start_time_f.dt.dayofyear.diff()\n",
    "\n",
    "#Check for values different than zero or one\n",
    "non_cont = bike_df.loc[(bike_df.temp_start_diff < 0) | (bike_df.temp_start_diff >1), :]\n",
    "\n",
    "#Get number of non continuous registers\n",
    "non_cont.shape[0]"
   ]
  },
  {
   "cell_type": "markdown",
   "metadata": {
    "colab_type": "text",
    "id": "PxeqsLZD0ffD"
   },
   "source": [
    "Here, we can see that we have 66579 registers with an odd behavior in which the continuity is not preserved. Let's explore these."
   ]
  },
  {
   "cell_type": "code",
   "execution_count": 30,
   "metadata": {
    "colab": {
     "base_uri": "https://localhost:8080/",
     "height": 207
    },
    "colab_type": "code",
    "id": "BaJ6aGKuxRAc",
    "outputId": "ef86a40e-88b6-4e0c-a9ef-f5de967ae902"
   },
   "outputs": [
    {
     "data": {
      "text/html": [
       "<div>\n",
       "<style scoped>\n",
       "    .dataframe tbody tr th:only-of-type {\n",
       "        vertical-align: middle;\n",
       "    }\n",
       "\n",
       "    .dataframe tbody tr th {\n",
       "        vertical-align: top;\n",
       "    }\n",
       "\n",
       "    .dataframe thead th {\n",
       "        text-align: right;\n",
       "    }\n",
       "</style>\n",
       "<table border=\"1\" class=\"dataframe\">\n",
       "  <thead>\n",
       "    <tr style=\"text-align: right;\">\n",
       "      <th></th>\n",
       "      <th>from_station_id</th>\n",
       "      <th>from_station_name</th>\n",
       "      <th>to_station_id</th>\n",
       "      <th>to_station_name</th>\n",
       "      <th>trip_duration_seconds</th>\n",
       "      <th>trip_id</th>\n",
       "      <th>trip_start_time</th>\n",
       "      <th>trip_stop_time</th>\n",
       "      <th>user_type</th>\n",
       "      <th>trip_start_time_f</th>\n",
       "      <th>trip_stop_time_f</th>\n",
       "      <th>temp_start_diff</th>\n",
       "    </tr>\n",
       "  </thead>\n",
       "  <tbody>\n",
       "    <tr>\n",
       "      <th>3</th>\n",
       "      <td>NaN</td>\n",
       "      <td>Union Station</td>\n",
       "      <td>NaN</td>\n",
       "      <td>Dundas St E / Regent Park Blvd</td>\n",
       "      <td>784</td>\n",
       "      <td>60784</td>\n",
       "      <td>7/11/16 1:45</td>\n",
       "      <td>7/11/16 1:58</td>\n",
       "      <td>Member</td>\n",
       "      <td>2016-07-11 01:45:00</td>\n",
       "      <td>2016-07-11 01:58:00</td>\n",
       "      <td>1.0</td>\n",
       "    </tr>\n",
       "    <tr>\n",
       "      <th>4</th>\n",
       "      <td>NaN</td>\n",
       "      <td>Front St W / Blue Jays Way</td>\n",
       "      <td>NaN</td>\n",
       "      <td>Front St / Yonge St (Hockey Hall of Fame)</td>\n",
       "      <td>443</td>\n",
       "      <td>93164</td>\n",
       "      <td>7/18/16 13:35</td>\n",
       "      <td>7/18/16 13:42</td>\n",
       "      <td>Member</td>\n",
       "      <td>2016-07-18 13:35:00</td>\n",
       "      <td>2016-07-18 13:42:00</td>\n",
       "      <td>7.0</td>\n",
       "    </tr>\n",
       "    <tr>\n",
       "      <th>5</th>\n",
       "      <td>NaN</td>\n",
       "      <td>Union Station</td>\n",
       "      <td>NaN</td>\n",
       "      <td>Queens Park / Bloor St W</td>\n",
       "      <td>765</td>\n",
       "      <td>93537</td>\n",
       "      <td>7/18/16 15:48</td>\n",
       "      <td>7/18/16 16:01</td>\n",
       "      <td>Member</td>\n",
       "      <td>2016-07-18 15:48:00</td>\n",
       "      <td>2016-07-18 16:01:00</td>\n",
       "      <td>0.0</td>\n",
       "    </tr>\n",
       "  </tbody>\n",
       "</table>\n",
       "</div>"
      ],
      "text/plain": [
       "   from_station_id           from_station_name  to_station_id  \\\n",
       "3              NaN               Union Station            NaN   \n",
       "4              NaN  Front St W / Blue Jays Way            NaN   \n",
       "5              NaN               Union Station            NaN   \n",
       "\n",
       "                             to_station_name  trip_duration_seconds  trip_id  \\\n",
       "3             Dundas St E / Regent Park Blvd                    784    60784   \n",
       "4  Front St / Yonge St (Hockey Hall of Fame)                    443    93164   \n",
       "5                   Queens Park / Bloor St W                    765    93537   \n",
       "\n",
       "  trip_start_time trip_stop_time user_type   trip_start_time_f  \\\n",
       "3    7/11/16 1:45   7/11/16 1:58    Member 2016-07-11 01:45:00   \n",
       "4   7/18/16 13:35  7/18/16 13:42    Member 2016-07-18 13:35:00   \n",
       "5   7/18/16 15:48  7/18/16 16:01    Member 2016-07-18 15:48:00   \n",
       "\n",
       "     trip_stop_time_f  temp_start_diff  \n",
       "3 2016-07-11 01:58:00              1.0  \n",
       "4 2016-07-18 13:42:00              7.0  \n",
       "5 2016-07-18 16:01:00              0.0  "
      ]
     },
     "execution_count": 30,
     "metadata": {},
     "output_type": "execute_result"
    }
   ],
   "source": [
    "#Get one non continuous trip, previous and following\n",
    "idx = non_cont.index[0]\n",
    "bike_df.loc[idx-1:idx+1,:]"
   ]
  },
  {
   "cell_type": "markdown",
   "metadata": {
    "colab_type": "text",
    "id": "zSosNJSk0p5Z"
   },
   "source": [
    "After reviewing, it is not clear why these rows are flagged. We may calculate some statistics to check if those registers are outliers or present significant differences in relevant statistics compared to the whole dataframe."
   ]
  },
  {
   "cell_type": "code",
   "execution_count": 31,
   "metadata": {
    "colab": {
     "base_uri": "https://localhost:8080/",
     "height": 107
    },
    "colab_type": "code",
    "id": "5lK-JwMz05Ni",
    "outputId": "fe845687-2b03-4ec3-e06c-392cfef1fbdf"
   },
   "outputs": [
    {
     "data": {
      "text/html": [
       "<div>\n",
       "<style scoped>\n",
       "    .dataframe tbody tr th:only-of-type {\n",
       "        vertical-align: middle;\n",
       "    }\n",
       "\n",
       "    .dataframe tbody tr th {\n",
       "        vertical-align: top;\n",
       "    }\n",
       "\n",
       "    .dataframe thead th {\n",
       "        text-align: right;\n",
       "    }\n",
       "</style>\n",
       "<table border=\"1\" class=\"dataframe\">\n",
       "  <thead>\n",
       "    <tr style=\"text-align: right;\">\n",
       "      <th></th>\n",
       "      <th>count</th>\n",
       "      <th>mean</th>\n",
       "      <th>std</th>\n",
       "      <th>min</th>\n",
       "      <th>25%</th>\n",
       "      <th>50%</th>\n",
       "      <th>75%</th>\n",
       "      <th>max</th>\n",
       "    </tr>\n",
       "  </thead>\n",
       "  <tbody>\n",
       "    <tr>\n",
       "      <th>full_df</th>\n",
       "      <td>2077894.0</td>\n",
       "      <td>998.0</td>\n",
       "      <td>8308.0</td>\n",
       "      <td>1.0</td>\n",
       "      <td>421.0</td>\n",
       "      <td>661.0</td>\n",
       "      <td>1025.0</td>\n",
       "      <td>6382030.0</td>\n",
       "    </tr>\n",
       "    <tr>\n",
       "      <th>non_cont_df</th>\n",
       "      <td>66579.0</td>\n",
       "      <td>1141.0</td>\n",
       "      <td>1642.0</td>\n",
       "      <td>60.0</td>\n",
       "      <td>462.0</td>\n",
       "      <td>724.0</td>\n",
       "      <td>1123.0</td>\n",
       "      <td>14383.0</td>\n",
       "    </tr>\n",
       "  </tbody>\n",
       "</table>\n",
       "</div>"
      ],
      "text/plain": [
       "                 count    mean     std   min    25%    50%     75%        max\n",
       "full_df      2077894.0   998.0  8308.0   1.0  421.0  661.0  1025.0  6382030.0\n",
       "non_cont_df    66579.0  1141.0  1642.0  60.0  462.0  724.0  1123.0    14383.0"
      ]
     },
     "execution_count": 31,
     "metadata": {},
     "output_type": "execute_result"
    }
   ],
   "source": [
    "pd.DataFrame([bike_df.trip_duration_seconds.describe().round(0), \n",
    "              non_cont.trip_duration_seconds.describe().round(0)],\n",
    "            index=['full_df', 'non_cont_df'])"
   ]
  },
  {
   "cell_type": "markdown",
   "metadata": {
    "colab_type": "text",
    "id": "IxvPhoE81ric"
   },
   "source": [
    "Other than the standard deviation, there are no significant differences overall, this is specially visible in the median. The mean and standard deviation are expected to vary given the presence of outliers in full dataset (read below). Given this, we will include this registers and reorder the dataframe by `trip_start_date_f`,"
   ]
  },
  {
   "cell_type": "code",
   "execution_count": 32,
   "metadata": {
    "colab": {},
    "colab_type": "code",
    "id": "1jy1_s5W21U4"
   },
   "outputs": [],
   "source": [
    "#Sort dataframe by date\n",
    "bike_df.sort_values(by='trip_start_time_f', inplace=True)"
   ]
  },
  {
   "cell_type": "markdown",
   "metadata": {
    "colab_type": "text",
    "id": "wwHq96jjsfSz"
   },
   "source": [
    "Now that we have our dates properly formatted, let's drop `temp_start_diff`, `trip_start_time` and `trip_stop_time`"
   ]
  },
  {
   "cell_type": "code",
   "execution_count": 33,
   "metadata": {
    "colab": {},
    "colab_type": "code",
    "id": "cYdUVhhZshog"
   },
   "outputs": [],
   "source": [
    "bike_df.drop(columns=['trip_start_time', 'trip_stop_time', 'temp_start_diff'], inplace=True)"
   ]
  },
  {
   "cell_type": "markdown",
   "metadata": {
    "colab_type": "text",
    "id": "CDTV95qmsmbu"
   },
   "source": [
    "With timestamps meeting the standards needed, we can move on and continue working with null values."
   ]
  },
  {
   "cell_type": "markdown",
   "metadata": {
    "colab_type": "text",
    "id": "dlLYt3jxytNJ"
   },
   "source": [
    "## Fixing Stations Data\n",
    "\n",
    "We will connect to the Toronto Bike Share API to gather the stations data, in order to standardize and fix issues related to stations in our dataframe. First, we are going to use the information from the `station_information` endpoint to fix the stations data."
   ]
  },
  {
   "cell_type": "code",
   "execution_count": 34,
   "metadata": {
    "colab": {},
    "colab_type": "code",
    "id": "yoY7re2uyuYZ"
   },
   "outputs": [],
   "source": [
    "#Send get request\n",
    "req = requests.get('https://tor.publicbikesystem.net/ube/gbfs/v1/en/station_information')"
   ]
  },
  {
   "cell_type": "markdown",
   "metadata": {
    "colab_type": "text",
    "id": "39ItIg8dvBwg"
   },
   "source": [
    "Now get the stations data from the whole json object"
   ]
  },
  {
   "cell_type": "code",
   "execution_count": 35,
   "metadata": {
    "colab": {
     "base_uri": "https://localhost:8080/",
     "height": 77
    },
    "colab_type": "code",
    "id": "6rK6TleNzIQ-",
    "outputId": "1b925efe-5fbd-43ee-b9c5-10566e9f8106"
   },
   "outputs": [
    {
     "data": {
      "text/html": [
       "<div>\n",
       "<style scoped>\n",
       "    .dataframe tbody tr th:only-of-type {\n",
       "        vertical-align: middle;\n",
       "    }\n",
       "\n",
       "    .dataframe tbody tr th {\n",
       "        vertical-align: top;\n",
       "    }\n",
       "\n",
       "    .dataframe thead th {\n",
       "        text-align: right;\n",
       "    }\n",
       "</style>\n",
       "<table border=\"1\" class=\"dataframe\">\n",
       "  <thead>\n",
       "    <tr style=\"text-align: right;\">\n",
       "      <th></th>\n",
       "      <th>station_id</th>\n",
       "      <th>name</th>\n",
       "      <th>capacity</th>\n",
       "      <th>lat</th>\n",
       "      <th>lon</th>\n",
       "    </tr>\n",
       "  </thead>\n",
       "  <tbody>\n",
       "    <tr>\n",
       "      <th>0</th>\n",
       "      <td>7000</td>\n",
       "      <td>Fort York  Blvd / Capreol Ct</td>\n",
       "      <td>35</td>\n",
       "      <td>43.639832</td>\n",
       "      <td>-79.395954</td>\n",
       "    </tr>\n",
       "  </tbody>\n",
       "</table>\n",
       "</div>"
      ],
      "text/plain": [
       "  station_id                          name  capacity        lat        lon\n",
       "0       7000  Fort York  Blvd / Capreol Ct        35  43.639832 -79.395954"
      ]
     },
     "execution_count": 35,
     "metadata": {},
     "output_type": "execute_result"
    }
   ],
   "source": [
    "#Get the json data as dataframe\n",
    "stations_data = pd.DataFrame(json.loads(req.content)['data']['stations'])[['station_id', 'name', 'capacity', 'lat', 'lon']]\n",
    "\n",
    "#Remove whitespaces\n",
    "stations_data.name = stations_data.name.str.strip()\n",
    "stations_data.head(1)"
   ]
  },
  {
   "cell_type": "markdown",
   "metadata": {
    "colab_type": "text",
    "id": "fzEDYAP7vM0m"
   },
   "source": [
    "Last updated on"
   ]
  },
  {
   "cell_type": "code",
   "execution_count": 36,
   "metadata": {
    "colab": {
     "base_uri": "https://localhost:8080/",
     "height": 34
    },
    "colab_type": "code",
    "id": "KVZYKkLK1sWN",
    "outputId": "da3cc489-bd4d-4480-a2ed-57ea07c6b934"
   },
   "outputs": [
    {
     "data": {
      "text/plain": [
       "datetime.datetime(2019, 12, 30, 21, 11, 37)"
      ]
     },
     "execution_count": 36,
     "metadata": {},
     "output_type": "execute_result"
    }
   ],
   "source": [
    "datetime.fromtimestamp(json.loads(req.content)['last_updated'])"
   ]
  },
  {
   "cell_type": "markdown",
   "metadata": {
    "colab_type": "text",
    "id": "R472Bk513Gpp"
   },
   "source": [
    "So this information is up to date (but with in a different timezone). However, we must check if the number of stations changed since 2017."
   ]
  },
  {
   "cell_type": "code",
   "execution_count": 37,
   "metadata": {
    "colab": {
     "base_uri": "https://localhost:8080/",
     "height": 34
    },
    "colab_type": "code",
    "id": "BaDkalRlzOns",
    "outputId": "c5172952-d624-4866-ddd7-8dea0cb57665"
   },
   "outputs": [
    {
     "data": {
      "text/plain": [
       "(462,)"
      ]
     },
     "execution_count": 37,
     "metadata": {},
     "output_type": "execute_result"
    }
   ],
   "source": [
    "#Stations as of today\n",
    "stations_data.name.shape"
   ]
  },
  {
   "cell_type": "markdown",
   "metadata": {
    "colab_type": "text",
    "id": "QLbsq1bY1mp0"
   },
   "source": [
    "For the record, this differs a bit from the information displayed on the website stating that 465 stations are available. Everything being in the right place, let's get the full list of stations used in 2016 and 2017."
   ]
  },
  {
   "cell_type": "code",
   "execution_count": 38,
   "metadata": {
    "colab": {},
    "colab_type": "code",
    "id": "VSddmz4F5ttU"
   },
   "outputs": [],
   "source": [
    "#Get the origin stations and IDs\n",
    "start = bike_df[['from_station_id', 'from_station_name']]\n",
    "start.columns = ['id', 'station']\n",
    "\n",
    "#Get the destination stations and IDs\n",
    "stop = bike_df[['to_station_id', 'to_station_name']]\n",
    "stop.columns = ['id', 'station']\n",
    "\n",
    "#Now let's merge those together to obtain names for stations in 2017\n",
    "stations_used = pd.concat([start, stop]).drop_duplicates(['station']).sort_values(by='station').reset_index(drop=True)\n",
    "stations_used.station = stations_used.station.str.strip()"
   ]
  },
  {
   "cell_type": "code",
   "execution_count": 39,
   "metadata": {
    "colab": {
     "base_uri": "https://localhost:8080/",
     "height": 197
    },
    "colab_type": "code",
    "id": "BfuMYfjX3t3A",
    "outputId": "5ebd014f-510e-4a13-d640-3f80a43f7540"
   },
   "outputs": [
    {
     "data": {
      "text/html": [
       "<div>\n",
       "<style scoped>\n",
       "    .dataframe tbody tr th:only-of-type {\n",
       "        vertical-align: middle;\n",
       "    }\n",
       "\n",
       "    .dataframe tbody tr th {\n",
       "        vertical-align: top;\n",
       "    }\n",
       "\n",
       "    .dataframe thead th {\n",
       "        text-align: right;\n",
       "    }\n",
       "</style>\n",
       "<table border=\"1\" class=\"dataframe\">\n",
       "  <thead>\n",
       "    <tr style=\"text-align: right;\">\n",
       "      <th></th>\n",
       "      <th>id</th>\n",
       "      <th>station</th>\n",
       "    </tr>\n",
       "  </thead>\n",
       "  <tbody>\n",
       "    <tr>\n",
       "      <th>0</th>\n",
       "      <td>NaN</td>\n",
       "      <td>111 Bond St (North of Dundas St E)  - SMART</td>\n",
       "    </tr>\n",
       "    <tr>\n",
       "      <th>1</th>\n",
       "      <td>NaN</td>\n",
       "      <td>161 Bleecker St (South of Wellesley)</td>\n",
       "    </tr>\n",
       "    <tr>\n",
       "      <th>2</th>\n",
       "      <td>NaN</td>\n",
       "      <td>25 York St (ACC/Union Station South)</td>\n",
       "    </tr>\n",
       "    <tr>\n",
       "      <th>3</th>\n",
       "      <td>NaN</td>\n",
       "      <td>424 Wellington St W</td>\n",
       "    </tr>\n",
       "    <tr>\n",
       "      <th>4</th>\n",
       "      <td>NaN</td>\n",
       "      <td>424 Wellington St. W</td>\n",
       "    </tr>\n",
       "    <tr>\n",
       "      <th>...</th>\n",
       "      <td>...</td>\n",
       "      <td>...</td>\n",
       "    </tr>\n",
       "    <tr>\n",
       "      <th>289</th>\n",
       "      <td>NaN</td>\n",
       "      <td>Yonge St / Wood St</td>\n",
       "    </tr>\n",
       "    <tr>\n",
       "      <th>290</th>\n",
       "      <td>NaN</td>\n",
       "      <td>Yonge St / Yorkville Ave</td>\n",
       "    </tr>\n",
       "    <tr>\n",
       "      <th>291</th>\n",
       "      <td>NaN</td>\n",
       "      <td>York St / King St W - SMART</td>\n",
       "    </tr>\n",
       "    <tr>\n",
       "      <th>292</th>\n",
       "      <td>NaN</td>\n",
       "      <td>York St / Queens Quay W</td>\n",
       "    </tr>\n",
       "    <tr>\n",
       "      <th>293</th>\n",
       "      <td>NaN</td>\n",
       "      <td>NaN</td>\n",
       "    </tr>\n",
       "  </tbody>\n",
       "</table>\n",
       "<p>294 rows × 2 columns</p>\n",
       "</div>"
      ],
      "text/plain": [
       "     id                                      station\n",
       "0   NaN  111 Bond St (North of Dundas St E)  - SMART\n",
       "1   NaN         161 Bleecker St (South of Wellesley)\n",
       "2   NaN         25 York St (ACC/Union Station South)\n",
       "3   NaN                          424 Wellington St W\n",
       "4   NaN                         424 Wellington St. W\n",
       "..   ..                                          ...\n",
       "289 NaN                           Yonge St / Wood St\n",
       "290 NaN                     Yonge St / Yorkville Ave\n",
       "291 NaN                  York St / King St W - SMART\n",
       "292 NaN                      York St / Queens Quay W\n",
       "293 NaN                                          NaN\n",
       "\n",
       "[294 rows x 2 columns]"
      ]
     },
     "execution_count": 39,
     "metadata": {},
     "output_type": "execute_result"
    }
   ],
   "source": [
    "#Inspect\n",
    "stations_used"
   ]
  },
  {
   "cell_type": "code",
   "execution_count": 40,
   "metadata": {},
   "outputs": [],
   "source": [
    "stations_used.dropna(how='all', inplace=True)"
   ]
  },
  {
   "cell_type": "code",
   "execution_count": 41,
   "metadata": {
    "colab": {
     "base_uri": "https://localhost:8080/",
     "height": 34
    },
    "colab_type": "code",
    "id": "OCM7-6VG-MiL",
    "outputId": "f4499ff5-cdde-4371-b379-9eb77e2bf358"
   },
   "outputs": [
    {
     "data": {
      "text/plain": [
       "(293, 2)"
      ]
     },
     "execution_count": 41,
     "metadata": {},
     "output_type": "execute_result"
    }
   ],
   "source": [
    "stations_used.shape"
   ]
  },
  {
   "cell_type": "markdown",
   "metadata": {
    "colab_type": "text",
    "id": "caVRo8Zn6lRd"
   },
   "source": [
    "We have a total of 293 \"unique\" stations, however, we can see in the previous line that some of these stations are repeated with a slightly different name."
   ]
  },
  {
   "cell_type": "markdown",
   "metadata": {},
   "source": [
    "### Mapping station names to IDs "
   ]
  },
  {
   "cell_type": "markdown",
   "metadata": {
    "colab_type": "text",
    "id": "UHxj-ijrPbgX"
   },
   "source": [
    "For this mapping we will use three steps:\n",
    "\n",
    "1. Brute-force string matching the used station name to names in ``stations_data``\n",
    "2. Use **fuzzywuzzy** to perform partial string matching of similar names and import fields from our ``stations_data``.\n",
    "3. Those stations that are left and were not matched will be filled with `NaN` to indicate missing data."
   ]
  },
  {
   "cell_type": "code",
   "execution_count": 42,
   "metadata": {
    "colab": {},
    "colab_type": "code",
    "id": "-gbnHkxwjEBU"
   },
   "outputs": [],
   "source": [
    "def fix_null_station(station, choices):\n",
    "    \"\"\"This function will fix null stations by applying fuzzywuzy to the string and\n",
    "    filtering those that do not meet a threshold of 80 or more according to wuzy partial\n",
    "    ratio matching algorithm.\n",
    "\n",
    "    Takes a station and a set of choices (which is the list of current stations) and \n",
    "    matches the string with the greatest score if it meets the criteria. It will return a \n",
    "    dictionary with the name, the index and the score of the station (if found).\n",
    "\n",
    "    \"\"\"\n",
    "\n",
    "    #Create empty dictionary for storing station information\n",
    "    stat_dict = {}\n",
    "    new_score = None\n",
    "\n",
    "    # Get the best match using fuzzywuzy\n",
    "    best_match = process.extract(station, choices.name, limit=1, scorer=fuzz.partial_ratio)[0]\n",
    "\n",
    "    # Check if match score above threshold and assign values accordingly\n",
    "    if best_match[1] > 80:\n",
    "        new_idx = best_match[2]\n",
    "        new_station = best_match[0]\n",
    "        new_score = best_match[1]\n",
    "    else:\n",
    "        new_idx = None\n",
    "        new_station = station\n",
    "\n",
    "    #Add data to dictionary and append to list\n",
    "    stat_dict['idx'] = new_idx\n",
    "    stat_dict['name'] = new_station\n",
    "    stat_dict['score'] = new_score\n",
    "\n",
    "    return(stat_dict)"
   ]
  },
  {
   "cell_type": "markdown",
   "metadata": {
    "colab_type": "text",
    "id": "oLXK0WLq-lVY"
   },
   "source": [
    "Now we preprocess the `stations_used` dataframe to get the data from the stations matched by means of one of the two methods (string matching or `fix_null_station` method) and non-matched."
   ]
  },
  {
   "cell_type": "code",
   "execution_count": 43,
   "metadata": {
    "colab": {},
    "colab_type": "code",
    "id": "ZrC0vAev_JBB"
   },
   "outputs": [],
   "source": [
    "stations_list = []\n",
    "\n",
    "for row in stations_used.itertuples():\n",
    "  \n",
    "    #Create a dictionary of station\n",
    "    stat_dict = {}\n",
    "\n",
    "    #Find the register through string matching only\n",
    "    stat_data = stations_data.loc[stations_data.name == row[2],:].get_values()\n",
    "\n",
    "    if stat_data.shape[0] > 0:\n",
    "\n",
    "        #Assign data to dictionary if found\n",
    "        stat_dict['idx'] = stat_data[0][0]\n",
    "        stat_dict['name'] = stat_data[0][1]\n",
    "        stat_dict['capacity'] = stat_data[0][2]\n",
    "        stat_dict['lat'] = stat_data[0][3]\n",
    "        stat_dict['lon'] = stat_data[0][4]\n",
    "        stat_dict['matched'] = 'strmatch'\n",
    "        stat_dict['score'] = 100\n",
    "\n",
    "    else:\n",
    "\n",
    "        #Get best match for station name using fuzzywuzy\n",
    "        best_result = fix_null_station(row[2], stations_data)\n",
    "\n",
    "        #Retrieve data from best match (if any)\n",
    "        stat_data = stations_data.loc[stations_data.name == best_result['name'],:].get_values()\n",
    "\n",
    "        if stat_data.shape[0] > 0:\n",
    "\n",
    "            #Set values if exists    \n",
    "            stat_dict['idx'] = stat_data[0][0]\n",
    "            stat_dict['name'] = stat_data[0][1]\n",
    "            stat_dict['capacity'] = stat_data[0][2]\n",
    "            stat_dict['lat'] = stat_data[0][3]\n",
    "            stat_dict['lon'] = stat_data[0][4]\n",
    "            stat_dict['matched'] = 'fuzzywuzy'\n",
    "            stat_dict['score'] = best_result['score']\n",
    "\n",
    "        else:\n",
    "\n",
    "            #Was not found\n",
    "            stat_dict['idx'] = np.nan\n",
    "            stat_dict['name'] = row[2]   #Set original name\n",
    "            stat_dict['capacity'] = np.nan\n",
    "            stat_dict['lat'] = np.nan\n",
    "            stat_dict['lon'] = np.nan\n",
    "            stat_dict['matched'] = 'No'\n",
    "            stat_dict['score'] = np.nan\n",
    "\n",
    "    # Append to list of dictionaries\n",
    "    stations_list.append(stat_dict)"
   ]
  },
  {
   "cell_type": "code",
   "execution_count": 44,
   "metadata": {
    "colab": {
     "base_uri": "https://localhost:8080/",
     "height": 34
    },
    "colab_type": "code",
    "id": "K9LKoY0XNMl0",
    "outputId": "f67223e3-ae58-4259-f4e6-5518c11c9aa0"
   },
   "outputs": [
    {
     "data": {
      "text/plain": [
       "293"
      ]
     },
     "execution_count": 44,
     "metadata": {},
     "output_type": "execute_result"
    }
   ],
   "source": [
    "len(stations_list)"
   ]
  },
  {
   "cell_type": "markdown",
   "metadata": {
    "colab_type": "text",
    "id": "l2FqG6DhIQ1h"
   },
   "source": [
    "Now we have a list of dictionaries with all the information about each of the 293 stations extracted from the `stations_used` dataframe, namely ID, name, capacity, latitude, longitude, if it was matched or not, and the score of the match if fuzzywuzy was used. Now let's turn it into a dataframe to get a full list of stations for the ridership data."
   ]
  },
  {
   "cell_type": "code",
   "execution_count": 45,
   "metadata": {
    "colab": {
     "base_uri": "https://localhost:8080/",
     "height": 197
    },
    "colab_type": "code",
    "id": "b-716oF-Na2D",
    "outputId": "a6d2226a-35fe-4a35-a19b-62af61872a44"
   },
   "outputs": [
    {
     "data": {
      "text/html": [
       "<div>\n",
       "<style scoped>\n",
       "    .dataframe tbody tr th:only-of-type {\n",
       "        vertical-align: middle;\n",
       "    }\n",
       "\n",
       "    .dataframe tbody tr th {\n",
       "        vertical-align: top;\n",
       "    }\n",
       "\n",
       "    .dataframe thead th {\n",
       "        text-align: right;\n",
       "    }\n",
       "</style>\n",
       "<table border=\"1\" class=\"dataframe\">\n",
       "  <thead>\n",
       "    <tr style=\"text-align: right;\">\n",
       "      <th></th>\n",
       "      <th>st_id</th>\n",
       "      <th>st_name</th>\n",
       "      <th>cap</th>\n",
       "      <th>lat</th>\n",
       "      <th>lon</th>\n",
       "      <th>matched</th>\n",
       "      <th>score</th>\n",
       "    </tr>\n",
       "  </thead>\n",
       "  <tbody>\n",
       "    <tr>\n",
       "      <th>0</th>\n",
       "      <td>7268</td>\n",
       "      <td>111 Bond St (North of Dundas St E)  - SMART</td>\n",
       "      <td>16.0</td>\n",
       "      <td>43.656927</td>\n",
       "      <td>-79.378497</td>\n",
       "      <td>strmatch</td>\n",
       "      <td>100.0</td>\n",
       "    </tr>\n",
       "    <tr>\n",
       "      <th>1</th>\n",
       "      <td>7071</td>\n",
       "      <td>161 Bleecker St (South of Wellesley)</td>\n",
       "      <td>23.0</td>\n",
       "      <td>43.666233</td>\n",
       "      <td>-79.373327</td>\n",
       "      <td>strmatch</td>\n",
       "      <td>100.0</td>\n",
       "    </tr>\n",
       "    <tr>\n",
       "      <th>2</th>\n",
       "      <td>7033</td>\n",
       "      <td>Union Station</td>\n",
       "      <td>26.0</td>\n",
       "      <td>43.645609</td>\n",
       "      <td>-79.380386</td>\n",
       "      <td>fuzzywuzy</td>\n",
       "      <td>100.0</td>\n",
       "    </tr>\n",
       "    <tr>\n",
       "      <th>3</th>\n",
       "      <td>7123</td>\n",
       "      <td>424 Wellington St W</td>\n",
       "      <td>15.0</td>\n",
       "      <td>43.643834</td>\n",
       "      <td>-79.396649</td>\n",
       "      <td>strmatch</td>\n",
       "      <td>100.0</td>\n",
       "    </tr>\n",
       "    <tr>\n",
       "      <th>4</th>\n",
       "      <td>7123</td>\n",
       "      <td>424 Wellington St W</td>\n",
       "      <td>15.0</td>\n",
       "      <td>43.643834</td>\n",
       "      <td>-79.396649</td>\n",
       "      <td>fuzzywuzy</td>\n",
       "      <td>95.0</td>\n",
       "    </tr>\n",
       "  </tbody>\n",
       "</table>\n",
       "</div>"
      ],
      "text/plain": [
       "  st_id                                      st_name   cap        lat  \\\n",
       "0  7268  111 Bond St (North of Dundas St E)  - SMART  16.0  43.656927   \n",
       "1  7071         161 Bleecker St (South of Wellesley)  23.0  43.666233   \n",
       "2  7033                                Union Station  26.0  43.645609   \n",
       "3  7123                          424 Wellington St W  15.0  43.643834   \n",
       "4  7123                          424 Wellington St W  15.0  43.643834   \n",
       "\n",
       "         lon    matched  score  \n",
       "0 -79.378497   strmatch  100.0  \n",
       "1 -79.373327   strmatch  100.0  \n",
       "2 -79.380386  fuzzywuzy  100.0  \n",
       "3 -79.396649   strmatch  100.0  \n",
       "4 -79.396649  fuzzywuzy   95.0  "
      ]
     },
     "execution_count": 45,
     "metadata": {},
     "output_type": "execute_result"
    }
   ],
   "source": [
    "#Convert list of dictionaries into dataframe\n",
    "stations_df = pd.DataFrame(stations_list)\n",
    "stations_df.columns =['st_id', 'st_name', 'cap', 'lat', 'lon', 'matched', 'score']\n",
    "stations_df.head(5)"
   ]
  },
  {
   "cell_type": "markdown",
   "metadata": {
    "colab_type": "text",
    "id": "4zdd4J4Lyzig"
   },
   "source": [
    "Now we are going to use this map to merge information about the capacity, ID, latitude, longitude and name of the station to our ``stations_2017`` dataframe to complete the information contained in it."
   ]
  },
  {
   "cell_type": "code",
   "execution_count": 46,
   "metadata": {
    "colab": {
     "base_uri": "https://localhost:8080/",
     "height": 107
    },
    "colab_type": "code",
    "id": "aYDvZGA2IhXF",
    "outputId": "08d839ef-d2c5-45ae-9099-e776f371b714"
   },
   "outputs": [
    {
     "data": {
      "text/html": [
       "<div>\n",
       "<style scoped>\n",
       "    .dataframe tbody tr th:only-of-type {\n",
       "        vertical-align: middle;\n",
       "    }\n",
       "\n",
       "    .dataframe tbody tr th {\n",
       "        vertical-align: top;\n",
       "    }\n",
       "\n",
       "    .dataframe thead th {\n",
       "        text-align: right;\n",
       "    }\n",
       "</style>\n",
       "<table border=\"1\" class=\"dataframe\">\n",
       "  <thead>\n",
       "    <tr style=\"text-align: right;\">\n",
       "      <th></th>\n",
       "      <th>id</th>\n",
       "      <th>station</th>\n",
       "      <th>st_id</th>\n",
       "      <th>st_name</th>\n",
       "      <th>cap</th>\n",
       "      <th>lat</th>\n",
       "      <th>lon</th>\n",
       "      <th>matched</th>\n",
       "      <th>score</th>\n",
       "    </tr>\n",
       "  </thead>\n",
       "  <tbody>\n",
       "    <tr>\n",
       "      <th>0</th>\n",
       "      <td>NaN</td>\n",
       "      <td>111 Bond St (North of Dundas St E)  - SMART</td>\n",
       "      <td>7268</td>\n",
       "      <td>111 Bond St (North of Dundas St E)  - SMART</td>\n",
       "      <td>16.0</td>\n",
       "      <td>43.656927</td>\n",
       "      <td>-79.378497</td>\n",
       "      <td>strmatch</td>\n",
       "      <td>100.0</td>\n",
       "    </tr>\n",
       "    <tr>\n",
       "      <th>1</th>\n",
       "      <td>NaN</td>\n",
       "      <td>161 Bleecker St (South of Wellesley)</td>\n",
       "      <td>7071</td>\n",
       "      <td>161 Bleecker St (South of Wellesley)</td>\n",
       "      <td>23.0</td>\n",
       "      <td>43.666233</td>\n",
       "      <td>-79.373327</td>\n",
       "      <td>strmatch</td>\n",
       "      <td>100.0</td>\n",
       "    </tr>\n",
       "  </tbody>\n",
       "</table>\n",
       "</div>"
      ],
      "text/plain": [
       "   id                                      station st_id  \\\n",
       "0 NaN  111 Bond St (North of Dundas St E)  - SMART  7268   \n",
       "1 NaN         161 Bleecker St (South of Wellesley)  7071   \n",
       "\n",
       "                                       st_name   cap        lat        lon  \\\n",
       "0  111 Bond St (North of Dundas St E)  - SMART  16.0  43.656927 -79.378497   \n",
       "1         161 Bleecker St (South of Wellesley)  23.0  43.666233 -79.373327   \n",
       "\n",
       "    matched  score  \n",
       "0  strmatch  100.0  \n",
       "1  strmatch  100.0  "
      ]
     },
     "execution_count": 46,
     "metadata": {},
     "output_type": "execute_result"
    }
   ],
   "source": [
    "#Merge dataframes\n",
    "stations_df = stations_used.reset_index(drop=True).merge(stations_df.reset_index(drop=True), \n",
    "                                                         left_index=True, \n",
    "                                                         right_index=True)\n",
    "#Display a bit\n",
    "stations_df.head(2)"
   ]
  },
  {
   "cell_type": "markdown",
   "metadata": {
    "colab_type": "text",
    "id": "oeUDKofKNTQR"
   },
   "source": [
    "Now let's check if we have some inconsistencies in the mapping carried out."
   ]
  },
  {
   "cell_type": "code",
   "execution_count": 47,
   "metadata": {
    "colab": {
     "base_uri": "https://localhost:8080/",
     "height": 437
    },
    "colab_type": "code",
    "id": "a17jQNt8dko2",
    "outputId": "1f3c6e4e-9575-4dec-c69d-7560d09a44bb"
   },
   "outputs": [
    {
     "data": {
      "text/html": [
       "<div>\n",
       "<style scoped>\n",
       "    .dataframe tbody tr th:only-of-type {\n",
       "        vertical-align: middle;\n",
       "    }\n",
       "\n",
       "    .dataframe tbody tr th {\n",
       "        vertical-align: top;\n",
       "    }\n",
       "\n",
       "    .dataframe thead th {\n",
       "        text-align: right;\n",
       "    }\n",
       "</style>\n",
       "<table border=\"1\" class=\"dataframe\">\n",
       "  <thead>\n",
       "    <tr style=\"text-align: right;\">\n",
       "      <th></th>\n",
       "      <th>id</th>\n",
       "      <th>station</th>\n",
       "      <th>st_id</th>\n",
       "      <th>st_name</th>\n",
       "      <th>cap</th>\n",
       "      <th>lat</th>\n",
       "      <th>lon</th>\n",
       "      <th>matched</th>\n",
       "      <th>score</th>\n",
       "    </tr>\n",
       "  </thead>\n",
       "  <tbody>\n",
       "    <tr>\n",
       "      <th>0</th>\n",
       "      <td>NaN</td>\n",
       "      <td>Bloor GO / UP Station/ Rail Path</td>\n",
       "      <td>NaN</td>\n",
       "      <td>Bloor GO / UP Station/ Rail Path</td>\n",
       "      <td>NaN</td>\n",
       "      <td>NaN</td>\n",
       "      <td>NaN</td>\n",
       "      <td>No</td>\n",
       "      <td>NaN</td>\n",
       "    </tr>\n",
       "    <tr>\n",
       "      <th>1</th>\n",
       "      <td>NaN</td>\n",
       "      <td>Bloor St / Brunswick Ave</td>\n",
       "      <td>NaN</td>\n",
       "      <td>Bloor St / Brunswick Ave</td>\n",
       "      <td>NaN</td>\n",
       "      <td>NaN</td>\n",
       "      <td>NaN</td>\n",
       "      <td>No</td>\n",
       "      <td>NaN</td>\n",
       "    </tr>\n",
       "    <tr>\n",
       "      <th>2</th>\n",
       "      <td>NaN</td>\n",
       "      <td>Bremner Blvd / Spadina Ave</td>\n",
       "      <td>NaN</td>\n",
       "      <td>Bremner Blvd / Spadina Ave</td>\n",
       "      <td>NaN</td>\n",
       "      <td>NaN</td>\n",
       "      <td>NaN</td>\n",
       "      <td>No</td>\n",
       "      <td>NaN</td>\n",
       "    </tr>\n",
       "    <tr>\n",
       "      <th>3</th>\n",
       "      <td>NaN</td>\n",
       "      <td>Dockside Dr / Queens Quay E (Sugar Beach)</td>\n",
       "      <td>NaN</td>\n",
       "      <td>Dockside Dr / Queens Quay E (Sugar Beach)</td>\n",
       "      <td>NaN</td>\n",
       "      <td>NaN</td>\n",
       "      <td>NaN</td>\n",
       "      <td>No</td>\n",
       "      <td>NaN</td>\n",
       "    </tr>\n",
       "    <tr>\n",
       "      <th>4</th>\n",
       "      <td>NaN</td>\n",
       "      <td>Fringe Next Stage - 7219</td>\n",
       "      <td>NaN</td>\n",
       "      <td>Fringe Next Stage - 7219</td>\n",
       "      <td>NaN</td>\n",
       "      <td>NaN</td>\n",
       "      <td>NaN</td>\n",
       "      <td>No</td>\n",
       "      <td>NaN</td>\n",
       "    </tr>\n",
       "    <tr>\n",
       "      <th>5</th>\n",
       "      <td>NaN</td>\n",
       "      <td>Margueretta St / College St</td>\n",
       "      <td>NaN</td>\n",
       "      <td>Margueretta St / College St</td>\n",
       "      <td>NaN</td>\n",
       "      <td>NaN</td>\n",
       "      <td>NaN</td>\n",
       "      <td>No</td>\n",
       "      <td>NaN</td>\n",
       "    </tr>\n",
       "    <tr>\n",
       "      <th>6</th>\n",
       "      <td>NaN</td>\n",
       "      <td>Margueretta St / College St W</td>\n",
       "      <td>NaN</td>\n",
       "      <td>Margueretta St / College St W</td>\n",
       "      <td>NaN</td>\n",
       "      <td>NaN</td>\n",
       "      <td>NaN</td>\n",
       "      <td>No</td>\n",
       "      <td>NaN</td>\n",
       "    </tr>\n",
       "    <tr>\n",
       "      <th>7</th>\n",
       "      <td>NaN</td>\n",
       "      <td>Michael Sweet Ave / St. Patrick St</td>\n",
       "      <td>NaN</td>\n",
       "      <td>Michael Sweet Ave / St. Patrick St</td>\n",
       "      <td>NaN</td>\n",
       "      <td>NaN</td>\n",
       "      <td>NaN</td>\n",
       "      <td>No</td>\n",
       "      <td>NaN</td>\n",
       "    </tr>\n",
       "    <tr>\n",
       "      <th>8</th>\n",
       "      <td>NaN</td>\n",
       "      <td>Ontario Place Blvd / Remembrance Dr</td>\n",
       "      <td>NaN</td>\n",
       "      <td>Ontario Place Blvd / Remembrance Dr</td>\n",
       "      <td>NaN</td>\n",
       "      <td>NaN</td>\n",
       "      <td>NaN</td>\n",
       "      <td>No</td>\n",
       "      <td>NaN</td>\n",
       "    </tr>\n",
       "    <tr>\n",
       "      <th>9</th>\n",
       "      <td>NaN</td>\n",
       "      <td>Roxton Rd / College St</td>\n",
       "      <td>NaN</td>\n",
       "      <td>Roxton Rd / College St</td>\n",
       "      <td>NaN</td>\n",
       "      <td>NaN</td>\n",
       "      <td>NaN</td>\n",
       "      <td>No</td>\n",
       "      <td>NaN</td>\n",
       "    </tr>\n",
       "    <tr>\n",
       "      <th>10</th>\n",
       "      <td>NaN</td>\n",
       "      <td>Stephenson Ave / Main St</td>\n",
       "      <td>NaN</td>\n",
       "      <td>Stephenson Ave / Main St</td>\n",
       "      <td>NaN</td>\n",
       "      <td>NaN</td>\n",
       "      <td>NaN</td>\n",
       "      <td>No</td>\n",
       "      <td>NaN</td>\n",
       "    </tr>\n",
       "    <tr>\n",
       "      <th>11</th>\n",
       "      <td>NaN</td>\n",
       "      <td>Temperance St / Yonge St</td>\n",
       "      <td>NaN</td>\n",
       "      <td>Temperance St / Yonge St</td>\n",
       "      <td>NaN</td>\n",
       "      <td>NaN</td>\n",
       "      <td>NaN</td>\n",
       "      <td>No</td>\n",
       "      <td>NaN</td>\n",
       "    </tr>\n",
       "    <tr>\n",
       "      <th>12</th>\n",
       "      <td>NaN</td>\n",
       "      <td>Victoria St / Gould St (Ryerson University)</td>\n",
       "      <td>NaN</td>\n",
       "      <td>Victoria St / Gould St (Ryerson University)</td>\n",
       "      <td>NaN</td>\n",
       "      <td>NaN</td>\n",
       "      <td>NaN</td>\n",
       "      <td>No</td>\n",
       "      <td>NaN</td>\n",
       "    </tr>\n",
       "  </tbody>\n",
       "</table>\n",
       "</div>"
      ],
      "text/plain": [
       "    id                                      station st_id  \\\n",
       "0  NaN             Bloor GO / UP Station/ Rail Path   NaN   \n",
       "1  NaN                     Bloor St / Brunswick Ave   NaN   \n",
       "2  NaN                   Bremner Blvd / Spadina Ave   NaN   \n",
       "3  NaN    Dockside Dr / Queens Quay E (Sugar Beach)   NaN   \n",
       "4  NaN                     Fringe Next Stage - 7219   NaN   \n",
       "5  NaN                  Margueretta St / College St   NaN   \n",
       "6  NaN                Margueretta St / College St W   NaN   \n",
       "7  NaN           Michael Sweet Ave / St. Patrick St   NaN   \n",
       "8  NaN          Ontario Place Blvd / Remembrance Dr   NaN   \n",
       "9  NaN                       Roxton Rd / College St   NaN   \n",
       "10 NaN                     Stephenson Ave / Main St   NaN   \n",
       "11 NaN                     Temperance St / Yonge St   NaN   \n",
       "12 NaN  Victoria St / Gould St (Ryerson University)   NaN   \n",
       "\n",
       "                                        st_name  cap  lat  lon matched  score  \n",
       "0              Bloor GO / UP Station/ Rail Path  NaN  NaN  NaN      No    NaN  \n",
       "1                      Bloor St / Brunswick Ave  NaN  NaN  NaN      No    NaN  \n",
       "2                    Bremner Blvd / Spadina Ave  NaN  NaN  NaN      No    NaN  \n",
       "3     Dockside Dr / Queens Quay E (Sugar Beach)  NaN  NaN  NaN      No    NaN  \n",
       "4                      Fringe Next Stage - 7219  NaN  NaN  NaN      No    NaN  \n",
       "5                   Margueretta St / College St  NaN  NaN  NaN      No    NaN  \n",
       "6                 Margueretta St / College St W  NaN  NaN  NaN      No    NaN  \n",
       "7            Michael Sweet Ave / St. Patrick St  NaN  NaN  NaN      No    NaN  \n",
       "8           Ontario Place Blvd / Remembrance Dr  NaN  NaN  NaN      No    NaN  \n",
       "9                        Roxton Rd / College St  NaN  NaN  NaN      No    NaN  \n",
       "10                     Stephenson Ave / Main St  NaN  NaN  NaN      No    NaN  \n",
       "11                     Temperance St / Yonge St  NaN  NaN  NaN      No    NaN  \n",
       "12  Victoria St / Gould St (Ryerson University)  NaN  NaN  NaN      No    NaN  "
      ]
     },
     "execution_count": 47,
     "metadata": {},
     "output_type": "execute_result"
    }
   ],
   "source": [
    "#Check for null values\n",
    "stations_df.loc[pd.isna(stations_df.st_id), :].reset_index(drop=True)"
   ]
  },
  {
   "cell_type": "markdown",
   "metadata": {
    "colab_type": "text",
    "id": "JpoqZiQt3t6M"
   },
   "source": [
    "After reviewing manually these registers, it turns out that most of these 13 stations no longer exist (according to BST data), the only two stations that were found and not matched by our algorithm were:\n",
    "\n",
    "- 'Temperance St / Yonge St\t' -> 'Temperance St. Station'\n",
    "- 'Bloor GO / UP Station/ Rail Path\t' -> 'Bloor GO / UP Station (West Toronto Railpath)'\n",
    "\n",
    "To improve the score in these two, we will modify the `stations_df` data to replace these names in order to match for both of these stations to the map below. We are offering a little bit of help to the string matching algorithm."
   ]
  },
  {
   "cell_type": "code",
   "execution_count": 48,
   "metadata": {
    "colab": {},
    "colab_type": "code",
    "id": "LotqN61Y45XY"
   },
   "outputs": [],
   "source": [
    "#Stations to be replaced\n",
    "str_dict = {'Temperance St / Yonge St': 'Temperance St. Station',\n",
    "            'Bloor GO / UP Station/ Rail Path\t': 'Bloor GO / UP Station (West Toronto Railpath)'}\n",
    "\n",
    "# Find these stations and modify the stations_df map.\n",
    "for key, value in str_dict.items():\n",
    "  \n",
    "    #Get index\n",
    "    idx = stations_df.index[stations_df.station == key.strip()]\n",
    "    value = value.strip()\n",
    "\n",
    "    #Fill values manually\n",
    "    stations_df.loc[idx, 'st_id'] = stations_data.station_id[stations_data.name == value].values[0]\n",
    "    stations_df.loc[idx, 'st_name'] = stations_data.name[stations_data.name == value].values[0]\n",
    "    stations_df.loc[idx, 'cap'] = stations_data.capacity[stations_data.name == value].values[0]\n",
    "    stations_df.loc[idx, 'lat'] = stations_data.lat[stations_data.name == value].values[0]\n",
    "    stations_df.loc[idx, 'lon'] = stations_data.lon[stations_data.name == value].values[0]\n",
    "    stations_df.loc[idx, 'matched'] = 'No'\n",
    "    stations_df.loc[idx, 'score'] = None"
   ]
  },
  {
   "cell_type": "markdown",
   "metadata": {
    "colab_type": "text",
    "id": "hOMjz8Kc0kga"
   },
   "source": [
    "Check if it was corrected and we have two registers less in our dataframe."
   ]
  },
  {
   "cell_type": "code",
   "execution_count": 49,
   "metadata": {
    "colab": {
     "base_uri": "https://localhost:8080/",
     "height": 377
    },
    "colab_type": "code",
    "id": "SR5NKHgyt2yH",
    "outputId": "e403ed8e-48a7-46ca-f9eb-d6218571f256"
   },
   "outputs": [
    {
     "data": {
      "text/html": [
       "<div>\n",
       "<style scoped>\n",
       "    .dataframe tbody tr th:only-of-type {\n",
       "        vertical-align: middle;\n",
       "    }\n",
       "\n",
       "    .dataframe tbody tr th {\n",
       "        vertical-align: top;\n",
       "    }\n",
       "\n",
       "    .dataframe thead th {\n",
       "        text-align: right;\n",
       "    }\n",
       "</style>\n",
       "<table border=\"1\" class=\"dataframe\">\n",
       "  <thead>\n",
       "    <tr style=\"text-align: right;\">\n",
       "      <th></th>\n",
       "      <th>index</th>\n",
       "      <th>id</th>\n",
       "      <th>station</th>\n",
       "      <th>st_id</th>\n",
       "      <th>st_name</th>\n",
       "      <th>cap</th>\n",
       "      <th>lat</th>\n",
       "      <th>lon</th>\n",
       "      <th>matched</th>\n",
       "      <th>score</th>\n",
       "    </tr>\n",
       "  </thead>\n",
       "  <tbody>\n",
       "    <tr>\n",
       "      <th>0</th>\n",
       "      <td>32</td>\n",
       "      <td>NaN</td>\n",
       "      <td>Bloor St / Brunswick Ave</td>\n",
       "      <td>NaN</td>\n",
       "      <td>Bloor St / Brunswick Ave</td>\n",
       "      <td>NaN</td>\n",
       "      <td>NaN</td>\n",
       "      <td>NaN</td>\n",
       "      <td>No</td>\n",
       "      <td>NaN</td>\n",
       "    </tr>\n",
       "    <tr>\n",
       "      <th>1</th>\n",
       "      <td>44</td>\n",
       "      <td>NaN</td>\n",
       "      <td>Bremner Blvd / Spadina Ave</td>\n",
       "      <td>NaN</td>\n",
       "      <td>Bremner Blvd / Spadina Ave</td>\n",
       "      <td>NaN</td>\n",
       "      <td>NaN</td>\n",
       "      <td>NaN</td>\n",
       "      <td>No</td>\n",
       "      <td>NaN</td>\n",
       "    </tr>\n",
       "    <tr>\n",
       "      <th>2</th>\n",
       "      <td>85</td>\n",
       "      <td>NaN</td>\n",
       "      <td>Dockside Dr / Queens Quay E (Sugar Beach)</td>\n",
       "      <td>NaN</td>\n",
       "      <td>Dockside Dr / Queens Quay E (Sugar Beach)</td>\n",
       "      <td>NaN</td>\n",
       "      <td>NaN</td>\n",
       "      <td>NaN</td>\n",
       "      <td>No</td>\n",
       "      <td>NaN</td>\n",
       "    </tr>\n",
       "    <tr>\n",
       "      <th>3</th>\n",
       "      <td>111</td>\n",
       "      <td>NaN</td>\n",
       "      <td>Fringe Next Stage - 7219</td>\n",
       "      <td>NaN</td>\n",
       "      <td>Fringe Next Stage - 7219</td>\n",
       "      <td>NaN</td>\n",
       "      <td>NaN</td>\n",
       "      <td>NaN</td>\n",
       "      <td>No</td>\n",
       "      <td>NaN</td>\n",
       "    </tr>\n",
       "    <tr>\n",
       "      <th>4</th>\n",
       "      <td>166</td>\n",
       "      <td>NaN</td>\n",
       "      <td>Margueretta St / College St</td>\n",
       "      <td>NaN</td>\n",
       "      <td>Margueretta St / College St</td>\n",
       "      <td>NaN</td>\n",
       "      <td>NaN</td>\n",
       "      <td>NaN</td>\n",
       "      <td>No</td>\n",
       "      <td>NaN</td>\n",
       "    </tr>\n",
       "    <tr>\n",
       "      <th>5</th>\n",
       "      <td>167</td>\n",
       "      <td>NaN</td>\n",
       "      <td>Margueretta St / College St W</td>\n",
       "      <td>NaN</td>\n",
       "      <td>Margueretta St / College St W</td>\n",
       "      <td>NaN</td>\n",
       "      <td>NaN</td>\n",
       "      <td>NaN</td>\n",
       "      <td>No</td>\n",
       "      <td>NaN</td>\n",
       "    </tr>\n",
       "    <tr>\n",
       "      <th>6</th>\n",
       "      <td>173</td>\n",
       "      <td>NaN</td>\n",
       "      <td>Michael Sweet Ave / St. Patrick St</td>\n",
       "      <td>NaN</td>\n",
       "      <td>Michael Sweet Ave / St. Patrick St</td>\n",
       "      <td>NaN</td>\n",
       "      <td>NaN</td>\n",
       "      <td>NaN</td>\n",
       "      <td>No</td>\n",
       "      <td>NaN</td>\n",
       "    </tr>\n",
       "    <tr>\n",
       "      <th>7</th>\n",
       "      <td>180</td>\n",
       "      <td>NaN</td>\n",
       "      <td>Ontario Place Blvd / Remembrance Dr</td>\n",
       "      <td>NaN</td>\n",
       "      <td>Ontario Place Blvd / Remembrance Dr</td>\n",
       "      <td>NaN</td>\n",
       "      <td>NaN</td>\n",
       "      <td>NaN</td>\n",
       "      <td>No</td>\n",
       "      <td>NaN</td>\n",
       "    </tr>\n",
       "    <tr>\n",
       "      <th>8</th>\n",
       "      <td>222</td>\n",
       "      <td>NaN</td>\n",
       "      <td>Roxton Rd / College St</td>\n",
       "      <td>NaN</td>\n",
       "      <td>Roxton Rd / College St</td>\n",
       "      <td>NaN</td>\n",
       "      <td>NaN</td>\n",
       "      <td>NaN</td>\n",
       "      <td>No</td>\n",
       "      <td>NaN</td>\n",
       "    </tr>\n",
       "    <tr>\n",
       "      <th>9</th>\n",
       "      <td>244</td>\n",
       "      <td>NaN</td>\n",
       "      <td>Stephenson Ave / Main St</td>\n",
       "      <td>NaN</td>\n",
       "      <td>Stephenson Ave / Main St</td>\n",
       "      <td>NaN</td>\n",
       "      <td>NaN</td>\n",
       "      <td>NaN</td>\n",
       "      <td>No</td>\n",
       "      <td>NaN</td>\n",
       "    </tr>\n",
       "    <tr>\n",
       "      <th>10</th>\n",
       "      <td>268</td>\n",
       "      <td>NaN</td>\n",
       "      <td>Victoria St / Gould St (Ryerson University)</td>\n",
       "      <td>NaN</td>\n",
       "      <td>Victoria St / Gould St (Ryerson University)</td>\n",
       "      <td>NaN</td>\n",
       "      <td>NaN</td>\n",
       "      <td>NaN</td>\n",
       "      <td>No</td>\n",
       "      <td>NaN</td>\n",
       "    </tr>\n",
       "  </tbody>\n",
       "</table>\n",
       "</div>"
      ],
      "text/plain": [
       "    index  id                                      station st_id  \\\n",
       "0      32 NaN                     Bloor St / Brunswick Ave   NaN   \n",
       "1      44 NaN                   Bremner Blvd / Spadina Ave   NaN   \n",
       "2      85 NaN    Dockside Dr / Queens Quay E (Sugar Beach)   NaN   \n",
       "3     111 NaN                     Fringe Next Stage - 7219   NaN   \n",
       "4     166 NaN                  Margueretta St / College St   NaN   \n",
       "5     167 NaN                Margueretta St / College St W   NaN   \n",
       "6     173 NaN           Michael Sweet Ave / St. Patrick St   NaN   \n",
       "7     180 NaN          Ontario Place Blvd / Remembrance Dr   NaN   \n",
       "8     222 NaN                       Roxton Rd / College St   NaN   \n",
       "9     244 NaN                     Stephenson Ave / Main St   NaN   \n",
       "10    268 NaN  Victoria St / Gould St (Ryerson University)   NaN   \n",
       "\n",
       "                                        st_name  cap  lat  lon matched  score  \n",
       "0                      Bloor St / Brunswick Ave  NaN  NaN  NaN      No    NaN  \n",
       "1                    Bremner Blvd / Spadina Ave  NaN  NaN  NaN      No    NaN  \n",
       "2     Dockside Dr / Queens Quay E (Sugar Beach)  NaN  NaN  NaN      No    NaN  \n",
       "3                      Fringe Next Stage - 7219  NaN  NaN  NaN      No    NaN  \n",
       "4                   Margueretta St / College St  NaN  NaN  NaN      No    NaN  \n",
       "5                 Margueretta St / College St W  NaN  NaN  NaN      No    NaN  \n",
       "6            Michael Sweet Ave / St. Patrick St  NaN  NaN  NaN      No    NaN  \n",
       "7           Ontario Place Blvd / Remembrance Dr  NaN  NaN  NaN      No    NaN  \n",
       "8                        Roxton Rd / College St  NaN  NaN  NaN      No    NaN  \n",
       "9                      Stephenson Ave / Main St  NaN  NaN  NaN      No    NaN  \n",
       "10  Victoria St / Gould St (Ryerson University)  NaN  NaN  NaN      No    NaN  "
      ]
     },
     "execution_count": 49,
     "metadata": {},
     "output_type": "execute_result"
    }
   ],
   "source": [
    "stations_df.loc[pd.isna(stations_df.st_id), :].reset_index()"
   ]
  },
  {
   "cell_type": "markdown",
   "metadata": {
    "colab_type": "text",
    "id": "xpC1zEUNPyNb"
   },
   "source": [
    "Great, the two stations that we needed information from are now correct. Now it's time to map the values to the stations; for this, we will extract a subset of `stations_df` because not all the information is needed."
   ]
  },
  {
   "cell_type": "code",
   "execution_count": 50,
   "metadata": {
    "colab": {
     "base_uri": "https://localhost:8080/",
     "height": 197
    },
    "colab_type": "code",
    "id": "5JYTjEu9ecFp",
    "outputId": "fd1ddf5f-12cf-43b6-8c4c-ccb182df2f02"
   },
   "outputs": [
    {
     "data": {
      "text/html": [
       "<div>\n",
       "<style scoped>\n",
       "    .dataframe tbody tr th:only-of-type {\n",
       "        vertical-align: middle;\n",
       "    }\n",
       "\n",
       "    .dataframe tbody tr th {\n",
       "        vertical-align: top;\n",
       "    }\n",
       "\n",
       "    .dataframe thead th {\n",
       "        text-align: right;\n",
       "    }\n",
       "</style>\n",
       "<table border=\"1\" class=\"dataframe\">\n",
       "  <thead>\n",
       "    <tr style=\"text-align: right;\">\n",
       "      <th></th>\n",
       "      <th>station</th>\n",
       "      <th>st_id</th>\n",
       "      <th>st_name</th>\n",
       "      <th>lat</th>\n",
       "      <th>lon</th>\n",
       "      <th>cap</th>\n",
       "    </tr>\n",
       "  </thead>\n",
       "  <tbody>\n",
       "    <tr>\n",
       "      <th>0</th>\n",
       "      <td>111 Bond St (North of Dundas St E)  - SMART</td>\n",
       "      <td>7268</td>\n",
       "      <td>111 Bond St (North of Dundas St E)  - SMART</td>\n",
       "      <td>43.656927</td>\n",
       "      <td>-79.378497</td>\n",
       "      <td>16.0</td>\n",
       "    </tr>\n",
       "    <tr>\n",
       "      <th>1</th>\n",
       "      <td>161 Bleecker St (South of Wellesley)</td>\n",
       "      <td>7071</td>\n",
       "      <td>161 Bleecker St (South of Wellesley)</td>\n",
       "      <td>43.666233</td>\n",
       "      <td>-79.373327</td>\n",
       "      <td>23.0</td>\n",
       "    </tr>\n",
       "    <tr>\n",
       "      <th>2</th>\n",
       "      <td>25 York St (ACC/Union Station South)</td>\n",
       "      <td>7033</td>\n",
       "      <td>Union Station</td>\n",
       "      <td>43.645609</td>\n",
       "      <td>-79.380386</td>\n",
       "      <td>26.0</td>\n",
       "    </tr>\n",
       "    <tr>\n",
       "      <th>3</th>\n",
       "      <td>424 Wellington St W</td>\n",
       "      <td>7123</td>\n",
       "      <td>424 Wellington St W</td>\n",
       "      <td>43.643834</td>\n",
       "      <td>-79.396649</td>\n",
       "      <td>15.0</td>\n",
       "    </tr>\n",
       "    <tr>\n",
       "      <th>4</th>\n",
       "      <td>424 Wellington St. W</td>\n",
       "      <td>7123</td>\n",
       "      <td>424 Wellington St W</td>\n",
       "      <td>43.643834</td>\n",
       "      <td>-79.396649</td>\n",
       "      <td>15.0</td>\n",
       "    </tr>\n",
       "  </tbody>\n",
       "</table>\n",
       "</div>"
      ],
      "text/plain": [
       "                                       station st_id  \\\n",
       "0  111 Bond St (North of Dundas St E)  - SMART  7268   \n",
       "1         161 Bleecker St (South of Wellesley)  7071   \n",
       "2         25 York St (ACC/Union Station South)  7033   \n",
       "3                          424 Wellington St W  7123   \n",
       "4                         424 Wellington St. W  7123   \n",
       "\n",
       "                                       st_name        lat        lon   cap  \n",
       "0  111 Bond St (North of Dundas St E)  - SMART  43.656927 -79.378497  16.0  \n",
       "1         161 Bleecker St (South of Wellesley)  43.666233 -79.373327  23.0  \n",
       "2                                Union Station  43.645609 -79.380386  26.0  \n",
       "3                          424 Wellington St W  43.643834 -79.396649  15.0  \n",
       "4                          424 Wellington St W  43.643834 -79.396649  15.0  "
      ]
     },
     "execution_count": 50,
     "metadata": {},
     "output_type": "execute_result"
    }
   ],
   "source": [
    "#Create the map to use\n",
    "stations_map = stations_df[['station', 'st_id', 'st_name', 'lat', 'lon', 'cap']]\n",
    "stations_map.station = stations_map.station.str.strip()\n",
    "stations_map.head()"
   ]
  },
  {
   "cell_type": "markdown",
   "metadata": {
    "colab_type": "text",
    "id": "hsVNYj0H1VrZ"
   },
   "source": [
    "Now, before we finally assign the new data to the ``bike_df`` main dataframe we are going to need a bit of string preprocessing"
   ]
  },
  {
   "cell_type": "code",
   "execution_count": 51,
   "metadata": {
    "colab": {},
    "colab_type": "code",
    "id": "tWboyScKKhM4"
   },
   "outputs": [],
   "source": [
    "bike_df.from_station_name = bike_df.from_station_name.str.strip()\n",
    "bike_df.to_station_name = bike_df.to_station_name.str.strip()"
   ]
  },
  {
   "cell_type": "markdown",
   "metadata": {
    "colab_type": "text",
    "id": "2k5U6U7jfGJ4"
   },
   "source": [
    "Merge the ``stations_map`` with our main ridership dataframe to fix the origin and destination information and attached extra data."
   ]
  },
  {
   "cell_type": "code",
   "execution_count": 52,
   "metadata": {
    "colab": {},
    "colab_type": "code",
    "id": "-N8PZ61_GEsS"
   },
   "outputs": [],
   "source": [
    "bike_df = bike_df.merge(stations_map,\n",
    "                      how='left', \n",
    "                      left_on='from_station_name', \n",
    "                      right_on='station')\\\n",
    "                  .merge(stations_map, \n",
    "                      how='left', \n",
    "                      left_on='to_station_name', \n",
    "                      right_on='station', suffixes = ('_orig','_dest'))"
   ]
  },
  {
   "cell_type": "markdown",
   "metadata": {
    "colab_type": "text",
    "id": "5nbMfBEstH6-"
   },
   "source": [
    "Now let's see if there were any stations left to match for the origin and destination stations."
   ]
  },
  {
   "cell_type": "code",
   "execution_count": 53,
   "metadata": {
    "colab": {
     "base_uri": "https://localhost:8080/",
     "height": 34
    },
    "colab_type": "code",
    "id": "D_CYytWcorN9",
    "outputId": "cb6280e6-f9c7-41a8-9b24-b8a46285ea6c"
   },
   "outputs": [
    {
     "data": {
      "text/plain": [
       "11"
      ]
     },
     "execution_count": 53,
     "metadata": {},
     "output_type": "execute_result"
    }
   ],
   "source": [
    "bike_df.from_station_name[pd.isna(bike_df.st_id_orig)].nunique()"
   ]
  },
  {
   "cell_type": "code",
   "execution_count": 54,
   "metadata": {
    "colab": {
     "base_uri": "https://localhost:8080/",
     "height": 34
    },
    "colab_type": "code",
    "id": "n7UCmWuxrIFK",
    "outputId": "e9e378c0-64e8-4b80-cfa5-f190ef630ac7"
   },
   "outputs": [
    {
     "data": {
      "text/plain": [
       "11"
      ]
     },
     "execution_count": 54,
     "metadata": {},
     "output_type": "execute_result"
    }
   ],
   "source": [
    "bike_df.to_station_name[pd.isna(bike_df.st_id_dest)].nunique()"
   ]
  },
  {
   "cell_type": "markdown",
   "metadata": {
    "colab_type": "text",
    "id": "Z-xhXXmVhv02"
   },
   "source": [
    "This is expected since we saw before that we did not have any data for 11 stations (which are represented here). That is to say, the only null values that we have for non-matched stations are the ones we already know no longer exist. Now let's drop some unusefull columns from this wide dataset"
   ]
  },
  {
   "cell_type": "code",
   "execution_count": 55,
   "metadata": {
    "colab": {
     "base_uri": "https://localhost:8080/",
     "height": 131
    },
    "colab_type": "code",
    "id": "tPWWdLtw1zwu",
    "outputId": "55bdac48-2e13-43de-c946-6f51b4c4a935"
   },
   "outputs": [
    {
     "data": {
      "text/html": [
       "<div>\n",
       "<style scoped>\n",
       "    .dataframe tbody tr th:only-of-type {\n",
       "        vertical-align: middle;\n",
       "    }\n",
       "\n",
       "    .dataframe tbody tr th {\n",
       "        vertical-align: top;\n",
       "    }\n",
       "\n",
       "    .dataframe thead th {\n",
       "        text-align: right;\n",
       "    }\n",
       "</style>\n",
       "<table border=\"1\" class=\"dataframe\">\n",
       "  <thead>\n",
       "    <tr style=\"text-align: right;\">\n",
       "      <th></th>\n",
       "      <th>from_station_id</th>\n",
       "      <th>from_station_name</th>\n",
       "      <th>to_station_id</th>\n",
       "      <th>to_station_name</th>\n",
       "      <th>trip_duration_seconds</th>\n",
       "      <th>trip_id</th>\n",
       "      <th>user_type</th>\n",
       "      <th>trip_start_time_f</th>\n",
       "      <th>trip_stop_time_f</th>\n",
       "      <th>station_orig</th>\n",
       "      <th>...</th>\n",
       "      <th>st_name_orig</th>\n",
       "      <th>lat_orig</th>\n",
       "      <th>lon_orig</th>\n",
       "      <th>cap_orig</th>\n",
       "      <th>station_dest</th>\n",
       "      <th>st_id_dest</th>\n",
       "      <th>st_name_dest</th>\n",
       "      <th>lat_dest</th>\n",
       "      <th>lon_dest</th>\n",
       "      <th>cap_dest</th>\n",
       "    </tr>\n",
       "  </thead>\n",
       "  <tbody>\n",
       "    <tr>\n",
       "      <th>0</th>\n",
       "      <td>NaN</td>\n",
       "      <td>Queens Quay W / Dan Leckie Way</td>\n",
       "      <td>NaN</td>\n",
       "      <td>Fort York Blvd / Garrison Rd</td>\n",
       "      <td>394</td>\n",
       "      <td>462305</td>\n",
       "      <td>Casual</td>\n",
       "      <td>2016-01-10</td>\n",
       "      <td>2016-01-10 00:07:00</td>\n",
       "      <td>Queens Quay W / Dan Leckie Way</td>\n",
       "      <td>...</td>\n",
       "      <td>Queens Quay W / Dan Leckie Way</td>\n",
       "      <td>43.636533</td>\n",
       "      <td>-79.395854</td>\n",
       "      <td>27.0</td>\n",
       "      <td>Fort York Blvd / Garrison Rd</td>\n",
       "      <td>7211</td>\n",
       "      <td>Fort York Blvd / Garrison Rd</td>\n",
       "      <td>43.6375</td>\n",
       "      <td>-79.406111</td>\n",
       "      <td>15.0</td>\n",
       "    </tr>\n",
       "  </tbody>\n",
       "</table>\n",
       "<p>1 rows × 21 columns</p>\n",
       "</div>"
      ],
      "text/plain": [
       "   from_station_id               from_station_name  to_station_id  \\\n",
       "0              NaN  Queens Quay W / Dan Leckie Way            NaN   \n",
       "\n",
       "                to_station_name  trip_duration_seconds  trip_id user_type  \\\n",
       "0  Fort York Blvd / Garrison Rd                    394   462305    Casual   \n",
       "\n",
       "  trip_start_time_f    trip_stop_time_f                    station_orig  ...  \\\n",
       "0        2016-01-10 2016-01-10 00:07:00  Queens Quay W / Dan Leckie Way  ...   \n",
       "\n",
       "                     st_name_orig   lat_orig   lon_orig  cap_orig  \\\n",
       "0  Queens Quay W / Dan Leckie Way  43.636533 -79.395854      27.0   \n",
       "\n",
       "                   station_dest st_id_dest                  st_name_dest  \\\n",
       "0  Fort York Blvd / Garrison Rd       7211  Fort York Blvd / Garrison Rd   \n",
       "\n",
       "  lat_dest   lon_dest  cap_dest  \n",
       "0  43.6375 -79.406111      15.0  \n",
       "\n",
       "[1 rows x 21 columns]"
      ]
     },
     "execution_count": 55,
     "metadata": {},
     "output_type": "execute_result"
    }
   ],
   "source": [
    "bike_df.head(1)"
   ]
  },
  {
   "cell_type": "code",
   "execution_count": 56,
   "metadata": {
    "colab": {},
    "colab_type": "code",
    "id": "dvvHYFcgh2iv"
   },
   "outputs": [],
   "source": [
    "bike_df.drop(columns=['station_orig', 'station_dest', 'from_station_id', \n",
    "                         'to_station_id', 'from_station_name', 'to_station_name'], inplace=True)"
   ]
  },
  {
   "cell_type": "markdown",
   "metadata": {
    "colab_type": "text",
    "id": "C8yGMCphnN0j"
   },
   "source": [
    "Now let's drop the trips with **unknown origin and destination** stations since those are not useful for our analysis"
   ]
  },
  {
   "cell_type": "code",
   "execution_count": 57,
   "metadata": {
    "colab": {
     "base_uri": "https://localhost:8080/",
     "height": 34
    },
    "colab_type": "code",
    "id": "hnDiI03ZnRpo",
    "outputId": "9d890b65-beb9-434a-8720-4a2ab36abc4a"
   },
   "outputs": [
    {
     "data": {
      "text/plain": [
       "10139"
      ]
     },
     "execution_count": 57,
     "metadata": {},
     "output_type": "execute_result"
    }
   ],
   "source": [
    "#How many of those registers we have?\n",
    "bike_df.index[pd.isna(bike_df.st_id_orig) &  pd.isna(bike_df.st_id_dest)].nunique()"
   ]
  },
  {
   "cell_type": "code",
   "execution_count": 58,
   "metadata": {
    "colab": {},
    "colab_type": "code",
    "id": "BD872HgK0YEm"
   },
   "outputs": [],
   "source": [
    "#Drop\n",
    "bike_df.drop(index=bike_df.index[pd.isna(bike_df.st_id_orig) &  pd.isna(bike_df.st_id_dest)], inplace=True)"
   ]
  },
  {
   "cell_type": "markdown",
   "metadata": {
    "colab_type": "text",
    "id": "9nkHw61q_7fF"
   },
   "source": [
    "**Partial station data**\n",
    "\n",
    "We also have some data in which one of the two stations is unknown. We will perform some EDA on it to assess whether if we could omit it or not."
   ]
  },
  {
   "cell_type": "code",
   "execution_count": 59,
   "metadata": {
    "colab": {},
    "colab_type": "code",
    "id": "7CyG9RrWAHrE"
   },
   "outputs": [],
   "source": [
    "#Extract the partial records\n",
    "partial_records = bike_df[pd.isna(bike_df.st_id_orig) | pd.isna(bike_df.st_id_dest)]"
   ]
  },
  {
   "cell_type": "markdown",
   "metadata": {
    "colab_type": "text",
    "id": "DEKxPVo8Aips"
   },
   "source": [
    "How are these partial records distributed during the year?"
   ]
  },
  {
   "cell_type": "code",
   "execution_count": 60,
   "metadata": {
    "colab": {
     "base_uri": "https://localhost:8080/",
     "height": 370
    },
    "colab_type": "code",
    "id": "9323gTxTAdpA",
    "outputId": "6ccaff6b-c346-4427-9f59-4b8a3892d858"
   },
   "outputs": [
    {
     "data": {
      "text/plain": [
       "Text(0.5, 0, 'Months')"
      ]
     },
     "execution_count": 60,
     "metadata": {},
     "output_type": "execute_result"
    },
    {
     "data": {
      "image/png": "[encoded data removed]",
      "text/plain": [
       "<Figure size 1080x360 with 2 Axes>"
      ]
     },
     "metadata": {
      "needs_background": "light"
     },
     "output_type": "display_data"
    }
   ],
   "source": [
    "fig, ax = plt.subplots(nrows=1, ncols=2, figsize=(15,5))\n",
    "\n",
    "# Firtst plot the distribution of trips during the whole year\n",
    "bike_df.groupby(bike_df.trip_start_time_f.dt.month).aggregate({'trip_id': 'count'}).plot(kind='bar', ax=ax[0])\n",
    "ax[0].set_title('All of the trips')\n",
    "ax[0].set_xlabel('Months')\n",
    "partial_records.groupby(partial_records.trip_start_time_f.dt.month).aggregate({'trip_id': 'count'}).plot(kind='bar', ax=ax[1])\n",
    "ax[1].set_title('Partial station data')\n",
    "ax[1].set_xlabel('Months')"
   ]
  },
  {
   "cell_type": "markdown",
   "metadata": {
    "colab_type": "text",
    "id": "C4g4Bdw5Bv5_"
   },
   "source": [
    "We can see that these are pretty much distributed similarly to the full dataset throughout the year, hence it will have a distributed impact on the analysis. \n",
    "\n",
    "However, even though the ``None`` stations no longer exist, and under the assumption that **people using start stations would still take the service to go to another nearby station**, and **people arriving to stop destinations would still get there from any other destination**, we will not delete this data and use it for the analysis."
   ]
  },
  {
   "cell_type": "markdown",
   "metadata": {
    "colab_type": "text",
    "id": "gkwyYFJqjSRL"
   },
   "source": [
    "### Verifying trip duration\n",
    "\n",
    "Since we already have a tidy dataset, it is worth the time verifying the ``trip_duration_seconds`` variable using our timestamps. We will create a new column to calculate the difference between the stop time and the start time, namely ``trip_stop_time_f`` and ``trip_start_time_f``"
   ]
  },
  {
   "cell_type": "code",
   "execution_count": 61,
   "metadata": {
    "colab": {},
    "colab_type": "code",
    "id": "DJz649VTjUDQ"
   },
   "outputs": [],
   "source": [
    "#Calculate the duration\n",
    "bike_df['trip_duration'] = bike_df.trip_stop_time_f - bike_df.trip_start_time_f\n",
    "#Convert it to seconds\n",
    "bike_df['trip_duration'] = bike_df.trip_duration.dt.seconds"
   ]
  },
  {
   "cell_type": "markdown",
   "metadata": {
    "colab_type": "text",
    "id": "KjEBpA4o7gQA"
   },
   "source": [
    "Let's look at some statistics for these two columns and compare:"
   ]
  },
  {
   "cell_type": "code",
   "execution_count": 62,
   "metadata": {
    "colab": {
     "base_uri": "https://localhost:8080/",
     "height": 107
    },
    "colab_type": "code",
    "id": "SEsOjYog7kMQ",
    "outputId": "c22e5afb-7eb8-42af-b268-25ebb4eca008"
   },
   "outputs": [
    {
     "data": {
      "text/html": [
       "<div>\n",
       "<style scoped>\n",
       "    .dataframe tbody tr th:only-of-type {\n",
       "        vertical-align: middle;\n",
       "    }\n",
       "\n",
       "    .dataframe tbody tr th {\n",
       "        vertical-align: top;\n",
       "    }\n",
       "\n",
       "    .dataframe thead th {\n",
       "        text-align: right;\n",
       "    }\n",
       "</style>\n",
       "<table border=\"1\" class=\"dataframe\">\n",
       "  <thead>\n",
       "    <tr style=\"text-align: right;\">\n",
       "      <th></th>\n",
       "      <th>count</th>\n",
       "      <th>mean</th>\n",
       "      <th>std</th>\n",
       "      <th>min</th>\n",
       "      <th>25%</th>\n",
       "      <th>50%</th>\n",
       "      <th>75%</th>\n",
       "      <th>max</th>\n",
       "    </tr>\n",
       "  </thead>\n",
       "  <tbody>\n",
       "    <tr>\n",
       "      <th>trip_duration</th>\n",
       "      <td>2067755.0</td>\n",
       "      <td>16.1</td>\n",
       "      <td>30.6</td>\n",
       "      <td>0.0</td>\n",
       "      <td>7.0</td>\n",
       "      <td>11.0</td>\n",
       "      <td>17.0</td>\n",
       "      <td>1439.0</td>\n",
       "    </tr>\n",
       "    <tr>\n",
       "      <th>trip_duration_seconds</th>\n",
       "      <td>2067755.0</td>\n",
       "      <td>16.5</td>\n",
       "      <td>138.7</td>\n",
       "      <td>0.0</td>\n",
       "      <td>7.0</td>\n",
       "      <td>11.0</td>\n",
       "      <td>17.0</td>\n",
       "      <td>106367.2</td>\n",
       "    </tr>\n",
       "  </tbody>\n",
       "</table>\n",
       "</div>"
      ],
      "text/plain": [
       "                           count  mean    std  min  25%   50%   75%       max\n",
       "trip_duration          2067755.0  16.1   30.6  0.0  7.0  11.0  17.0    1439.0\n",
       "trip_duration_seconds  2067755.0  16.5  138.7  0.0  7.0  11.0  17.0  106367.2"
      ]
     },
     "execution_count": 62,
     "metadata": {},
     "output_type": "execute_result"
    }
   ],
   "source": [
    "pd.DataFrame([bike_df.trip_duration.divide(60).describe().round(1), bike_df.trip_duration_seconds.divide(60).describe().round(1)])"
   ]
  },
  {
   "cell_type": "markdown",
   "metadata": {
    "colab_type": "text",
    "id": "QfYOguGx8hRc"
   },
   "source": [
    "We can see that the calculated information from `trip_duration` looks **more reliable**, we have less variance and less extreme outliers, hence, we will use this information instead of the `trip_duration_seconds` variable given in the dataset. Now we will drop the variable from the dataset"
   ]
  },
  {
   "cell_type": "code",
   "execution_count": 63,
   "metadata": {
    "colab": {},
    "colab_type": "code",
    "id": "ekRMPkU-9uMi"
   },
   "outputs": [],
   "source": [
    "#Drop trip_duration_seconds\n",
    "bike_df.drop(columns='trip_duration_seconds', inplace=True)"
   ]
  },
  {
   "cell_type": "code",
   "execution_count": 64,
   "metadata": {
    "colab": {
     "base_uri": "https://localhost:8080/",
     "height": 301
    },
    "colab_type": "code",
    "id": "bB43LR_s900o",
    "outputId": "3c308f36-cafc-4362-b46e-e2c132628e97"
   },
   "outputs": [
    {
     "data": {
      "text/plain": [
       "trip_id                  0\n",
       "user_type                0\n",
       "trip_start_time_f        0\n",
       "trip_stop_time_f         0\n",
       "st_id_orig           82473\n",
       "st_name_orig             5\n",
       "lat_orig             82473\n",
       "lon_orig             82473\n",
       "cap_orig             82473\n",
       "st_id_dest           84996\n",
       "st_name_dest             0\n",
       "lat_dest             84996\n",
       "lon_dest             84996\n",
       "cap_dest             84996\n",
       "trip_duration            0\n",
       "dtype: int64"
      ]
     },
     "execution_count": 64,
     "metadata": {},
     "output_type": "execute_result"
    }
   ],
   "source": [
    "#Get the null values finally\n",
    "bike_df.isna().sum()"
   ]
  },
  {
   "cell_type": "markdown",
   "metadata": {
    "colab_type": "text",
    "id": "nf4kzQ1W-ZsY"
   },
   "source": [
    "These null values are the unknown start/stop stations in which its pair is known and, as discussed, this will be used during the analysis. Now we got ourselves a clean dataset to analyze."
   ]
  },
  {
   "cell_type": "markdown",
   "metadata": {
    "colab_type": "text",
    "id": "XfFKabj_FG2O"
   },
   "source": [
    "## Outliers detection\n",
    "\n",
    "Let's begin with the `trip_duration` variable which seems to have some outliers given the previous statistics explored\n"
   ]
  },
  {
   "cell_type": "code",
   "execution_count": 65,
   "metadata": {
    "colab": {
     "base_uri": "https://localhost:8080/",
     "height": 302
    },
    "colab_type": "code",
    "id": "xpUri3R2FhtU",
    "outputId": "331907a2-7a96-4848-af16-daeaf041feb9"
   },
   "outputs": [
    {
     "data": {
      "text/plain": [
       "<matplotlib.axes._subplots.AxesSubplot at 0x20b81c1dcc8>"
      ]
     },
     "execution_count": 65,
     "metadata": {},
     "output_type": "execute_result"
    },
    {
     "data": {
      "image/png": "[encoded data removed]",
      "text/plain": [
       "<Figure size 432x288 with 1 Axes>"
      ]
     },
     "metadata": {
      "needs_background": "light"
     },
     "output_type": "display_data"
    }
   ],
   "source": [
    "sns.distplot(bike_df.trip_duration, hist=False)"
   ]
  },
  {
   "cell_type": "markdown",
   "metadata": {},
   "source": [
    "### Remove false trips"
   ]
  },
  {
   "cell_type": "markdown",
   "metadata": {
    "colab_type": "text",
    "id": "FAFB-C_gGZBS"
   },
   "source": [
    "**Toronto Parking Authority (TPA)** generally considers trips less than a minute to be *false trips* in their own analysis, hence we are going to remove these from our data."
   ]
  },
  {
   "cell_type": "code",
   "execution_count": 66,
   "metadata": {
    "colab": {
     "base_uri": "https://localhost:8080/",
     "height": 34
    },
    "colab_type": "code",
    "id": "zBj2L7Z2Gtgv",
    "outputId": "34517977-aaca-4987-d416-b1b0940eae28"
   },
   "outputs": [
    {
     "data": {
      "text/plain": [
       "0.009398598963610292"
      ]
     },
     "execution_count": 66,
     "metadata": {},
     "output_type": "execute_result"
    }
   ],
   "source": [
    "#Calculate the percentage of false trips\n",
    "bike_df[bike_df.trip_duration < 60].shape[0]/bike_df.shape[0]"
   ]
  },
  {
   "cell_type": "markdown",
   "metadata": {
    "colab_type": "text",
    "id": "1Ze0aHvG8WOH"
   },
   "source": [
    "This is about 0.9% of the data to be deleted.\n"
   ]
  },
  {
   "cell_type": "code",
   "execution_count": 67,
   "metadata": {
    "colab": {
     "base_uri": "https://localhost:8080/",
     "height": 302
    },
    "colab_type": "code",
    "id": "z7_whgOEHXJM",
    "outputId": "89bc2e87-b293-4ecd-b6db-04a4005d90dd"
   },
   "outputs": [],
   "source": [
    "#Drop the false trips\n",
    "bike_df = bike_df[bike_df.trip_duration > 60]"
   ]
  },
  {
   "cell_type": "code",
   "execution_count": 68,
   "metadata": {},
   "outputs": [
    {
     "data": {
      "text/plain": [
       "<matplotlib.axes._subplots.AxesSubplot at 0x20bbd183e88>"
      ]
     },
     "execution_count": 68,
     "metadata": {},
     "output_type": "execute_result"
    },
    {
     "data": {
      "image/png": "[encoded data removed]",
      "text/plain": [
       "<Figure size 432x288 with 1 Axes>"
      ]
     },
     "metadata": {
      "needs_background": "light"
     },
     "output_type": "display_data"
    }
   ],
   "source": [
    "#Now plot the new distribution of trips\n",
    "sns.distplot(bike_df.trip_duration, hist=False)"
   ]
  },
  {
   "cell_type": "markdown",
   "metadata": {
    "colab_type": "text",
    "id": "iM5-vo9tHQGV"
   },
   "source": [
    "### Remove long trips\n",
    "\n",
    "The outliers could be defined as data points that are $±1.5 IQR$ (Inter Quartile Range) away from the middle 50% of the data. Some of the outliers will be removed using this criteria:"
   ]
  },
  {
   "cell_type": "code",
   "execution_count": 69,
   "metadata": {
    "colab": {
     "base_uri": "https://localhost:8080/",
     "height": 34
    },
    "colab_type": "code",
    "id": "-7Tv3VuEIJIT",
    "outputId": "82b6f7d4-74c0-4641-f239-25f60e62e409"
   },
   "outputs": [
    {
     "data": {
      "text/plain": [
       "0.05531412043966588"
      ]
     },
     "execution_count": 69,
     "metadata": {},
     "output_type": "execute_result"
    }
   ],
   "source": [
    "# Get 25th and 75th quantile\n",
    "q1 = bike_df.trip_duration.quantile(0.25)\n",
    "q3 = bike_df.trip_duration.quantile(0.75)\n",
    "\n",
    "# Calculate IQR\n",
    "IQR = q3 - q1\n",
    "\n",
    "#Get the percentage of data within this category\n",
    "bike_df[((bike_df.trip_duration < (q1 - 1.5 * IQR)) | \\\n",
    "                                     (bike_df.trip_duration > (q3 + 1.5 * IQR)))] \\\n",
    ".reset_index(drop=True).shape[0]/bike_df.shape[0]"
   ]
  },
  {
   "cell_type": "markdown",
   "metadata": {
    "colab_type": "text",
    "id": "B3HC7rTnO0mX"
   },
   "source": [
    "According to this criteria, outliers represent about 5.6% of the dataset. This data will be removed since we are interested in modeling an \"usual\" service of the system."
   ]
  },
  {
   "cell_type": "code",
   "execution_count": 70,
   "metadata": {
    "colab": {
     "base_uri": "https://localhost:8080/",
     "height": 302
    },
    "colab_type": "code",
    "id": "mgOb9yOLJ04h",
    "outputId": "675500a4-d0eb-4e7e-a254-f0791d7f442a"
   },
   "outputs": [],
   "source": [
    "#Filtering out outliers\n",
    "bike_df = bike_df[~((bike_df.trip_duration < (q1 - 1.5 * IQR)) | \\\n",
    "                    (bike_df.trip_duration > (q3 + 1.5 * IQR)))].reset_index(drop=True)"
   ]
  },
  {
   "cell_type": "code",
   "execution_count": 71,
   "metadata": {},
   "outputs": [
    {
     "data": {
      "text/plain": [
       "<matplotlib.axes._subplots.AxesSubplot at 0x20b8018ffc8>"
      ]
     },
     "execution_count": 71,
     "metadata": {},
     "output_type": "execute_result"
    },
    {
     "data": {
      "image/png": "[encoded data removed]",
      "text/plain": [
       "<Figure size 432x288 with 1 Axes>"
      ]
     },
     "metadata": {
      "needs_background": "light"
     },
     "output_type": "display_data"
    }
   ],
   "source": [
    "#Plot new distribution\n",
    "sns.distplot(bike_df.trip_duration, hist=False)"
   ]
  },
  {
   "cell_type": "markdown",
   "metadata": {},
   "source": [
    "Now we have a better distribution of the `trip_duration` variable to work with less extreme values. We will use this dataset for EDA and Modeling."
   ]
  },
  {
   "cell_type": "code",
   "execution_count": 72,
   "metadata": {},
   "outputs": [
    {
     "data": {
      "text/plain": [
       "(1921834, 15)"
      ]
     },
     "execution_count": 72,
     "metadata": {},
     "output_type": "execute_result"
    }
   ],
   "source": [
    "bike_df.shape"
   ]
  },
  {
   "cell_type": "code",
   "execution_count": 73,
   "metadata": {
    "colab": {},
    "colab_type": "code",
    "id": "fjXQy_Ac4_1D"
   },
   "outputs": [],
   "source": [
    "bike_df.to_csv('../Data/bts_clean.csv',header=True, index=False)"
   ]
  }
 ],
 "metadata": {
  "colab": {
   "collapsed_sections": [],
   "name": "Partial_BikeShareProject.ipynb",
   "provenance": [],
   "toc_visible": true
  },
  "kernelspec": {
   "display_name": "Python 3",
   "language": "python",
   "name": "python3"
  },
  "language_info": {
   "codemirror_mode": {
    "name": "ipython",
    "version": 3
   },
   "file_extension": ".py",
   "mimetype": "text/x-python",
   "name": "python",
   "nbconvert_exporter": "python",
   "pygments_lexer": "ipython3",
   "version": "3.7.5"
  }
 },
 "nbformat": 4,
 "nbformat_minor": 1
}
