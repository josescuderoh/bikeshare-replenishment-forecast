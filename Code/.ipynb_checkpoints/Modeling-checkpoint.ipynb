{
 "cells": [
  {
   "cell_type": "markdown",
   "metadata": {},
   "source": [
    "# Modeling"
   ]
  },
  {
   "cell_type": "code",
   "execution_count": 24,
   "metadata": {},
   "outputs": [],
   "source": [
    "import warnings\n",
    "warnings.filterwarnings('ignore')\n",
    "\n",
    "# Basics\n",
    "import pandas as pd\n",
    "import numpy as np\n",
    "\n",
    "#Viz\n",
    "import matplotlib.pyplot as plt\n",
    "import seaborn as sns\n",
    "\n",
    "#Modeling utils\n",
    "from sklearn.preprocessing import StandardScaler\n",
    "from sklearn.pipeline import Pipeline\n",
    "from sklearn.metrics import r2_score, mean_squared_error\n",
    "from sklearn.model_selection import train_test_split, GridSearchCV\n",
    "\n",
    "#Estimators\n",
    "from sklearn.linear_model import LinearRegression, Ridge, Lasso\n",
    "from sklearn.ensemble import RandomForestRegressor\n",
    "from sklearn.svm import SVR\n",
    "import xgboost as xgb"
   ]
  },
  {
   "cell_type": "markdown",
   "metadata": {},
   "source": [
    "# Load in the data "
   ]
  },
  {
   "cell_type": "code",
   "execution_count": 6,
   "metadata": {},
   "outputs": [],
   "source": [
    "union_df = pd.read_csv('union_df.csv')"
   ]
  },
  {
   "cell_type": "code",
   "execution_count": 7,
   "metadata": {},
   "outputs": [
    {
     "data": {
      "text/html": [
       "<div>\n",
       "<style scoped>\n",
       "    .dataframe tbody tr th:only-of-type {\n",
       "        vertical-align: middle;\n",
       "    }\n",
       "\n",
       "    .dataframe tbody tr th {\n",
       "        vertical-align: top;\n",
       "    }\n",
       "\n",
       "    .dataframe thead th {\n",
       "        text-align: right;\n",
       "    }\n",
       "</style>\n",
       "<table border=\"1\" class=\"dataframe\">\n",
       "  <thead>\n",
       "    <tr style=\"text-align: right;\">\n",
       "      <th></th>\n",
       "      <th>dayofyear</th>\n",
       "      <th>weekday</th>\n",
       "      <th>hour</th>\n",
       "      <th>count_trips_orig</th>\n",
       "      <th>count_trips_dest</th>\n",
       "      <th>rate_of_change</th>\n",
       "    </tr>\n",
       "  </thead>\n",
       "  <tbody>\n",
       "    <tr>\n",
       "      <td>0</td>\n",
       "      <td>0</td>\n",
       "      <td>6</td>\n",
       "      <td>0</td>\n",
       "      <td>0.0</td>\n",
       "      <td>2.0</td>\n",
       "      <td>-2.0</td>\n",
       "    </tr>\n",
       "    <tr>\n",
       "      <td>1</td>\n",
       "      <td>0</td>\n",
       "      <td>6</td>\n",
       "      <td>1</td>\n",
       "      <td>1.0</td>\n",
       "      <td>0.0</td>\n",
       "      <td>1.0</td>\n",
       "    </tr>\n",
       "    <tr>\n",
       "      <td>2</td>\n",
       "      <td>0</td>\n",
       "      <td>6</td>\n",
       "      <td>2</td>\n",
       "      <td>2.0</td>\n",
       "      <td>0.0</td>\n",
       "      <td>2.0</td>\n",
       "    </tr>\n",
       "    <tr>\n",
       "      <td>3</td>\n",
       "      <td>0</td>\n",
       "      <td>6</td>\n",
       "      <td>3</td>\n",
       "      <td>1.0</td>\n",
       "      <td>0.0</td>\n",
       "      <td>1.0</td>\n",
       "    </tr>\n",
       "    <tr>\n",
       "      <td>4</td>\n",
       "      <td>0</td>\n",
       "      <td>6</td>\n",
       "      <td>4</td>\n",
       "      <td>0.0</td>\n",
       "      <td>1.0</td>\n",
       "      <td>-1.0</td>\n",
       "    </tr>\n",
       "  </tbody>\n",
       "</table>\n",
       "</div>"
      ],
      "text/plain": [
       "   dayofyear  weekday  hour  count_trips_orig  count_trips_dest  \\\n",
       "0          0        6     0               0.0               2.0   \n",
       "1          0        6     1               1.0               0.0   \n",
       "2          0        6     2               2.0               0.0   \n",
       "3          0        6     3               1.0               0.0   \n",
       "4          0        6     4               0.0               1.0   \n",
       "\n",
       "   rate_of_change  \n",
       "0            -2.0  \n",
       "1             1.0  \n",
       "2             2.0  \n",
       "3             1.0  \n",
       "4            -1.0  "
      ]
     },
     "execution_count": 7,
     "metadata": {},
     "output_type": "execute_result"
    }
   ],
   "source": [
    "union_df.head()"
   ]
  },
  {
   "cell_type": "markdown",
   "metadata": {
    "colab_type": "text",
    "id": "j4OIHxnRY4gG"
   },
   "source": [
    "# Feature engineering\n",
    "\n",
    "## Time variables\n",
    "\n",
    "Now that we have our time variables as we wanted and the trip counts for each one of those points, we need to make sure that our cyclical variables, namely dayofyear, weekday and hour, preserve their cyclical characteristics of months, days and weeks. This is to say that, the first day of the week should be close to the last day of the previous week, and similar with hours and days of the year. A more in depth explanation of this can be found [here](http://blog.davidkaleko.com/feature-engineering-cyclical-features.html).\n",
    "\n",
    "The transformation of monotonic variables into cyclical variables is explained in the following picture:\n",
    "\n",
    "![alt text](http://blog.davidkaleko.com/images/unit_circle.png)\n",
    "\n",
    "In this way, the hour 0 of a day will be preceded by the hour 23 of the previous day, and so on. For this, we use polar coordinates or sine and cosine components of these variables as follows."
   ]
  },
  {
   "cell_type": "code",
   "execution_count": 8,
   "metadata": {
    "colab": {
     "base_uri": "https://localhost:8080/",
     "height": 217
    },
    "colab_type": "code",
    "id": "9s2tqTbGWeuN",
    "outputId": "0c5ba539-1932-45cc-b63d-4611d3500412"
   },
   "outputs": [
    {
     "data": {
      "text/html": [
       "<div>\n",
       "<style scoped>\n",
       "    .dataframe tbody tr th:only-of-type {\n",
       "        vertical-align: middle;\n",
       "    }\n",
       "\n",
       "    .dataframe tbody tr th {\n",
       "        vertical-align: top;\n",
       "    }\n",
       "\n",
       "    .dataframe thead th {\n",
       "        text-align: right;\n",
       "    }\n",
       "</style>\n",
       "<table border=\"1\" class=\"dataframe\">\n",
       "  <thead>\n",
       "    <tr style=\"text-align: right;\">\n",
       "      <th></th>\n",
       "      <th>dayofyear</th>\n",
       "      <th>weekday</th>\n",
       "      <th>hour</th>\n",
       "      <th>count_trips_orig</th>\n",
       "      <th>count_trips_dest</th>\n",
       "      <th>rate_of_change</th>\n",
       "      <th>dayofyear_sin</th>\n",
       "      <th>dayofyear_cos</th>\n",
       "      <th>weekday_sin</th>\n",
       "      <th>weekday_cos</th>\n",
       "      <th>hour_sin</th>\n",
       "      <th>hour_cos</th>\n",
       "    </tr>\n",
       "  </thead>\n",
       "  <tbody>\n",
       "    <tr>\n",
       "      <td>0</td>\n",
       "      <td>0</td>\n",
       "      <td>6</td>\n",
       "      <td>0</td>\n",
       "      <td>0.0</td>\n",
       "      <td>2.0</td>\n",
       "      <td>-2.0</td>\n",
       "      <td>0.0</td>\n",
       "      <td>1.0</td>\n",
       "      <td>-0.781831</td>\n",
       "      <td>0.62349</td>\n",
       "      <td>0.000000</td>\n",
       "      <td>1.000000</td>\n",
       "    </tr>\n",
       "    <tr>\n",
       "      <td>1</td>\n",
       "      <td>0</td>\n",
       "      <td>6</td>\n",
       "      <td>1</td>\n",
       "      <td>1.0</td>\n",
       "      <td>0.0</td>\n",
       "      <td>1.0</td>\n",
       "      <td>0.0</td>\n",
       "      <td>1.0</td>\n",
       "      <td>-0.781831</td>\n",
       "      <td>0.62349</td>\n",
       "      <td>0.258819</td>\n",
       "      <td>0.965926</td>\n",
       "    </tr>\n",
       "    <tr>\n",
       "      <td>2</td>\n",
       "      <td>0</td>\n",
       "      <td>6</td>\n",
       "      <td>2</td>\n",
       "      <td>2.0</td>\n",
       "      <td>0.0</td>\n",
       "      <td>2.0</td>\n",
       "      <td>0.0</td>\n",
       "      <td>1.0</td>\n",
       "      <td>-0.781831</td>\n",
       "      <td>0.62349</td>\n",
       "      <td>0.500000</td>\n",
       "      <td>0.866025</td>\n",
       "    </tr>\n",
       "    <tr>\n",
       "      <td>3</td>\n",
       "      <td>0</td>\n",
       "      <td>6</td>\n",
       "      <td>3</td>\n",
       "      <td>1.0</td>\n",
       "      <td>0.0</td>\n",
       "      <td>1.0</td>\n",
       "      <td>0.0</td>\n",
       "      <td>1.0</td>\n",
       "      <td>-0.781831</td>\n",
       "      <td>0.62349</td>\n",
       "      <td>0.707107</td>\n",
       "      <td>0.707107</td>\n",
       "    </tr>\n",
       "    <tr>\n",
       "      <td>4</td>\n",
       "      <td>0</td>\n",
       "      <td>6</td>\n",
       "      <td>4</td>\n",
       "      <td>0.0</td>\n",
       "      <td>1.0</td>\n",
       "      <td>-1.0</td>\n",
       "      <td>0.0</td>\n",
       "      <td>1.0</td>\n",
       "      <td>-0.781831</td>\n",
       "      <td>0.62349</td>\n",
       "      <td>0.866025</td>\n",
       "      <td>0.500000</td>\n",
       "    </tr>\n",
       "  </tbody>\n",
       "</table>\n",
       "</div>"
      ],
      "text/plain": [
       "   dayofyear  weekday  hour  count_trips_orig  count_trips_dest  \\\n",
       "0          0        6     0               0.0               2.0   \n",
       "1          0        6     1               1.0               0.0   \n",
       "2          0        6     2               2.0               0.0   \n",
       "3          0        6     3               1.0               0.0   \n",
       "4          0        6     4               0.0               1.0   \n",
       "\n",
       "   rate_of_change  dayofyear_sin  dayofyear_cos  weekday_sin  weekday_cos  \\\n",
       "0            -2.0            0.0            1.0    -0.781831      0.62349   \n",
       "1             1.0            0.0            1.0    -0.781831      0.62349   \n",
       "2             2.0            0.0            1.0    -0.781831      0.62349   \n",
       "3             1.0            0.0            1.0    -0.781831      0.62349   \n",
       "4            -1.0            0.0            1.0    -0.781831      0.62349   \n",
       "\n",
       "   hour_sin  hour_cos  \n",
       "0  0.000000  1.000000  \n",
       "1  0.258819  0.965926  \n",
       "2  0.500000  0.866025  \n",
       "3  0.707107  0.707107  \n",
       "4  0.866025  0.500000  "
      ]
     },
     "execution_count": 8,
     "metadata": {},
     "output_type": "execute_result"
    }
   ],
   "source": [
    "# Transform three time variables sine and cosine components\n",
    "\n",
    "union_df['dayofyear_sin'] = np.sin(union_df.dayofyear*(2.*np.pi/365))\n",
    "union_df['dayofyear_cos'] = np.cos(union_df.dayofyear*(2.*np.pi/365))\n",
    "union_df['weekday_sin'] = np.sin(union_df.weekday*(2.*np.pi/7))\n",
    "union_df['weekday_cos'] = np.cos(union_df.weekday*(2.*np.pi/7))\n",
    "union_df['hour_sin'] = np.sin(union_df.hour*(2.*np.pi/24))\n",
    "union_df['hour_cos'] = np.cos(union_df.hour*(2.*np.pi/24))\n",
    "\n",
    "#Preview\n",
    "union_df.head()"
   ]
  },
  {
   "cell_type": "markdown",
   "metadata": {
    "colab_type": "text",
    "id": "qvlm9XcMdz7N"
   },
   "source": [
    "Here, we can evidence that by using sines and cosines, time variables will be arranged in a cyclical manner so that the model is provided with this features to approximate the behavior of the rate of change in a better way."
   ]
  },
  {
   "cell_type": "markdown",
   "metadata": {},
   "source": [
    "## Selecting time features "
   ]
  },
  {
   "cell_type": "markdown",
   "metadata": {
    "colab_type": "text",
    "id": "HaUtCNhU7XDU"
   },
   "source": [
    "Now we take a subset of our dataset to include only the variables we need for modeling. The first iteration of the model will be only time-dependent, since we expect that this data will account for seasonal weather features such as temperature and precipitation.\n",
    "\n",
    "Nevertheless, future stages of development could include other variables such as ``is_holiday``, `mean_temperature`, `humidity`, `mean_windspeed`, `casual_rides`, `member_rides`, ``is_event_date``, among many others."
   ]
  },
  {
   "cell_type": "code",
   "execution_count": 9,
   "metadata": {
    "colab": {},
    "colab_type": "code",
    "id": "TCFMHUTX7XDZ"
   },
   "outputs": [],
   "source": [
    "# Set the variables\n",
    "features = union_df[['dayofyear_sin', 'dayofyear_cos', 'weekday_sin', 'weekday_cos','hour_sin', 'hour_cos']]\n",
    "target = union_df[['rate_of_change']]"
   ]
  },
  {
   "cell_type": "markdown",
   "metadata": {
    "colab_type": "text",
    "id": "dvd8g2a5AggG"
   },
   "source": [
    "Split the dataset into training and test set for Cross validation and hyper parameters optimization"
   ]
  },
  {
   "cell_type": "code",
   "execution_count": 431,
   "metadata": {
    "colab": {},
    "colab_type": "code",
    "id": "g3I-uLmfadtY"
   },
   "outputs": [],
   "source": [
    "features_train, features_test, target_train, target_test = train_test_split(features,\n",
    "                                                                            target, \n",
    "                                                                            test_size=0.2, \n",
    "                                                                            random_state=100)"
   ]
  },
  {
   "cell_type": "code",
   "execution_count": 432,
   "metadata": {},
   "outputs": [],
   "source": [
    "features_train, features_cv, target_train, target_cv = train_test_split(features_train,\n",
    "                                                                        target_train, \n",
    "                                                                        test_size=0.3, \n",
    "                                                                        random_state=100)"
   ]
  },
  {
   "cell_type": "markdown",
   "metadata": {},
   "source": [
    "# Modeling "
   ]
  },
  {
   "cell_type": "markdown",
   "metadata": {
    "colab_type": "text",
    "id": "tdYRxpFff0V6"
   },
   "source": [
    "## Random Forest Modeling\n",
    "\n",
    "In order to account for non-linear behavior of the phenomena, for this first approach we will be using Random Forest Regression with hyperparameters optimization using ``GridSearchCV``. This GridSearch is already focused on a specific area of the hyperspace of parameters that was detected manually by exploring the training and cross validation $R^{2}$ one by one. These sets of parameters given should provide one optimal model derived from this data. "
   ]
  },
  {
   "cell_type": "code",
   "execution_count": 433,
   "metadata": {
    "colab": {
     "base_uri": "https://localhost:8080/",
     "height": 638
    },
    "colab_type": "code",
    "id": "6FrVw7G6adtc",
    "outputId": "dcd5be36-313a-4f59-94d5-07a746d26686"
   },
   "outputs": [
    {
     "name": "stdout",
     "output_type": "stream",
     "text": [
      "Fitting 5 folds for each of 500 candidates, totalling 2500 fits\n"
     ]
    },
    {
     "name": "stderr",
     "output_type": "stream",
     "text": [
      "[Parallel(n_jobs=-1)]: Using backend LokyBackend with 8 concurrent workers.\n",
      "[Parallel(n_jobs=-1)]: Done  34 tasks      | elapsed:    8.7s\n",
      "[Parallel(n_jobs=-1)]: Done 184 tasks      | elapsed:   13.0s\n",
      "[Parallel(n_jobs=-1)]: Done 434 tasks      | elapsed:   19.8s\n",
      "[Parallel(n_jobs=-1)]: Done 784 tasks      | elapsed:   32.1s\n",
      "[Parallel(n_jobs=-1)]: Done 1234 tasks      | elapsed:   51.5s\n",
      "[Parallel(n_jobs=-1)]: Done 1784 tasks      | elapsed:  1.4min\n",
      "[Parallel(n_jobs=-1)]: Done 2434 tasks      | elapsed:  2.2min\n",
      "[Parallel(n_jobs=-1)]: Done 2500 out of 2500 | elapsed:  2.2min finished\n"
     ]
    },
    {
     "data": {
      "text/plain": [
       "GridSearchCV(cv=5, error_score='raise-deprecating',\n",
       "             estimator=Pipeline(memory=None,\n",
       "                                steps=[('scaler',\n",
       "                                        StandardScaler(copy=True,\n",
       "                                                       with_mean=True,\n",
       "                                                       with_std=True)),\n",
       "                                       ('rf',\n",
       "                                        RandomForestRegressor(bootstrap=True,\n",
       "                                                              criterion='mse',\n",
       "                                                              max_depth=None,\n",
       "                                                              max_features=4,\n",
       "                                                              max_leaf_nodes=None,\n",
       "                                                              min_impurity_decrease=0.0,\n",
       "                                                              min_impurity_split=None,\n",
       "                                                              min_samples_leaf=1,\n",
       "                                                              min_samples_split=...\n",
       "                                                              verbose=0,\n",
       "                                                              warm_start=False))],\n",
       "                                verbose=False),\n",
       "             iid='warn', n_jobs=-1,\n",
       "             param_grid=[{'rf__max_depth': array([ 1,  3,  5,  7, 10]),\n",
       "                          'rf__min_samples_leaf': array([ 1,  4,  7, 10]),\n",
       "                          'rf__min_samples_split': array([0.0001  , 0.000325, 0.00055 , 0.000775, 0.001   ]),\n",
       "                          'rf__n_estimators': array([30, 40, 50, 60, 70])}],\n",
       "             pre_dispatch='2*n_jobs', refit=True, return_train_score=True,\n",
       "             scoring='r2', verbose=1)"
      ]
     },
     "execution_count": 433,
     "metadata": {},
     "output_type": "execute_result"
    }
   ],
   "source": [
    "#Create pipeline\n",
    "pipe = Pipeline([('scaler', StandardScaler()), \n",
    "                 ('rf', RandomForestRegressor(random_state=100, max_features=4))])\n",
    "\n",
    "#Create params grid\n",
    "params_list = [{'rf__n_estimators': np.linspace(30, 70, 5, endpoint=True, dtype=int),\n",
    "                'rf__max_depth' : np.linspace(1, 10, 5, endpoint=True, dtype=int),\n",
    "                'rf__min_samples_split': np.linspace(0.0001, 0.001, 5, endpoint=True),\n",
    "                'rf__min_samples_leaf': np.linspace(1, 10, 4, endpoint=True, dtype=int),\n",
    "               }]\n",
    "\n",
    "# Perform grid search\n",
    "grid_search = GridSearchCV(estimator=pipe, \n",
    "                           param_grid=params_list, \n",
    "                           cv=5, \n",
    "                           scoring='r2',\n",
    "                          verbose=1,\n",
    "                          n_jobs=-1,\n",
    "                          return_train_score=True)\n",
    "  \n",
    "grid_search.fit(features_train, target_train)"
   ]
  },
  {
   "cell_type": "markdown",
   "metadata": {
    "colab_type": "text",
    "id": "WSUaNm3OBq2O"
   },
   "source": [
    "First let's get the subset of optimal parameters obtained by the ``GridSearchCV`` algorithm and its score."
   ]
  },
  {
   "cell_type": "code",
   "execution_count": 434,
   "metadata": {
    "colab": {
     "base_uri": "https://localhost:8080/",
     "height": 87
    },
    "colab_type": "code",
    "id": "UdrnCXwN5yUx",
    "outputId": "a4c78015-72e7-400a-ea1c-ab4452b18486"
   },
   "outputs": [
    {
     "data": {
      "text/plain": [
       "{'rf__max_depth': 10,\n",
       " 'rf__min_samples_leaf': 4,\n",
       " 'rf__min_samples_split': 0.0001,\n",
       " 'rf__n_estimators': 70}"
      ]
     },
     "execution_count": 434,
     "metadata": {},
     "output_type": "execute_result"
    }
   ],
   "source": [
    "#Get best params\n",
    "grid_search.best_params_"
   ]
  },
  {
   "cell_type": "code",
   "execution_count": 435,
   "metadata": {
    "colab": {
     "base_uri": "https://localhost:8080/",
     "height": 34
    },
    "colab_type": "code",
    "id": "VoJAlIjt5yU1",
    "outputId": "671dd5eb-8606-437b-fdc7-5913e8a52dd3"
   },
   "outputs": [
    {
     "data": {
      "text/plain": [
       "0.67"
      ]
     },
     "execution_count": 435,
     "metadata": {},
     "output_type": "execute_result"
    }
   ],
   "source": [
    "#Get best score\n",
    "grid_search.best_score_.round(2)"
   ]
  },
  {
   "cell_type": "markdown",
   "metadata": {
    "colab_type": "text",
    "id": "U0QiRC2NB1tr"
   },
   "source": [
    "For this case we have chosen $R^{2}$ as the metric for model selection (as seen before). Hence, we will evaluate the results obtained with this metric for both training and test set."
   ]
  },
  {
   "cell_type": "code",
   "execution_count": 436,
   "metadata": {
    "colab": {
     "base_uri": "https://localhost:8080/",
     "height": 34
    },
    "colab_type": "code",
    "id": "LFRSx-TI5yU4",
    "outputId": "e2cc3d0e-df4f-4d3b-b0ef-6db1078cf812"
   },
   "outputs": [
    {
     "data": {
      "text/plain": [
       "0.8"
      ]
     },
     "execution_count": 436,
     "metadata": {},
     "output_type": "execute_result"
    }
   ],
   "source": [
    "#Use the best model for prediction on training set and get metric\n",
    "r2_score(target_train, grid_search.predict(features_train)).round(2)"
   ]
  },
  {
   "cell_type": "code",
   "execution_count": 437,
   "metadata": {
    "colab": {
     "base_uri": "https://localhost:8080/",
     "height": 34
    },
    "colab_type": "code",
    "id": "03kauyXg5yU6",
    "outputId": "95f66974-0cdc-4b78-95b8-e0e104f5dcff"
   },
   "outputs": [
    {
     "data": {
      "text/plain": [
       "0.69"
      ]
     },
     "execution_count": 437,
     "metadata": {},
     "output_type": "execute_result"
    }
   ],
   "source": [
    "#Use the best model for prediction on test set and get metric\n",
    "r2_score(target_cv, grid_search.predict(features_cv)).round(2)"
   ]
  },
  {
   "cell_type": "code",
   "execution_count": 438,
   "metadata": {
    "colab": {
     "base_uri": "https://localhost:8080/",
     "height": 34
    },
    "colab_type": "code",
    "id": "03kauyXg5yU6",
    "outputId": "95f66974-0cdc-4b78-95b8-e0e104f5dcff"
   },
   "outputs": [
    {
     "data": {
      "text/plain": [
       "0.68"
      ]
     },
     "execution_count": 438,
     "metadata": {},
     "output_type": "execute_result"
    }
   ],
   "source": [
    "#Use the best model for prediction on test set and get metric\n",
    "r2_score(target_test, grid_search.predict(features_test)).round(2)"
   ]
  },
  {
   "cell_type": "code",
   "execution_count": 439,
   "metadata": {
    "colab": {
     "base_uri": "https://localhost:8080/",
     "height": 227
    },
    "colab_type": "code",
    "id": "8QE_53hy5yU9",
    "outputId": "a7ff3974-66a5-4f2a-a548-ea03fa435d24"
   },
   "outputs": [
    {
     "data": {
      "text/html": [
       "<div>\n",
       "<style scoped>\n",
       "    .dataframe tbody tr th:only-of-type {\n",
       "        vertical-align: middle;\n",
       "    }\n",
       "\n",
       "    .dataframe tbody tr th {\n",
       "        vertical-align: top;\n",
       "    }\n",
       "\n",
       "    .dataframe thead th {\n",
       "        text-align: right;\n",
       "    }\n",
       "</style>\n",
       "<table border=\"1\" class=\"dataframe\">\n",
       "  <thead>\n",
       "    <tr style=\"text-align: right;\">\n",
       "      <th></th>\n",
       "      <th>0</th>\n",
       "    </tr>\n",
       "  </thead>\n",
       "  <tbody>\n",
       "    <tr>\n",
       "      <td>dayofyear_sin</td>\n",
       "      <td>0.230328</td>\n",
       "    </tr>\n",
       "    <tr>\n",
       "      <td>dayofyear_cos</td>\n",
       "      <td>0.091587</td>\n",
       "    </tr>\n",
       "    <tr>\n",
       "      <td>weekday_sin</td>\n",
       "      <td>0.132383</td>\n",
       "    </tr>\n",
       "    <tr>\n",
       "      <td>weekday_cos</td>\n",
       "      <td>0.016530</td>\n",
       "    </tr>\n",
       "    <tr>\n",
       "      <td>hour_sin</td>\n",
       "      <td>0.302738</td>\n",
       "    </tr>\n",
       "    <tr>\n",
       "      <td>hour_cos</td>\n",
       "      <td>0.226434</td>\n",
       "    </tr>\n",
       "  </tbody>\n",
       "</table>\n",
       "</div>"
      ],
      "text/plain": [
       "                      0\n",
       "dayofyear_sin  0.230328\n",
       "dayofyear_cos  0.091587\n",
       "weekday_sin    0.132383\n",
       "weekday_cos    0.016530\n",
       "hour_sin       0.302738\n",
       "hour_cos       0.226434"
      ]
     },
     "execution_count": 439,
     "metadata": {},
     "output_type": "execute_result"
    }
   ],
   "source": [
    "# Feature importance for time series data\n",
    "pd.DataFrame(data=grid_search.best_estimator_.named_steps['rf'].feature_importances_,\n",
    "            index=features_train.columns)"
   ]
  },
  {
   "cell_type": "markdown",
   "metadata": {},
   "source": [
    "## XGBoost "
   ]
  },
  {
   "cell_type": "code",
   "execution_count": 440,
   "metadata": {},
   "outputs": [],
   "source": [
    "xg_reg = xgb.XGBRegressor(objective='reg:squarederror')"
   ]
  },
  {
   "cell_type": "code",
   "execution_count": 281,
   "metadata": {},
   "outputs": [],
   "source": [
    "param_grid = {'max_depth': np.linspace(3,9,7, dtype=int),\n",
    "              'learning_rate': np.linspace(0.001,0.05, 3),\n",
    "              'n_estimators': np.linspace(400, 1000, 3, dtype=int),\n",
    "              'subsample': [0.6, 0.8, 1],\n",
    "              'colsample_bytree': [0.6, 0.8, 1]}"
   ]
  },
  {
   "cell_type": "code",
   "execution_count": 282,
   "metadata": {},
   "outputs": [],
   "source": [
    "gs = GridSearchCV(estimator=xg_reg,\n",
    "                  param_grid=param_grid,\n",
    "                  verbose=1,\n",
    "                  n_jobs=-1,\n",
    "                  cv=5)"
   ]
  },
  {
   "cell_type": "code",
   "execution_count": 283,
   "metadata": {},
   "outputs": [
    {
     "name": "stdout",
     "output_type": "stream",
     "text": [
      "Fitting 5 folds for each of 567 candidates, totalling 2835 fits\n"
     ]
    },
    {
     "name": "stderr",
     "output_type": "stream",
     "text": [
      "[Parallel(n_jobs=-1)]: Using backend LokyBackend with 8 concurrent workers.\n",
      "[Parallel(n_jobs=-1)]: Done  34 tasks      | elapsed:   25.1s\n",
      "[Parallel(n_jobs=-1)]: Done 184 tasks      | elapsed:  2.3min\n",
      "[Parallel(n_jobs=-1)]: Done 434 tasks      | elapsed:  5.8min\n",
      "[Parallel(n_jobs=-1)]: Done 784 tasks      | elapsed: 10.2min\n",
      "[Parallel(n_jobs=-1)]: Done 1234 tasks      | elapsed: 17.3min\n",
      "[Parallel(n_jobs=-1)]: Done 1784 tasks      | elapsed: 30.8min\n",
      "[Parallel(n_jobs=-1)]: Done 2434 tasks      | elapsed: 48.0min\n",
      "[Parallel(n_jobs=-1)]: Done 2835 out of 2835 | elapsed: 55.3min finished\n"
     ]
    },
    {
     "name": "stdout",
     "output_type": "stream",
     "text": [
      "Wall time: 55min 23s\n"
     ]
    },
    {
     "data": {
      "text/plain": [
       "GridSearchCV(cv=5, error_score='raise-deprecating',\n",
       "             estimator=XGBRegressor(base_score=0.5, booster='gbtree',\n",
       "                                    colsample_bylevel=1, colsample_bynode=1,\n",
       "                                    colsample_bytree=1, gamma=0,\n",
       "                                    importance_type='gain', learning_rate=0.1,\n",
       "                                    max_delta_step=0, max_depth=3,\n",
       "                                    min_child_weight=1, missing=None,\n",
       "                                    n_estimators=100, n_jobs=1, nthread=None,\n",
       "                                    objective='reg:squarederror',\n",
       "                                    random_st...\n",
       "                                    scale_pos_weight=1, seed=None, silent=None,\n",
       "                                    subsample=1, verbosity=1),\n",
       "             iid='warn', n_jobs=-1,\n",
       "             param_grid={'colsample_bytree': [0.6, 0.8, 1],\n",
       "                         'learning_rate': array([0.001 , 0.0255, 0.05  ]),\n",
       "                         'max_depth': array([3, 4, 5, 6, 7, 8, 9]),\n",
       "                         'n_estimators': array([ 400,  700, 1000]),\n",
       "                         'subsample': [0.6, 0.8, 1]},\n",
       "             pre_dispatch='2*n_jobs', refit=True, return_train_score=False,\n",
       "             scoring=None, verbose=1)"
      ]
     },
     "execution_count": 283,
     "metadata": {},
     "output_type": "execute_result"
    }
   ],
   "source": [
    "%time gs.fit(features_train, target_train)"
   ]
  },
  {
   "cell_type": "code",
   "execution_count": 284,
   "metadata": {},
   "outputs": [
    {
     "data": {
      "text/plain": [
       "0.6740180434434877"
      ]
     },
     "execution_count": 284,
     "metadata": {},
     "output_type": "execute_result"
    }
   ],
   "source": [
    "gs.best_score_"
   ]
  },
  {
   "cell_type": "code",
   "execution_count": 285,
   "metadata": {},
   "outputs": [
    {
     "data": {
      "text/plain": [
       "XGBRegressor(base_score=0.5, booster='gbtree', colsample_bylevel=1,\n",
       "             colsample_bynode=1, colsample_bytree=1, gamma=0,\n",
       "             importance_type='gain', learning_rate=0.025500000000000002,\n",
       "             max_delta_step=0, max_depth=7, min_child_weight=1, missing=None,\n",
       "             n_estimators=400, n_jobs=1, nthread=None,\n",
       "             objective='reg:squarederror', random_state=0, reg_alpha=0,\n",
       "             reg_lambda=1, scale_pos_weight=1, seed=None, silent=None,\n",
       "             subsample=0.8, verbosity=1)"
      ]
     },
     "execution_count": 285,
     "metadata": {},
     "output_type": "execute_result"
    }
   ],
   "source": [
    "gs.best_estimator_"
   ]
  },
  {
   "cell_type": "code",
   "execution_count": 286,
   "metadata": {
    "colab": {
     "base_uri": "https://localhost:8080/",
     "height": 34
    },
    "colab_type": "code",
    "id": "LFRSx-TI5yU4",
    "outputId": "e2cc3d0e-df4f-4d3b-b0ef-6db1078cf812"
   },
   "outputs": [
    {
     "data": {
      "text/plain": [
       "0.87"
      ]
     },
     "execution_count": 286,
     "metadata": {},
     "output_type": "execute_result"
    }
   ],
   "source": [
    "#Use the best model for prediction on training set and get metric\n",
    "r2_score(target_train, gs.predict(features_train)).round(2)"
   ]
  },
  {
   "cell_type": "code",
   "execution_count": 287,
   "metadata": {
    "colab": {
     "base_uri": "https://localhost:8080/",
     "height": 34
    },
    "colab_type": "code",
    "id": "03kauyXg5yU6",
    "outputId": "95f66974-0cdc-4b78-95b8-e0e104f5dcff"
   },
   "outputs": [
    {
     "data": {
      "text/plain": [
       "0.69"
      ]
     },
     "execution_count": 287,
     "metadata": {},
     "output_type": "execute_result"
    }
   ],
   "source": [
    "#Use the best model for prediction on test set and get metric\n",
    "r2_score(target_test, gs.predict(features_test)).round(2)"
   ]
  },
  {
   "cell_type": "code",
   "execution_count": 442,
   "metadata": {},
   "outputs": [],
   "source": [
    "eval_set = [(features_train, target_train), (features_cv, target_cv)]"
   ]
  },
  {
   "cell_type": "code",
   "execution_count": 443,
   "metadata": {},
   "outputs": [],
   "source": [
    "eval_metrics = ['rmse']"
   ]
  },
  {
   "cell_type": "code",
   "execution_count": 454,
   "metadata": {},
   "outputs": [],
   "source": [
    "xg_reg = xgb.XGBRegressor(objective='reg:squarederror',\n",
    "                          learning_rate=0.015,\n",
    "                          max_depth=7,\n",
    "                          n_jobs=-1,\n",
    "                          subsample=0.75,\n",
    "                          n_estimators=200,\n",
    "                          colsample_bytree=1)"
   ]
  },
  {
   "cell_type": "code",
   "execution_count": 455,
   "metadata": {},
   "outputs": [
    {
     "name": "stdout",
     "output_type": "stream",
     "text": [
      "[0]\tvalidation_0-rmse:6.43846\tvalidation_1-rmse:6.35483\n",
      "[1]\tvalidation_0-rmse:6.37645\tvalidation_1-rmse:6.29326\n",
      "[2]\tvalidation_0-rmse:6.3175\tvalidation_1-rmse:6.2364\n",
      "[3]\tvalidation_0-rmse:6.25228\tvalidation_1-rmse:6.17356\n",
      "[4]\tvalidation_0-rmse:6.18935\tvalidation_1-rmse:6.11343\n",
      "[5]\tvalidation_0-rmse:6.12693\tvalidation_1-rmse:6.05338\n",
      "[6]\tvalidation_0-rmse:6.06558\tvalidation_1-rmse:5.99457\n",
      "[7]\tvalidation_0-rmse:6.01154\tvalidation_1-rmse:5.94336\n",
      "[8]\tvalidation_0-rmse:5.95546\tvalidation_1-rmse:5.89088\n",
      "[9]\tvalidation_0-rmse:5.8986\tvalidation_1-rmse:5.83745\n",
      "[10]\tvalidation_0-rmse:5.84285\tvalidation_1-rmse:5.78457\n",
      "[11]\tvalidation_0-rmse:5.79232\tvalidation_1-rmse:5.73891\n",
      "[12]\tvalidation_0-rmse:5.74343\tvalidation_1-rmse:5.69257\n",
      "[13]\tvalidation_0-rmse:5.6948\tvalidation_1-rmse:5.64662\n",
      "[14]\tvalidation_0-rmse:5.64208\tvalidation_1-rmse:5.59659\n",
      "[15]\tvalidation_0-rmse:5.59603\tvalidation_1-rmse:5.55509\n",
      "[16]\tvalidation_0-rmse:5.54448\tvalidation_1-rmse:5.50735\n",
      "[17]\tvalidation_0-rmse:5.49381\tvalidation_1-rmse:5.46115\n",
      "[18]\tvalidation_0-rmse:5.44389\tvalidation_1-rmse:5.41573\n",
      "[19]\tvalidation_0-rmse:5.39778\tvalidation_1-rmse:5.37195\n",
      "[20]\tvalidation_0-rmse:5.35734\tvalidation_1-rmse:5.3343\n",
      "[21]\tvalidation_0-rmse:5.31681\tvalidation_1-rmse:5.29685\n",
      "[22]\tvalidation_0-rmse:5.27647\tvalidation_1-rmse:5.26091\n",
      "[23]\tvalidation_0-rmse:5.24019\tvalidation_1-rmse:5.2294\n",
      "[24]\tvalidation_0-rmse:5.19964\tvalidation_1-rmse:5.19115\n",
      "[25]\tvalidation_0-rmse:5.15627\tvalidation_1-rmse:5.15122\n",
      "[26]\tvalidation_0-rmse:5.11735\tvalidation_1-rmse:5.11614\n",
      "[27]\tvalidation_0-rmse:5.07527\tvalidation_1-rmse:5.07965\n",
      "[28]\tvalidation_0-rmse:5.04314\tvalidation_1-rmse:5.05338\n",
      "[29]\tvalidation_0-rmse:5.00296\tvalidation_1-rmse:5.01619\n",
      "[30]\tvalidation_0-rmse:4.96802\tvalidation_1-rmse:4.98651\n",
      "[31]\tvalidation_0-rmse:4.93776\tvalidation_1-rmse:4.95805\n",
      "[32]\tvalidation_0-rmse:4.89978\tvalidation_1-rmse:4.92353\n",
      "[33]\tvalidation_0-rmse:4.86132\tvalidation_1-rmse:4.88725\n",
      "[34]\tvalidation_0-rmse:4.82467\tvalidation_1-rmse:4.85227\n",
      "[35]\tvalidation_0-rmse:4.79645\tvalidation_1-rmse:4.82863\n",
      "[36]\tvalidation_0-rmse:4.77012\tvalidation_1-rmse:4.80776\n",
      "[37]\tvalidation_0-rmse:4.74457\tvalidation_1-rmse:4.78503\n",
      "[38]\tvalidation_0-rmse:4.7124\tvalidation_1-rmse:4.75665\n",
      "[39]\tvalidation_0-rmse:4.67983\tvalidation_1-rmse:4.72663\n",
      "[40]\tvalidation_0-rmse:4.6462\tvalidation_1-rmse:4.69645\n",
      "[41]\tvalidation_0-rmse:4.61321\tvalidation_1-rmse:4.6665\n",
      "[42]\tvalidation_0-rmse:4.5809\tvalidation_1-rmse:4.63656\n",
      "[43]\tvalidation_0-rmse:4.54886\tvalidation_1-rmse:4.60996\n",
      "[44]\tvalidation_0-rmse:4.52526\tvalidation_1-rmse:4.5928\n",
      "[45]\tvalidation_0-rmse:4.49462\tvalidation_1-rmse:4.5668\n",
      "[46]\tvalidation_0-rmse:4.46259\tvalidation_1-rmse:4.53822\n",
      "[47]\tvalidation_0-rmse:4.43363\tvalidation_1-rmse:4.51196\n",
      "[48]\tvalidation_0-rmse:4.40532\tvalidation_1-rmse:4.48703\n",
      "[49]\tvalidation_0-rmse:4.38624\tvalidation_1-rmse:4.47195\n",
      "[50]\tvalidation_0-rmse:4.36756\tvalidation_1-rmse:4.45796\n",
      "[51]\tvalidation_0-rmse:4.34051\tvalidation_1-rmse:4.43452\n",
      "[52]\tvalidation_0-rmse:4.32223\tvalidation_1-rmse:4.42246\n",
      "[53]\tvalidation_0-rmse:4.29638\tvalidation_1-rmse:4.40091\n",
      "[54]\tvalidation_0-rmse:4.27068\tvalidation_1-rmse:4.37761\n",
      "[55]\tvalidation_0-rmse:4.24876\tvalidation_1-rmse:4.35922\n",
      "[56]\tvalidation_0-rmse:4.22907\tvalidation_1-rmse:4.34352\n",
      "[57]\tvalidation_0-rmse:4.20449\tvalidation_1-rmse:4.323\n",
      "[58]\tvalidation_0-rmse:4.18642\tvalidation_1-rmse:4.30946\n",
      "[59]\tvalidation_0-rmse:4.16206\tvalidation_1-rmse:4.28972\n",
      "[60]\tvalidation_0-rmse:4.1358\tvalidation_1-rmse:4.267\n",
      "[61]\tvalidation_0-rmse:4.11831\tvalidation_1-rmse:4.252\n",
      "[62]\tvalidation_0-rmse:4.09531\tvalidation_1-rmse:4.23179\n",
      "[63]\tvalidation_0-rmse:4.07482\tvalidation_1-rmse:4.21506\n",
      "[64]\tvalidation_0-rmse:4.05274\tvalidation_1-rmse:4.195\n",
      "[65]\tvalidation_0-rmse:4.0304\tvalidation_1-rmse:4.1752\n",
      "[66]\tvalidation_0-rmse:4.00923\tvalidation_1-rmse:4.15655\n",
      "[67]\tvalidation_0-rmse:3.98981\tvalidation_1-rmse:4.13975\n",
      "[68]\tvalidation_0-rmse:3.96859\tvalidation_1-rmse:4.12121\n",
      "[69]\tvalidation_0-rmse:3.94734\tvalidation_1-rmse:4.10336\n",
      "[70]\tvalidation_0-rmse:3.92729\tvalidation_1-rmse:4.08976\n",
      "[71]\tvalidation_0-rmse:3.91277\tvalidation_1-rmse:4.08001\n",
      "[72]\tvalidation_0-rmse:3.89442\tvalidation_1-rmse:4.06511\n",
      "[73]\tvalidation_0-rmse:3.87466\tvalidation_1-rmse:4.04877\n",
      "[74]\tvalidation_0-rmse:3.85961\tvalidation_1-rmse:4.03582\n",
      "[75]\tvalidation_0-rmse:3.84167\tvalidation_1-rmse:4.02069\n",
      "[76]\tvalidation_0-rmse:3.82373\tvalidation_1-rmse:4.00657\n",
      "[77]\tvalidation_0-rmse:3.81109\tvalidation_1-rmse:3.99898\n",
      "[78]\tvalidation_0-rmse:3.79204\tvalidation_1-rmse:3.98324\n",
      "[79]\tvalidation_0-rmse:3.78141\tvalidation_1-rmse:3.97626\n",
      "[80]\tvalidation_0-rmse:3.77066\tvalidation_1-rmse:3.97078\n",
      "[81]\tvalidation_0-rmse:3.75908\tvalidation_1-rmse:3.96335\n",
      "[82]\tvalidation_0-rmse:3.74883\tvalidation_1-rmse:3.95746\n",
      "[83]\tvalidation_0-rmse:3.73192\tvalidation_1-rmse:3.94511\n",
      "[84]\tvalidation_0-rmse:3.71618\tvalidation_1-rmse:3.93312\n",
      "[85]\tvalidation_0-rmse:3.70888\tvalidation_1-rmse:3.92852\n",
      "[86]\tvalidation_0-rmse:3.69802\tvalidation_1-rmse:3.92151\n",
      "[87]\tvalidation_0-rmse:3.68615\tvalidation_1-rmse:3.91175\n",
      "[88]\tvalidation_0-rmse:3.67022\tvalidation_1-rmse:3.89992\n",
      "[89]\tvalidation_0-rmse:3.66308\tvalidation_1-rmse:3.89653\n",
      "[90]\tvalidation_0-rmse:3.64886\tvalidation_1-rmse:3.88562\n",
      "[91]\tvalidation_0-rmse:3.64089\tvalidation_1-rmse:3.88072\n",
      "[92]\tvalidation_0-rmse:3.62739\tvalidation_1-rmse:3.86953\n",
      "[93]\tvalidation_0-rmse:3.61447\tvalidation_1-rmse:3.86021\n",
      "[94]\tvalidation_0-rmse:3.60115\tvalidation_1-rmse:3.85048\n",
      "[95]\tvalidation_0-rmse:3.58898\tvalidation_1-rmse:3.84056\n",
      "[96]\tvalidation_0-rmse:3.58063\tvalidation_1-rmse:3.8369\n",
      "[97]\tvalidation_0-rmse:3.57065\tvalidation_1-rmse:3.8306\n",
      "[98]\tvalidation_0-rmse:3.56286\tvalidation_1-rmse:3.82539\n",
      "[99]\tvalidation_0-rmse:3.55036\tvalidation_1-rmse:3.8153\n",
      "[100]\tvalidation_0-rmse:3.54171\tvalidation_1-rmse:3.80814\n",
      "[101]\tvalidation_0-rmse:3.53363\tvalidation_1-rmse:3.80296\n",
      "[102]\tvalidation_0-rmse:3.52501\tvalidation_1-rmse:3.79851\n",
      "[103]\tvalidation_0-rmse:3.51636\tvalidation_1-rmse:3.79361\n",
      "[104]\tvalidation_0-rmse:3.50758\tvalidation_1-rmse:3.78725\n",
      "[105]\tvalidation_0-rmse:3.49543\tvalidation_1-rmse:3.77982\n",
      "[106]\tvalidation_0-rmse:3.48724\tvalidation_1-rmse:3.77493\n",
      "[107]\tvalidation_0-rmse:3.48163\tvalidation_1-rmse:3.77177\n",
      "[108]\tvalidation_0-rmse:3.47051\tvalidation_1-rmse:3.76456\n",
      "[109]\tvalidation_0-rmse:3.46392\tvalidation_1-rmse:3.76106\n",
      "[110]\tvalidation_0-rmse:3.45689\tvalidation_1-rmse:3.75751\n",
      "[111]\tvalidation_0-rmse:3.44835\tvalidation_1-rmse:3.75253\n",
      "[112]\tvalidation_0-rmse:3.43954\tvalidation_1-rmse:3.74682\n",
      "[113]\tvalidation_0-rmse:3.43057\tvalidation_1-rmse:3.74164\n",
      "[114]\tvalidation_0-rmse:3.42306\tvalidation_1-rmse:3.73751\n",
      "[115]\tvalidation_0-rmse:3.41548\tvalidation_1-rmse:3.73344\n",
      "[116]\tvalidation_0-rmse:3.40337\tvalidation_1-rmse:3.72388\n",
      "[117]\tvalidation_0-rmse:3.39766\tvalidation_1-rmse:3.721\n",
      "[118]\tvalidation_0-rmse:3.38839\tvalidation_1-rmse:3.71472\n",
      "[119]\tvalidation_0-rmse:3.379\tvalidation_1-rmse:3.7105\n",
      "[120]\tvalidation_0-rmse:3.37294\tvalidation_1-rmse:3.70814\n",
      "[121]\tvalidation_0-rmse:3.36744\tvalidation_1-rmse:3.70627\n",
      "[122]\tvalidation_0-rmse:3.35748\tvalidation_1-rmse:3.69948\n",
      "[123]\tvalidation_0-rmse:3.35059\tvalidation_1-rmse:3.69463\n",
      "[124]\tvalidation_0-rmse:3.34044\tvalidation_1-rmse:3.68826\n",
      "[125]\tvalidation_0-rmse:3.33107\tvalidation_1-rmse:3.68296\n",
      "[126]\tvalidation_0-rmse:3.32112\tvalidation_1-rmse:3.67752\n",
      "[127]\tvalidation_0-rmse:3.31184\tvalidation_1-rmse:3.67122\n",
      "[128]\tvalidation_0-rmse:3.30582\tvalidation_1-rmse:3.6705\n",
      "[129]\tvalidation_0-rmse:3.29986\tvalidation_1-rmse:3.6684\n",
      "[130]\tvalidation_0-rmse:3.29134\tvalidation_1-rmse:3.66356\n",
      "[131]\tvalidation_0-rmse:3.28508\tvalidation_1-rmse:3.6616\n",
      "[132]\tvalidation_0-rmse:3.27962\tvalidation_1-rmse:3.65899\n",
      "[133]\tvalidation_0-rmse:3.27154\tvalidation_1-rmse:3.65682\n",
      "[134]\tvalidation_0-rmse:3.26603\tvalidation_1-rmse:3.65391\n",
      "[135]\tvalidation_0-rmse:3.25957\tvalidation_1-rmse:3.65117\n",
      "[136]\tvalidation_0-rmse:3.25203\tvalidation_1-rmse:3.64596\n",
      "[137]\tvalidation_0-rmse:3.24569\tvalidation_1-rmse:3.64112\n",
      "[138]\tvalidation_0-rmse:3.2394\tvalidation_1-rmse:3.63999\n",
      "[139]\tvalidation_0-rmse:3.23187\tvalidation_1-rmse:3.63682\n",
      "[140]\tvalidation_0-rmse:3.22759\tvalidation_1-rmse:3.63582\n",
      "[141]\tvalidation_0-rmse:3.22086\tvalidation_1-rmse:3.63146\n",
      "[142]\tvalidation_0-rmse:3.21473\tvalidation_1-rmse:3.62949\n",
      "[143]\tvalidation_0-rmse:3.21047\tvalidation_1-rmse:3.62798\n"
     ]
    },
    {
     "name": "stdout",
     "output_type": "stream",
     "text": [
      "[144]\tvalidation_0-rmse:3.20452\tvalidation_1-rmse:3.62488\n",
      "[145]\tvalidation_0-rmse:3.19767\tvalidation_1-rmse:3.62122\n",
      "[146]\tvalidation_0-rmse:3.19346\tvalidation_1-rmse:3.6207\n",
      "[147]\tvalidation_0-rmse:3.18431\tvalidation_1-rmse:3.6151\n",
      "[148]\tvalidation_0-rmse:3.17824\tvalidation_1-rmse:3.6111\n",
      "[149]\tvalidation_0-rmse:3.17448\tvalidation_1-rmse:3.60969\n",
      "[150]\tvalidation_0-rmse:3.16811\tvalidation_1-rmse:3.60757\n",
      "[151]\tvalidation_0-rmse:3.16254\tvalidation_1-rmse:3.60551\n",
      "[152]\tvalidation_0-rmse:3.15624\tvalidation_1-rmse:3.6012\n",
      "[153]\tvalidation_0-rmse:3.15111\tvalidation_1-rmse:3.59926\n",
      "[154]\tvalidation_0-rmse:3.14744\tvalidation_1-rmse:3.59815\n",
      "[155]\tvalidation_0-rmse:3.14183\tvalidation_1-rmse:3.59558\n",
      "[156]\tvalidation_0-rmse:3.13506\tvalidation_1-rmse:3.59248\n",
      "[157]\tvalidation_0-rmse:3.1295\tvalidation_1-rmse:3.58969\n",
      "[158]\tvalidation_0-rmse:3.12209\tvalidation_1-rmse:3.58693\n",
      "[159]\tvalidation_0-rmse:3.11727\tvalidation_1-rmse:3.58524\n",
      "[160]\tvalidation_0-rmse:3.11032\tvalidation_1-rmse:3.58184\n",
      "[161]\tvalidation_0-rmse:3.10292\tvalidation_1-rmse:3.57822\n",
      "[162]\tvalidation_0-rmse:3.09709\tvalidation_1-rmse:3.57682\n",
      "[163]\tvalidation_0-rmse:3.09329\tvalidation_1-rmse:3.57776\n",
      "[164]\tvalidation_0-rmse:3.08965\tvalidation_1-rmse:3.57701\n",
      "[165]\tvalidation_0-rmse:3.08582\tvalidation_1-rmse:3.57645\n",
      "[166]\tvalidation_0-rmse:3.0828\tvalidation_1-rmse:3.57532\n",
      "[167]\tvalidation_0-rmse:3.07855\tvalidation_1-rmse:3.57442\n",
      "[168]\tvalidation_0-rmse:3.07467\tvalidation_1-rmse:3.57373\n",
      "[169]\tvalidation_0-rmse:3.07022\tvalidation_1-rmse:3.57104\n",
      "[170]\tvalidation_0-rmse:3.06724\tvalidation_1-rmse:3.57004\n",
      "[171]\tvalidation_0-rmse:3.06253\tvalidation_1-rmse:3.56711\n",
      "[172]\tvalidation_0-rmse:3.05935\tvalidation_1-rmse:3.56647\n",
      "[173]\tvalidation_0-rmse:3.05333\tvalidation_1-rmse:3.56309\n",
      "[174]\tvalidation_0-rmse:3.04705\tvalidation_1-rmse:3.56054\n",
      "[175]\tvalidation_0-rmse:3.04305\tvalidation_1-rmse:3.55881\n",
      "[176]\tvalidation_0-rmse:3.03886\tvalidation_1-rmse:3.55683\n",
      "[177]\tvalidation_0-rmse:3.03324\tvalidation_1-rmse:3.55451\n",
      "[178]\tvalidation_0-rmse:3.02897\tvalidation_1-rmse:3.55342\n",
      "[179]\tvalidation_0-rmse:3.02584\tvalidation_1-rmse:3.55248\n",
      "[180]\tvalidation_0-rmse:3.02065\tvalidation_1-rmse:3.54913\n",
      "[181]\tvalidation_0-rmse:3.01578\tvalidation_1-rmse:3.54765\n",
      "[182]\tvalidation_0-rmse:3.01069\tvalidation_1-rmse:3.54455\n",
      "[183]\tvalidation_0-rmse:3.00759\tvalidation_1-rmse:3.54281\n",
      "[184]\tvalidation_0-rmse:3.00213\tvalidation_1-rmse:3.54198\n",
      "[185]\tvalidation_0-rmse:2.99886\tvalidation_1-rmse:3.5411\n",
      "[186]\tvalidation_0-rmse:2.9948\tvalidation_1-rmse:3.54115\n",
      "[187]\tvalidation_0-rmse:2.99102\tvalidation_1-rmse:3.54106\n",
      "[188]\tvalidation_0-rmse:2.98793\tvalidation_1-rmse:3.54168\n",
      "[189]\tvalidation_0-rmse:2.9858\tvalidation_1-rmse:3.54239\n",
      "[190]\tvalidation_0-rmse:2.97975\tvalidation_1-rmse:3.53919\n",
      "[191]\tvalidation_0-rmse:2.97696\tvalidation_1-rmse:3.53851\n",
      "[192]\tvalidation_0-rmse:2.97338\tvalidation_1-rmse:3.53702\n",
      "[193]\tvalidation_0-rmse:2.96708\tvalidation_1-rmse:3.53514\n",
      "[194]\tvalidation_0-rmse:2.96292\tvalidation_1-rmse:3.53438\n",
      "[195]\tvalidation_0-rmse:2.95974\tvalidation_1-rmse:3.53261\n",
      "[196]\tvalidation_0-rmse:2.95607\tvalidation_1-rmse:3.53239\n",
      "[197]\tvalidation_0-rmse:2.95301\tvalidation_1-rmse:3.53166\n",
      "[198]\tvalidation_0-rmse:2.94942\tvalidation_1-rmse:3.53082\n",
      "[199]\tvalidation_0-rmse:2.94681\tvalidation_1-rmse:3.53006\n"
     ]
    },
    {
     "data": {
      "text/plain": [
       "XGBRegressor(base_score=0.5, booster='gbtree', colsample_bylevel=1,\n",
       "             colsample_bynode=1, colsample_bytree=1, gamma=0,\n",
       "             importance_type='gain', learning_rate=0.015, max_delta_step=0,\n",
       "             max_depth=7, min_child_weight=1, missing=None, n_estimators=200,\n",
       "             n_jobs=-1, nthread=None, objective='reg:squarederror',\n",
       "             random_state=0, reg_alpha=0, reg_lambda=1, scale_pos_weight=1,\n",
       "             seed=None, silent=None, subsample=0.75, verbosity=1)"
      ]
     },
     "execution_count": 455,
     "metadata": {},
     "output_type": "execute_result"
    }
   ],
   "source": [
    "xg_reg.fit(features_train, target_train, eval_set=eval_set, eval_metric=eval_metrics)"
   ]
  },
  {
   "cell_type": "code",
   "execution_count": 456,
   "metadata": {},
   "outputs": [
    {
     "data": {
      "text/plain": [
       "<matplotlib.axes._subplots.AxesSubplot at 0x2375c7f75c8>"
      ]
     },
     "execution_count": 456,
     "metadata": {},
     "output_type": "execute_result"
    },
    {
     "data": {
      "image/png": "[encoded data removed]",
      "text/plain": [
       "<Figure size 432x288 with 1 Axes>"
      ]
     },
     "metadata": {
      "needs_background": "light"
     },
     "output_type": "display_data"
    }
   ],
   "source": [
    "sns.lineplot(data = pd.DataFrame({'train': xg_reg.evals_result_['validation_0']['rmse'], \n",
    "                                  'cv': xg_reg.evals_result_['validation_1']['rmse']}))"
   ]
  },
  {
   "cell_type": "code",
   "execution_count": 457,
   "metadata": {},
   "outputs": [
    {
     "data": {
      "text/plain": [
       "0.78"
      ]
     },
     "execution_count": 457,
     "metadata": {},
     "output_type": "execute_result"
    }
   ],
   "source": [
    "#Use the best model for prediction on training set and get metric\n",
    "r2_score(target_train, xg_reg.predict(features_train)).round(2)"
   ]
  },
  {
   "cell_type": "code",
   "execution_count": 458,
   "metadata": {},
   "outputs": [
    {
     "data": {
      "text/plain": [
       "0.68"
      ]
     },
     "execution_count": 458,
     "metadata": {},
     "output_type": "execute_result"
    }
   ],
   "source": [
    "#Use the best model for prediction on test set and get metric\n",
    "r2_score(target_cv, xg_reg.predict(features_cv)).round(2)"
   ]
  },
  {
   "cell_type": "markdown",
   "metadata": {},
   "source": [
    "# Model selection "
   ]
  },
  {
   "cell_type": "markdown",
   "metadata": {},
   "source": [
    "## Regularization "
   ]
  },
  {
   "cell_type": "markdown",
   "metadata": {},
   "source": [
    "## Learning Curves "
   ]
  },
  {
   "cell_type": "markdown",
   "metadata": {},
   "source": [
    "## Choosing the best model "
   ]
  },
  {
   "cell_type": "markdown",
   "metadata": {},
   "source": [
    "# Discussion "
   ]
  },
  {
   "cell_type": "markdown",
   "metadata": {
    "colab_type": "text",
    "id": "6i9O0OvHKu-s"
   },
   "source": [
    "After reviewing the results, we can evidence that indeed modeling rate of change dependent of time as a cyclic variable helps us predict with certain accuracy its behavior.\n",
    "\n",
    "Nevertheless, we must consider de following for **future work**\n",
    "\n",
    "* Even with the data at hand, the model could be improved applying a more rigorous hyperparameter optimization, which is key in stochastic algorithms. Or another alternative could be to model the demand as time series using models such as ARIMA or SARIMA and compare its performance.\n",
    "\n",
    "* To improve model metrics, we could also think of adding data from previous and following years to the model, specifically to provide more yearly seasonality information to the model, this might reduce variance.\n",
    "\n",
    "* The model is in early stages of development, to reduce model variance (overfitting) there are some solutions to be tested: restrict complexity using hyperparameters (although this was carried out) and get more data to improve generalization capability.\n",
    "\n",
    "* Using the real-time station status data available through the API, one could instantly assess model performance using real data.\n"
   ]
  },
  {
   "cell_type": "markdown",
   "metadata": {
    "colab_type": "text",
    "id": "UDfmx_nrMIC5"
   },
   "source": [
    "### Evaluating predictions for months of high demand\n",
    "\n",
    "We will compare the predictions for June, July and August into a timeline with the real data to review overall model performance."
   ]
  },
  {
   "cell_type": "code",
   "execution_count": 17,
   "metadata": {
    "colab": {},
    "colab_type": "code",
    "id": "PS-aE7diMR0w"
   },
   "outputs": [],
   "source": [
    "#Set the time range\n",
    "init_day = 152  #Jun 1st\n",
    "final_day = 243  #Aug 31st\n",
    "\n",
    "#Real data\n",
    "real_y = y.rate_of_change[(union_df.dayofyear >= init_day) & \n",
    "                       (union_df.dayofyear <= final_day)]\n",
    "\n",
    "#Calculate predictions\n",
    "X_subset = X[(union_df.dayofyear >= init_day) & \n",
    "                       (union_df.dayofyear <= final_day)]\n",
    "\n",
    "predic_y = grid_search.predict(X_subset)"
   ]
  },
  {
   "cell_type": "code",
   "execution_count": 18,
   "metadata": {
    "colab": {
     "base_uri": "https://localhost:8080/",
     "height": 367
    },
    "colab_type": "code",
    "id": "qN__Fb_BOztq",
    "outputId": "b10aa1bd-acaa-4452-d7ce-216df6850edf"
   },
   "outputs": [
    {
     "data": {
      "text/plain": [
       "<function matplotlib.pyplot.show(*args, **kw)>"
      ]
     },
     "execution_count": 18,
     "metadata": {},
     "output_type": "execute_result"
    },
    {
     "data": {
      "image/png": "[encoded data removed]",
      "text/plain": [
       "<Figure size 1080x360 with 1 Axes>"
      ]
     },
     "metadata": {
      "needs_background": "light"
     },
     "output_type": "display_data"
    }
   ],
   "source": [
    "#Get the indices of the data points\n",
    "x_values = union_df.index[(union_df.dayofyear >= init_day) & (union_df.dayofyear <= final_day)]\n",
    "\n",
    "#Plot\n",
    "fig, axes= plt.subplots(nrows=1, ncols=1,figsize=(15,5))\n",
    "\n",
    "#Plot difference between real and predicted value\n",
    "plt.plot(x_values, real_y- predic_y, c='black')\n",
    "plt.xlabel('Data indices (hours) from June 1st to Aug 31st')\n",
    "plt.ylabel('Delta rate of change (real -  prediction)')\n",
    "plt.title('Difference between real rate of change and predicted rate of change')\n",
    "plt.show"
   ]
  },
  {
   "cell_type": "markdown",
   "metadata": {
    "colab_type": "text",
    "id": "zmD-u8aDFFmk"
   },
   "source": [
    "### Final remarks\n",
    "\n",
    "* The most important factor for prediction is the hour of the day, both on the cosine and sine components. The dayofyear and weekday also have some influence, mainly on their sine component, since these are the variables that provide information about weekly and yearly seasonality.\n",
    "\n",
    "* In terms of prediction for months of high demand, the model seems to do a good job on most days, in which the difference between the real value and prediction are close to zero and between the $[-5,5]$ range, with a capacity of 26 bikes, this error might be acceptable (depending on the hour of the day). However, several peak points in the difference are still present, it's important identify explanatory variables for those peaks in order to improve model performance.\n",
    "\n",
    "* This model could be used for predicting the performance of other stations aswell since the data is already clean and prepared for the analysis.\n"
   ]
  }
 ],
 "metadata": {
  "kernelspec": {
   "display_name": "Python 3",
   "language": "python",
   "name": "python3"
  },
  "language_info": {
   "codemirror_mode": {
    "name": "ipython",
    "version": 3
   },
   "file_extension": ".py",
   "mimetype": "text/x-python",
   "name": "python",
   "nbconvert_exporter": "python",
   "pygments_lexer": "ipython3",
   "version": "3.7.4"
  }
 },
 "nbformat": 4,
 "nbformat_minor": 2
}
