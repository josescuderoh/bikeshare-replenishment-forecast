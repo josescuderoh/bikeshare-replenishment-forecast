{
 "cells": [
  {
   "cell_type": "markdown",
   "metadata": {},
   "source": [
    "# Modeling"
   ]
  },
  {
   "cell_type": "code",
   "execution_count": 19,
   "metadata": {},
   "outputs": [],
   "source": [
    "import warnings\n",
    "warnings.filterwarnings('ignore')\n",
    "\n",
    "# Basics\n",
    "import pandas as pd\n",
    "import numpy as np\n",
    "\n",
    "#Viz\n",
    "import matplotlib.pyplot as plt\n",
    "import seaborn as sns\n",
    "\n",
    "#Modeling utils\n",
    "from sklearn.preprocessing import StandardScaler\n",
    "from sklearn.pipeline import Pipeline\n",
    "from sklearn.metrics import r2_score, mean_squared_error\n",
    "from sklearn.model_selection import train_test_split, GridSearchCV, learning_curve\n",
    "\n",
    "#Estimators\n",
    "from sklearn.linear_model import LinearRegression, Ridge, Lasso\n",
    "from sklearn.ensemble import RandomForestRegressor\n",
    "from sklearn.svm import SVR\n",
    "import xgboost as xgb"
   ]
  },
  {
   "cell_type": "markdown",
   "metadata": {},
   "source": [
    "# Load in the data "
   ]
  },
  {
   "cell_type": "code",
   "execution_count": 2,
   "metadata": {},
   "outputs": [],
   "source": [
    "union_df = pd.read_csv('union_df.csv')"
   ]
  },
  {
   "cell_type": "code",
   "execution_count": 3,
   "metadata": {},
   "outputs": [
    {
     "data": {
      "text/html": [
       "<div>\n",
       "<style scoped>\n",
       "    .dataframe tbody tr th:only-of-type {\n",
       "        vertical-align: middle;\n",
       "    }\n",
       "\n",
       "    .dataframe tbody tr th {\n",
       "        vertical-align: top;\n",
       "    }\n",
       "\n",
       "    .dataframe thead th {\n",
       "        text-align: right;\n",
       "    }\n",
       "</style>\n",
       "<table border=\"1\" class=\"dataframe\">\n",
       "  <thead>\n",
       "    <tr style=\"text-align: right;\">\n",
       "      <th></th>\n",
       "      <th>dayofyear</th>\n",
       "      <th>weekday</th>\n",
       "      <th>hour</th>\n",
       "      <th>count_trips_orig</th>\n",
       "      <th>count_trips_dest</th>\n",
       "      <th>rate_of_change</th>\n",
       "    </tr>\n",
       "  </thead>\n",
       "  <tbody>\n",
       "    <tr>\n",
       "      <td>0</td>\n",
       "      <td>0</td>\n",
       "      <td>6</td>\n",
       "      <td>0</td>\n",
       "      <td>0.0</td>\n",
       "      <td>2.0</td>\n",
       "      <td>-2.0</td>\n",
       "    </tr>\n",
       "    <tr>\n",
       "      <td>1</td>\n",
       "      <td>0</td>\n",
       "      <td>6</td>\n",
       "      <td>1</td>\n",
       "      <td>1.0</td>\n",
       "      <td>0.0</td>\n",
       "      <td>1.0</td>\n",
       "    </tr>\n",
       "    <tr>\n",
       "      <td>2</td>\n",
       "      <td>0</td>\n",
       "      <td>6</td>\n",
       "      <td>2</td>\n",
       "      <td>2.0</td>\n",
       "      <td>0.0</td>\n",
       "      <td>2.0</td>\n",
       "    </tr>\n",
       "    <tr>\n",
       "      <td>3</td>\n",
       "      <td>0</td>\n",
       "      <td>6</td>\n",
       "      <td>3</td>\n",
       "      <td>1.0</td>\n",
       "      <td>0.0</td>\n",
       "      <td>1.0</td>\n",
       "    </tr>\n",
       "    <tr>\n",
       "      <td>4</td>\n",
       "      <td>0</td>\n",
       "      <td>6</td>\n",
       "      <td>4</td>\n",
       "      <td>0.0</td>\n",
       "      <td>1.0</td>\n",
       "      <td>-1.0</td>\n",
       "    </tr>\n",
       "  </tbody>\n",
       "</table>\n",
       "</div>"
      ],
      "text/plain": [
       "   dayofyear  weekday  hour  count_trips_orig  count_trips_dest  \\\n",
       "0          0        6     0               0.0               2.0   \n",
       "1          0        6     1               1.0               0.0   \n",
       "2          0        6     2               2.0               0.0   \n",
       "3          0        6     3               1.0               0.0   \n",
       "4          0        6     4               0.0               1.0   \n",
       "\n",
       "   rate_of_change  \n",
       "0            -2.0  \n",
       "1             1.0  \n",
       "2             2.0  \n",
       "3             1.0  \n",
       "4            -1.0  "
      ]
     },
     "execution_count": 3,
     "metadata": {},
     "output_type": "execute_result"
    }
   ],
   "source": [
    "union_df.head()"
   ]
  },
  {
   "cell_type": "markdown",
   "metadata": {
    "colab_type": "text",
    "id": "j4OIHxnRY4gG"
   },
   "source": [
    "# Feature engineering\n",
    "\n",
    "## Time variables\n",
    "\n",
    "Now that we have our time variables as we wanted and the trip counts for each one of those points, we need to make sure that our cyclical variables, namely dayofyear, weekday and hour, preserve their cyclical characteristics of months, days and weeks. This is to say that, the first day of the week should be close to the last day of the previous week, and similar with hours and days of the year. A more in depth explanation of this can be found [here](http://blog.davidkaleko.com/feature-engineering-cyclical-features.html).\n",
    "\n",
    "The transformation of monotonic variables into cyclical variables is explained in the following picture:\n",
    "\n",
    "![alt text](http://blog.davidkaleko.com/images/unit_circle.png)\n",
    "\n",
    "In this way, the hour 0 of a day will be preceded by the hour 23 of the previous day, and so on. For this, we use polar coordinates or sine and cosine components of these variables as follows."
   ]
  },
  {
   "cell_type": "code",
   "execution_count": 4,
   "metadata": {
    "colab": {
     "base_uri": "https://localhost:8080/",
     "height": 217
    },
    "colab_type": "code",
    "id": "9s2tqTbGWeuN",
    "outputId": "0c5ba539-1932-45cc-b63d-4611d3500412"
   },
   "outputs": [
    {
     "data": {
      "text/html": [
       "<div>\n",
       "<style scoped>\n",
       "    .dataframe tbody tr th:only-of-type {\n",
       "        vertical-align: middle;\n",
       "    }\n",
       "\n",
       "    .dataframe tbody tr th {\n",
       "        vertical-align: top;\n",
       "    }\n",
       "\n",
       "    .dataframe thead th {\n",
       "        text-align: right;\n",
       "    }\n",
       "</style>\n",
       "<table border=\"1\" class=\"dataframe\">\n",
       "  <thead>\n",
       "    <tr style=\"text-align: right;\">\n",
       "      <th></th>\n",
       "      <th>dayofyear</th>\n",
       "      <th>weekday</th>\n",
       "      <th>hour</th>\n",
       "      <th>count_trips_orig</th>\n",
       "      <th>count_trips_dest</th>\n",
       "      <th>rate_of_change</th>\n",
       "      <th>dayofyear_sin</th>\n",
       "      <th>dayofyear_cos</th>\n",
       "      <th>weekday_sin</th>\n",
       "      <th>weekday_cos</th>\n",
       "      <th>hour_sin</th>\n",
       "      <th>hour_cos</th>\n",
       "    </tr>\n",
       "  </thead>\n",
       "  <tbody>\n",
       "    <tr>\n",
       "      <td>0</td>\n",
       "      <td>0</td>\n",
       "      <td>6</td>\n",
       "      <td>0</td>\n",
       "      <td>0.0</td>\n",
       "      <td>2.0</td>\n",
       "      <td>-2.0</td>\n",
       "      <td>0.0</td>\n",
       "      <td>1.0</td>\n",
       "      <td>-0.781831</td>\n",
       "      <td>0.62349</td>\n",
       "      <td>0.000000</td>\n",
       "      <td>1.000000</td>\n",
       "    </tr>\n",
       "    <tr>\n",
       "      <td>1</td>\n",
       "      <td>0</td>\n",
       "      <td>6</td>\n",
       "      <td>1</td>\n",
       "      <td>1.0</td>\n",
       "      <td>0.0</td>\n",
       "      <td>1.0</td>\n",
       "      <td>0.0</td>\n",
       "      <td>1.0</td>\n",
       "      <td>-0.781831</td>\n",
       "      <td>0.62349</td>\n",
       "      <td>0.258819</td>\n",
       "      <td>0.965926</td>\n",
       "    </tr>\n",
       "    <tr>\n",
       "      <td>2</td>\n",
       "      <td>0</td>\n",
       "      <td>6</td>\n",
       "      <td>2</td>\n",
       "      <td>2.0</td>\n",
       "      <td>0.0</td>\n",
       "      <td>2.0</td>\n",
       "      <td>0.0</td>\n",
       "      <td>1.0</td>\n",
       "      <td>-0.781831</td>\n",
       "      <td>0.62349</td>\n",
       "      <td>0.500000</td>\n",
       "      <td>0.866025</td>\n",
       "    </tr>\n",
       "    <tr>\n",
       "      <td>3</td>\n",
       "      <td>0</td>\n",
       "      <td>6</td>\n",
       "      <td>3</td>\n",
       "      <td>1.0</td>\n",
       "      <td>0.0</td>\n",
       "      <td>1.0</td>\n",
       "      <td>0.0</td>\n",
       "      <td>1.0</td>\n",
       "      <td>-0.781831</td>\n",
       "      <td>0.62349</td>\n",
       "      <td>0.707107</td>\n",
       "      <td>0.707107</td>\n",
       "    </tr>\n",
       "    <tr>\n",
       "      <td>4</td>\n",
       "      <td>0</td>\n",
       "      <td>6</td>\n",
       "      <td>4</td>\n",
       "      <td>0.0</td>\n",
       "      <td>1.0</td>\n",
       "      <td>-1.0</td>\n",
       "      <td>0.0</td>\n",
       "      <td>1.0</td>\n",
       "      <td>-0.781831</td>\n",
       "      <td>0.62349</td>\n",
       "      <td>0.866025</td>\n",
       "      <td>0.500000</td>\n",
       "    </tr>\n",
       "  </tbody>\n",
       "</table>\n",
       "</div>"
      ],
      "text/plain": [
       "   dayofyear  weekday  hour  count_trips_orig  count_trips_dest  \\\n",
       "0          0        6     0               0.0               2.0   \n",
       "1          0        6     1               1.0               0.0   \n",
       "2          0        6     2               2.0               0.0   \n",
       "3          0        6     3               1.0               0.0   \n",
       "4          0        6     4               0.0               1.0   \n",
       "\n",
       "   rate_of_change  dayofyear_sin  dayofyear_cos  weekday_sin  weekday_cos  \\\n",
       "0            -2.0            0.0            1.0    -0.781831      0.62349   \n",
       "1             1.0            0.0            1.0    -0.781831      0.62349   \n",
       "2             2.0            0.0            1.0    -0.781831      0.62349   \n",
       "3             1.0            0.0            1.0    -0.781831      0.62349   \n",
       "4            -1.0            0.0            1.0    -0.781831      0.62349   \n",
       "\n",
       "   hour_sin  hour_cos  \n",
       "0  0.000000  1.000000  \n",
       "1  0.258819  0.965926  \n",
       "2  0.500000  0.866025  \n",
       "3  0.707107  0.707107  \n",
       "4  0.866025  0.500000  "
      ]
     },
     "execution_count": 4,
     "metadata": {},
     "output_type": "execute_result"
    }
   ],
   "source": [
    "# Transform three time variables sine and cosine components\n",
    "\n",
    "union_df['dayofyear_sin'] = np.sin(union_df.dayofyear*(2.*np.pi/365))\n",
    "union_df['dayofyear_cos'] = np.cos(union_df.dayofyear*(2.*np.pi/365))\n",
    "union_df['weekday_sin'] = np.sin(union_df.weekday*(2.*np.pi/7))\n",
    "union_df['weekday_cos'] = np.cos(union_df.weekday*(2.*np.pi/7))\n",
    "union_df['hour_sin'] = np.sin(union_df.hour*(2.*np.pi/24))\n",
    "union_df['hour_cos'] = np.cos(union_df.hour*(2.*np.pi/24))\n",
    "\n",
    "#Preview\n",
    "union_df.head()"
   ]
  },
  {
   "cell_type": "markdown",
   "metadata": {
    "colab_type": "text",
    "id": "qvlm9XcMdz7N"
   },
   "source": [
    "Here, we can evidence that by using sines and cosines, time variables will be arranged in a cyclical manner so that the model is provided with this features to approximate the behavior of the rate of change in a better way."
   ]
  },
  {
   "cell_type": "markdown",
   "metadata": {},
   "source": [
    "## Selecting time features "
   ]
  },
  {
   "cell_type": "markdown",
   "metadata": {
    "colab_type": "text",
    "id": "HaUtCNhU7XDU"
   },
   "source": [
    "Now we take a subset of our dataset to include only the variables we need for modeling. The first iteration of the model will be only time-dependent, since we expect that this data will account for seasonal weather features such as temperature and precipitation.\n",
    "\n",
    "Nevertheless, future stages of development could include other variables such as ``is_holiday``, `mean_temperature`, `humidity`, `mean_windspeed`, `casual_rides`, `member_rides`, ``is_event_date``, among many others."
   ]
  },
  {
   "cell_type": "code",
   "execution_count": 5,
   "metadata": {
    "colab": {},
    "colab_type": "code",
    "id": "TCFMHUTX7XDZ"
   },
   "outputs": [],
   "source": [
    "# Set the variables\n",
    "features = union_df[['dayofyear_sin', 'dayofyear_cos', 'weekday_sin', 'weekday_cos','hour_sin', 'hour_cos']]\n",
    "target = union_df[['rate_of_change']]"
   ]
  },
  {
   "cell_type": "markdown",
   "metadata": {
    "colab_type": "text",
    "id": "dvd8g2a5AggG"
   },
   "source": [
    "Split the dataset into training and test set for Cross validation and hyper parameters optimization"
   ]
  },
  {
   "cell_type": "code",
   "execution_count": 6,
   "metadata": {
    "colab": {},
    "colab_type": "code",
    "id": "g3I-uLmfadtY"
   },
   "outputs": [],
   "source": [
    "features_train, features_test, target_train, target_test = train_test_split(features,\n",
    "                                                                            target, \n",
    "                                                                            test_size=0.2, \n",
    "                                                                            random_state=100)"
   ]
  },
  {
   "cell_type": "code",
   "execution_count": 7,
   "metadata": {},
   "outputs": [],
   "source": [
    "features_train, features_cv, target_train, target_cv = train_test_split(features_train,\n",
    "                                                                        target_train, \n",
    "                                                                        test_size=0.3, \n",
    "                                                                        random_state=100)"
   ]
  },
  {
   "cell_type": "markdown",
   "metadata": {},
   "source": [
    "# Model selection "
   ]
  },
  {
   "cell_type": "markdown",
   "metadata": {
    "colab_type": "text",
    "id": "tdYRxpFff0V6"
   },
   "source": [
    "## Random Forest Modeling\n",
    "\n",
    "In order to account for non-linear behavior of the phenomena, for this first approach we will be using Random Forest Regression with hyperparameters optimization using ``GridSearchCV``. This GridSearch is already focused on a specific area of the hyperspace of parameters that was detected manually by exploring the training and cross validation $R^{2}$ one by one. These sets of parameters given should provide one optimal model derived from this data. "
   ]
  },
  {
   "cell_type": "code",
   "execution_count": 8,
   "metadata": {
    "colab": {
     "base_uri": "https://localhost:8080/",
     "height": 638
    },
    "colab_type": "code",
    "id": "6FrVw7G6adtc",
    "outputId": "dcd5be36-313a-4f59-94d5-07a746d26686"
   },
   "outputs": [
    {
     "name": "stdout",
     "output_type": "stream",
     "text": [
      "Fitting 5 folds for each of 500 candidates, totalling 2500 fits\n"
     ]
    },
    {
     "name": "stderr",
     "output_type": "stream",
     "text": [
      "[Parallel(n_jobs=-1)]: Using backend LokyBackend with 8 concurrent workers.\n",
      "[Parallel(n_jobs=-1)]: Done  34 tasks      | elapsed:    6.1s\n",
      "[Parallel(n_jobs=-1)]: Done 184 tasks      | elapsed:    8.7s\n",
      "[Parallel(n_jobs=-1)]: Done 434 tasks      | elapsed:   13.0s\n",
      "[Parallel(n_jobs=-1)]: Done 784 tasks      | elapsed:   20.6s\n",
      "[Parallel(n_jobs=-1)]: Done 1234 tasks      | elapsed:   32.2s\n",
      "[Parallel(n_jobs=-1)]: Done 1784 tasks      | elapsed:   49.6s\n",
      "[Parallel(n_jobs=-1)]: Done 2434 tasks      | elapsed:  1.3min\n",
      "[Parallel(n_jobs=-1)]: Done 2500 out of 2500 | elapsed:  1.4min finished\n"
     ]
    },
    {
     "data": {
      "text/plain": [
       "GridSearchCV(cv=5, error_score='raise-deprecating',\n",
       "             estimator=Pipeline(memory=None,\n",
       "                                steps=[('scaler',\n",
       "                                        StandardScaler(copy=True,\n",
       "                                                       with_mean=True,\n",
       "                                                       with_std=True)),\n",
       "                                       ('rf',\n",
       "                                        RandomForestRegressor(bootstrap=True,\n",
       "                                                              criterion='mse',\n",
       "                                                              max_depth=None,\n",
       "                                                              max_features=4,\n",
       "                                                              max_leaf_nodes=None,\n",
       "                                                              min_impurity_decrease=0.0,\n",
       "                                                              min_impurity_split=None,\n",
       "                                                              min_samples_leaf=1,\n",
       "                                                              min_samples_split=...\n",
       "                                                              verbose=0,\n",
       "                                                              warm_start=False))],\n",
       "                                verbose=False),\n",
       "             iid='warn', n_jobs=-1,\n",
       "             param_grid=[{'rf__max_depth': array([ 1,  3,  5,  7, 10]),\n",
       "                          'rf__min_samples_leaf': array([ 1,  4,  7, 10]),\n",
       "                          'rf__min_samples_split': array([0.0001  , 0.000325, 0.00055 , 0.000775, 0.001   ]),\n",
       "                          'rf__n_estimators': array([30, 40, 50, 60, 70])}],\n",
       "             pre_dispatch='2*n_jobs', refit=True, return_train_score=True,\n",
       "             scoring='r2', verbose=1)"
      ]
     },
     "execution_count": 8,
     "metadata": {},
     "output_type": "execute_result"
    }
   ],
   "source": [
    "#Create pipeline\n",
    "pipe = Pipeline([('scaler', StandardScaler()), \n",
    "                 ('rf', RandomForestRegressor(random_state=100, max_features=4))])\n",
    "\n",
    "#Create params grid\n",
    "params_list = [{'rf__n_estimators': np.linspace(30, 70, 5, endpoint=True, dtype=int),\n",
    "                'rf__max_depth' : np.linspace(1, 10, 5, endpoint=True, dtype=int),\n",
    "                'rf__min_samples_split': np.linspace(0.0001, 0.001, 5, endpoint=True),\n",
    "                'rf__min_samples_leaf': np.linspace(1, 10, 4, endpoint=True, dtype=int),\n",
    "               }]\n",
    "\n",
    "# Perform grid search\n",
    "grid_search = GridSearchCV(estimator=pipe, \n",
    "                           param_grid=params_list, \n",
    "                           cv=5, \n",
    "                           scoring='r2',\n",
    "                          verbose=1,\n",
    "                          n_jobs=-1,\n",
    "                          return_train_score=True)\n",
    "  \n",
    "grid_search.fit(features_train, target_train)"
   ]
  },
  {
   "cell_type": "markdown",
   "metadata": {
    "colab_type": "text",
    "id": "WSUaNm3OBq2O"
   },
   "source": [
    "First let's get the subset of optimal parameters obtained by the ``GridSearchCV`` algorithm and its score."
   ]
  },
  {
   "cell_type": "code",
   "execution_count": 9,
   "metadata": {
    "colab": {
     "base_uri": "https://localhost:8080/",
     "height": 87
    },
    "colab_type": "code",
    "id": "UdrnCXwN5yUx",
    "outputId": "a4c78015-72e7-400a-ea1c-ab4452b18486"
   },
   "outputs": [
    {
     "data": {
      "text/plain": [
       "{'rf__max_depth': 10,\n",
       " 'rf__min_samples_leaf': 4,\n",
       " 'rf__min_samples_split': 0.0001,\n",
       " 'rf__n_estimators': 70}"
      ]
     },
     "execution_count": 9,
     "metadata": {},
     "output_type": "execute_result"
    }
   ],
   "source": [
    "#Get best params\n",
    "grid_search.best_params_"
   ]
  },
  {
   "cell_type": "code",
   "execution_count": 10,
   "metadata": {
    "colab": {
     "base_uri": "https://localhost:8080/",
     "height": 34
    },
    "colab_type": "code",
    "id": "VoJAlIjt5yU1",
    "outputId": "671dd5eb-8606-437b-fdc7-5913e8a52dd3"
   },
   "outputs": [
    {
     "data": {
      "text/plain": [
       "0.67"
      ]
     },
     "execution_count": 10,
     "metadata": {},
     "output_type": "execute_result"
    }
   ],
   "source": [
    "#Get best score\n",
    "grid_search.best_score_.round(2)"
   ]
  },
  {
   "cell_type": "markdown",
   "metadata": {
    "colab_type": "text",
    "id": "U0QiRC2NB1tr"
   },
   "source": [
    "For this case we have chosen $R^{2}$ as the metric for model selection (as seen before). Hence, we will evaluate the results obtained with this metric for both training and test set."
   ]
  },
  {
   "cell_type": "code",
   "execution_count": 11,
   "metadata": {
    "colab": {
     "base_uri": "https://localhost:8080/",
     "height": 34
    },
    "colab_type": "code",
    "id": "LFRSx-TI5yU4",
    "outputId": "e2cc3d0e-df4f-4d3b-b0ef-6db1078cf812"
   },
   "outputs": [
    {
     "data": {
      "text/plain": [
       "0.8"
      ]
     },
     "execution_count": 11,
     "metadata": {},
     "output_type": "execute_result"
    }
   ],
   "source": [
    "#Use the best model for prediction on training set and get metric\n",
    "r2_score(target_train, grid_search.predict(features_train)).round(2)"
   ]
  },
  {
   "cell_type": "code",
   "execution_count": 12,
   "metadata": {
    "colab": {
     "base_uri": "https://localhost:8080/",
     "height": 34
    },
    "colab_type": "code",
    "id": "03kauyXg5yU6",
    "outputId": "95f66974-0cdc-4b78-95b8-e0e104f5dcff"
   },
   "outputs": [
    {
     "data": {
      "text/plain": [
       "0.69"
      ]
     },
     "execution_count": 12,
     "metadata": {},
     "output_type": "execute_result"
    }
   ],
   "source": [
    "#Use the best model for prediction on test set and get metric\n",
    "r2_score(target_cv, grid_search.predict(features_cv)).round(2)"
   ]
  },
  {
   "cell_type": "code",
   "execution_count": 13,
   "metadata": {
    "colab": {
     "base_uri": "https://localhost:8080/",
     "height": 34
    },
    "colab_type": "code",
    "id": "03kauyXg5yU6",
    "outputId": "95f66974-0cdc-4b78-95b8-e0e104f5dcff"
   },
   "outputs": [
    {
     "data": {
      "text/plain": [
       "0.68"
      ]
     },
     "execution_count": 13,
     "metadata": {},
     "output_type": "execute_result"
    }
   ],
   "source": [
    "#Use the best model for prediction on test set and get metric\n",
    "r2_score(target_test, grid_search.predict(features_test)).round(2)"
   ]
  },
  {
   "cell_type": "code",
   "execution_count": 14,
   "metadata": {
    "colab": {
     "base_uri": "https://localhost:8080/",
     "height": 227
    },
    "colab_type": "code",
    "id": "8QE_53hy5yU9",
    "outputId": "a7ff3974-66a5-4f2a-a548-ea03fa435d24"
   },
   "outputs": [
    {
     "data": {
      "text/html": [
       "<div>\n",
       "<style scoped>\n",
       "    .dataframe tbody tr th:only-of-type {\n",
       "        vertical-align: middle;\n",
       "    }\n",
       "\n",
       "    .dataframe tbody tr th {\n",
       "        vertical-align: top;\n",
       "    }\n",
       "\n",
       "    .dataframe thead th {\n",
       "        text-align: right;\n",
       "    }\n",
       "</style>\n",
       "<table border=\"1\" class=\"dataframe\">\n",
       "  <thead>\n",
       "    <tr style=\"text-align: right;\">\n",
       "      <th></th>\n",
       "      <th>0</th>\n",
       "    </tr>\n",
       "  </thead>\n",
       "  <tbody>\n",
       "    <tr>\n",
       "      <td>dayofyear_sin</td>\n",
       "      <td>0.230328</td>\n",
       "    </tr>\n",
       "    <tr>\n",
       "      <td>dayofyear_cos</td>\n",
       "      <td>0.091587</td>\n",
       "    </tr>\n",
       "    <tr>\n",
       "      <td>weekday_sin</td>\n",
       "      <td>0.132383</td>\n",
       "    </tr>\n",
       "    <tr>\n",
       "      <td>weekday_cos</td>\n",
       "      <td>0.016530</td>\n",
       "    </tr>\n",
       "    <tr>\n",
       "      <td>hour_sin</td>\n",
       "      <td>0.302738</td>\n",
       "    </tr>\n",
       "    <tr>\n",
       "      <td>hour_cos</td>\n",
       "      <td>0.226434</td>\n",
       "    </tr>\n",
       "  </tbody>\n",
       "</table>\n",
       "</div>"
      ],
      "text/plain": [
       "                      0\n",
       "dayofyear_sin  0.230328\n",
       "dayofyear_cos  0.091587\n",
       "weekday_sin    0.132383\n",
       "weekday_cos    0.016530\n",
       "hour_sin       0.302738\n",
       "hour_cos       0.226434"
      ]
     },
     "execution_count": 14,
     "metadata": {},
     "output_type": "execute_result"
    }
   ],
   "source": [
    "# Feature importance for time series data\n",
    "pd.DataFrame(data=grid_search.best_estimator_.named_steps['rf'].feature_importances_,\n",
    "            index=features_train.columns)"
   ]
  },
  {
   "cell_type": "markdown",
   "metadata": {},
   "source": [
    "### Learning curves for best RF"
   ]
  },
  {
   "cell_type": "code",
   "execution_count": 38,
   "metadata": {},
   "outputs": [],
   "source": [
    "train_size, train_scores, cv_scores = learning_curve(grid_search.best_estimator_, \n",
    "                                                     X=features_train, \n",
    "                                                     y=target_train, \n",
    "                                                     cv=None,\n",
    "                                                     scoring='neg_mean_squared_error')"
   ]
  },
  {
   "cell_type": "code",
   "execution_count": 40,
   "metadata": {},
   "outputs": [
    {
     "data": {
      "text/plain": [
       "<matplotlib.axes._subplots.AxesSubplot at 0x205efb6bb48>"
      ]
     },
     "execution_count": 40,
     "metadata": {},
     "output_type": "execute_result"
    },
    {
     "data": {
      "image/png": "[encoded data removed]",
      "text/plain": [
       "<Figure size 432x288 with 1 Axes>"
      ]
     },
     "metadata": {
      "needs_background": "light"
     },
     "output_type": "display_data"
    }
   ],
   "source": [
    "sns.lineplot(data= pd.DataFrame({'train': -train_scores.mean(axis=1), 'cv': -cv_scores.mean(axis=1)}, \n",
    "                                index=train_size))"
   ]
  },
  {
   "cell_type": "markdown",
   "metadata": {},
   "source": [
    "## XGBoost and Grid Search "
   ]
  },
  {
   "cell_type": "code",
   "execution_count": 15,
   "metadata": {},
   "outputs": [],
   "source": [
    "xg_reg = xgb.XGBRegressor(objective='reg:squarederror')"
   ]
  },
  {
   "cell_type": "code",
   "execution_count": 16,
   "metadata": {},
   "outputs": [],
   "source": [
    "param_grid = {'max_depth': np.linspace(3,9,7, dtype=int),\n",
    "              'learning_rate': np.linspace(0.001,0.05, 3),\n",
    "              'n_estimators': np.linspace(400, 1000, 3, dtype=int),\n",
    "              'subsample': [0.6, 0.8, 1],\n",
    "              'colsample_bytree': [0.6, 0.8, 1]}"
   ]
  },
  {
   "cell_type": "code",
   "execution_count": 17,
   "metadata": {},
   "outputs": [],
   "source": [
    "gs = GridSearchCV(estimator=xg_reg,\n",
    "                  param_grid=param_grid,\n",
    "                  verbose=1,\n",
    "                  n_jobs=-1,\n",
    "                  cv=5)"
   ]
  },
  {
   "cell_type": "code",
   "execution_count": 18,
   "metadata": {},
   "outputs": [
    {
     "name": "stdout",
     "output_type": "stream",
     "text": [
      "Fitting 5 folds for each of 567 candidates, totalling 2835 fits\n"
     ]
    },
    {
     "name": "stderr",
     "output_type": "stream",
     "text": [
      "[Parallel(n_jobs=-1)]: Using backend LokyBackend with 8 concurrent workers.\n",
      "[Parallel(n_jobs=-1)]: Done  34 tasks      | elapsed:   11.8s\n",
      "[Parallel(n_jobs=-1)]: Done 184 tasks      | elapsed:   57.6s\n",
      "[Parallel(n_jobs=-1)]: Done 434 tasks      | elapsed:  2.5min\n",
      "[Parallel(n_jobs=-1)]: Done 784 tasks      | elapsed:  4.7min\n",
      "[Parallel(n_jobs=-1)]: Done 1234 tasks      | elapsed:  7.8min\n",
      "[Parallel(n_jobs=-1)]: Done 1784 tasks      | elapsed: 11.8min\n",
      "[Parallel(n_jobs=-1)]: Done 2434 tasks      | elapsed: 18.0min\n",
      "[Parallel(n_jobs=-1)]: Done 2835 out of 2835 | elapsed: 22.1min finished\n"
     ]
    },
    {
     "name": "stdout",
     "output_type": "stream",
     "text": [
      "Wall time: 22min 7s\n"
     ]
    },
    {
     "data": {
      "text/plain": [
       "GridSearchCV(cv=5, error_score='raise-deprecating',\n",
       "             estimator=XGBRegressor(base_score=0.5, booster='gbtree',\n",
       "                                    colsample_bylevel=1, colsample_bynode=1,\n",
       "                                    colsample_bytree=1, gamma=0,\n",
       "                                    importance_type='gain', learning_rate=0.1,\n",
       "                                    max_delta_step=0, max_depth=3,\n",
       "                                    min_child_weight=1, missing=None,\n",
       "                                    n_estimators=100, n_jobs=1, nthread=None,\n",
       "                                    objective='reg:squarederror',\n",
       "                                    random_st...\n",
       "                                    scale_pos_weight=1, seed=None, silent=None,\n",
       "                                    subsample=1, verbosity=1),\n",
       "             iid='warn', n_jobs=-1,\n",
       "             param_grid={'colsample_bytree': [0.6, 0.8, 1],\n",
       "                         'learning_rate': array([0.001 , 0.0255, 0.05  ]),\n",
       "                         'max_depth': array([3, 4, 5, 6, 7, 8, 9]),\n",
       "                         'n_estimators': array([ 400,  700, 1000]),\n",
       "                         'subsample': [0.6, 0.8, 1]},\n",
       "             pre_dispatch='2*n_jobs', refit=True, return_train_score=False,\n",
       "             scoring=None, verbose=1)"
      ]
     },
     "execution_count": 18,
     "metadata": {},
     "output_type": "execute_result"
    }
   ],
   "source": [
    "%time gs.fit(features_train, target_train)"
   ]
  },
  {
   "cell_type": "code",
   "execution_count": 41,
   "metadata": {},
   "outputs": [
    {
     "data": {
      "text/plain": [
       "0.6404719527708681"
      ]
     },
     "execution_count": 41,
     "metadata": {},
     "output_type": "execute_result"
    }
   ],
   "source": [
    "gs.best_score_"
   ]
  },
  {
   "cell_type": "code",
   "execution_count": 43,
   "metadata": {
    "colab": {
     "base_uri": "https://localhost:8080/",
     "height": 34
    },
    "colab_type": "code",
    "id": "LFRSx-TI5yU4",
    "outputId": "e2cc3d0e-df4f-4d3b-b0ef-6db1078cf812"
   },
   "outputs": [
    {
     "data": {
      "text/plain": [
       "0.84"
      ]
     },
     "execution_count": 43,
     "metadata": {},
     "output_type": "execute_result"
    }
   ],
   "source": [
    "#Use the best model for prediction on training set and get metric\n",
    "r2_score(target_train, gs.predict(features_train)).round(2)"
   ]
  },
  {
   "cell_type": "code",
   "execution_count": 44,
   "metadata": {
    "colab": {
     "base_uri": "https://localhost:8080/",
     "height": 34
    },
    "colab_type": "code",
    "id": "03kauyXg5yU6",
    "outputId": "95f66974-0cdc-4b78-95b8-e0e104f5dcff"
   },
   "outputs": [
    {
     "data": {
      "text/plain": [
       "0.68"
      ]
     },
     "execution_count": 44,
     "metadata": {},
     "output_type": "execute_result"
    }
   ],
   "source": [
    "#Use the best model for prediction on test set and get metric\n",
    "r2_score(target_cv, gs.predict(features_cv)).round(2)"
   ]
  },
  {
   "cell_type": "markdown",
   "metadata": {},
   "source": [
    "### Apply regularization to reduce Variance\n",
    "\n",
    "First, let's get the set of parameters given by the optimal model"
   ]
  },
  {
   "cell_type": "code",
   "execution_count": 160,
   "metadata": {},
   "outputs": [
    {
     "data": {
      "text/plain": [
       "XGBRegressor(base_score=0.5, booster='gbtree', colsample_bylevel=1,\n",
       "             colsample_bynode=1, colsample_bytree=1, gamma=0,\n",
       "             importance_type='gain', learning_rate=0.025500000000000002,\n",
       "             max_delta_step=0, max_depth=6, min_child_weight=1, missing=None,\n",
       "             n_estimators=400, n_jobs=1, nthread=None,\n",
       "             objective='reg:squarederror', random_state=0, reg_alpha=0,\n",
       "             reg_lambda=1, scale_pos_weight=1, seed=None, silent=None,\n",
       "             subsample=0.8, verbosity=1)"
      ]
     },
     "execution_count": 160,
     "metadata": {},
     "output_type": "execute_result"
    }
   ],
   "source": [
    "gs.best_estimator_"
   ]
  },
  {
   "cell_type": "markdown",
   "metadata": {},
   "source": [
    "Define new estimator based on these parameters and through manual iteration reduce variance: "
   ]
  },
  {
   "cell_type": "code",
   "execution_count": 161,
   "metadata": {},
   "outputs": [],
   "source": [
    "xg_reg = xgb.XGBRegressor(objective='reg:squarederror',\n",
    "                          learning_rate=0.014,\n",
    "                          max_depth=5,\n",
    "                          n_jobs=-1,\n",
    "                          subsample=0.7,\n",
    "                          n_estimators=250,\n",
    "                          colsample_bytree=1)"
   ]
  },
  {
   "cell_type": "markdown",
   "metadata": {},
   "source": [
    "Fit the model again "
   ]
  },
  {
   "cell_type": "code",
   "execution_count": 162,
   "metadata": {},
   "outputs": [],
   "source": [
    "eval_set = [(features_train, target_train), (features_cv, target_cv)]"
   ]
  },
  {
   "cell_type": "code",
   "execution_count": 163,
   "metadata": {},
   "outputs": [],
   "source": [
    "eval_metrics = ['rmse']"
   ]
  },
  {
   "cell_type": "code",
   "execution_count": 164,
   "metadata": {},
   "outputs": [
    {
     "name": "stdout",
     "output_type": "stream",
     "text": [
      "[0]\tvalidation_0-rmse:6.45871\tvalidation_1-rmse:6.37336\n",
      "[1]\tvalidation_0-rmse:6.42108\tvalidation_1-rmse:6.33705\n",
      "[2]\tvalidation_0-rmse:6.38094\tvalidation_1-rmse:6.29826\n",
      "[3]\tvalidation_0-rmse:6.32957\tvalidation_1-rmse:6.24889\n",
      "[4]\tvalidation_0-rmse:6.27837\tvalidation_1-rmse:6.19975\n",
      "[5]\tvalidation_0-rmse:6.22584\tvalidation_1-rmse:6.1478\n",
      "[6]\tvalidation_0-rmse:6.17415\tvalidation_1-rmse:6.09827\n",
      "[7]\tvalidation_0-rmse:6.13704\tvalidation_1-rmse:6.06333\n",
      "[8]\tvalidation_0-rmse:6.10515\tvalidation_1-rmse:6.0325\n",
      "[9]\tvalidation_0-rmse:6.07149\tvalidation_1-rmse:6.00048\n",
      "[10]\tvalidation_0-rmse:6.02567\tvalidation_1-rmse:5.95721\n",
      "[11]\tvalidation_0-rmse:5.99291\tvalidation_1-rmse:5.92653\n",
      "[12]\tvalidation_0-rmse:5.96125\tvalidation_1-rmse:5.89659\n",
      "[13]\tvalidation_0-rmse:5.93005\tvalidation_1-rmse:5.86736\n",
      "[14]\tvalidation_0-rmse:5.89815\tvalidation_1-rmse:5.8373\n",
      "[15]\tvalidation_0-rmse:5.86682\tvalidation_1-rmse:5.80784\n",
      "[16]\tvalidation_0-rmse:5.82227\tvalidation_1-rmse:5.76417\n",
      "[17]\tvalidation_0-rmse:5.78064\tvalidation_1-rmse:5.72471\n",
      "[18]\tvalidation_0-rmse:5.73828\tvalidation_1-rmse:5.68292\n",
      "[19]\tvalidation_0-rmse:5.70594\tvalidation_1-rmse:5.65257\n",
      "[20]\tvalidation_0-rmse:5.68073\tvalidation_1-rmse:5.62874\n",
      "[21]\tvalidation_0-rmse:5.64239\tvalidation_1-rmse:5.59242\n",
      "[22]\tvalidation_0-rmse:5.61586\tvalidation_1-rmse:5.56746\n",
      "[23]\tvalidation_0-rmse:5.57508\tvalidation_1-rmse:5.52729\n",
      "[24]\tvalidation_0-rmse:5.54858\tvalidation_1-rmse:5.50227\n",
      "[25]\tvalidation_0-rmse:5.52351\tvalidation_1-rmse:5.47911\n",
      "[26]\tvalidation_0-rmse:5.48597\tvalidation_1-rmse:5.44203\n",
      "[27]\tvalidation_0-rmse:5.46253\tvalidation_1-rmse:5.42069\n",
      "[28]\tvalidation_0-rmse:5.42579\tvalidation_1-rmse:5.38522\n",
      "[29]\tvalidation_0-rmse:5.39303\tvalidation_1-rmse:5.35441\n",
      "[30]\tvalidation_0-rmse:5.37141\tvalidation_1-rmse:5.33435\n",
      "[31]\tvalidation_0-rmse:5.35223\tvalidation_1-rmse:5.31645\n",
      "[32]\tvalidation_0-rmse:5.32079\tvalidation_1-rmse:5.28745\n",
      "[33]\tvalidation_0-rmse:5.28592\tvalidation_1-rmse:5.25377\n",
      "[34]\tvalidation_0-rmse:5.26592\tvalidation_1-rmse:5.23521\n",
      "[35]\tvalidation_0-rmse:5.24601\tvalidation_1-rmse:5.21734\n",
      "[36]\tvalidation_0-rmse:5.22712\tvalidation_1-rmse:5.19985\n",
      "[37]\tvalidation_0-rmse:5.20656\tvalidation_1-rmse:5.17975\n",
      "[38]\tvalidation_0-rmse:5.17498\tvalidation_1-rmse:5.14908\n",
      "[39]\tvalidation_0-rmse:5.14515\tvalidation_1-rmse:5.12097\n",
      "[40]\tvalidation_0-rmse:5.11717\tvalidation_1-rmse:5.0945\n",
      "[41]\tvalidation_0-rmse:5.0879\tvalidation_1-rmse:5.0656\n",
      "[42]\tvalidation_0-rmse:5.06015\tvalidation_1-rmse:5.03909\n",
      "[43]\tvalidation_0-rmse:5.032\tvalidation_1-rmse:5.01141\n",
      "[44]\tvalidation_0-rmse:5.01546\tvalidation_1-rmse:4.99642\n",
      "[45]\tvalidation_0-rmse:4.98604\tvalidation_1-rmse:4.96701\n",
      "[46]\tvalidation_0-rmse:4.95847\tvalidation_1-rmse:4.94059\n",
      "[47]\tvalidation_0-rmse:4.93332\tvalidation_1-rmse:4.91608\n",
      "[48]\tvalidation_0-rmse:4.90719\tvalidation_1-rmse:4.89046\n",
      "[49]\tvalidation_0-rmse:4.8925\tvalidation_1-rmse:4.8777\n",
      "[50]\tvalidation_0-rmse:4.87718\tvalidation_1-rmse:4.86506\n",
      "[51]\tvalidation_0-rmse:4.85444\tvalidation_1-rmse:4.84366\n",
      "[52]\tvalidation_0-rmse:4.83035\tvalidation_1-rmse:4.82007\n",
      "[53]\tvalidation_0-rmse:4.80877\tvalidation_1-rmse:4.79931\n",
      "[54]\tvalidation_0-rmse:4.78586\tvalidation_1-rmse:4.77694\n",
      "[55]\tvalidation_0-rmse:4.77278\tvalidation_1-rmse:4.76472\n",
      "[56]\tvalidation_0-rmse:4.75927\tvalidation_1-rmse:4.75267\n",
      "[57]\tvalidation_0-rmse:4.73694\tvalidation_1-rmse:4.731\n",
      "[58]\tvalidation_0-rmse:4.71263\tvalidation_1-rmse:4.70721\n",
      "[59]\tvalidation_0-rmse:4.69265\tvalidation_1-rmse:4.68856\n",
      "[60]\tvalidation_0-rmse:4.67197\tvalidation_1-rmse:4.66927\n",
      "[61]\tvalidation_0-rmse:4.65168\tvalidation_1-rmse:4.64943\n",
      "[62]\tvalidation_0-rmse:4.64139\tvalidation_1-rmse:4.6403\n",
      "[63]\tvalidation_0-rmse:4.62209\tvalidation_1-rmse:4.62201\n",
      "[64]\tvalidation_0-rmse:4.60163\tvalidation_1-rmse:4.60226\n",
      "[65]\tvalidation_0-rmse:4.58427\tvalidation_1-rmse:4.58637\n",
      "[66]\tvalidation_0-rmse:4.56596\tvalidation_1-rmse:4.56879\n",
      "[67]\tvalidation_0-rmse:4.54936\tvalidation_1-rmse:4.55195\n",
      "[68]\tvalidation_0-rmse:4.53057\tvalidation_1-rmse:4.53394\n",
      "[69]\tvalidation_0-rmse:4.51423\tvalidation_1-rmse:4.51891\n",
      "[70]\tvalidation_0-rmse:4.49552\tvalidation_1-rmse:4.5011\n",
      "[71]\tvalidation_0-rmse:4.48569\tvalidation_1-rmse:4.49261\n",
      "[72]\tvalidation_0-rmse:4.46933\tvalidation_1-rmse:4.4768\n",
      "[73]\tvalidation_0-rmse:4.4535\tvalidation_1-rmse:4.46204\n",
      "[74]\tvalidation_0-rmse:4.4368\tvalidation_1-rmse:4.44602\n",
      "[75]\tvalidation_0-rmse:4.42218\tvalidation_1-rmse:4.43253\n",
      "[76]\tvalidation_0-rmse:4.40653\tvalidation_1-rmse:4.41933\n",
      "[77]\tvalidation_0-rmse:4.39526\tvalidation_1-rmse:4.40951\n",
      "[78]\tvalidation_0-rmse:4.38553\tvalidation_1-rmse:4.40158\n",
      "[79]\tvalidation_0-rmse:4.37052\tvalidation_1-rmse:4.38677\n",
      "[80]\tvalidation_0-rmse:4.36233\tvalidation_1-rmse:4.38063\n",
      "[81]\tvalidation_0-rmse:4.3539\tvalidation_1-rmse:4.37439\n",
      "[82]\tvalidation_0-rmse:4.33908\tvalidation_1-rmse:4.36022\n",
      "[83]\tvalidation_0-rmse:4.33058\tvalidation_1-rmse:4.35277\n",
      "[84]\tvalidation_0-rmse:4.31677\tvalidation_1-rmse:4.33967\n",
      "[85]\tvalidation_0-rmse:4.31024\tvalidation_1-rmse:4.33418\n",
      "[86]\tvalidation_0-rmse:4.29878\tvalidation_1-rmse:4.32352\n",
      "[87]\tvalidation_0-rmse:4.28444\tvalidation_1-rmse:4.30883\n",
      "[88]\tvalidation_0-rmse:4.27163\tvalidation_1-rmse:4.29698\n",
      "[89]\tvalidation_0-rmse:4.26577\tvalidation_1-rmse:4.29227\n",
      "[90]\tvalidation_0-rmse:4.25816\tvalidation_1-rmse:4.28653\n",
      "[91]\tvalidation_0-rmse:4.25198\tvalidation_1-rmse:4.28138\n",
      "[92]\tvalidation_0-rmse:4.23874\tvalidation_1-rmse:4.2688\n",
      "[93]\tvalidation_0-rmse:4.22718\tvalidation_1-rmse:4.25754\n",
      "[94]\tvalidation_0-rmse:4.21509\tvalidation_1-rmse:4.2458\n",
      "[95]\tvalidation_0-rmse:4.20534\tvalidation_1-rmse:4.23707\n",
      "[96]\tvalidation_0-rmse:4.19793\tvalidation_1-rmse:4.2302\n",
      "[97]\tvalidation_0-rmse:4.19033\tvalidation_1-rmse:4.22321\n",
      "[98]\tvalidation_0-rmse:4.18119\tvalidation_1-rmse:4.21489\n",
      "[99]\tvalidation_0-rmse:4.17465\tvalidation_1-rmse:4.20859\n",
      "[100]\tvalidation_0-rmse:4.16749\tvalidation_1-rmse:4.20212\n",
      "[101]\tvalidation_0-rmse:4.15798\tvalidation_1-rmse:4.19305\n",
      "[102]\tvalidation_0-rmse:4.15144\tvalidation_1-rmse:4.18735\n",
      "[103]\tvalidation_0-rmse:4.13864\tvalidation_1-rmse:4.17516\n",
      "[104]\tvalidation_0-rmse:4.13193\tvalidation_1-rmse:4.16953\n",
      "[105]\tvalidation_0-rmse:4.12609\tvalidation_1-rmse:4.16416\n",
      "[106]\tvalidation_0-rmse:4.11513\tvalidation_1-rmse:4.15331\n",
      "[107]\tvalidation_0-rmse:4.11017\tvalidation_1-rmse:4.1488\n",
      "[108]\tvalidation_0-rmse:4.10053\tvalidation_1-rmse:4.13953\n",
      "[109]\tvalidation_0-rmse:4.09493\tvalidation_1-rmse:4.1353\n",
      "[110]\tvalidation_0-rmse:4.08903\tvalidation_1-rmse:4.12999\n",
      "[111]\tvalidation_0-rmse:4.0828\tvalidation_1-rmse:4.12441\n",
      "[112]\tvalidation_0-rmse:4.07702\tvalidation_1-rmse:4.11965\n",
      "[113]\tvalidation_0-rmse:4.07163\tvalidation_1-rmse:4.11515\n",
      "[114]\tvalidation_0-rmse:4.06021\tvalidation_1-rmse:4.1051\n",
      "[115]\tvalidation_0-rmse:4.05087\tvalidation_1-rmse:4.09515\n",
      "[116]\tvalidation_0-rmse:4.03899\tvalidation_1-rmse:4.08412\n",
      "[117]\tvalidation_0-rmse:4.03532\tvalidation_1-rmse:4.08124\n",
      "[118]\tvalidation_0-rmse:4.0259\tvalidation_1-rmse:4.0728\n",
      "[119]\tvalidation_0-rmse:4.01794\tvalidation_1-rmse:4.06615\n",
      "[120]\tvalidation_0-rmse:4.01382\tvalidation_1-rmse:4.06323\n",
      "[121]\tvalidation_0-rmse:4.00934\tvalidation_1-rmse:4.06022\n",
      "[122]\tvalidation_0-rmse:4.00008\tvalidation_1-rmse:4.0505\n",
      "[123]\tvalidation_0-rmse:3.99548\tvalidation_1-rmse:4.04681\n",
      "[124]\tvalidation_0-rmse:3.98543\tvalidation_1-rmse:4.03763\n",
      "[125]\tvalidation_0-rmse:3.97971\tvalidation_1-rmse:4.03318\n",
      "[126]\tvalidation_0-rmse:3.96989\tvalidation_1-rmse:4.02321\n",
      "[127]\tvalidation_0-rmse:3.9649\tvalidation_1-rmse:4.01858\n",
      "[128]\tvalidation_0-rmse:3.96101\tvalidation_1-rmse:4.01553\n",
      "[129]\tvalidation_0-rmse:3.95592\tvalidation_1-rmse:4.0121\n",
      "[130]\tvalidation_0-rmse:3.94673\tvalidation_1-rmse:4.00302\n",
      "[131]\tvalidation_0-rmse:3.9425\tvalidation_1-rmse:3.99995\n",
      "[132]\tvalidation_0-rmse:3.9388\tvalidation_1-rmse:3.997\n",
      "[133]\tvalidation_0-rmse:3.93484\tvalidation_1-rmse:3.99524\n",
      "[134]\tvalidation_0-rmse:3.92949\tvalidation_1-rmse:3.99174\n",
      "[135]\tvalidation_0-rmse:3.92537\tvalidation_1-rmse:3.98895\n",
      "[136]\tvalidation_0-rmse:3.92088\tvalidation_1-rmse:3.98544\n",
      "[137]\tvalidation_0-rmse:3.91422\tvalidation_1-rmse:3.97902\n",
      "[138]\tvalidation_0-rmse:3.90581\tvalidation_1-rmse:3.97131\n",
      "[139]\tvalidation_0-rmse:3.90122\tvalidation_1-rmse:3.96745\n",
      "[140]\tvalidation_0-rmse:3.89761\tvalidation_1-rmse:3.96481\n",
      "[141]\tvalidation_0-rmse:3.89172\tvalidation_1-rmse:3.95925\n",
      "[142]\tvalidation_0-rmse:3.88742\tvalidation_1-rmse:3.95515\n",
      "[143]\tvalidation_0-rmse:3.87836\tvalidation_1-rmse:3.94574\n"
     ]
    },
    {
     "name": "stdout",
     "output_type": "stream",
     "text": [
      "[144]\tvalidation_0-rmse:3.87215\tvalidation_1-rmse:3.93999\n",
      "[145]\tvalidation_0-rmse:3.86518\tvalidation_1-rmse:3.93401\n",
      "[146]\tvalidation_0-rmse:3.86188\tvalidation_1-rmse:3.93202\n",
      "[147]\tvalidation_0-rmse:3.85432\tvalidation_1-rmse:3.9254\n",
      "[148]\tvalidation_0-rmse:3.84764\tvalidation_1-rmse:3.91942\n",
      "[149]\tvalidation_0-rmse:3.84527\tvalidation_1-rmse:3.91808\n",
      "[150]\tvalidation_0-rmse:3.83804\tvalidation_1-rmse:3.91246\n",
      "[151]\tvalidation_0-rmse:3.83483\tvalidation_1-rmse:3.91096\n",
      "[152]\tvalidation_0-rmse:3.82619\tvalidation_1-rmse:3.90298\n",
      "[153]\tvalidation_0-rmse:3.82229\tvalidation_1-rmse:3.90086\n",
      "[154]\tvalidation_0-rmse:3.81913\tvalidation_1-rmse:3.8996\n",
      "[155]\tvalidation_0-rmse:3.81424\tvalidation_1-rmse:3.89623\n",
      "[156]\tvalidation_0-rmse:3.81167\tvalidation_1-rmse:3.89452\n",
      "[157]\tvalidation_0-rmse:3.80783\tvalidation_1-rmse:3.8915\n",
      "[158]\tvalidation_0-rmse:3.80078\tvalidation_1-rmse:3.885\n",
      "[159]\tvalidation_0-rmse:3.79826\tvalidation_1-rmse:3.88352\n",
      "[160]\tvalidation_0-rmse:3.78963\tvalidation_1-rmse:3.87554\n",
      "[161]\tvalidation_0-rmse:3.78177\tvalidation_1-rmse:3.86772\n",
      "[162]\tvalidation_0-rmse:3.77881\tvalidation_1-rmse:3.86603\n",
      "[163]\tvalidation_0-rmse:3.77643\tvalidation_1-rmse:3.8644\n",
      "[164]\tvalidation_0-rmse:3.77363\tvalidation_1-rmse:3.86262\n",
      "[165]\tvalidation_0-rmse:3.76929\tvalidation_1-rmse:3.86009\n",
      "[166]\tvalidation_0-rmse:3.7662\tvalidation_1-rmse:3.85791\n",
      "[167]\tvalidation_0-rmse:3.76189\tvalidation_1-rmse:3.85401\n",
      "[168]\tvalidation_0-rmse:3.75589\tvalidation_1-rmse:3.8491\n",
      "[169]\tvalidation_0-rmse:3.75313\tvalidation_1-rmse:3.84725\n",
      "[170]\tvalidation_0-rmse:3.74975\tvalidation_1-rmse:3.84479\n",
      "[171]\tvalidation_0-rmse:3.74373\tvalidation_1-rmse:3.83968\n",
      "[172]\tvalidation_0-rmse:3.74115\tvalidation_1-rmse:3.83789\n",
      "[173]\tvalidation_0-rmse:3.73732\tvalidation_1-rmse:3.83486\n",
      "[174]\tvalidation_0-rmse:3.73206\tvalidation_1-rmse:3.83135\n",
      "[175]\tvalidation_0-rmse:3.72818\tvalidation_1-rmse:3.82918\n",
      "[176]\tvalidation_0-rmse:3.72244\tvalidation_1-rmse:3.82322\n",
      "[177]\tvalidation_0-rmse:3.71545\tvalidation_1-rmse:3.81711\n",
      "[178]\tvalidation_0-rmse:3.71283\tvalidation_1-rmse:3.81572\n",
      "[179]\tvalidation_0-rmse:3.71118\tvalidation_1-rmse:3.81511\n",
      "[180]\tvalidation_0-rmse:3.70794\tvalidation_1-rmse:3.81321\n",
      "[181]\tvalidation_0-rmse:3.70241\tvalidation_1-rmse:3.80818\n",
      "[182]\tvalidation_0-rmse:3.69629\tvalidation_1-rmse:3.80324\n",
      "[183]\tvalidation_0-rmse:3.69054\tvalidation_1-rmse:3.79793\n",
      "[184]\tvalidation_0-rmse:3.68441\tvalidation_1-rmse:3.79392\n",
      "[185]\tvalidation_0-rmse:3.68207\tvalidation_1-rmse:3.79241\n",
      "[186]\tvalidation_0-rmse:3.67884\tvalidation_1-rmse:3.79094\n",
      "[187]\tvalidation_0-rmse:3.67513\tvalidation_1-rmse:3.78903\n",
      "[188]\tvalidation_0-rmse:3.67152\tvalidation_1-rmse:3.78744\n",
      "[189]\tvalidation_0-rmse:3.66977\tvalidation_1-rmse:3.78701\n",
      "[190]\tvalidation_0-rmse:3.66558\tvalidation_1-rmse:3.78483\n",
      "[191]\tvalidation_0-rmse:3.66319\tvalidation_1-rmse:3.7844\n",
      "[192]\tvalidation_0-rmse:3.65818\tvalidation_1-rmse:3.78012\n",
      "[193]\tvalidation_0-rmse:3.652\tvalidation_1-rmse:3.77534\n",
      "[194]\tvalidation_0-rmse:3.64905\tvalidation_1-rmse:3.77449\n",
      "[195]\tvalidation_0-rmse:3.64576\tvalidation_1-rmse:3.77185\n",
      "[196]\tvalidation_0-rmse:3.64264\tvalidation_1-rmse:3.7689\n",
      "[197]\tvalidation_0-rmse:3.64091\tvalidation_1-rmse:3.76817\n",
      "[198]\tvalidation_0-rmse:3.63929\tvalidation_1-rmse:3.76773\n",
      "[199]\tvalidation_0-rmse:3.6377\tvalidation_1-rmse:3.76699\n",
      "[200]\tvalidation_0-rmse:3.63453\tvalidation_1-rmse:3.76468\n",
      "[201]\tvalidation_0-rmse:3.62913\tvalidation_1-rmse:3.76092\n",
      "[202]\tvalidation_0-rmse:3.62323\tvalidation_1-rmse:3.75869\n",
      "[203]\tvalidation_0-rmse:3.62156\tvalidation_1-rmse:3.75788\n",
      "[204]\tvalidation_0-rmse:3.61895\tvalidation_1-rmse:3.75734\n",
      "[205]\tvalidation_0-rmse:3.61346\tvalidation_1-rmse:3.75306\n",
      "[206]\tvalidation_0-rmse:3.61058\tvalidation_1-rmse:3.75234\n",
      "[207]\tvalidation_0-rmse:3.60821\tvalidation_1-rmse:3.75083\n",
      "[208]\tvalidation_0-rmse:3.60522\tvalidation_1-rmse:3.74999\n",
      "[209]\tvalidation_0-rmse:3.59976\tvalidation_1-rmse:3.74654\n",
      "[210]\tvalidation_0-rmse:3.59796\tvalidation_1-rmse:3.74665\n",
      "[211]\tvalidation_0-rmse:3.59453\tvalidation_1-rmse:3.74445\n",
      "[212]\tvalidation_0-rmse:3.59287\tvalidation_1-rmse:3.74317\n",
      "[213]\tvalidation_0-rmse:3.5909\tvalidation_1-rmse:3.74235\n",
      "[214]\tvalidation_0-rmse:3.58912\tvalidation_1-rmse:3.74181\n",
      "[215]\tvalidation_0-rmse:3.58784\tvalidation_1-rmse:3.74172\n",
      "[216]\tvalidation_0-rmse:3.5861\tvalidation_1-rmse:3.74153\n",
      "[217]\tvalidation_0-rmse:3.58205\tvalidation_1-rmse:3.73857\n",
      "[218]\tvalidation_0-rmse:3.57783\tvalidation_1-rmse:3.73597\n",
      "[219]\tvalidation_0-rmse:3.57648\tvalidation_1-rmse:3.73569\n",
      "[220]\tvalidation_0-rmse:3.57396\tvalidation_1-rmse:3.73442\n",
      "[221]\tvalidation_0-rmse:3.56888\tvalidation_1-rmse:3.73165\n",
      "[222]\tvalidation_0-rmse:3.56375\tvalidation_1-rmse:3.72732\n",
      "[223]\tvalidation_0-rmse:3.56164\tvalidation_1-rmse:3.72594\n",
      "[224]\tvalidation_0-rmse:3.55977\tvalidation_1-rmse:3.72524\n",
      "[225]\tvalidation_0-rmse:3.55559\tvalidation_1-rmse:3.72176\n",
      "[226]\tvalidation_0-rmse:3.55184\tvalidation_1-rmse:3.71893\n",
      "[227]\tvalidation_0-rmse:3.54995\tvalidation_1-rmse:3.71903\n",
      "[228]\tvalidation_0-rmse:3.54854\tvalidation_1-rmse:3.71842\n",
      "[229]\tvalidation_0-rmse:3.54704\tvalidation_1-rmse:3.7181\n",
      "[230]\tvalidation_0-rmse:3.54616\tvalidation_1-rmse:3.718\n",
      "[231]\tvalidation_0-rmse:3.54514\tvalidation_1-rmse:3.71801\n",
      "[232]\tvalidation_0-rmse:3.54399\tvalidation_1-rmse:3.7181\n",
      "[233]\tvalidation_0-rmse:3.54061\tvalidation_1-rmse:3.71508\n",
      "[234]\tvalidation_0-rmse:3.53774\tvalidation_1-rmse:3.71275\n",
      "[235]\tvalidation_0-rmse:3.537\tvalidation_1-rmse:3.71237\n",
      "[236]\tvalidation_0-rmse:3.53547\tvalidation_1-rmse:3.71148\n",
      "[237]\tvalidation_0-rmse:3.53122\tvalidation_1-rmse:3.70869\n",
      "[238]\tvalidation_0-rmse:3.52751\tvalidation_1-rmse:3.70591\n",
      "[239]\tvalidation_0-rmse:3.5265\tvalidation_1-rmse:3.7056\n",
      "[240]\tvalidation_0-rmse:3.52591\tvalidation_1-rmse:3.70556\n",
      "[241]\tvalidation_0-rmse:3.52131\tvalidation_1-rmse:3.70308\n",
      "[242]\tvalidation_0-rmse:3.51676\tvalidation_1-rmse:3.70031\n",
      "[243]\tvalidation_0-rmse:3.51481\tvalidation_1-rmse:3.70005\n",
      "[244]\tvalidation_0-rmse:3.51068\tvalidation_1-rmse:3.69763\n",
      "[245]\tvalidation_0-rmse:3.50527\tvalidation_1-rmse:3.69392\n",
      "[246]\tvalidation_0-rmse:3.5036\tvalidation_1-rmse:3.69354\n",
      "[247]\tvalidation_0-rmse:3.50156\tvalidation_1-rmse:3.69299\n",
      "[248]\tvalidation_0-rmse:3.49772\tvalidation_1-rmse:3.69031\n",
      "[249]\tvalidation_0-rmse:3.49619\tvalidation_1-rmse:3.68978\n"
     ]
    },
    {
     "data": {
      "text/plain": [
       "XGBRegressor(base_score=0.5, booster='gbtree', colsample_bylevel=1,\n",
       "             colsample_bynode=1, colsample_bytree=1, gamma=0,\n",
       "             importance_type='gain', learning_rate=0.014, max_delta_step=0,\n",
       "             max_depth=5, min_child_weight=1, missing=None, n_estimators=250,\n",
       "             n_jobs=-1, nthread=None, objective='reg:squarederror',\n",
       "             random_state=0, reg_alpha=0, reg_lambda=1, scale_pos_weight=1,\n",
       "             seed=None, silent=None, subsample=0.7, verbosity=1)"
      ]
     },
     "execution_count": 164,
     "metadata": {},
     "output_type": "execute_result"
    }
   ],
   "source": [
    "xg_reg.fit(features_train, target_train, eval_set=eval_set, eval_metric=eval_metrics)"
   ]
  },
  {
   "cell_type": "code",
   "execution_count": 165,
   "metadata": {},
   "outputs": [
    {
     "data": {
      "text/plain": [
       "<matplotlib.axes._subplots.AxesSubplot at 0x205f4170f88>"
      ]
     },
     "execution_count": 165,
     "metadata": {},
     "output_type": "execute_result"
    },
    {
     "data": {
      "image/png": "[encoded data removed]",
      "text/plain": [
       "<Figure size 432x288 with 1 Axes>"
      ]
     },
     "metadata": {
      "needs_background": "light"
     },
     "output_type": "display_data"
    }
   ],
   "source": [
    "sns.lineplot(data = pd.DataFrame({'train': xg_reg.evals_result_['validation_0']['rmse'], \n",
    "                                  'cv': xg_reg.evals_result_['validation_1']['rmse']}))"
   ]
  },
  {
   "cell_type": "code",
   "execution_count": 166,
   "metadata": {},
   "outputs": [
    {
     "data": {
      "text/plain": [
       "0.69"
      ]
     },
     "execution_count": 166,
     "metadata": {},
     "output_type": "execute_result"
    }
   ],
   "source": [
    "#Use the best model for prediction on training set and get metric\n",
    "r2_score(target_train, xg_reg.predict(features_train)).round(2)"
   ]
  },
  {
   "cell_type": "code",
   "execution_count": 167,
   "metadata": {},
   "outputs": [
    {
     "data": {
      "text/plain": [
       "0.65"
      ]
     },
     "execution_count": 167,
     "metadata": {},
     "output_type": "execute_result"
    }
   ],
   "source": [
    "#Use the best model for prediction on test set and get metric\n",
    "r2_score(target_cv, xg_reg.predict(features_cv)).round(2)"
   ]
  },
  {
   "cell_type": "markdown",
   "metadata": {},
   "source": [
    "Much better, now let's take a look at the learning curve for this algorithm"
   ]
  },
  {
   "cell_type": "markdown",
   "metadata": {},
   "source": [
    "### Learning curve for best XGB Model"
   ]
  },
  {
   "cell_type": "code",
   "execution_count": 168,
   "metadata": {},
   "outputs": [],
   "source": [
    "train_size, train_scores, cv_scores = learning_curve(xg_reg, \n",
    "                                                     X=features_train, \n",
    "                                                     y=target_train, \n",
    "                                                     cv=None,\n",
    "                                                     scoring='neg_mean_squared_error')"
   ]
  },
  {
   "cell_type": "code",
   "execution_count": 169,
   "metadata": {},
   "outputs": [
    {
     "data": {
      "text/plain": [
       "<matplotlib.axes._subplots.AxesSubplot at 0x205f443f708>"
      ]
     },
     "execution_count": 169,
     "metadata": {},
     "output_type": "execute_result"
    },
    {
     "data": {
      "image/png": "[encoded data removed]",
      "text/plain": [
       "<Figure size 432x288 with 1 Axes>"
      ]
     },
     "metadata": {
      "needs_background": "light"
     },
     "output_type": "display_data"
    }
   ],
   "source": [
    "sns.lineplot(data= pd.DataFrame({'train': -train_scores.mean(axis=1), 'cv': -cv_scores.mean(axis=1)}, \n",
    "                                index=train_size))"
   ]
  },
  {
   "cell_type": "markdown",
   "metadata": {},
   "source": [
    "## Reduce bias by adding more features  "
   ]
  },
  {
   "cell_type": "code",
   "execution_count": null,
   "metadata": {},
   "outputs": [],
   "source": []
  },
  {
   "cell_type": "markdown",
   "metadata": {},
   "source": [
    "# Discussion "
   ]
  },
  {
   "cell_type": "markdown",
   "metadata": {
    "colab_type": "text",
    "id": "6i9O0OvHKu-s"
   },
   "source": [
    "After reviewing the results, we can evidence that indeed modeling rate of change dependent of time as a cyclic variable helps us predict with certain accuracy its behavior.\n",
    "\n",
    "Nevertheless, we must consider de following for **future work**\n",
    "\n",
    "* Even with the data at hand, the model could be improved applying a more rigorous hyperparameter optimization, which is key in stochastic algorithms. Or another alternative could be to model the demand as time series using models such as ARIMA or SARIMA and compare its performance.\n",
    "\n",
    "* To improve model metrics, we could also think of adding data from previous and following years to the model, specifically to provide more yearly seasonality information to the model, this might reduce variance.\n",
    "\n",
    "* The model is in early stages of development, to reduce model variance (overfitting) there are some solutions to be tested: restrict complexity using hyperparameters (although this was carried out) and get more data to improve generalization capability.\n",
    "\n",
    "* Using the real-time station status data available through the API, one could instantly assess model performance using real data.\n"
   ]
  },
  {
   "cell_type": "markdown",
   "metadata": {
    "colab_type": "text",
    "id": "UDfmx_nrMIC5"
   },
   "source": [
    "### Evaluating predictions for months of high demand\n",
    "\n",
    "We will compare the predictions for June, July and August into a timeline with the real data to review overall model performance."
   ]
  },
  {
   "cell_type": "code",
   "execution_count": 17,
   "metadata": {
    "colab": {},
    "colab_type": "code",
    "id": "PS-aE7diMR0w"
   },
   "outputs": [],
   "source": [
    "#Set the time range\n",
    "init_day = 152  #Jun 1st\n",
    "final_day = 243  #Aug 31st\n",
    "\n",
    "#Real data\n",
    "real_y = y.rate_of_change[(union_df.dayofyear >= init_day) & \n",
    "                       (union_df.dayofyear <= final_day)]\n",
    "\n",
    "#Calculate predictions\n",
    "X_subset = X[(union_df.dayofyear >= init_day) & \n",
    "                       (union_df.dayofyear <= final_day)]\n",
    "\n",
    "predic_y = grid_search.predict(X_subset)"
   ]
  },
  {
   "cell_type": "code",
   "execution_count": 18,
   "metadata": {
    "colab": {
     "base_uri": "https://localhost:8080/",
     "height": 367
    },
    "colab_type": "code",
    "id": "qN__Fb_BOztq",
    "outputId": "b10aa1bd-acaa-4452-d7ce-216df6850edf"
   },
   "outputs": [
    {
     "data": {
      "text/plain": [
       "<function matplotlib.pyplot.show(*args, **kw)>"
      ]
     },
     "execution_count": 18,
     "metadata": {},
     "output_type": "execute_result"
    },
    {
     "data": {
      "image/png": "[encoded data removed]",
      "text/plain": [
       "<Figure size 1080x360 with 1 Axes>"
      ]
     },
     "metadata": {
      "needs_background": "light"
     },
     "output_type": "display_data"
    }
   ],
   "source": [
    "#Get the indices of the data points\n",
    "x_values = union_df.index[(union_df.dayofyear >= init_day) & (union_df.dayofyear <= final_day)]\n",
    "\n",
    "#Plot\n",
    "fig, axes= plt.subplots(nrows=1, ncols=1,figsize=(15,5))\n",
    "\n",
    "#Plot difference between real and predicted value\n",
    "plt.plot(x_values, real_y- predic_y, c='black')\n",
    "plt.xlabel('Data indices (hours) from June 1st to Aug 31st')\n",
    "plt.ylabel('Delta rate of change (real -  prediction)')\n",
    "plt.title('Difference between real rate of change and predicted rate of change')\n",
    "plt.show"
   ]
  },
  {
   "cell_type": "markdown",
   "metadata": {
    "colab_type": "text",
    "id": "zmD-u8aDFFmk"
   },
   "source": [
    "### Final remarks\n",
    "\n",
    "* The most important factor for prediction is the hour of the day, both on the cosine and sine components. The dayofyear and weekday also have some influence, mainly on their sine component, since these are the variables that provide information about weekly and yearly seasonality.\n",
    "\n",
    "* In terms of prediction for months of high demand, the model seems to do a good job on most days, in which the difference between the real value and prediction are close to zero and between the $[-5,5]$ range, with a capacity of 26 bikes, this error might be acceptable (depending on the hour of the day). However, several peak points in the difference are still present, it's important identify explanatory variables for those peaks in order to improve model performance.\n",
    "\n",
    "* This model could be used for predicting the performance of other stations aswell since the data is already clean and prepared for the analysis.\n"
   ]
  }
 ],
 "metadata": {
  "kernelspec": {
   "display_name": "Python 3",
   "language": "python",
   "name": "python3"
  },
  "language_info": {
   "codemirror_mode": {
    "name": "ipython",
    "version": 3
   },
   "file_extension": ".py",
   "mimetype": "text/x-python",
   "name": "python",
   "nbconvert_exporter": "python",
   "pygments_lexer": "ipython3",
   "version": "3.7.4"
  }
 },
 "nbformat": 4,
 "nbformat_minor": 2
}
