{
 "cells": [
  {
   "cell_type": "markdown",
   "metadata": {},
   "source": [
    "# Modeling"
   ]
  },
  {
   "cell_type": "code",
   "execution_count": 22,
   "metadata": {},
   "outputs": [],
   "source": [
    "import warnings\n",
    "warnings.filterwarnings('ignore')\n",
    "\n",
    "# Basics\n",
    "import pandas as pd\n",
    "import numpy as np\n",
    "\n",
    "#Viz\n",
    "import matplotlib.pyplot as plt\n",
    "import seaborn as sns\n",
    "\n",
    "#Modeling utils\n",
    "from sklearn.preprocessing import StandardScaler, OneHotEncoder\n",
    "from sklearn.pipeline import Pipeline\n",
    "from sklearn.metrics import r2_score, mean_squared_error, classification_report\n",
    "from sklearn.model_selection import train_test_split, GridSearchCV, learning_curve\n",
    "\n",
    "#Estimators\n",
    "from sklearn.linear_model import LinearRegression, Ridge, Lasso\n",
    "from sklearn.ensemble import RandomForestRegressor\n",
    "from sklearn.svm import SVR\n",
    "from sklearn.ensemble import RandomForestClassifier\n",
    "from xgboost import XGBClassifier\n",
    "import xgboost as xgb"
   ]
  },
  {
   "cell_type": "markdown",
   "metadata": {},
   "source": [
    "# Load in the data "
   ]
  },
  {
   "cell_type": "code",
   "execution_count": 23,
   "metadata": {},
   "outputs": [],
   "source": [
    "union_tod = pd.read_csv('union_df_tod.csv')"
   ]
  },
  {
   "cell_type": "code",
   "execution_count": 24,
   "metadata": {},
   "outputs": [],
   "source": [
    "union_df = pd.read_csv('union_df.csv')"
   ]
  },
  {
   "cell_type": "code",
   "execution_count": 25,
   "metadata": {},
   "outputs": [
    {
     "data": {
      "text/html": [
       "<div>\n",
       "<style scoped>\n",
       "    .dataframe tbody tr th:only-of-type {\n",
       "        vertical-align: middle;\n",
       "    }\n",
       "\n",
       "    .dataframe tbody tr th {\n",
       "        vertical-align: top;\n",
       "    }\n",
       "\n",
       "    .dataframe thead th {\n",
       "        text-align: right;\n",
       "    }\n",
       "</style>\n",
       "<table border=\"1\" class=\"dataframe\">\n",
       "  <thead>\n",
       "    <tr style=\"text-align: right;\">\n",
       "      <th></th>\n",
       "      <th>year</th>\n",
       "      <th>month</th>\n",
       "      <th>dayofyear</th>\n",
       "      <th>time_of_day</th>\n",
       "      <th>rate_of_change</th>\n",
       "      <th>weekday</th>\n",
       "      <th>wind_chill</th>\n",
       "      <th>rel_hum_</th>\n",
       "      <th>rain</th>\n",
       "      <th>snow</th>\n",
       "      <th>is_holiday</th>\n",
       "    </tr>\n",
       "  </thead>\n",
       "  <tbody>\n",
       "    <tr>\n",
       "      <th>0</th>\n",
       "      <td>2016</td>\n",
       "      <td>7</td>\n",
       "      <td>183</td>\n",
       "      <td>0</td>\n",
       "      <td>1.0</td>\n",
       "      <td>4</td>\n",
       "      <td>15.825</td>\n",
       "      <td>72.75</td>\n",
       "      <td>0.0</td>\n",
       "      <td>0.0</td>\n",
       "      <td>1</td>\n",
       "    </tr>\n",
       "    <tr>\n",
       "      <th>1</th>\n",
       "      <td>2016</td>\n",
       "      <td>7</td>\n",
       "      <td>183</td>\n",
       "      <td>1</td>\n",
       "      <td>-1.0</td>\n",
       "      <td>4</td>\n",
       "      <td>16.975</td>\n",
       "      <td>76.00</td>\n",
       "      <td>0.0</td>\n",
       "      <td>0.0</td>\n",
       "      <td>1</td>\n",
       "    </tr>\n",
       "    <tr>\n",
       "      <th>2</th>\n",
       "      <td>2016</td>\n",
       "      <td>7</td>\n",
       "      <td>183</td>\n",
       "      <td>2</td>\n",
       "      <td>1.0</td>\n",
       "      <td>4</td>\n",
       "      <td>17.750</td>\n",
       "      <td>82.00</td>\n",
       "      <td>2.0</td>\n",
       "      <td>0.0</td>\n",
       "      <td>1</td>\n",
       "    </tr>\n",
       "    <tr>\n",
       "      <th>3</th>\n",
       "      <td>2016</td>\n",
       "      <td>7</td>\n",
       "      <td>183</td>\n",
       "      <td>3</td>\n",
       "      <td>-2.0</td>\n",
       "      <td>4</td>\n",
       "      <td>19.325</td>\n",
       "      <td>75.75</td>\n",
       "      <td>1.0</td>\n",
       "      <td>0.0</td>\n",
       "      <td>1</td>\n",
       "    </tr>\n",
       "    <tr>\n",
       "      <th>4</th>\n",
       "      <td>2016</td>\n",
       "      <td>7</td>\n",
       "      <td>183</td>\n",
       "      <td>4</td>\n",
       "      <td>-4.0</td>\n",
       "      <td>4</td>\n",
       "      <td>21.100</td>\n",
       "      <td>57.00</td>\n",
       "      <td>0.0</td>\n",
       "      <td>0.0</td>\n",
       "      <td>1</td>\n",
       "    </tr>\n",
       "  </tbody>\n",
       "</table>\n",
       "</div>"
      ],
      "text/plain": [
       "   year  month  dayofyear  time_of_day  rate_of_change  weekday  wind_chill  \\\n",
       "0  2016      7        183            0             1.0        4      15.825   \n",
       "1  2016      7        183            1            -1.0        4      16.975   \n",
       "2  2016      7        183            2             1.0        4      17.750   \n",
       "3  2016      7        183            3            -2.0        4      19.325   \n",
       "4  2016      7        183            4            -4.0        4      21.100   \n",
       "\n",
       "   rel_hum_  rain  snow  is_holiday  \n",
       "0     72.75   0.0   0.0           1  \n",
       "1     76.00   0.0   0.0           1  \n",
       "2     82.00   2.0   0.0           1  \n",
       "3     75.75   1.0   0.0           1  \n",
       "4     57.00   0.0   0.0           1  "
      ]
     },
     "execution_count": 25,
     "metadata": {},
     "output_type": "execute_result"
    }
   ],
   "source": [
    "union_tod.head()"
   ]
  },
  {
   "cell_type": "code",
   "execution_count": 26,
   "metadata": {},
   "outputs": [
    {
     "data": {
      "text/plain": [
       "<matplotlib.axes._subplots.AxesSubplot at 0x18f5f4a5988>"
      ]
     },
     "execution_count": 26,
     "metadata": {},
     "output_type": "execute_result"
    },
    {
     "data": {
      "image/png": "[encoded data removed]",
      "text/plain": [
       "<Figure size 432x288 with 1 Axes>"
      ]
     },
     "metadata": {
      "needs_background": "light"
     },
     "output_type": "display_data"
    }
   ],
   "source": [
    "union_tod.rate_of_change.plot(kind='hist', bins=150)"
   ]
  },
  {
   "cell_type": "code",
   "execution_count": 103,
   "metadata": {},
   "outputs": [
    {
     "data": {
      "text/plain": [
       "-3.3564055859137825"
      ]
     },
     "execution_count": 103,
     "metadata": {},
     "output_type": "execute_result"
    }
   ],
   "source": [
    "union_tod.rate_of_change.mean()"
   ]
  },
  {
   "cell_type": "code",
   "execution_count": 105,
   "metadata": {},
   "outputs": [
    {
     "data": {
      "text/plain": [
       "13.252317662435392"
      ]
     },
     "execution_count": 105,
     "metadata": {},
     "output_type": "execute_result"
    }
   ],
   "source": [
    "union_tod.rate_of_change.std()"
   ]
  },
  {
   "cell_type": "code",
   "execution_count": 107,
   "metadata": {},
   "outputs": [
    {
     "data": {
      "text/plain": [
       "count    3294.000000\n",
       "mean       -3.356406\n",
       "std        13.252318\n",
       "min       -77.000000\n",
       "25%        -5.000000\n",
       "50%         0.000000\n",
       "75%         2.000000\n",
       "max        47.000000\n",
       "Name: rate_of_change, dtype: float64"
      ]
     },
     "execution_count": 107,
     "metadata": {},
     "output_type": "execute_result"
    }
   ],
   "source": [
    "union_tod.rate_of_change.describe()"
   ]
  },
  {
   "cell_type": "markdown",
   "metadata": {
    "colab_type": "text",
    "id": "j4OIHxnRY4gG"
   },
   "source": [
    "# Feature engineering\n",
    "\n",
    "## Time variables\n",
    "\n",
    "Now that we have our time variables as we wanted and the trip counts for each one of those points, we need to make sure that our cyclical variables, namely dayofyear, weekday and hour, preserve their cyclical characteristics of months, days and weeks. This is to say that, the first day of the week should be close to the last day of the previous week, and similar with hours and days of the year. A more in depth explanation of this can be found [here](http://blog.davidkaleko.com/feature-engineering-cyclical-features.html).\n",
    "\n",
    "The transformation of monotonic variables into cyclical variables is explained in the following picture:\n",
    "\n",
    "![alt text](http://blog.davidkaleko.com/images/unit_circle.png)\n",
    "\n",
    "In this way, the hour 0 of a day will be preceded by the hour 23 of the previous day, and so on. For this, we use polar coordinates or sine and cosine components of these variables as follows."
   ]
  },
  {
   "cell_type": "code",
   "execution_count": 27,
   "metadata": {},
   "outputs": [],
   "source": [
    "# Transform three time variables sine and cosine components\n",
    "union_tod['dayofyear_sin'] = np.sin(union_tod.dayofyear*(2.*np.pi/365))\n",
    "union_tod['dayofyear_cos'] = np.cos(union_tod.dayofyear*(2.*np.pi/365))\n",
    "union_tod['weekday_sin'] = np.sin(union_tod.weekday*(2.*np.pi/7))\n",
    "union_tod['weekday_cos'] = np.cos(union_tod.weekday*(2.*np.pi/7))\n",
    "union_tod['tod_sin'] = np.sin(union_tod.time_of_day*(2.*np.pi/24))\n",
    "union_tod['tod_cos'] = np.cos(union_tod.time_of_day*(2.*np.pi/24))"
   ]
  },
  {
   "cell_type": "code",
   "execution_count": 28,
   "metadata": {
    "colab": {
     "base_uri": "https://localhost:8080/",
     "height": 217
    },
    "colab_type": "code",
    "id": "9s2tqTbGWeuN",
    "outputId": "0c5ba539-1932-45cc-b63d-4611d3500412"
   },
   "outputs": [],
   "source": [
    "# Transform three time variables sine and cosine components\n",
    "union_df['dayofyear_sin'] = np.sin(union_df.dayofyear*(2.*np.pi/365))\n",
    "union_df['dayofyear_cos'] = np.cos(union_df.dayofyear*(2.*np.pi/365))\n",
    "union_df['weekday_sin'] = np.sin(union_df.weekday*(2.*np.pi/7))\n",
    "union_df['weekday_cos'] = np.cos(union_df.weekday*(2.*np.pi/7))\n",
    "union_df['hour_sin'] = np.sin(union_df.hour*(2.*np.pi/24))\n",
    "union_df['hour_cos'] = np.cos(union_df.hour*(2.*np.pi/24))"
   ]
  },
  {
   "cell_type": "markdown",
   "metadata": {
    "colab_type": "text",
    "id": "qvlm9XcMdz7N"
   },
   "source": [
    "Here, we can evidence that by using sines and cosines, time variables will be arranged in a cyclical manner so that the model is provided with this features to approximate the behavior of the rate of change in a better way."
   ]
  },
  {
   "cell_type": "markdown",
   "metadata": {},
   "source": [
    "# Model selection "
   ]
  },
  {
   "cell_type": "markdown",
   "metadata": {},
   "source": [
    "## Previous model used "
   ]
  },
  {
   "cell_type": "markdown",
   "metadata": {
    "colab_type": "text",
    "id": "HaUtCNhU7XDU"
   },
   "source": [
    "To replicate the work carried out in phase one, we will include data from 2017 only, along with variables depending on time, excluding the `is_holiday` variable."
   ]
  },
  {
   "cell_type": "code",
   "execution_count": 129,
   "metadata": {},
   "outputs": [],
   "source": [
    "# Filter rows used in previous model\n",
    "features1 = union_tod[(union_tod.year == 2017)]\n",
    "target1 = features1.rate_of_change"
   ]
  },
  {
   "cell_type": "code",
   "execution_count": 130,
   "metadata": {},
   "outputs": [
    {
     "data": {
      "text/plain": [
       "(2190, 17)"
      ]
     },
     "execution_count": 130,
     "metadata": {},
     "output_type": "execute_result"
    }
   ],
   "source": [
    "features1.shape"
   ]
  },
  {
   "cell_type": "code",
   "execution_count": 132,
   "metadata": {},
   "outputs": [],
   "source": [
    "# Variables to include\n",
    "include1 = ['dayofyear_sin', 'dayofyear_cos', 'weekday_sin', 'weekday_cos', 'tod_sin', 'tod_cos']\n",
    "\n",
    "# Subset the dataframe\n",
    "features1 = features1[features1.columns[features1.columns.isin(include1)]]"
   ]
  },
  {
   "cell_type": "markdown",
   "metadata": {
    "colab_type": "text",
    "id": "dvd8g2a5AggG"
   },
   "source": [
    "Split the dataset into training and test set for Cross validation and hyper parameters optimization"
   ]
  },
  {
   "cell_type": "code",
   "execution_count": 133,
   "metadata": {
    "colab": {},
    "colab_type": "code",
    "id": "g3I-uLmfadtY"
   },
   "outputs": [],
   "source": [
    "features1_train, features1_test, target1_train, target1_test = train_test_split(features1,\n",
    "                                                                                target1, \n",
    "                                                                                test_size=0.2, \n",
    "                                                                                random_state=100)"
   ]
  },
  {
   "cell_type": "code",
   "execution_count": 134,
   "metadata": {},
   "outputs": [
    {
     "data": {
      "text/plain": [
       "(1752, 438)"
      ]
     },
     "execution_count": 134,
     "metadata": {},
     "output_type": "execute_result"
    }
   ],
   "source": [
    "features1_train.shape[0], features1_test.shape[0]"
   ]
  },
  {
   "cell_type": "code",
   "execution_count": 135,
   "metadata": {
    "colab": {
     "base_uri": "https://localhost:8080/",
     "height": 638
    },
    "colab_type": "code",
    "id": "6FrVw7G6adtc",
    "outputId": "dcd5be36-313a-4f59-94d5-07a746d26686"
   },
   "outputs": [
    {
     "name": "stdout",
     "output_type": "stream",
     "text": [
      "Fitting 5 folds for each of 360 candidates, totalling 1800 fits\n"
     ]
    },
    {
     "name": "stderr",
     "output_type": "stream",
     "text": [
      "[Parallel(n_jobs=-1)]: Using backend LokyBackend with 8 concurrent workers.\n",
      "[Parallel(n_jobs=-1)]: Done  34 tasks      | elapsed:    8.0s\n",
      "[Parallel(n_jobs=-1)]: Done 184 tasks      | elapsed:   14.3s\n",
      "[Parallel(n_jobs=-1)]: Done 434 tasks      | elapsed:   24.9s\n",
      "[Parallel(n_jobs=-1)]: Done 784 tasks      | elapsed:   41.5s\n",
      "[Parallel(n_jobs=-1)]: Done 1234 tasks      | elapsed:  1.1min\n",
      "[Parallel(n_jobs=-1)]: Done 1784 tasks      | elapsed:  1.6min\n",
      "[Parallel(n_jobs=-1)]: Done 1800 out of 1800 | elapsed:  1.6min finished\n"
     ]
    },
    {
     "data": {
      "text/plain": [
       "GridSearchCV(cv=5, error_score=nan,\n",
       "             estimator=Pipeline(memory=None,\n",
       "                                steps=[('est',\n",
       "                                        RandomForestRegressor(bootstrap=True,\n",
       "                                                              ccp_alpha=0.0,\n",
       "                                                              criterion='mse',\n",
       "                                                              max_depth=None,\n",
       "                                                              max_features='auto',\n",
       "                                                              max_leaf_nodes=None,\n",
       "                                                              max_samples=None,\n",
       "                                                              min_impurity_decrease=0.0,\n",
       "                                                              min_impurity_split=None,\n",
       "                                                              min_samples_leaf=1,\n",
       "                                                              min_samples_split=2,\n",
       "                                                              min_weight_fraction_leaf=0.0,\n",
       "                                                              n_estimators=1...\n",
       "             iid='deprecated', n_jobs=-1,\n",
       "             param_grid=[{'est__max_depth': array([ 5,  7, 10]),\n",
       "                          'est__max_features': [0.75, 1],\n",
       "                          'est__min_samples_leaf': array([ 1,  4,  7, 10]),\n",
       "                          'est__min_samples_split': array([0.0001  , 0.000325, 0.00055 , 0.000775, 0.001   ]),\n",
       "                          'est__n_estimators': array([ 50,  75, 100])}],\n",
       "             pre_dispatch='2*n_jobs', refit=True, return_train_score=False,\n",
       "             scoring='neg_mean_squared_error', verbose=1)"
      ]
     },
     "execution_count": 135,
     "metadata": {},
     "output_type": "execute_result"
    }
   ],
   "source": [
    "#Create params grid\n",
    "pipe = Pipeline([('est', RandomForestRegressor(random_state=100, n_jobs=-1))])\n",
    "\n",
    "params_list = [{'est__n_estimators': np.linspace(50, 100, 3, endpoint=True, dtype=int),\n",
    "                'est__max_depth' : np.linspace(5, 10, 3, endpoint=True, dtype=int),\n",
    "                'est__min_samples_split': np.linspace(0.0001, 0.001, 5, endpoint=True),\n",
    "                'est__min_samples_leaf': np.linspace(1, 10, 4, endpoint=True, dtype=int),\n",
    "                'est__max_features': [0.75, 1]}]\n",
    "\n",
    "# Perform grid search\n",
    "gs1 = GridSearchCV(estimator= pipe,\n",
    "                           param_grid=params_list, \n",
    "                           cv=5, \n",
    "                           scoring='neg_mean_squared_error',\n",
    "                           verbose=1,\n",
    "                           n_jobs=-1)\n",
    "\n",
    "gs1.fit(features1_train, target1_train)"
   ]
  },
  {
   "cell_type": "code",
   "execution_count": 136,
   "metadata": {
    "colab": {
     "base_uri": "https://localhost:8080/",
     "height": 34
    },
    "colab_type": "code",
    "id": "VoJAlIjt5yU1",
    "outputId": "671dd5eb-8606-437b-fdc7-5913e8a52dd3"
   },
   "outputs": [
    {
     "data": {
      "text/plain": [
       "-183.27"
      ]
     },
     "execution_count": 136,
     "metadata": {},
     "output_type": "execute_result"
    }
   ],
   "source": [
    "# Get best score\n",
    "gs1.best_score_.round(2)"
   ]
  },
  {
   "cell_type": "markdown",
   "metadata": {
    "colab_type": "text",
    "id": "U0QiRC2NB1tr"
   },
   "source": [
    "Now we will evaluate $R^{2}$ as the metric for model selection in training and test"
   ]
  },
  {
   "cell_type": "code",
   "execution_count": 137,
   "metadata": {
    "colab": {
     "base_uri": "https://localhost:8080/",
     "height": 34
    },
    "colab_type": "code",
    "id": "LFRSx-TI5yU4",
    "outputId": "e2cc3d0e-df4f-4d3b-b0ef-6db1078cf812"
   },
   "outputs": [
    {
     "data": {
      "text/plain": [
       "0.04"
      ]
     },
     "execution_count": 137,
     "metadata": {},
     "output_type": "execute_result"
    }
   ],
   "source": [
    "#Use the best model for prediction on training set and get metric\n",
    "r2_score(target1_train, gs1.predict(features1_train)).round(2)"
   ]
  },
  {
   "cell_type": "code",
   "execution_count": 138,
   "metadata": {
    "colab": {
     "base_uri": "https://localhost:8080/",
     "height": 34
    },
    "colab_type": "code",
    "id": "03kauyXg5yU6",
    "outputId": "95f66974-0cdc-4b78-95b8-e0e104f5dcff"
   },
   "outputs": [
    {
     "data": {
      "text/plain": [
       "-0.03"
      ]
     },
     "execution_count": 138,
     "metadata": {},
     "output_type": "execute_result"
    }
   ],
   "source": [
    "#Use the best model for prediction on test set and get metric\n",
    "r2_score(target1_test, gs1.predict(features1_test)).round(2)"
   ]
  },
  {
   "cell_type": "code",
   "execution_count": 139,
   "metadata": {
    "colab": {
     "base_uri": "https://localhost:8080/",
     "height": 227
    },
    "colab_type": "code",
    "id": "8QE_53hy5yU9",
    "outputId": "a7ff3974-66a5-4f2a-a548-ea03fa435d24"
   },
   "outputs": [
    {
     "data": {
      "text/html": [
       "<div>\n",
       "<style scoped>\n",
       "    .dataframe tbody tr th:only-of-type {\n",
       "        vertical-align: middle;\n",
       "    }\n",
       "\n",
       "    .dataframe tbody tr th {\n",
       "        vertical-align: top;\n",
       "    }\n",
       "\n",
       "    .dataframe thead th {\n",
       "        text-align: right;\n",
       "    }\n",
       "</style>\n",
       "<table border=\"1\" class=\"dataframe\">\n",
       "  <thead>\n",
       "    <tr style=\"text-align: right;\">\n",
       "      <th></th>\n",
       "      <th>0</th>\n",
       "    </tr>\n",
       "  </thead>\n",
       "  <tbody>\n",
       "    <tr>\n",
       "      <th>dayofyear_sin</th>\n",
       "      <td>0.380865</td>\n",
       "    </tr>\n",
       "    <tr>\n",
       "      <th>dayofyear_cos</th>\n",
       "      <td>0.312270</td>\n",
       "    </tr>\n",
       "    <tr>\n",
       "      <th>weekday_sin</th>\n",
       "      <td>0.203953</td>\n",
       "    </tr>\n",
       "    <tr>\n",
       "      <th>weekday_cos</th>\n",
       "      <td>0.102912</td>\n",
       "    </tr>\n",
       "  </tbody>\n",
       "</table>\n",
       "</div>"
      ],
      "text/plain": [
       "                      0\n",
       "dayofyear_sin  0.380865\n",
       "dayofyear_cos  0.312270\n",
       "weekday_sin    0.203953\n",
       "weekday_cos    0.102912"
      ]
     },
     "execution_count": 139,
     "metadata": {},
     "output_type": "execute_result"
    }
   ],
   "source": [
    "# Feature importance\n",
    "pd.DataFrame(data=gs1.best_estimator_['est'].feature_importances_,\n",
    "            index=features1_train.columns)"
   ]
  },
  {
   "cell_type": "markdown",
   "metadata": {},
   "source": [
    "### Learning curves for best RF"
   ]
  },
  {
   "cell_type": "code",
   "execution_count": 23,
   "metadata": {},
   "outputs": [],
   "source": [
    "model1 = RandomForestRegressor(max_depth=8,\n",
    "                               max_features=1.0,\n",
    "                               min_samples_split=0.005,\n",
    "                               n_estimators=75,\n",
    "                               min_samples_leaf=2,\n",
    "                               random_state=100,\n",
    "                               n_jobs=-1) "
   ]
  },
  {
   "cell_type": "code",
   "execution_count": 22,
   "metadata": {},
   "outputs": [
    {
     "data": {
      "text/plain": [
       "RandomForestRegressor(bootstrap=True, ccp_alpha=0.0, criterion='mse',\n",
       "                      max_depth=10, max_features=0.75, max_leaf_nodes=None,\n",
       "                      max_samples=None, min_impurity_decrease=0.0,\n",
       "                      min_impurity_split=None, min_samples_leaf=1,\n",
       "                      min_samples_split=0.0007750000000000001,\n",
       "                      min_weight_fraction_leaf=0.0, n_estimators=100, n_jobs=-1,\n",
       "                      oob_score=False, random_state=100, verbose=0,\n",
       "                      warm_start=False)"
      ]
     },
     "execution_count": 22,
     "metadata": {},
     "output_type": "execute_result"
    }
   ],
   "source": [
    "model1 = gs1.best_estimator_['est']"
   ]
  },
  {
   "cell_type": "code",
   "execution_count": 24,
   "metadata": {},
   "outputs": [],
   "source": [
    "train_size, train_scores, cv_scores = learning_curve(model1, \n",
    "                                                     X=features1_train, \n",
    "                                                     y=target1_train, \n",
    "                                                     cv=5,\n",
    "                                                     scoring='neg_mean_squared_error',\n",
    "                                                     random_state=100)"
   ]
  },
  {
   "cell_type": "markdown",
   "metadata": {},
   "source": [
    "Plot learning curves"
   ]
  },
  {
   "cell_type": "code",
   "execution_count": 25,
   "metadata": {},
   "outputs": [
    {
     "data": {
      "text/plain": [
       "Text(0, 0.5, 'MSE')"
      ]
     },
     "execution_count": 25,
     "metadata": {},
     "output_type": "execute_result"
    },
    {
     "data": {
      "image/png": "[encoded data removed]",
      "text/plain": [
       "<Figure size 432x288 with 1 Axes>"
      ]
     },
     "metadata": {
      "needs_background": "light"
     },
     "output_type": "display_data"
    }
   ],
   "source": [
    "g = sns.lineplot(data= pd.DataFrame({'train': -train_scores.mean(axis=1), 'cv': -cv_scores.mean(axis=1)}, \n",
    "                                index=train_size))\n",
    "g.axes.set_ylim(0,30)\n",
    "g.set_xlabel('Size of training set')\n",
    "g.set_ylabel('MSE')"
   ]
  },
  {
   "cell_type": "markdown",
   "metadata": {},
   "source": [
    "## New model using `is_holiday` "
   ]
  },
  {
   "cell_type": "markdown",
   "metadata": {
    "colab_type": "text",
    "id": "HaUtCNhU7XDU"
   },
   "source": [
    "Now we will include data from 2017 only, along with variables depending on time, including the `is_holiday` variable."
   ]
  },
  {
   "cell_type": "code",
   "execution_count": 50,
   "metadata": {},
   "outputs": [],
   "source": [
    "# Filter rows used in previous model\n",
    "features2 = union_df[(union_df.year == 2017) & (union_df.created == 0)]\n",
    "target2 = features2.rate_of_change"
   ]
  },
  {
   "cell_type": "code",
   "execution_count": 51,
   "metadata": {},
   "outputs": [
    {
     "data": {
      "text/plain": [
       "(6673, 19)"
      ]
     },
     "execution_count": 51,
     "metadata": {},
     "output_type": "execute_result"
    }
   ],
   "source": [
    "features2.shape"
   ]
  },
  {
   "cell_type": "code",
   "execution_count": 52,
   "metadata": {},
   "outputs": [],
   "source": [
    "# Variables to include\n",
    "include2 = ['dayofyear_sin', 'dayofyear_cos', 'weekday_sin', 'weekday_cos', 'hour_sin', 'hour_cos', 'is_holiday']\n",
    "\n",
    "# Subset the dataframe\n",
    "features2 = features2[features2.columns[features2.columns.isin(include2)]]"
   ]
  },
  {
   "cell_type": "markdown",
   "metadata": {
    "colab_type": "text",
    "id": "dvd8g2a5AggG"
   },
   "source": [
    "Split the dataset into training and test set for Cross validation and hyper parameters optimization"
   ]
  },
  {
   "cell_type": "code",
   "execution_count": 53,
   "metadata": {
    "colab": {},
    "colab_type": "code",
    "id": "g3I-uLmfadtY"
   },
   "outputs": [],
   "source": [
    "features2_train, features2_test, target2_train, target2_test = train_test_split(features2,\n",
    "                                                                                target2, \n",
    "                                                                                test_size=0.2, \n",
    "                                                                                random_state=100)"
   ]
  },
  {
   "cell_type": "code",
   "execution_count": 54,
   "metadata": {},
   "outputs": [
    {
     "data": {
      "text/plain": [
       "(5338, 1335)"
      ]
     },
     "execution_count": 54,
     "metadata": {},
     "output_type": "execute_result"
    }
   ],
   "source": [
    "features2_train.shape[0], features2_test.shape[0]"
   ]
  },
  {
   "cell_type": "code",
   "execution_count": 56,
   "metadata": {
    "colab": {
     "base_uri": "https://localhost:8080/",
     "height": 638
    },
    "colab_type": "code",
    "id": "6FrVw7G6adtc",
    "outputId": "dcd5be36-313a-4f59-94d5-07a746d26686"
   },
   "outputs": [
    {
     "name": "stdout",
     "output_type": "stream",
     "text": [
      "Fitting 5 folds for each of 360 candidates, totalling 1800 fits\n"
     ]
    },
    {
     "name": "stderr",
     "output_type": "stream",
     "text": [
      "[Parallel(n_jobs=-1)]: Using backend LokyBackend with 8 concurrent workers.\n",
      "[Parallel(n_jobs=-1)]: Done  34 tasks      | elapsed:    3.7s\n",
      "[Parallel(n_jobs=-1)]: Done 184 tasks      | elapsed:   20.0s\n",
      "[Parallel(n_jobs=-1)]: Done 434 tasks      | elapsed:   41.6s\n",
      "[Parallel(n_jobs=-1)]: Done 784 tasks      | elapsed:  1.3min\n",
      "[Parallel(n_jobs=-1)]: Done 1234 tasks      | elapsed:  2.0min\n",
      "[Parallel(n_jobs=-1)]: Done 1784 tasks      | elapsed:  3.1min\n",
      "[Parallel(n_jobs=-1)]: Done 1800 out of 1800 | elapsed:  3.1min finished\n"
     ]
    },
    {
     "data": {
      "text/plain": [
       "GridSearchCV(cv=5, error_score=nan,\n",
       "             estimator=Pipeline(memory=None,\n",
       "                                steps=[('est',\n",
       "                                        RandomForestRegressor(bootstrap=True,\n",
       "                                                              ccp_alpha=0.0,\n",
       "                                                              criterion='mse',\n",
       "                                                              max_depth=None,\n",
       "                                                              max_features='auto',\n",
       "                                                              max_leaf_nodes=None,\n",
       "                                                              max_samples=None,\n",
       "                                                              min_impurity_decrease=0.0,\n",
       "                                                              min_impurity_split=None,\n",
       "                                                              min_samples_leaf=1,\n",
       "                                                              min_samples_split=2,\n",
       "                                                              min_weight_fraction_leaf=0.0,\n",
       "                                                              n_estimators=1...\n",
       "             iid='deprecated', n_jobs=-1,\n",
       "             param_grid=[{'est__max_depth': array([ 5,  7, 10]),\n",
       "                          'est__max_features': [0.75, 1],\n",
       "                          'est__min_samples_leaf': array([ 1,  4,  7, 10]),\n",
       "                          'est__min_samples_split': array([0.0001  , 0.000325, 0.00055 , 0.000775, 0.001   ]),\n",
       "                          'est__n_estimators': array([ 50,  75, 100])}],\n",
       "             pre_dispatch='2*n_jobs', refit=True, return_train_score=False,\n",
       "             scoring='neg_mean_squared_error', verbose=1)"
      ]
     },
     "execution_count": 56,
     "metadata": {},
     "output_type": "execute_result"
    }
   ],
   "source": [
    "#Create params grid\n",
    "pipe = Pipeline([('est', RandomForestRegressor(random_state=100))])\n",
    "\n",
    "params_list = [{'est__n_estimators': np.linspace(50, 100, 3, endpoint=True, dtype=int),\n",
    "                'est__max_depth' : np.linspace(5, 10, 3, endpoint=True, dtype=int),\n",
    "                'est__min_samples_split': np.linspace(0.0001, 0.001, 5, endpoint=True),\n",
    "                'est__min_samples_leaf': np.linspace(1, 10, 4, endpoint=True, dtype=int),\n",
    "                'est__max_features': [0.75, 1]}]\n",
    "\n",
    "# Perform grid search\n",
    "gs2 = GridSearchCV(estimator= pipe,\n",
    "                           param_grid=params_list, \n",
    "                           cv=5, \n",
    "                           scoring='neg_mean_squared_error',\n",
    "                           verbose=1,\n",
    "                           n_jobs=-1)\n",
    "\n",
    "gs2.fit(features2_train, target2_train)"
   ]
  },
  {
   "cell_type": "code",
   "execution_count": 57,
   "metadata": {
    "colab": {
     "base_uri": "https://localhost:8080/",
     "height": 34
    },
    "colab_type": "code",
    "id": "VoJAlIjt5yU1",
    "outputId": "671dd5eb-8606-437b-fdc7-5913e8a52dd3"
   },
   "outputs": [
    {
     "data": {
      "text/plain": [
       "-11.68"
      ]
     },
     "execution_count": 57,
     "metadata": {},
     "output_type": "execute_result"
    }
   ],
   "source": [
    "#Get best score\n",
    "gs2.best_score_.round(2)"
   ]
  },
  {
   "cell_type": "markdown",
   "metadata": {
    "colab_type": "text",
    "id": "U0QiRC2NB1tr"
   },
   "source": [
    "Now we will evaluate $R^{2}$ as the metric for model selection in training and test"
   ]
  },
  {
   "cell_type": "code",
   "execution_count": 58,
   "metadata": {
    "colab": {
     "base_uri": "https://localhost:8080/",
     "height": 34
    },
    "colab_type": "code",
    "id": "LFRSx-TI5yU4",
    "outputId": "e2cc3d0e-df4f-4d3b-b0ef-6db1078cf812"
   },
   "outputs": [
    {
     "data": {
      "text/plain": [
       "0.82"
      ]
     },
     "execution_count": 58,
     "metadata": {},
     "output_type": "execute_result"
    }
   ],
   "source": [
    "#Use the best model for prediction on training set and get metric\n",
    "r2_score(target2_train, gs2.predict(features2_train)).round(2)"
   ]
  },
  {
   "cell_type": "code",
   "execution_count": 67,
   "metadata": {},
   "outputs": [
    {
     "data": {
      "text/plain": [
       "6.86"
      ]
     },
     "execution_count": 67,
     "metadata": {},
     "output_type": "execute_result"
    }
   ],
   "source": [
    "#Use the best model for prediction on training set and get metric\n",
    "mean_squared_error(target2_train, gs2.predict(features2_train)).round(2)"
   ]
  },
  {
   "cell_type": "code",
   "execution_count": 59,
   "metadata": {
    "colab": {
     "base_uri": "https://localhost:8080/",
     "height": 34
    },
    "colab_type": "code",
    "id": "03kauyXg5yU6",
    "outputId": "95f66974-0cdc-4b78-95b8-e0e104f5dcff"
   },
   "outputs": [
    {
     "data": {
      "text/plain": [
       "0.71"
      ]
     },
     "execution_count": 59,
     "metadata": {},
     "output_type": "execute_result"
    }
   ],
   "source": [
    "#Use the best model for prediction on test set and get metric\n",
    "r2_score(target2_test, gs2.predict(features2_test)).round(2)"
   ]
  },
  {
   "cell_type": "code",
   "execution_count": 68,
   "metadata": {
    "colab": {
     "base_uri": "https://localhost:8080/",
     "height": 34
    },
    "colab_type": "code",
    "id": "03kauyXg5yU6",
    "outputId": "95f66974-0cdc-4b78-95b8-e0e104f5dcff"
   },
   "outputs": [
    {
     "data": {
      "text/plain": [
       "12.51"
      ]
     },
     "execution_count": 68,
     "metadata": {},
     "output_type": "execute_result"
    }
   ],
   "source": [
    "#Use the best model for prediction on test set and get metric\n",
    "mean_squared_error(target2_test, gs2.predict(features2_test)).round(2)"
   ]
  },
  {
   "cell_type": "code",
   "execution_count": 69,
   "metadata": {
    "colab": {
     "base_uri": "https://localhost:8080/",
     "height": 227
    },
    "colab_type": "code",
    "id": "8QE_53hy5yU9",
    "outputId": "a7ff3974-66a5-4f2a-a548-ea03fa435d24"
   },
   "outputs": [
    {
     "data": {
      "text/html": [
       "<div>\n",
       "<style scoped>\n",
       "    .dataframe tbody tr th:only-of-type {\n",
       "        vertical-align: middle;\n",
       "    }\n",
       "\n",
       "    .dataframe tbody tr th {\n",
       "        vertical-align: top;\n",
       "    }\n",
       "\n",
       "    .dataframe thead th {\n",
       "        text-align: right;\n",
       "    }\n",
       "</style>\n",
       "<table border=\"1\" class=\"dataframe\">\n",
       "  <thead>\n",
       "    <tr style=\"text-align: right;\">\n",
       "      <th></th>\n",
       "      <th>0</th>\n",
       "    </tr>\n",
       "  </thead>\n",
       "  <tbody>\n",
       "    <tr>\n",
       "      <th>is_holiday</th>\n",
       "      <td>0.018291</td>\n",
       "    </tr>\n",
       "    <tr>\n",
       "      <th>dayofyear_sin</th>\n",
       "      <td>0.248261</td>\n",
       "    </tr>\n",
       "    <tr>\n",
       "      <th>dayofyear_cos</th>\n",
       "      <td>0.091046</td>\n",
       "    </tr>\n",
       "    <tr>\n",
       "      <th>weekday_sin</th>\n",
       "      <td>0.135193</td>\n",
       "    </tr>\n",
       "    <tr>\n",
       "      <th>weekday_cos</th>\n",
       "      <td>0.012777</td>\n",
       "    </tr>\n",
       "    <tr>\n",
       "      <th>hour_sin</th>\n",
       "      <td>0.275694</td>\n",
       "    </tr>\n",
       "    <tr>\n",
       "      <th>hour_cos</th>\n",
       "      <td>0.218737</td>\n",
       "    </tr>\n",
       "  </tbody>\n",
       "</table>\n",
       "</div>"
      ],
      "text/plain": [
       "                      0\n",
       "is_holiday     0.018291\n",
       "dayofyear_sin  0.248261\n",
       "dayofyear_cos  0.091046\n",
       "weekday_sin    0.135193\n",
       "weekday_cos    0.012777\n",
       "hour_sin       0.275694\n",
       "hour_cos       0.218737"
      ]
     },
     "execution_count": 69,
     "metadata": {},
     "output_type": "execute_result"
    }
   ],
   "source": [
    "# Feature importance\n",
    "pd.DataFrame(data=gs2.best_estimator_['est'].feature_importances_,\n",
    "            index=features2_train.columns)"
   ]
  },
  {
   "cell_type": "markdown",
   "metadata": {},
   "source": [
    "### Learning curves for best RF"
   ]
  },
  {
   "cell_type": "code",
   "execution_count": 70,
   "metadata": {},
   "outputs": [],
   "source": [
    "model2 = RandomForestRegressor(max_depth=9,\n",
    "                               max_features=1.0,\n",
    "                               min_samples_split=0.008,\n",
    "                               n_estimators=75,\n",
    "                               min_samples_leaf=3,\n",
    "                               random_state=100,\n",
    "                               n_jobs=-1) "
   ]
  },
  {
   "cell_type": "code",
   "execution_count": 71,
   "metadata": {},
   "outputs": [],
   "source": [
    "model2 = gs2.best_estimator_['est']"
   ]
  },
  {
   "cell_type": "code",
   "execution_count": 72,
   "metadata": {},
   "outputs": [],
   "source": [
    "train_size, train_scores, cv_scores = learning_curve(model2, \n",
    "                                                     X=features2_train, \n",
    "                                                     y=target2_train, \n",
    "                                                     cv=5,\n",
    "                                                     scoring='neg_mean_squared_error',\n",
    "                                                     random_state=100)"
   ]
  },
  {
   "cell_type": "markdown",
   "metadata": {},
   "source": [
    "Plot learning curves"
   ]
  },
  {
   "cell_type": "code",
   "execution_count": 73,
   "metadata": {},
   "outputs": [
    {
     "data": {
      "text/plain": [
       "Text(0, 0.5, 'MSE')"
      ]
     },
     "execution_count": 73,
     "metadata": {},
     "output_type": "execute_result"
    },
    {
     "data": {
      "image/png": "[encoded data removed]",
      "text/plain": [
       "<Figure size 432x288 with 1 Axes>"
      ]
     },
     "metadata": {
      "needs_background": "light"
     },
     "output_type": "display_data"
    }
   ],
   "source": [
    "g = sns.lineplot(data= pd.DataFrame({'train': -train_scores.mean(axis=1), 'cv': -cv_scores.mean(axis=1)}, \n",
    "                                index=train_size))\n",
    "g.axes.set_ylim(0,30)\n",
    "g.set_xlabel('Size of training set')\n",
    "g.set_ylabel('MSE')"
   ]
  },
  {
   "cell_type": "markdown",
   "metadata": {},
   "source": [
    "The model performance improved in general, and some bias was reduced from the model. However, it wasn't enough for having a significant impact on the model metrics. Next we will bring some more training examples to try to reduce variance, as indicated by the learning curves."
   ]
  },
  {
   "cell_type": "markdown",
   "metadata": {},
   "source": [
    "## New model using `is_holiday` and zero-counts rows"
   ]
  },
  {
   "cell_type": "markdown",
   "metadata": {
    "colab_type": "text",
    "id": "HaUtCNhU7XDU"
   },
   "source": [
    "Now we will include data from 2017 only, along with variables depending on time, including the `is_holiday` variable."
   ]
  },
  {
   "cell_type": "code",
   "execution_count": 74,
   "metadata": {},
   "outputs": [],
   "source": [
    "# Filter rows used in previous model\n",
    "features3 = union_df[(union_df.year == 2017)]\n",
    "target3 = features3.rate_of_change"
   ]
  },
  {
   "cell_type": "code",
   "execution_count": 75,
   "metadata": {},
   "outputs": [
    {
     "data": {
      "text/plain": [
       "(8760, 19)"
      ]
     },
     "execution_count": 75,
     "metadata": {},
     "output_type": "execute_result"
    }
   ],
   "source": [
    "features3.shape"
   ]
  },
  {
   "cell_type": "code",
   "execution_count": 76,
   "metadata": {},
   "outputs": [
    {
     "data": {
      "text/plain": [
       "Index(['year', 'dayofyear', 'weekday', 'hour', 'rate_of_change', 'wind_chill',\n",
       "       'rel_hum_', 'visibility_km', 'fog', 'rain', 'snow', 'created',\n",
       "       'is_holiday', 'dayofyear_sin', 'dayofyear_cos', 'weekday_sin',\n",
       "       'weekday_cos', 'hour_sin', 'hour_cos'],\n",
       "      dtype='object')"
      ]
     },
     "execution_count": 76,
     "metadata": {},
     "output_type": "execute_result"
    }
   ],
   "source": [
    "features3.columns"
   ]
  },
  {
   "cell_type": "code",
   "execution_count": 77,
   "metadata": {},
   "outputs": [],
   "source": [
    "# Variables to include\n",
    "include3 = ['dayofyear_sin', 'dayofyear_cos', 'weekday_sin', 'weekday_cos', 'hour_sin', 'hour_cos', 'is_holiday']\n",
    "\n",
    "# Subset the dataframe\n",
    "features3 = features3[features3.columns[features3.columns.isin(include3)]]"
   ]
  },
  {
   "cell_type": "markdown",
   "metadata": {
    "colab_type": "text",
    "id": "dvd8g2a5AggG"
   },
   "source": [
    "Split the dataset into training and test set for Cross validation and hyper parameters optimization"
   ]
  },
  {
   "cell_type": "code",
   "execution_count": 78,
   "metadata": {
    "colab": {},
    "colab_type": "code",
    "id": "g3I-uLmfadtY"
   },
   "outputs": [],
   "source": [
    "features3_train, features3_test, target3_train, target3_test = train_test_split(features3,\n",
    "                                                                                target3, \n",
    "                                                                                test_size=0.2, \n",
    "                                                                                random_state=100)"
   ]
  },
  {
   "cell_type": "code",
   "execution_count": 79,
   "metadata": {},
   "outputs": [
    {
     "data": {
      "text/plain": [
       "(7008, 1752)"
      ]
     },
     "execution_count": 79,
     "metadata": {},
     "output_type": "execute_result"
    }
   ],
   "source": [
    "features3_train.shape[0], features3_test.shape[0]"
   ]
  },
  {
   "cell_type": "code",
   "execution_count": 80,
   "metadata": {
    "colab": {
     "base_uri": "https://localhost:8080/",
     "height": 638
    },
    "colab_type": "code",
    "id": "6FrVw7G6adtc",
    "outputId": "dcd5be36-313a-4f59-94d5-07a746d26686"
   },
   "outputs": [
    {
     "name": "stdout",
     "output_type": "stream",
     "text": [
      "Fitting 5 folds for each of 360 candidates, totalling 1800 fits\n"
     ]
    },
    {
     "name": "stderr",
     "output_type": "stream",
     "text": [
      "[Parallel(n_jobs=-1)]: Using backend LokyBackend with 8 concurrent workers.\n",
      "[Parallel(n_jobs=-1)]: Done  34 tasks      | elapsed:    8.5s\n",
      "[Parallel(n_jobs=-1)]: Done 184 tasks      | elapsed:   28.4s\n",
      "[Parallel(n_jobs=-1)]: Done 434 tasks      | elapsed:   52.6s\n",
      "[Parallel(n_jobs=-1)]: Done 784 tasks      | elapsed:  1.6min\n",
      "[Parallel(n_jobs=-1)]: Done 1234 tasks      | elapsed:  2.4min\n",
      "[Parallel(n_jobs=-1)]: Done 1784 tasks      | elapsed:  3.6min\n",
      "[Parallel(n_jobs=-1)]: Done 1800 out of 1800 | elapsed:  3.6min finished\n"
     ]
    },
    {
     "data": {
      "text/plain": [
       "GridSearchCV(cv=5, error_score=nan,\n",
       "             estimator=Pipeline(memory=None,\n",
       "                                steps=[('est',\n",
       "                                        RandomForestRegressor(bootstrap=True,\n",
       "                                                              ccp_alpha=0.0,\n",
       "                                                              criterion='mse',\n",
       "                                                              max_depth=None,\n",
       "                                                              max_features='auto',\n",
       "                                                              max_leaf_nodes=None,\n",
       "                                                              max_samples=None,\n",
       "                                                              min_impurity_decrease=0.0,\n",
       "                                                              min_impurity_split=None,\n",
       "                                                              min_samples_leaf=1,\n",
       "                                                              min_samples_split=2,\n",
       "                                                              min_weight_fraction_leaf=0.0,\n",
       "                                                              n_estimators=1...\n",
       "             iid='deprecated', n_jobs=-1,\n",
       "             param_grid=[{'est__max_depth': array([ 5,  7, 10]),\n",
       "                          'est__max_features': [0.75, 1],\n",
       "                          'est__min_samples_leaf': array([ 1,  4,  7, 10]),\n",
       "                          'est__min_samples_split': array([0.0001  , 0.000325, 0.00055 , 0.000775, 0.001   ]),\n",
       "                          'est__n_estimators': array([ 50,  75, 100])}],\n",
       "             pre_dispatch='2*n_jobs', refit=True, return_train_score=False,\n",
       "             scoring='neg_mean_squared_error', verbose=1)"
      ]
     },
     "execution_count": 80,
     "metadata": {},
     "output_type": "execute_result"
    }
   ],
   "source": [
    "#Create params grid\n",
    "pipe = Pipeline([('est', RandomForestRegressor(random_state=100))])\n",
    "\n",
    "params_list = [{'est__n_estimators': np.linspace(50, 100, 3, endpoint=True, dtype=int),\n",
    "                'est__max_depth' : np.linspace(5, 10, 3, endpoint=True, dtype=int),\n",
    "                'est__min_samples_split': np.linspace(0.0001, 0.001, 5, endpoint=True),\n",
    "                'est__min_samples_leaf': np.linspace(1, 10, 4, endpoint=True, dtype=int),\n",
    "                'est__max_features': [0.75, 1]}]\n",
    "\n",
    "# Perform grid search\n",
    "gs3 = GridSearchCV(estimator= pipe,\n",
    "                           param_grid=params_list, \n",
    "                           cv=5, \n",
    "                           scoring='neg_mean_squared_error',\n",
    "                           verbose=1,\n",
    "                           n_jobs=-1)\n",
    "\n",
    "gs3.fit(features3_train, target3_train)"
   ]
  },
  {
   "cell_type": "code",
   "execution_count": 81,
   "metadata": {
    "colab": {
     "base_uri": "https://localhost:8080/",
     "height": 34
    },
    "colab_type": "code",
    "id": "VoJAlIjt5yU1",
    "outputId": "671dd5eb-8606-437b-fdc7-5913e8a52dd3"
   },
   "outputs": [
    {
     "data": {
      "text/plain": [
       "-9.45"
      ]
     },
     "execution_count": 81,
     "metadata": {},
     "output_type": "execute_result"
    }
   ],
   "source": [
    "#Get best score\n",
    "gs3.best_score_.round(2)"
   ]
  },
  {
   "cell_type": "markdown",
   "metadata": {
    "colab_type": "text",
    "id": "U0QiRC2NB1tr"
   },
   "source": [
    "Now we will evaluate $R^{2}$ as the metric for model selection in training and test"
   ]
  },
  {
   "cell_type": "code",
   "execution_count": 82,
   "metadata": {
    "colab": {
     "base_uri": "https://localhost:8080/",
     "height": 34
    },
    "colab_type": "code",
    "id": "LFRSx-TI5yU4",
    "outputId": "e2cc3d0e-df4f-4d3b-b0ef-6db1078cf812"
   },
   "outputs": [
    {
     "data": {
      "text/plain": [
       "0.81"
      ]
     },
     "execution_count": 82,
     "metadata": {},
     "output_type": "execute_result"
    }
   ],
   "source": [
    "#Use the best model for prediction on training set and get metric\n",
    "r2_score(target3_train, gs3.predict(features3_train)).round(2)"
   ]
  },
  {
   "cell_type": "code",
   "execution_count": 90,
   "metadata": {},
   "outputs": [
    {
     "data": {
      "text/plain": [
       "5.84"
      ]
     },
     "execution_count": 90,
     "metadata": {},
     "output_type": "execute_result"
    }
   ],
   "source": [
    "#Use the best model for prediction on training set and get metric\n",
    "mean_squared_error(target3_train, gs3.predict(features3_train)).round(2)"
   ]
  },
  {
   "cell_type": "code",
   "execution_count": 83,
   "metadata": {
    "colab": {
     "base_uri": "https://localhost:8080/",
     "height": 34
    },
    "colab_type": "code",
    "id": "03kauyXg5yU6",
    "outputId": "95f66974-0cdc-4b78-95b8-e0e104f5dcff"
   },
   "outputs": [
    {
     "data": {
      "text/plain": [
       "0.73"
      ]
     },
     "execution_count": 83,
     "metadata": {},
     "output_type": "execute_result"
    }
   ],
   "source": [
    "#Use the best model for prediction on test set and get metric\n",
    "r2_score(target3_test, gs3.predict(features3_test)).round(2)"
   ]
  },
  {
   "cell_type": "code",
   "execution_count": 91,
   "metadata": {},
   "outputs": [
    {
     "data": {
      "text/plain": [
       "8.43"
      ]
     },
     "execution_count": 91,
     "metadata": {},
     "output_type": "execute_result"
    }
   ],
   "source": [
    "#Use the best model for prediction on test set and get metric\n",
    "mean_squared_error(target3_test, gs3.predict(features3_test)).round(2)"
   ]
  },
  {
   "cell_type": "code",
   "execution_count": 84,
   "metadata": {
    "colab": {
     "base_uri": "https://localhost:8080/",
     "height": 227
    },
    "colab_type": "code",
    "id": "8QE_53hy5yU9",
    "outputId": "a7ff3974-66a5-4f2a-a548-ea03fa435d24"
   },
   "outputs": [
    {
     "data": {
      "text/html": [
       "<div>\n",
       "<style scoped>\n",
       "    .dataframe tbody tr th:only-of-type {\n",
       "        vertical-align: middle;\n",
       "    }\n",
       "\n",
       "    .dataframe tbody tr th {\n",
       "        vertical-align: top;\n",
       "    }\n",
       "\n",
       "    .dataframe thead th {\n",
       "        text-align: right;\n",
       "    }\n",
       "</style>\n",
       "<table border=\"1\" class=\"dataframe\">\n",
       "  <thead>\n",
       "    <tr style=\"text-align: right;\">\n",
       "      <th></th>\n",
       "      <th>0</th>\n",
       "    </tr>\n",
       "  </thead>\n",
       "  <tbody>\n",
       "    <tr>\n",
       "      <th>is_holiday</th>\n",
       "      <td>0.012245</td>\n",
       "    </tr>\n",
       "    <tr>\n",
       "      <th>dayofyear_sin</th>\n",
       "      <td>0.279589</td>\n",
       "    </tr>\n",
       "    <tr>\n",
       "      <th>dayofyear_cos</th>\n",
       "      <td>0.093590</td>\n",
       "    </tr>\n",
       "    <tr>\n",
       "      <th>weekday_sin</th>\n",
       "      <td>0.123773</td>\n",
       "    </tr>\n",
       "    <tr>\n",
       "      <th>weekday_cos</th>\n",
       "      <td>0.010744</td>\n",
       "    </tr>\n",
       "    <tr>\n",
       "      <th>hour_sin</th>\n",
       "      <td>0.257196</td>\n",
       "    </tr>\n",
       "    <tr>\n",
       "      <th>hour_cos</th>\n",
       "      <td>0.222864</td>\n",
       "    </tr>\n",
       "  </tbody>\n",
       "</table>\n",
       "</div>"
      ],
      "text/plain": [
       "                      0\n",
       "is_holiday     0.012245\n",
       "dayofyear_sin  0.279589\n",
       "dayofyear_cos  0.093590\n",
       "weekday_sin    0.123773\n",
       "weekday_cos    0.010744\n",
       "hour_sin       0.257196\n",
       "hour_cos       0.222864"
      ]
     },
     "execution_count": 84,
     "metadata": {},
     "output_type": "execute_result"
    }
   ],
   "source": [
    "# Feature importance\n",
    "pd.DataFrame(data=gs3.best_estimator_['est'].feature_importances_,\n",
    "            index=features3_train.columns)"
   ]
  },
  {
   "cell_type": "markdown",
   "metadata": {},
   "source": [
    "### Learning curves for best RF"
   ]
  },
  {
   "cell_type": "code",
   "execution_count": 89,
   "metadata": {},
   "outputs": [
    {
     "data": {
      "text/plain": [
       "RandomForestRegressor(bootstrap=True, ccp_alpha=0.0, criterion='mse',\n",
       "                      max_depth=10, max_features=0.75, max_leaf_nodes=None,\n",
       "                      max_samples=None, min_impurity_decrease=0.0,\n",
       "                      min_impurity_split=None, min_samples_leaf=1,\n",
       "                      min_samples_split=0.001, min_weight_fraction_leaf=0.0,\n",
       "                      n_estimators=100, n_jobs=None, oob_score=False,\n",
       "                      random_state=100, verbose=0, warm_start=False)"
      ]
     },
     "execution_count": 89,
     "metadata": {},
     "output_type": "execute_result"
    }
   ],
   "source": [
    "model3 = gs3.best_estimator_['est']\n",
    "model3"
   ]
  },
  {
   "cell_type": "code",
   "execution_count": 87,
   "metadata": {},
   "outputs": [],
   "source": [
    "train_size, train_scores, cv_scores = learning_curve(model3, \n",
    "                                                     X=features3_train, \n",
    "                                                     y=target3_train, \n",
    "                                                     cv=5,\n",
    "                                                     scoring='neg_mean_squared_error',\n",
    "                                                     random_state=100)"
   ]
  },
  {
   "cell_type": "markdown",
   "metadata": {},
   "source": [
    "Plot learning curves"
   ]
  },
  {
   "cell_type": "code",
   "execution_count": 88,
   "metadata": {},
   "outputs": [
    {
     "data": {
      "text/plain": [
       "Text(0, 0.5, 'MSE')"
      ]
     },
     "execution_count": 88,
     "metadata": {},
     "output_type": "execute_result"
    },
    {
     "data": {
      "image/png": "[encoded data removed]",
      "text/plain": [
       "<Figure size 432x288 with 1 Axes>"
      ]
     },
     "metadata": {
      "needs_background": "light"
     },
     "output_type": "display_data"
    }
   ],
   "source": [
    "g = sns.lineplot(data= pd.DataFrame({'train': -train_scores.mean(axis=1), 'cv': -cv_scores.mean(axis=1)}, \n",
    "                                index=train_size))\n",
    "g.axes.set_ylim(0,30)\n",
    "g.set_xlabel('Size of training set')\n",
    "g.set_ylabel('MSE')"
   ]
  },
  {
   "cell_type": "markdown",
   "metadata": {},
   "source": [
    "This is by far the best model we have so far. There was significant improvement on the test set (reduced variance) while also improving overall metrics. This proves that we could further increase model performance by gathering more examples and that indeed our problem is variance."
   ]
  },
  {
   "cell_type": "markdown",
   "metadata": {},
   "source": [
    "## New model using `is_holiday`, zero-counts rows and data from 2016"
   ]
  },
  {
   "cell_type": "markdown",
   "metadata": {
    "colab_type": "text",
    "id": "HaUtCNhU7XDU"
   },
   "source": [
    "Now we will include data from 2016 and 2017, along with variables depending on time, including the `is_holiday` variable."
   ]
  },
  {
   "cell_type": "code",
   "execution_count": 92,
   "metadata": {},
   "outputs": [],
   "source": [
    "# Filter rows used in previous model\n",
    "features4 = union_df.copy()\n",
    "target4 = features4.rate_of_change"
   ]
  },
  {
   "cell_type": "code",
   "execution_count": 94,
   "metadata": {},
   "outputs": [
    {
     "data": {
      "text/plain": [
       "(13176, 19)"
      ]
     },
     "execution_count": 94,
     "metadata": {},
     "output_type": "execute_result"
    }
   ],
   "source": [
    "features4.shape"
   ]
  },
  {
   "cell_type": "code",
   "execution_count": 95,
   "metadata": {},
   "outputs": [
    {
     "data": {
      "text/plain": [
       "Index(['year', 'dayofyear', 'weekday', 'hour', 'rate_of_change', 'wind_chill',\n",
       "       'rel_hum_', 'visibility_km', 'fog', 'rain', 'snow', 'created',\n",
       "       'is_holiday', 'dayofyear_sin', 'dayofyear_cos', 'weekday_sin',\n",
       "       'weekday_cos', 'hour_sin', 'hour_cos'],\n",
       "      dtype='object')"
      ]
     },
     "execution_count": 95,
     "metadata": {},
     "output_type": "execute_result"
    }
   ],
   "source": [
    "features4.columns"
   ]
  },
  {
   "cell_type": "code",
   "execution_count": 96,
   "metadata": {},
   "outputs": [],
   "source": [
    "# Variables to include\n",
    "include4 = ['dayofyear_sin', 'dayofyear_cos', 'weekday_sin', 'weekday_cos', 'hour_sin', 'hour_cos', 'is_holiday']\n",
    "\n",
    "# Subset the dataframe\n",
    "features4 = features4[features4.columns[features4.columns.isin(include4)]]"
   ]
  },
  {
   "cell_type": "markdown",
   "metadata": {
    "colab_type": "text",
    "id": "dvd8g2a5AggG"
   },
   "source": [
    "Split the dataset into training and test set for Cross validation and hyper parameters optimization"
   ]
  },
  {
   "cell_type": "code",
   "execution_count": 97,
   "metadata": {
    "colab": {},
    "colab_type": "code",
    "id": "g3I-uLmfadtY"
   },
   "outputs": [],
   "source": [
    "features4_train, features4_test, target4_train, target4_test = train_test_split(features4,\n",
    "                                                                                target4, \n",
    "                                                                                test_size=0.2, \n",
    "                                                                                random_state=100)"
   ]
  },
  {
   "cell_type": "code",
   "execution_count": 98,
   "metadata": {},
   "outputs": [
    {
     "data": {
      "text/plain": [
       "(10540, 2636)"
      ]
     },
     "execution_count": 98,
     "metadata": {},
     "output_type": "execute_result"
    }
   ],
   "source": [
    "features4_train.shape[0], features4_test.shape[0]"
   ]
  },
  {
   "cell_type": "code",
   "execution_count": 100,
   "metadata": {
    "colab": {
     "base_uri": "https://localhost:8080/",
     "height": 638
    },
    "colab_type": "code",
    "id": "6FrVw7G6adtc",
    "outputId": "dcd5be36-313a-4f59-94d5-07a746d26686"
   },
   "outputs": [
    {
     "name": "stdout",
     "output_type": "stream",
     "text": [
      "Fitting 5 folds for each of 360 candidates, totalling 1800 fits\n"
     ]
    },
    {
     "name": "stderr",
     "output_type": "stream",
     "text": [
      "[Parallel(n_jobs=-1)]: Using backend LokyBackend with 8 concurrent workers.\n",
      "[Parallel(n_jobs=-1)]: Done  34 tasks      | elapsed:   13.0s\n",
      "[Parallel(n_jobs=-1)]: Done 184 tasks      | elapsed:   39.1s\n",
      "[Parallel(n_jobs=-1)]: Done 434 tasks      | elapsed:  1.2min\n",
      "[Parallel(n_jobs=-1)]: Done 784 tasks      | elapsed:  2.1min\n",
      "[Parallel(n_jobs=-1)]: Done 1234 tasks      | elapsed:  3.2min\n",
      "[Parallel(n_jobs=-1)]: Done 1784 tasks      | elapsed:  5.0min\n",
      "[Parallel(n_jobs=-1)]: Done 1800 out of 1800 | elapsed:  5.0min finished\n"
     ]
    },
    {
     "data": {
      "text/plain": [
       "GridSearchCV(cv=5, error_score=nan,\n",
       "             estimator=Pipeline(memory=None,\n",
       "                                steps=[('est',\n",
       "                                        RandomForestRegressor(bootstrap=True,\n",
       "                                                              ccp_alpha=0.0,\n",
       "                                                              criterion='mse',\n",
       "                                                              max_depth=None,\n",
       "                                                              max_features='auto',\n",
       "                                                              max_leaf_nodes=None,\n",
       "                                                              max_samples=None,\n",
       "                                                              min_impurity_decrease=0.0,\n",
       "                                                              min_impurity_split=None,\n",
       "                                                              min_samples_leaf=1,\n",
       "                                                              min_samples_split=2,\n",
       "                                                              min_weight_fraction_leaf=0.0,\n",
       "                                                              n_estimators=1...\n",
       "             iid='deprecated', n_jobs=-1,\n",
       "             param_grid=[{'est__max_depth': array([ 5,  7, 10]),\n",
       "                          'est__max_features': [0.75, 1],\n",
       "                          'est__min_samples_leaf': array([ 1,  4,  7, 10]),\n",
       "                          'est__min_samples_split': array([0.0001  , 0.000325, 0.00055 , 0.000775, 0.001   ]),\n",
       "                          'est__n_estimators': array([ 50,  75, 100])}],\n",
       "             pre_dispatch='2*n_jobs', refit=True, return_train_score=False,\n",
       "             scoring='neg_mean_squared_error', verbose=1)"
      ]
     },
     "execution_count": 100,
     "metadata": {},
     "output_type": "execute_result"
    }
   ],
   "source": [
    "#Create params grid\n",
    "pipe = Pipeline([('est', RandomForestRegressor(random_state=100))])\n",
    "\n",
    "params_list = [{'est__n_estimators': np.linspace(50, 100, 3, endpoint=True, dtype=int),\n",
    "                'est__max_depth' : np.linspace(5, 10, 3, endpoint=True, dtype=int),\n",
    "                'est__min_samples_split': np.linspace(0.0001, 0.001, 5, endpoint=True),\n",
    "                'est__min_samples_leaf': np.linspace(1, 10, 4, endpoint=True, dtype=int),\n",
    "                'est__max_features': [0.75, 1]}]\n",
    "\n",
    "# Perform grid search\n",
    "gs4 = GridSearchCV(estimator= pipe,\n",
    "                           param_grid=params_list, \n",
    "                           cv=5, \n",
    "                           scoring='neg_mean_squared_error',\n",
    "                           verbose=1,\n",
    "                           n_jobs=-1)\n",
    "\n",
    "gs4.fit(features4_train, target4_train)"
   ]
  },
  {
   "cell_type": "code",
   "execution_count": 102,
   "metadata": {
    "colab": {
     "base_uri": "https://localhost:8080/",
     "height": 34
    },
    "colab_type": "code",
    "id": "VoJAlIjt5yU1",
    "outputId": "671dd5eb-8606-437b-fdc7-5913e8a52dd3"
   },
   "outputs": [
    {
     "data": {
      "text/plain": [
       "-16.99"
      ]
     },
     "execution_count": 102,
     "metadata": {},
     "output_type": "execute_result"
    }
   ],
   "source": [
    "#Get best score\n",
    "gs4.best_score_.round(2)"
   ]
  },
  {
   "cell_type": "markdown",
   "metadata": {
    "colab_type": "text",
    "id": "U0QiRC2NB1tr"
   },
   "source": [
    "Now we will evaluate $R^{2}$ as the metric for model selection in training and test"
   ]
  },
  {
   "cell_type": "code",
   "execution_count": 104,
   "metadata": {
    "colab": {
     "base_uri": "https://localhost:8080/",
     "height": 34
    },
    "colab_type": "code",
    "id": "LFRSx-TI5yU4",
    "outputId": "e2cc3d0e-df4f-4d3b-b0ef-6db1078cf812"
   },
   "outputs": [
    {
     "data": {
      "text/plain": [
       "0.44"
      ]
     },
     "execution_count": 104,
     "metadata": {},
     "output_type": "execute_result"
    }
   ],
   "source": [
    "#Use the best model for prediction on training set and get metric\n",
    "r2_score(target4_train, gs4.predict(features4_train)).round(2)"
   ]
  },
  {
   "cell_type": "code",
   "execution_count": 105,
   "metadata": {},
   "outputs": [
    {
     "data": {
      "text/plain": [
       "15.38"
      ]
     },
     "execution_count": 105,
     "metadata": {},
     "output_type": "execute_result"
    }
   ],
   "source": [
    "#Use the best model for prediction on training set and get metric\n",
    "mean_squared_error(target4_train, gs4.predict(features4_train)).round(2)"
   ]
  },
  {
   "cell_type": "code",
   "execution_count": 106,
   "metadata": {
    "colab": {
     "base_uri": "https://localhost:8080/",
     "height": 34
    },
    "colab_type": "code",
    "id": "03kauyXg5yU6",
    "outputId": "95f66974-0cdc-4b78-95b8-e0e104f5dcff"
   },
   "outputs": [
    {
     "data": {
      "text/plain": [
       "0.37"
      ]
     },
     "execution_count": 106,
     "metadata": {},
     "output_type": "execute_result"
    }
   ],
   "source": [
    "#Use the best model for prediction on test set and get metric\n",
    "r2_score(target4_test, gs4.predict(features4_test)).round(2)"
   ]
  },
  {
   "cell_type": "code",
   "execution_count": 107,
   "metadata": {},
   "outputs": [
    {
     "data": {
      "text/plain": [
       "17.38"
      ]
     },
     "execution_count": 107,
     "metadata": {},
     "output_type": "execute_result"
    }
   ],
   "source": [
    "#Use the best model for prediction on test set and get metric\n",
    "mean_squared_error(target4_test, gs4.predict(features4_test)).round(2)"
   ]
  },
  {
   "cell_type": "code",
   "execution_count": 108,
   "metadata": {
    "colab": {
     "base_uri": "https://localhost:8080/",
     "height": 227
    },
    "colab_type": "code",
    "id": "8QE_53hy5yU9",
    "outputId": "a7ff3974-66a5-4f2a-a548-ea03fa435d24"
   },
   "outputs": [
    {
     "data": {
      "text/html": [
       "<div>\n",
       "<style scoped>\n",
       "    .dataframe tbody tr th:only-of-type {\n",
       "        vertical-align: middle;\n",
       "    }\n",
       "\n",
       "    .dataframe tbody tr th {\n",
       "        vertical-align: top;\n",
       "    }\n",
       "\n",
       "    .dataframe thead th {\n",
       "        text-align: right;\n",
       "    }\n",
       "</style>\n",
       "<table border=\"1\" class=\"dataframe\">\n",
       "  <thead>\n",
       "    <tr style=\"text-align: right;\">\n",
       "      <th></th>\n",
       "      <th>0</th>\n",
       "    </tr>\n",
       "  </thead>\n",
       "  <tbody>\n",
       "    <tr>\n",
       "      <th>is_holiday</th>\n",
       "      <td>0.011754</td>\n",
       "    </tr>\n",
       "    <tr>\n",
       "      <th>dayofyear_sin</th>\n",
       "      <td>0.153983</td>\n",
       "    </tr>\n",
       "    <tr>\n",
       "      <th>dayofyear_cos</th>\n",
       "      <td>0.094821</td>\n",
       "    </tr>\n",
       "    <tr>\n",
       "      <th>weekday_sin</th>\n",
       "      <td>0.160820</td>\n",
       "    </tr>\n",
       "    <tr>\n",
       "      <th>weekday_cos</th>\n",
       "      <td>0.006021</td>\n",
       "    </tr>\n",
       "    <tr>\n",
       "      <th>hour_sin</th>\n",
       "      <td>0.398355</td>\n",
       "    </tr>\n",
       "    <tr>\n",
       "      <th>hour_cos</th>\n",
       "      <td>0.174247</td>\n",
       "    </tr>\n",
       "  </tbody>\n",
       "</table>\n",
       "</div>"
      ],
      "text/plain": [
       "                      0\n",
       "is_holiday     0.011754\n",
       "dayofyear_sin  0.153983\n",
       "dayofyear_cos  0.094821\n",
       "weekday_sin    0.160820\n",
       "weekday_cos    0.006021\n",
       "hour_sin       0.398355\n",
       "hour_cos       0.174247"
      ]
     },
     "execution_count": 108,
     "metadata": {},
     "output_type": "execute_result"
    }
   ],
   "source": [
    "# Feature importance\n",
    "pd.DataFrame(data=gs4.best_estimator_['est'].feature_importances_,\n",
    "            index=features3_train.columns)"
   ]
  },
  {
   "cell_type": "markdown",
   "metadata": {},
   "source": [
    "### Learning curves for best RF"
   ]
  },
  {
   "cell_type": "code",
   "execution_count": 109,
   "metadata": {},
   "outputs": [
    {
     "data": {
      "text/plain": [
       "RandomForestRegressor(bootstrap=True, ccp_alpha=0.0, criterion='mse',\n",
       "                      max_depth=7, max_features=0.75, max_leaf_nodes=None,\n",
       "                      max_samples=None, min_impurity_decrease=0.0,\n",
       "                      min_impurity_split=None, min_samples_leaf=1,\n",
       "                      min_samples_split=0.0001, min_weight_fraction_leaf=0.0,\n",
       "                      n_estimators=100, n_jobs=None, oob_score=False,\n",
       "                      random_state=100, verbose=0, warm_start=False)"
      ]
     },
     "execution_count": 109,
     "metadata": {},
     "output_type": "execute_result"
    }
   ],
   "source": [
    "model4 = gs4.best_estimator_['est']\n",
    "model4"
   ]
  },
  {
   "cell_type": "code",
   "execution_count": 111,
   "metadata": {},
   "outputs": [],
   "source": [
    "train_size, train_scores, cv_scores = learning_curve(model4, \n",
    "                                                     X=features4_train, \n",
    "                                                     y=target4_train, \n",
    "                                                     cv=5,\n",
    "                                                     scoring='neg_mean_squared_error',\n",
    "                                                     random_state=100)"
   ]
  },
  {
   "cell_type": "markdown",
   "metadata": {},
   "source": [
    "Plot learning curves"
   ]
  },
  {
   "cell_type": "code",
   "execution_count": 112,
   "metadata": {},
   "outputs": [
    {
     "data": {
      "text/plain": [
       "Text(0, 0.5, 'MSE')"
      ]
     },
     "execution_count": 112,
     "metadata": {},
     "output_type": "execute_result"
    },
    {
     "data": {
      "image/png": "[encoded data removed]",
      "text/plain": [
       "<Figure size 432x288 with 1 Axes>"
      ]
     },
     "metadata": {
      "needs_background": "light"
     },
     "output_type": "display_data"
    }
   ],
   "source": [
    "g = sns.lineplot(data= pd.DataFrame({'train': -train_scores.mean(axis=1), 'cv': -cv_scores.mean(axis=1)}, \n",
    "                                index=train_size))\n",
    "g.axes.set_ylim(0,30)\n",
    "g.set_xlabel('Size of training set')\n",
    "g.set_ylabel('MSE')"
   ]
  },
  {
   "cell_type": "markdown",
   "metadata": {},
   "source": [
    "This is by far the best model we have so far. There was significant improvement on the test set (reduced variance) while also improving overall metrics. This proves that we could further increase model performance by gathering more examples and that indeed our problem is variance."
   ]
  },
  {
   "cell_type": "markdown",
   "metadata": {},
   "source": [
    "## New model using `is_holiday`, weather-variables, zero-counts rows and data from 2016"
   ]
  },
  {
   "cell_type": "markdown",
   "metadata": {
    "colab_type": "text",
    "id": "HaUtCNhU7XDU"
   },
   "source": [
    "Now we will include data from 2016 and 2017, along with variables depending on time, including the `is_holiday` variable, and all the weather variables available."
   ]
  },
  {
   "cell_type": "code",
   "execution_count": 29,
   "metadata": {},
   "outputs": [],
   "source": [
    "# Filter rows used in previous model\n",
    "features5 = union_tod.copy()\n",
    "target5 = features5.rate_of_change"
   ]
  },
  {
   "cell_type": "code",
   "execution_count": 30,
   "metadata": {},
   "outputs": [
    {
     "data": {
      "text/plain": [
       "(3294, 17)"
      ]
     },
     "execution_count": 30,
     "metadata": {},
     "output_type": "execute_result"
    }
   ],
   "source": [
    "features5.shape"
   ]
  },
  {
   "cell_type": "code",
   "execution_count": 31,
   "metadata": {},
   "outputs": [
    {
     "data": {
      "text/plain": [
       "Index(['year', 'month', 'dayofyear', 'time_of_day', 'rate_of_change',\n",
       "       'weekday', 'wind_chill', 'rel_hum_', 'rain', 'snow', 'is_holiday',\n",
       "       'dayofyear_sin', 'dayofyear_cos', 'weekday_sin', 'weekday_cos',\n",
       "       'tod_sin', 'tod_cos'],\n",
       "      dtype='object')"
      ]
     },
     "execution_count": 31,
     "metadata": {},
     "output_type": "execute_result"
    }
   ],
   "source": [
    "features5.columns"
   ]
  },
  {
   "cell_type": "code",
   "execution_count": 32,
   "metadata": {},
   "outputs": [],
   "source": [
    "# Variables to include\n",
    "include5 = ['weekday_sin', 'weekday_cos', 'tod_sin', 'tod_cos', 'is_holiday', 'wind_chill', \n",
    "            'rel_hum_', 'rain', 'snow']\n",
    "\n",
    "# Subset the dataframe\n",
    "features5 = features5[features5.columns[features5.columns.isin(include5)]]"
   ]
  },
  {
   "cell_type": "markdown",
   "metadata": {
    "colab_type": "text",
    "id": "dvd8g2a5AggG"
   },
   "source": [
    "Split the dataset into training and test set for Cross validation and hyper parameters optimization"
   ]
  },
  {
   "cell_type": "code",
   "execution_count": 33,
   "metadata": {
    "colab": {},
    "colab_type": "code",
    "id": "g3I-uLmfadtY"
   },
   "outputs": [],
   "source": [
    "features5_train, features5_test, target5_train, target5_test = train_test_split(features5,\n",
    "                                                                                target5, \n",
    "                                                                                test_size=0.2, \n",
    "                                                                                random_state=100)"
   ]
  },
  {
   "cell_type": "code",
   "execution_count": 34,
   "metadata": {},
   "outputs": [
    {
     "data": {
      "text/plain": [
       "(2635, 659)"
      ]
     },
     "execution_count": 34,
     "metadata": {},
     "output_type": "execute_result"
    }
   ],
   "source": [
    "features5_train.shape[0], features5_test.shape[0]"
   ]
  },
  {
   "cell_type": "code",
   "execution_count": 35,
   "metadata": {
    "colab": {
     "base_uri": "https://localhost:8080/",
     "height": 638
    },
    "colab_type": "code",
    "id": "6FrVw7G6adtc",
    "outputId": "dcd5be36-313a-4f59-94d5-07a746d26686"
   },
   "outputs": [
    {
     "name": "stdout",
     "output_type": "stream",
     "text": [
      "Fitting 5 folds for each of 480 candidates, totalling 2400 fits\n"
     ]
    },
    {
     "name": "stderr",
     "output_type": "stream",
     "text": [
      "[Parallel(n_jobs=-1)]: Using backend LokyBackend with 8 concurrent workers.\n",
      "[Parallel(n_jobs=-1)]: Done  34 tasks      | elapsed:    3.9s\n",
      "[Parallel(n_jobs=-1)]: Done 184 tasks      | elapsed:   11.0s\n",
      "[Parallel(n_jobs=-1)]: Done 434 tasks      | elapsed:   22.4s\n",
      "[Parallel(n_jobs=-1)]: Done 784 tasks      | elapsed:   34.7s\n",
      "[Parallel(n_jobs=-1)]: Done 1234 tasks      | elapsed:  1.0min\n",
      "[Parallel(n_jobs=-1)]: Done 1784 tasks      | elapsed:  1.5min\n",
      "[Parallel(n_jobs=-1)]: Done 2400 out of 2400 | elapsed:  2.1min finished\n"
     ]
    },
    {
     "data": {
      "text/plain": [
       "GridSearchCV(cv=5, error_score=nan,\n",
       "             estimator=Pipeline(memory=None,\n",
       "                                steps=[('est',\n",
       "                                        RandomForestRegressor(bootstrap=True,\n",
       "                                                              ccp_alpha=0.0,\n",
       "                                                              criterion='mse',\n",
       "                                                              max_depth=None,\n",
       "                                                              max_features='auto',\n",
       "                                                              max_leaf_nodes=None,\n",
       "                                                              max_samples=None,\n",
       "                                                              min_impurity_decrease=0.0,\n",
       "                                                              min_impurity_split=None,\n",
       "                                                              min_samples_leaf=1,\n",
       "                                                              min_samples_split=2,\n",
       "                                                              min_weight_fraction_leaf=0.0,\n",
       "                                                              n_estimators=1...\n",
       "             iid='deprecated', n_jobs=-1,\n",
       "             param_grid=[{'est__max_depth': array([ 5,  7, 10]),\n",
       "                          'est__max_features': [0.75, 1],\n",
       "                          'est__min_samples_leaf': array([ 1,  4,  7, 10]),\n",
       "                          'est__min_samples_split': array([0.0001  , 0.000325, 0.00055 , 0.000775, 0.001   ]),\n",
       "                          'est__n_estimators': array([ 50,  83, 116, 150])}],\n",
       "             pre_dispatch='2*n_jobs', refit=True, return_train_score=False,\n",
       "             scoring='neg_mean_squared_error', verbose=1)"
      ]
     },
     "execution_count": 35,
     "metadata": {},
     "output_type": "execute_result"
    }
   ],
   "source": [
    "#Create params grid\n",
    "pipe = Pipeline([('est', RandomForestRegressor(random_state=100))])\n",
    "\n",
    "params_list = [{'est__n_estimators': np.linspace(50, 150, 4, endpoint=True, dtype=int),\n",
    "                'est__max_depth' : np.linspace(5, 10, 3, endpoint=True, dtype=int),\n",
    "                'est__min_samples_split': np.linspace(0.0001, 0.001, 5, endpoint=True),\n",
    "                'est__min_samples_leaf': np.linspace(1, 10, 4, endpoint=True, dtype=int),\n",
    "                'est__max_features': [0.75, 1]}]\n",
    "\n",
    "# Perform grid search\n",
    "gs5 = GridSearchCV(estimator= pipe,\n",
    "                           param_grid=params_list, \n",
    "                           cv=5, \n",
    "                           scoring='neg_mean_squared_error',\n",
    "                           verbose=1,\n",
    "                           n_jobs=-1)\n",
    "\n",
    "gs5.fit(features5_train, target5_train)"
   ]
  },
  {
   "cell_type": "code",
   "execution_count": 36,
   "metadata": {
    "colab": {
     "base_uri": "https://localhost:8080/",
     "height": 34
    },
    "colab_type": "code",
    "id": "VoJAlIjt5yU1",
    "outputId": "671dd5eb-8606-437b-fdc7-5913e8a52dd3"
   },
   "outputs": [
    {
     "data": {
      "text/plain": [
       "-108.68"
      ]
     },
     "execution_count": 36,
     "metadata": {},
     "output_type": "execute_result"
    }
   ],
   "source": [
    "#Get best score\n",
    "gs5.best_score_.round(2)"
   ]
  },
  {
   "cell_type": "markdown",
   "metadata": {
    "colab_type": "text",
    "id": "U0QiRC2NB1tr"
   },
   "source": [
    "Now we will evaluate $R^{2}$ as the metric for model selection in training and test"
   ]
  },
  {
   "cell_type": "code",
   "execution_count": 37,
   "metadata": {
    "colab": {
     "base_uri": "https://localhost:8080/",
     "height": 34
    },
    "colab_type": "code",
    "id": "LFRSx-TI5yU4",
    "outputId": "e2cc3d0e-df4f-4d3b-b0ef-6db1078cf812"
   },
   "outputs": [
    {
     "data": {
      "text/plain": [
       "0.43"
      ]
     },
     "execution_count": 37,
     "metadata": {},
     "output_type": "execute_result"
    }
   ],
   "source": [
    "#Use the best model for prediction on training set and get metric\n",
    "r2_score(target5_train, gs5.predict(features5_train)).round(2)"
   ]
  },
  {
   "cell_type": "code",
   "execution_count": 38,
   "metadata": {},
   "outputs": [
    {
     "data": {
      "text/plain": [
       "99.96"
      ]
     },
     "execution_count": 38,
     "metadata": {},
     "output_type": "execute_result"
    }
   ],
   "source": [
    "#Use the best model for prediction on training set and get metric\n",
    "mean_squared_error(target5_train, gs5.predict(features5_train)).round(2)"
   ]
  },
  {
   "cell_type": "code",
   "execution_count": 39,
   "metadata": {
    "colab": {
     "base_uri": "https://localhost:8080/",
     "height": 34
    },
    "colab_type": "code",
    "id": "03kauyXg5yU6",
    "outputId": "95f66974-0cdc-4b78-95b8-e0e104f5dcff"
   },
   "outputs": [
    {
     "data": {
      "text/plain": [
       "0.4"
      ]
     },
     "execution_count": 39,
     "metadata": {},
     "output_type": "execute_result"
    }
   ],
   "source": [
    "#Use the best model for prediction on test set and get metric\n",
    "r2_score(target5_test, gs5.predict(features5_test)).round(2)"
   ]
  },
  {
   "cell_type": "code",
   "execution_count": 40,
   "metadata": {},
   "outputs": [
    {
     "data": {
      "text/plain": [
       "104.56"
      ]
     },
     "execution_count": 40,
     "metadata": {},
     "output_type": "execute_result"
    }
   ],
   "source": [
    "#Use the best model for prediction on test set and get metric\n",
    "mean_squared_error(target5_test, gs5.predict(features5_test)).round(2)"
   ]
  },
  {
   "cell_type": "code",
   "execution_count": 41,
   "metadata": {
    "colab": {
     "base_uri": "https://localhost:8080/",
     "height": 227
    },
    "colab_type": "code",
    "id": "8QE_53hy5yU9",
    "outputId": "a7ff3974-66a5-4f2a-a548-ea03fa435d24"
   },
   "outputs": [
    {
     "data": {
      "text/html": [
       "<div>\n",
       "<style scoped>\n",
       "    .dataframe tbody tr th:only-of-type {\n",
       "        vertical-align: middle;\n",
       "    }\n",
       "\n",
       "    .dataframe tbody tr th {\n",
       "        vertical-align: top;\n",
       "    }\n",
       "\n",
       "    .dataframe thead th {\n",
       "        text-align: right;\n",
       "    }\n",
       "</style>\n",
       "<table border=\"1\" class=\"dataframe\">\n",
       "  <thead>\n",
       "    <tr style=\"text-align: right;\">\n",
       "      <th></th>\n",
       "      <th>0</th>\n",
       "    </tr>\n",
       "  </thead>\n",
       "  <tbody>\n",
       "    <tr>\n",
       "      <th>wind_chill</th>\n",
       "      <td>0.072403</td>\n",
       "    </tr>\n",
       "    <tr>\n",
       "      <th>rel_hum_</th>\n",
       "      <td>0.031286</td>\n",
       "    </tr>\n",
       "    <tr>\n",
       "      <th>rain</th>\n",
       "      <td>0.001776</td>\n",
       "    </tr>\n",
       "    <tr>\n",
       "      <th>snow</th>\n",
       "      <td>0.002046</td>\n",
       "    </tr>\n",
       "    <tr>\n",
       "      <th>is_holiday</th>\n",
       "      <td>0.033438</td>\n",
       "    </tr>\n",
       "    <tr>\n",
       "      <th>weekday_sin</th>\n",
       "      <td>0.259066</td>\n",
       "    </tr>\n",
       "    <tr>\n",
       "      <th>weekday_cos</th>\n",
       "      <td>0.015983</td>\n",
       "    </tr>\n",
       "    <tr>\n",
       "      <th>tod_sin</th>\n",
       "      <td>0.299514</td>\n",
       "    </tr>\n",
       "    <tr>\n",
       "      <th>tod_cos</th>\n",
       "      <td>0.284488</td>\n",
       "    </tr>\n",
       "  </tbody>\n",
       "</table>\n",
       "</div>"
      ],
      "text/plain": [
       "                    0\n",
       "wind_chill   0.072403\n",
       "rel_hum_     0.031286\n",
       "rain         0.001776\n",
       "snow         0.002046\n",
       "is_holiday   0.033438\n",
       "weekday_sin  0.259066\n",
       "weekday_cos  0.015983\n",
       "tod_sin      0.299514\n",
       "tod_cos      0.284488"
      ]
     },
     "execution_count": 41,
     "metadata": {},
     "output_type": "execute_result"
    }
   ],
   "source": [
    "# Feature importance\n",
    "pd.DataFrame(data=gs5.best_estimator_['est'].feature_importances_,\n",
    "            index=features5_train.columns)"
   ]
  },
  {
   "cell_type": "markdown",
   "metadata": {},
   "source": [
    "### Learning curves for best RF"
   ]
  },
  {
   "cell_type": "code",
   "execution_count": 142,
   "metadata": {},
   "outputs": [
    {
     "data": {
      "text/plain": [
       "RandomForestRegressor(bootstrap=True, ccp_alpha=0.0, criterion='mse',\n",
       "                      max_depth=10, max_features=0.75, max_leaf_nodes=None,\n",
       "                      max_samples=None, min_impurity_decrease=0.0,\n",
       "                      min_impurity_split=None, min_samples_leaf=1,\n",
       "                      min_samples_split=0.00055, min_weight_fraction_leaf=0.0,\n",
       "                      n_estimators=150, n_jobs=None, oob_score=False,\n",
       "                      random_state=100, verbose=0, warm_start=False)"
      ]
     },
     "execution_count": 142,
     "metadata": {},
     "output_type": "execute_result"
    }
   ],
   "source": [
    "model5 = gs5.best_estimator_['est']\n",
    "model5"
   ]
  },
  {
   "cell_type": "code",
   "execution_count": 143,
   "metadata": {},
   "outputs": [],
   "source": [
    "train_size, train_scores, cv_scores = learning_curve(model5, \n",
    "                                                     X=features5_train, \n",
    "                                                     y=target5_train, \n",
    "                                                     cv=5,\n",
    "                                                     scoring='neg_mean_squared_error',\n",
    "                                                     random_state=100)"
   ]
  },
  {
   "cell_type": "markdown",
   "metadata": {},
   "source": [
    "Plot learning curves"
   ]
  },
  {
   "cell_type": "code",
   "execution_count": 144,
   "metadata": {},
   "outputs": [
    {
     "data": {
      "text/plain": [
       "Text(0, 0.5, 'MSE')"
      ]
     },
     "execution_count": 144,
     "metadata": {},
     "output_type": "execute_result"
    },
    {
     "data": {
      "image/png": "[encoded data removed]",
      "text/plain": [
       "<Figure size 432x288 with 1 Axes>"
      ]
     },
     "metadata": {
      "needs_background": "light"
     },
     "output_type": "display_data"
    }
   ],
   "source": [
    "g = sns.lineplot(data= pd.DataFrame({'train': -train_scores.mean(axis=1), 'cv': -cv_scores.mean(axis=1)}, \n",
    "                                index=train_size))\n",
    "g.axes.set_ylim(0,30)\n",
    "g.set_xlabel('Size of training set')\n",
    "g.set_ylabel('MSE')"
   ]
  },
  {
   "cell_type": "markdown",
   "metadata": {},
   "source": [
    "## Modeling as a classification model "
   ]
  },
  {
   "cell_type": "code",
   "execution_count": 116,
   "metadata": {},
   "outputs": [],
   "source": [
    "# Filter rows used in previous model\n",
    "features6 = union_tod.copy()\n",
    "target6 = features6.rate_of_change"
   ]
  },
  {
   "cell_type": "code",
   "execution_count": 117,
   "metadata": {},
   "outputs": [
    {
     "data": {
      "text/plain": [
       "(3294, 17)"
      ]
     },
     "execution_count": 117,
     "metadata": {},
     "output_type": "execute_result"
    }
   ],
   "source": [
    "features6.shape"
   ]
  },
  {
   "cell_type": "code",
   "execution_count": 118,
   "metadata": {},
   "outputs": [],
   "source": [
    "def to_categorical(val):\n",
    "    if val > 2:\n",
    "        return 1\n",
    "    if val < -2:\n",
    "        return -1\n",
    "    else:\n",
    "        return 0"
   ]
  },
  {
   "cell_type": "code",
   "execution_count": 119,
   "metadata": {},
   "outputs": [],
   "source": [
    "target6 = target6.apply(lambda x: to_categorical(x))"
   ]
  },
  {
   "cell_type": "code",
   "execution_count": 120,
   "metadata": {},
   "outputs": [
    {
     "data": {
      "text/plain": [
       " 0    1401\n",
       "-1    1104\n",
       " 1     789\n",
       "Name: rate_of_change, dtype: int64"
      ]
     },
     "execution_count": 120,
     "metadata": {},
     "output_type": "execute_result"
    }
   ],
   "source": [
    "target6.value_counts()"
   ]
  },
  {
   "cell_type": "code",
   "execution_count": 121,
   "metadata": {},
   "outputs": [],
   "source": [
    "# Variables to include\n",
    "include6 = ['weekday_sin', 'weekday_cos', 'hour_sin', 'hour_cos', 'is_holiday', 'wind_chill', 'rel_hum_','rain', 'snow']\n",
    "\n",
    "# Subset the dataframe\n",
    "features6 = features6[features6.columns[features6.columns.isin(include6)]]"
   ]
  },
  {
   "cell_type": "markdown",
   "metadata": {
    "colab_type": "text",
    "id": "dvd8g2a5AggG"
   },
   "source": [
    "Split the dataset into training and test set for Cross validation and hyper parameters optimization"
   ]
  },
  {
   "cell_type": "code",
   "execution_count": 122,
   "metadata": {
    "colab": {},
    "colab_type": "code",
    "id": "g3I-uLmfadtY"
   },
   "outputs": [],
   "source": [
    "features6_train, features6_test, target6_train, target6_test = train_test_split(features6,\n",
    "                                                                                target6, \n",
    "                                                                                test_size=0.2, \n",
    "                                                                                random_state=100)"
   ]
  },
  {
   "cell_type": "code",
   "execution_count": 123,
   "metadata": {},
   "outputs": [
    {
     "data": {
      "text/plain": [
       "(2635, 659)"
      ]
     },
     "execution_count": 123,
     "metadata": {},
     "output_type": "execute_result"
    }
   ],
   "source": [
    "features6_train.shape[0], features6_test.shape[0]"
   ]
  },
  {
   "cell_type": "code",
   "execution_count": 124,
   "metadata": {},
   "outputs": [
    {
     "data": {
      "text/plain": [
       " 0    1127\n",
       "-1     879\n",
       " 1     629\n",
       "Name: rate_of_change, dtype: int64"
      ]
     },
     "execution_count": 124,
     "metadata": {},
     "output_type": "execute_result"
    }
   ],
   "source": [
    "target6_train.value_counts()"
   ]
  },
  {
   "cell_type": "markdown",
   "metadata": {},
   "source": [
    "Perform sampling for imbalanced dataset"
   ]
  },
  {
   "cell_type": "code",
   "execution_count": 90,
   "metadata": {},
   "outputs": [],
   "source": [
    "from imblearn.over_sampling import SMOTE\n",
    "from imblearn.combine import SMOTEENN\n",
    "from imblearn.under_sampling import RandomUnderSampler"
   ]
  },
  {
   "cell_type": "code",
   "execution_count": 91,
   "metadata": {},
   "outputs": [],
   "source": [
    "sampler = SMOTE()"
   ]
  },
  {
   "cell_type": "code",
   "execution_count": 92,
   "metadata": {},
   "outputs": [],
   "source": [
    "features6_train_sm, target6_train_sm = sampler.fit_sample(features6_train, target6_train)"
   ]
  },
  {
   "cell_type": "markdown",
   "metadata": {},
   "source": [
    "Conver to dataframe"
   ]
  },
  {
   "cell_type": "code",
   "execution_count": 93,
   "metadata": {},
   "outputs": [],
   "source": [
    "target6_train_sm = pd.Series(target6_train_sm)"
   ]
  },
  {
   "cell_type": "code",
   "execution_count": 94,
   "metadata": {},
   "outputs": [],
   "source": [
    "features6_train_sm = pd.DataFrame(features6_train_sm, columns=features6_train.columns)"
   ]
  },
  {
   "cell_type": "code",
   "execution_count": 95,
   "metadata": {},
   "outputs": [
    {
     "data": {
      "text/plain": [
       "(4824, 4824)"
      ]
     },
     "execution_count": 95,
     "metadata": {},
     "output_type": "execute_result"
    }
   ],
   "source": [
    "features6_train_sm.shape[0], target6_train_sm.shape[0]"
   ]
  },
  {
   "cell_type": "code",
   "execution_count": 96,
   "metadata": {},
   "outputs": [
    {
     "data": {
      "text/plain": [
       "-1    1608\n",
       " 1    1608\n",
       " 0    1608\n",
       "dtype: int64"
      ]
     },
     "execution_count": 96,
     "metadata": {},
     "output_type": "execute_result"
    }
   ],
   "source": [
    "target6_train_sm.value_counts()"
   ]
  },
  {
   "cell_type": "markdown",
   "metadata": {},
   "source": [
    "Fit the model"
   ]
  },
  {
   "cell_type": "code",
   "execution_count": 125,
   "metadata": {},
   "outputs": [
    {
     "data": {
      "text/plain": [
       "XGBClassifier(base_score=0.5, booster='gbtree', class_weight='balanced',\n",
       "              colsample_bylevel=1, colsample_bynode=1, colsample_bytree=1,\n",
       "              gamma=0, learning_rate=0.1, max_delta_step=0, max_depth=3,\n",
       "              min_child_weight=1, missing=None, n_estimators=100, n_jobs=1,\n",
       "              nthread=None, objective='multi:softprob', random_state=100,\n",
       "              reg_alpha=0, reg_lambda=1, scale_pos_weight=1, seed=None,\n",
       "              silent=None, subsample=1, verbosity=1)"
      ]
     },
     "execution_count": 125,
     "metadata": {},
     "output_type": "execute_result"
    }
   ],
   "source": [
    "clf1 = XGBClassifier(class_weight='balanced', random_state=100)\n",
    "clf1.fit(features6_train, target6_train)"
   ]
  },
  {
   "cell_type": "code",
   "execution_count": 126,
   "metadata": {},
   "outputs": [
    {
     "name": "stdout",
     "output_type": "stream",
     "text": [
      "              precision    recall  f1-score   support\n",
      "\n",
      "          -1       0.58      0.47      0.52       879\n",
      "           0       0.57      0.80      0.67      1127\n",
      "           1       0.49      0.26      0.34       629\n",
      "\n",
      "    accuracy                           0.56      2635\n",
      "   macro avg       0.55      0.51      0.51      2635\n",
      "weighted avg       0.55      0.56      0.54      2635\n",
      "\n"
     ]
    }
   ],
   "source": [
    "print(classification_report(target6_train, clf1.predict(features6_train)))"
   ]
  },
  {
   "cell_type": "code",
   "execution_count": 127,
   "metadata": {},
   "outputs": [
    {
     "name": "stdout",
     "output_type": "stream",
     "text": [
      "              precision    recall  f1-score   support\n",
      "\n",
      "          -1       0.49      0.38      0.42       225\n",
      "           0       0.53      0.75      0.62       274\n",
      "           1       0.37      0.21      0.27       160\n",
      "\n",
      "    accuracy                           0.49       659\n",
      "   macro avg       0.46      0.45      0.44       659\n",
      "weighted avg       0.47      0.49      0.47       659\n",
      "\n"
     ]
    }
   ],
   "source": [
    "print(classification_report(target6_test, clf1.predict(features6_test)))"
   ]
  },
  {
   "cell_type": "code",
   "execution_count": 46,
   "metadata": {},
   "outputs": [
    {
     "data": {
      "text/html": [
       "<div>\n",
       "<style scoped>\n",
       "    .dataframe tbody tr th:only-of-type {\n",
       "        vertical-align: middle;\n",
       "    }\n",
       "\n",
       "    .dataframe tbody tr th {\n",
       "        vertical-align: top;\n",
       "    }\n",
       "\n",
       "    .dataframe thead th {\n",
       "        text-align: right;\n",
       "    }\n",
       "</style>\n",
       "<table border=\"1\" class=\"dataframe\">\n",
       "  <thead>\n",
       "    <tr style=\"text-align: right;\">\n",
       "      <th></th>\n",
       "      <th>0</th>\n",
       "    </tr>\n",
       "  </thead>\n",
       "  <tbody>\n",
       "    <tr>\n",
       "      <th>wind_chill</th>\n",
       "      <td>0.096100</td>\n",
       "    </tr>\n",
       "    <tr>\n",
       "      <th>rel_hum_</th>\n",
       "      <td>0.036717</td>\n",
       "    </tr>\n",
       "    <tr>\n",
       "      <th>rain</th>\n",
       "      <td>0.043610</td>\n",
       "    </tr>\n",
       "    <tr>\n",
       "      <th>snow</th>\n",
       "      <td>0.040248</td>\n",
       "    </tr>\n",
       "    <tr>\n",
       "      <th>is_holiday</th>\n",
       "      <td>0.059209</td>\n",
       "    </tr>\n",
       "    <tr>\n",
       "      <th>weekday_sin</th>\n",
       "      <td>0.155447</td>\n",
       "    </tr>\n",
       "    <tr>\n",
       "      <th>weekday_cos</th>\n",
       "      <td>0.046402</td>\n",
       "    </tr>\n",
       "    <tr>\n",
       "      <th>hour_sin</th>\n",
       "      <td>0.370829</td>\n",
       "    </tr>\n",
       "    <tr>\n",
       "      <th>hour_cos</th>\n",
       "      <td>0.151438</td>\n",
       "    </tr>\n",
       "  </tbody>\n",
       "</table>\n",
       "</div>"
      ],
      "text/plain": [
       "                    0\n",
       "wind_chill   0.096100\n",
       "rel_hum_     0.036717\n",
       "rain         0.043610\n",
       "snow         0.040248\n",
       "is_holiday   0.059209\n",
       "weekday_sin  0.155447\n",
       "weekday_cos  0.046402\n",
       "hour_sin     0.370829\n",
       "hour_cos     0.151438"
      ]
     },
     "execution_count": 46,
     "metadata": {},
     "output_type": "execute_result"
    }
   ],
   "source": [
    "# Feature importance\n",
    "pd.DataFrame(data=clf1.feature_importances_,\n",
    "            index=features6_train.columns)"
   ]
  },
  {
   "cell_type": "markdown",
   "metadata": {},
   "source": [
    "## XGBoost and Grid Search "
   ]
  },
  {
   "cell_type": "code",
   "execution_count": 234,
   "metadata": {},
   "outputs": [],
   "source": [
    "xg_reg = xgb.XGBRegressor(objective='reg:squarederror')"
   ]
  },
  {
   "cell_type": "code",
   "execution_count": 235,
   "metadata": {},
   "outputs": [],
   "source": [
    "param_grid = {'max_depth': np.linspace(5,9,5, dtype=int),\n",
    "              'learning_rate': np.linspace(0.001,0.05, 3),\n",
    "              'n_estimators': np.linspace(250, 750, 3, dtype=int),\n",
    "              'subsample': [0.6, 0.8, 1],\n",
    "              'colsample_bytree': [0.6, 0.8, 1]}"
   ]
  },
  {
   "cell_type": "code",
   "execution_count": 236,
   "metadata": {},
   "outputs": [],
   "source": [
    "gs = GridSearchCV(estimator=xg_reg,\n",
    "                  param_grid=param_grid,\n",
    "                  verbose=1,\n",
    "                  n_jobs=-1,\n",
    "                  scoring='neg_mean_squared_error',\n",
    "                  cv=5)"
   ]
  },
  {
   "cell_type": "code",
   "execution_count": 237,
   "metadata": {},
   "outputs": [
    {
     "name": "stdout",
     "output_type": "stream",
     "text": [
      "Fitting 5 folds for each of 405 candidates, totalling 2025 fits\n"
     ]
    },
    {
     "name": "stderr",
     "output_type": "stream",
     "text": [
      "[Parallel(n_jobs=-1)]: Using backend LokyBackend with 8 concurrent workers.\n",
      "[Parallel(n_jobs=-1)]: Done  34 tasks      | elapsed:    9.0s\n",
      "[Parallel(n_jobs=-1)]: Done 184 tasks      | elapsed:   58.9s\n",
      "[Parallel(n_jobs=-1)]: Done 434 tasks      | elapsed:  2.6min\n",
      "[Parallel(n_jobs=-1)]: Done 784 tasks      | elapsed:  4.6min\n",
      "[Parallel(n_jobs=-1)]: Done 1234 tasks      | elapsed:  7.7min\n",
      "[Parallel(n_jobs=-1)]: Done 1784 tasks      | elapsed: 12.3min\n",
      "[Parallel(n_jobs=-1)]: Done 2025 out of 2025 | elapsed: 14.7min finished\n"
     ]
    },
    {
     "data": {
      "text/plain": [
       "GridSearchCV(cv=5, error_score=nan,\n",
       "             estimator=XGBRegressor(base_score=0.5, booster='gbtree',\n",
       "                                    colsample_bylevel=1, colsample_bynode=1,\n",
       "                                    colsample_bytree=1, gamma=0,\n",
       "                                    importance_type='gain', learning_rate=0.1,\n",
       "                                    max_delta_step=0, max_depth=3,\n",
       "                                    min_child_weight=1, missing=None,\n",
       "                                    n_estimators=100, n_jobs=1, nthread=None,\n",
       "                                    objective='reg:squarederror',\n",
       "                                    random_state=0, reg_alpha=...\n",
       "                                    scale_pos_weight=1, seed=None, silent=None,\n",
       "                                    subsample=1, verbosity=1),\n",
       "             iid='deprecated', n_jobs=-1,\n",
       "             param_grid={'colsample_bytree': [0.6, 0.8, 1],\n",
       "                         'learning_rate': array([0.001 , 0.0255, 0.05  ]),\n",
       "                         'max_depth': array([5, 6, 7, 8, 9]),\n",
       "                         'n_estimators': array([250, 500, 750]),\n",
       "                         'subsample': [0.6, 0.8, 1]},\n",
       "             pre_dispatch='2*n_jobs', refit=True, return_train_score=False,\n",
       "             scoring='neg_mean_squared_error', verbose=1)"
      ]
     },
     "execution_count": 237,
     "metadata": {},
     "output_type": "execute_result"
    }
   ],
   "source": [
    "gs.fit(features_train, target_train)"
   ]
  },
  {
   "cell_type": "code",
   "execution_count": 238,
   "metadata": {},
   "outputs": [
    {
     "data": {
      "text/plain": [
       "-12.87382871111979"
      ]
     },
     "execution_count": 238,
     "metadata": {},
     "output_type": "execute_result"
    }
   ],
   "source": [
    "gs.best_score_"
   ]
  },
  {
   "cell_type": "code",
   "execution_count": 239,
   "metadata": {
    "colab": {
     "base_uri": "https://localhost:8080/",
     "height": 34
    },
    "colab_type": "code",
    "id": "LFRSx-TI5yU4",
    "outputId": "e2cc3d0e-df4f-4d3b-b0ef-6db1078cf812"
   },
   "outputs": [
    {
     "data": {
      "text/plain": [
       "0.84"
      ]
     },
     "execution_count": 239,
     "metadata": {},
     "output_type": "execute_result"
    }
   ],
   "source": [
    "#Use the best model for prediction on training set and get metric\n",
    "r2_score(target_train, gs.predict(features_train)).round(2)"
   ]
  },
  {
   "cell_type": "code",
   "execution_count": 243,
   "metadata": {
    "colab": {
     "base_uri": "https://localhost:8080/",
     "height": 34
    },
    "colab_type": "code",
    "id": "03kauyXg5yU6",
    "outputId": "95f66974-0cdc-4b78-95b8-e0e104f5dcff"
   },
   "outputs": [
    {
     "data": {
      "text/plain": [
       "0.68"
      ]
     },
     "execution_count": 243,
     "metadata": {},
     "output_type": "execute_result"
    }
   ],
   "source": [
    "#Use the best model for prediction on test set and get metric\n",
    "r2_score(target_test, gs.predict(features_test)).round(2)"
   ]
  },
  {
   "cell_type": "markdown",
   "metadata": {},
   "source": [
    "# Discussion "
   ]
  },
  {
   "cell_type": "markdown",
   "metadata": {
    "colab_type": "text",
    "id": "6i9O0OvHKu-s"
   },
   "source": [
    "After reviewing the results, we can evidence that indeed modeling rate of change dependent of time as a cyclic variable helps us predict with certain accuracy its behavior.\n",
    "\n",
    "Nevertheless, we must consider de following for **future work**\n",
    "\n",
    "* Even with the data at hand, the model could be improved applying a more rigorous hyperparameter optimization, which is key in stochastic algorithms. Or another alternative could be to model the demand as time series using models such as ARIMA or SARIMA and compare its performance.\n",
    "\n",
    "* To improve model metrics, we could also think of adding data from previous and following years to the model, specifically to provide more yearly seasonality information to the model, this might reduce variance.\n",
    "\n",
    "* The model is in early stages of development, to reduce model variance (overfitting) there are some solutions to be tested: restrict complexity using hyperparameters (although this was carried out) and get more data to improve generalization capability.\n",
    "\n",
    "* Using the real-time station status data available through the API, one could instantly assess model performance using real data.\n"
   ]
  },
  {
   "cell_type": "markdown",
   "metadata": {
    "colab_type": "text",
    "id": "UDfmx_nrMIC5"
   },
   "source": [
    "### Evaluating predictions for months of high demand\n",
    "\n",
    "We will compare the predictions for June, July and August into a timeline with the real data to review overall model performance."
   ]
  },
  {
   "cell_type": "code",
   "execution_count": 17,
   "metadata": {
    "colab": {},
    "colab_type": "code",
    "id": "PS-aE7diMR0w"
   },
   "outputs": [],
   "source": [
    "#Set the time range\n",
    "init_day = 152  #Jun 1st\n",
    "final_day = 243  #Aug 31st\n",
    "\n",
    "#Real data\n",
    "real_y = y.rate_of_change[(union_df.dayofyear >= init_day) & \n",
    "                       (union_df.dayofyear <= final_day)]\n",
    "\n",
    "#Calculate predictions\n",
    "X_subset = X[(union_df.dayofyear >= init_day) & \n",
    "                       (union_df.dayofyear <= final_day)]\n",
    "\n",
    "predic_y = grid_search.predict(X_subset)"
   ]
  },
  {
   "cell_type": "code",
   "execution_count": 18,
   "metadata": {
    "colab": {
     "base_uri": "https://localhost:8080/",
     "height": 367
    },
    "colab_type": "code",
    "id": "qN__Fb_BOztq",
    "outputId": "b10aa1bd-acaa-4452-d7ce-216df6850edf"
   },
   "outputs": [
    {
     "data": {
      "text/plain": [
       "<function matplotlib.pyplot.show(*args, **kw)>"
      ]
     },
     "execution_count": 18,
     "metadata": {},
     "output_type": "execute_result"
    },
    {
     "data": {
      "image/png": "[encoded data removed]",
      "text/plain": [
       "<Figure size 1080x360 with 1 Axes>"
      ]
     },
     "metadata": {
      "needs_background": "light"
     },
     "output_type": "display_data"
    }
   ],
   "source": [
    "#Get the indices of the data points\n",
    "x_values = union_df.index[(union_df.dayofyear >= init_day) & (union_df.dayofyear <= final_day)]\n",
    "\n",
    "#Plot\n",
    "fig, axes= plt.subplots(nrows=1, ncols=1,figsize=(15,5))\n",
    "\n",
    "#Plot difference between real and predicted value\n",
    "plt.plot(x_values, real_y- predic_y, c='black')\n",
    "plt.xlabel('Data indices (hours) from June 1st to Aug 31st')\n",
    "plt.ylabel('Delta rate of change (real -  prediction)')\n",
    "plt.title('Difference between real rate of change and predicted rate of change')\n",
    "plt.show"
   ]
  },
  {
   "cell_type": "markdown",
   "metadata": {
    "colab_type": "text",
    "id": "zmD-u8aDFFmk"
   },
   "source": [
    "### Final remarks\n",
    "\n",
    "* The most important factor for prediction is the hour of the day, both on the cosine and sine components. The dayofyear and weekday also have some influence, mainly on their sine component, since these are the variables that provide information about weekly and yearly seasonality.\n",
    "\n",
    "* In terms of prediction for months of high demand, the model seems to do a good job on most days, in which the difference between the real value and prediction are close to zero and between the $[-5,5]$ range, with a capacity of 26 bikes, this error might be acceptable (depending on the hour of the day). However, several peak points in the difference are still present, it's important identify explanatory variables for those peaks in order to improve model performance.\n",
    "\n",
    "* This model could be used for predicting the performance of other stations aswell since the data is already clean and prepared for the analysis.\n"
   ]
  },
  {
   "cell_type": "code",
   "execution_count": null,
   "metadata": {},
   "outputs": [],
   "source": []
  }
 ],
 "metadata": {
  "kernelspec": {
   "display_name": "Python 3",
   "language": "python",
   "name": "python3"
  },
  "language_info": {
   "codemirror_mode": {
    "name": "ipython",
    "version": 3
   },
   "file_extension": ".py",
   "mimetype": "text/x-python",
   "name": "python",
   "nbconvert_exporter": "python",
   "pygments_lexer": "ipython3",
   "version": "3.7.5"
  }
 },
 "nbformat": 4,
 "nbformat_minor": 2
}
