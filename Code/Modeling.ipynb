{
 "cells": [
  {
   "cell_type": "markdown",
   "metadata": {},
   "source": [
    "# Modeling"
   ]
  },
  {
   "cell_type": "code",
   "execution_count": 1,
   "metadata": {},
   "outputs": [],
   "source": [
    "from sklearn.linear_model import LinearRegression, Ridge, Lasso\n",
    "from sklearn.ensemble import RandomForestRegressor\n",
    "from sklearn.preprocessing import StandardScaler\n",
    "from sklearn.svm import SVR\n",
    "from sklearn.model_selection import train_test_split, GridSearchCV\n",
    "from sklearn.pipeline import Pipeline\n",
    "from sklearn.metrics import r2_score, mean_squared_error\n",
    "from sklearn.impute import SimpleImputer\n"
   ]
  },
  {
   "cell_type": "code",
   "execution_count": null,
   "metadata": {},
   "outputs": [],
   "source": []
  },
  {
   "cell_type": "code",
   "execution_count": 3,
   "metadata": {},
   "outputs": [
    {
     "ename": "ModuleNotFoundError",
     "evalue": "No module named 'fuzzywuzzy'",
     "output_type": "error",
     "traceback": [
      "\u001b[1;31m---------------------------------------------------------------------------\u001b[0m",
      "\u001b[1;31mModuleNotFoundError\u001b[0m                       Traceback (most recent call last)",
      "\u001b[1;32m<ipython-input-3-8d8a7fd5f3e4>\u001b[0m in \u001b[0;36m<module>\u001b[1;34m\u001b[0m\n\u001b[1;32m----> 1\u001b[1;33m \u001b[1;32mimport\u001b[0m \u001b[0mfuzzywuzzy\u001b[0m\u001b[1;33m\u001b[0m\u001b[1;33m\u001b[0m\u001b[0m\n\u001b[0m",
      "\u001b[1;31mModuleNotFoundError\u001b[0m: No module named 'fuzzywuzzy'"
     ]
    }
   ],
   "source": [
    "import fuzzywuzzy"
   ]
  },
  {
   "cell_type": "markdown",
   "metadata": {
    "colab_type": "text",
    "id": "j4OIHxnRY4gG"
   },
   "source": [
    "## Feature engineering for time variables\n",
    "\n",
    "Now that we have our time variables as we wanted and the trip counts for each one of those time periods, we need to make sure that our cyclical variables, namely dayofyear, weekday and hour, will preserve the cyclical characteristics of months, days and weeks, this is to say that the first day of the week is close to the last day of the following week. [LINK](http://blog.davidkaleko.com/feature-engineering-cyclical-features.html)\n",
    "\n",
    "This transformation is explained in the following picture:\n",
    "\n",
    "![alt text](http://blog.davidkaleko.com/images/unit_circle.png)\n"
   ]
  },
  {
   "cell_type": "code",
   "execution_count": 0,
   "metadata": {
    "colab": {
     "base_uri": "https://localhost:8080/",
     "height": 217
    },
    "colab_type": "code",
    "id": "9s2tqTbGWeuN",
    "outputId": "0c5ba539-1932-45cc-b63d-4611d3500412"
   },
   "outputs": [
    {
     "data": {
      "text/html": [
       "<div>\n",
       "<style scoped>\n",
       "    .dataframe tbody tr th:only-of-type {\n",
       "        vertical-align: middle;\n",
       "    }\n",
       "\n",
       "    .dataframe tbody tr th {\n",
       "        vertical-align: top;\n",
       "    }\n",
       "\n",
       "    .dataframe thead th {\n",
       "        text-align: right;\n",
       "    }\n",
       "</style>\n",
       "<table border=\"1\" class=\"dataframe\">\n",
       "  <thead>\n",
       "    <tr style=\"text-align: right;\">\n",
       "      <th></th>\n",
       "      <th>dayofyear</th>\n",
       "      <th>weekday</th>\n",
       "      <th>hour</th>\n",
       "      <th>count_trips_orig</th>\n",
       "      <th>count_trips_dest</th>\n",
       "      <th>rate_of_change</th>\n",
       "      <th>dayofyear_sin</th>\n",
       "      <th>dayofyear_cos</th>\n",
       "      <th>weekday_sin</th>\n",
       "      <th>weekday_cos</th>\n",
       "      <th>hour_sin</th>\n",
       "      <th>hour_cos</th>\n",
       "    </tr>\n",
       "  </thead>\n",
       "  <tbody>\n",
       "    <tr>\n",
       "      <th>0</th>\n",
       "      <td>0</td>\n",
       "      <td>6</td>\n",
       "      <td>0</td>\n",
       "      <td>0.0</td>\n",
       "      <td>2.0</td>\n",
       "      <td>-2.0</td>\n",
       "      <td>0.0</td>\n",
       "      <td>1.0</td>\n",
       "      <td>-0.781831</td>\n",
       "      <td>0.62349</td>\n",
       "      <td>0.000000</td>\n",
       "      <td>1.000000</td>\n",
       "    </tr>\n",
       "    <tr>\n",
       "      <th>1</th>\n",
       "      <td>0</td>\n",
       "      <td>6</td>\n",
       "      <td>1</td>\n",
       "      <td>1.0</td>\n",
       "      <td>0.0</td>\n",
       "      <td>1.0</td>\n",
       "      <td>0.0</td>\n",
       "      <td>1.0</td>\n",
       "      <td>-0.781831</td>\n",
       "      <td>0.62349</td>\n",
       "      <td>0.258819</td>\n",
       "      <td>0.965926</td>\n",
       "    </tr>\n",
       "    <tr>\n",
       "      <th>2</th>\n",
       "      <td>0</td>\n",
       "      <td>6</td>\n",
       "      <td>2</td>\n",
       "      <td>2.0</td>\n",
       "      <td>0.0</td>\n",
       "      <td>2.0</td>\n",
       "      <td>0.0</td>\n",
       "      <td>1.0</td>\n",
       "      <td>-0.781831</td>\n",
       "      <td>0.62349</td>\n",
       "      <td>0.500000</td>\n",
       "      <td>0.866025</td>\n",
       "    </tr>\n",
       "    <tr>\n",
       "      <th>3</th>\n",
       "      <td>0</td>\n",
       "      <td>6</td>\n",
       "      <td>3</td>\n",
       "      <td>1.0</td>\n",
       "      <td>0.0</td>\n",
       "      <td>1.0</td>\n",
       "      <td>0.0</td>\n",
       "      <td>1.0</td>\n",
       "      <td>-0.781831</td>\n",
       "      <td>0.62349</td>\n",
       "      <td>0.707107</td>\n",
       "      <td>0.707107</td>\n",
       "    </tr>\n",
       "    <tr>\n",
       "      <th>4</th>\n",
       "      <td>0</td>\n",
       "      <td>6</td>\n",
       "      <td>4</td>\n",
       "      <td>0.0</td>\n",
       "      <td>1.0</td>\n",
       "      <td>-1.0</td>\n",
       "      <td>0.0</td>\n",
       "      <td>1.0</td>\n",
       "      <td>-0.781831</td>\n",
       "      <td>0.62349</td>\n",
       "      <td>0.866025</td>\n",
       "      <td>0.500000</td>\n",
       "    </tr>\n",
       "  </tbody>\n",
       "</table>\n",
       "</div>"
      ],
      "text/plain": [
       "   dayofyear  weekday  hour  ...  weekday_cos  hour_sin  hour_cos\n",
       "0          0        6     0  ...      0.62349  0.000000  1.000000\n",
       "1          0        6     1  ...      0.62349  0.258819  0.965926\n",
       "2          0        6     2  ...      0.62349  0.500000  0.866025\n",
       "3          0        6     3  ...      0.62349  0.707107  0.707107\n",
       "4          0        6     4  ...      0.62349  0.866025  0.500000\n",
       "\n",
       "[5 rows x 12 columns]"
      ]
     },
     "execution_count": 110,
     "metadata": {
      "tags": []
     },
     "output_type": "execute_result"
    }
   ],
   "source": [
    "# Transform the three time variables into cyclical variables using sine and cosine\n",
    "\n",
    "counts_union['dayofyear_sin'] = np.sin(counts_union.dayofyear*(2.*np.pi/365))\n",
    "counts_union['dayofyear_cos'] = np.cos(counts_union.dayofyear*(2.*np.pi/365))\n",
    "counts_union['weekday_sin'] = np.sin(counts_union.weekday*(2.*np.pi/7))\n",
    "counts_union['weekday_cos'] = np.cos(counts_union.weekday*(2.*np.pi/7))\n",
    "counts_union['hour_sin'] = np.sin(counts_union.hour*(2.*np.pi/24))\n",
    "counts_union['hour_cos'] = np.cos(counts_union.hour*(2.*np.pi/24))\n",
    "\n",
    "#Preview\n",
    "counts_union.head()"
   ]
  },
  {
   "cell_type": "markdown",
   "metadata": {
    "colab_type": "text",
    "id": "qvlm9XcMdz7N"
   },
   "source": [
    "Here we can evidence that by virtue of sines and cosines, hours will be arranged in a cyclical manner so the model can obtain this information in order to process data correctly."
   ]
  },
  {
   "cell_type": "markdown",
   "metadata": {
    "colab_type": "text",
    "id": "tdYRxpFff0V6"
   },
   "source": [
    "## Modeling using Random Forest"
   ]
  },
  {
   "cell_type": "markdown",
   "metadata": {
    "colab_type": "text",
    "id": "HaUtCNhU7XDU"
   },
   "source": [
    "Now let's use our previous dataset `counts_union` to model the rate of change in Union Station using a non-linear regression model, for this case and as a first approach we will be using Random Forest to model the regression, however, further modeling iterations must be carried out."
   ]
  },
  {
   "cell_type": "code",
   "execution_count": 0,
   "metadata": {
    "colab": {
     "base_uri": "https://localhost:8080/",
     "height": 127
    },
    "colab_type": "code",
    "id": "2M3JRH5EXyOJ",
    "outputId": "84f65dca-df20-4860-d3b0-ab6e5208616d"
   },
   "outputs": [
    {
     "data": {
      "text/html": [
       "<div>\n",
       "<style scoped>\n",
       "    .dataframe tbody tr th:only-of-type {\n",
       "        vertical-align: middle;\n",
       "    }\n",
       "\n",
       "    .dataframe tbody tr th {\n",
       "        vertical-align: top;\n",
       "    }\n",
       "\n",
       "    .dataframe thead th {\n",
       "        text-align: right;\n",
       "    }\n",
       "</style>\n",
       "<table border=\"1\" class=\"dataframe\">\n",
       "  <thead>\n",
       "    <tr style=\"text-align: right;\">\n",
       "      <th></th>\n",
       "      <th>dayofyear</th>\n",
       "      <th>weekday</th>\n",
       "      <th>hour</th>\n",
       "      <th>count_trips_orig</th>\n",
       "      <th>count_trips_dest</th>\n",
       "      <th>rate_of_change</th>\n",
       "      <th>dayofyear_sin</th>\n",
       "      <th>dayofyear_cos</th>\n",
       "      <th>weekday_sin</th>\n",
       "      <th>weekday_cos</th>\n",
       "      <th>hour_sin</th>\n",
       "      <th>hour_cos</th>\n",
       "    </tr>\n",
       "  </thead>\n",
       "  <tbody>\n",
       "    <tr>\n",
       "      <th>0</th>\n",
       "      <td>0</td>\n",
       "      <td>6</td>\n",
       "      <td>0</td>\n",
       "      <td>0.0</td>\n",
       "      <td>2.0</td>\n",
       "      <td>-2.0</td>\n",
       "      <td>0.0</td>\n",
       "      <td>1.0</td>\n",
       "      <td>-0.781831</td>\n",
       "      <td>0.62349</td>\n",
       "      <td>0.000000</td>\n",
       "      <td>1.000000</td>\n",
       "    </tr>\n",
       "    <tr>\n",
       "      <th>1</th>\n",
       "      <td>0</td>\n",
       "      <td>6</td>\n",
       "      <td>1</td>\n",
       "      <td>1.0</td>\n",
       "      <td>0.0</td>\n",
       "      <td>1.0</td>\n",
       "      <td>0.0</td>\n",
       "      <td>1.0</td>\n",
       "      <td>-0.781831</td>\n",
       "      <td>0.62349</td>\n",
       "      <td>0.258819</td>\n",
       "      <td>0.965926</td>\n",
       "    </tr>\n",
       "  </tbody>\n",
       "</table>\n",
       "</div>"
      ],
      "text/plain": [
       "   dayofyear  weekday  hour  ...  weekday_cos  hour_sin  hour_cos\n",
       "0          0        6     0  ...      0.62349  0.000000  1.000000\n",
       "1          0        6     1  ...      0.62349  0.258819  0.965926\n",
       "\n",
       "[2 rows x 12 columns]"
      ]
     },
     "execution_count": 111,
     "metadata": {
      "tags": []
     },
     "output_type": "execute_result"
    }
   ],
   "source": [
    "#Sneak peak\n",
    "counts_union.head(2)"
   ]
  },
  {
   "cell_type": "markdown",
   "metadata": {
    "colab_type": "text",
    "id": "w1vN9-RE7XDY"
   },
   "source": [
    "Now let's subset our dataset for modeling by including only the variables we need. For this case our model will be only time-dependent as since it's modeled as a cyclical process, we expect that this data could account for seasonal variables such as the temperature and precipitation.\n",
    "\n",
    "Nevertheless, future stages of development could include other predictors such as ``is_holiday``, `mean_temperature`, `humidity`, `mean_windspeed`, `casual_rides`, `member_rides`, ``is_event_date``, among many others."
   ]
  },
  {
   "cell_type": "code",
   "execution_count": 0,
   "metadata": {
    "colab": {},
    "colab_type": "code",
    "id": "TCFMHUTX7XDZ"
   },
   "outputs": [],
   "source": [
    "# Set the variables\n",
    "X = counts_union[['dayofyear_sin', 'dayofyear_cos', 'weekday_sin', 'weekday_cos','hour_sin', 'hour_cos']]\n",
    "y= counts_union[['rate_of_change']]"
   ]
  },
  {
   "cell_type": "markdown",
   "metadata": {
    "colab_type": "text",
    "id": "dvd8g2a5AggG"
   },
   "source": [
    "Split the dataset into training and test set for Cross validation and hyper parameters optimization"
   ]
  },
  {
   "cell_type": "code",
   "execution_count": 0,
   "metadata": {
    "colab": {},
    "colab_type": "code",
    "id": "g3I-uLmfadtY"
   },
   "outputs": [],
   "source": [
    "X_train, X_test, y_train, y_test = train_test_split(X, y, test_size=0.2, random_state=100)"
   ]
  },
  {
   "cell_type": "markdown",
   "metadata": {
    "colab_type": "text",
    "id": "1KN7MPn4Anda"
   },
   "source": [
    "Now we will use ``GridSearchCV`` for evaluating a combination of hyperparameters that were previously explored. This GridSearch is already focused on a specific area of the hyperspace of parameters that was detected manually by exploring the training and cross validation $R^{2}$ one by one. These sets of parameters given should provide one optimal model derived from this data. "
   ]
  },
  {
   "cell_type": "code",
   "execution_count": 0,
   "metadata": {
    "colab": {
     "base_uri": "https://localhost:8080/",
     "height": 638
    },
    "colab_type": "code",
    "id": "6FrVw7G6adtc",
    "outputId": "dcd5be36-313a-4f59-94d5-07a746d26686"
   },
   "outputs": [
    {
     "name": "stdout",
     "output_type": "stream",
     "text": [
      "Fitting 5 folds for each of 500 candidates, totalling 2500 fits\n"
     ]
    },
    {
     "name": "stderr",
     "output_type": "stream",
     "text": [
      "[Parallel(n_jobs=-1)]: Using backend LokyBackend with 2 concurrent workers.\n",
      "[Parallel(n_jobs=-1)]: Done  37 tasks      | elapsed:    3.7s\n",
      "[Parallel(n_jobs=-1)]: Done 279 tasks      | elapsed:   17.4s\n",
      "[Parallel(n_jobs=-1)]: Done 685 tasks      | elapsed:   46.2s\n",
      "[Parallel(n_jobs=-1)]: Done 1251 tasks      | elapsed:  1.7min\n",
      "[Parallel(n_jobs=-1)]: Done 1981 tasks      | elapsed:  3.5min\n",
      "[Parallel(n_jobs=-1)]: Done 2497 out of 2500 | elapsed:  5.2min remaining:    0.4s\n",
      "[Parallel(n_jobs=-1)]: Done 2500 out of 2500 | elapsed:  5.2min finished\n"
     ]
    },
    {
     "data": {
      "text/plain": [
       "GridSearchCV(cv=5, error_score='raise-deprecating',\n",
       "             estimator=Pipeline(memory=None,\n",
       "                                steps=[('scaler',\n",
       "                                        StandardScaler(copy=True,\n",
       "                                                       with_mean=True,\n",
       "                                                       with_std=True)),\n",
       "                                       ('rf',\n",
       "                                        RandomForestRegressor(bootstrap=True,\n",
       "                                                              criterion='mse',\n",
       "                                                              max_depth=None,\n",
       "                                                              max_features=4,\n",
       "                                                              max_leaf_nodes=None,\n",
       "                                                              min_impurity_decrease=0.0,\n",
       "                                                              min_impurity_split=None,\n",
       "                                                              min_samples_leaf=1,\n",
       "                                                              min_samples_split=...\n",
       "                                                              verbose=0,\n",
       "                                                              warm_start=False))],\n",
       "                                verbose=False),\n",
       "             iid='warn', n_jobs=-1,\n",
       "             param_grid=[{'rf__max_depth': array([ 1,  3,  5,  7, 10]),\n",
       "                          'rf__min_samples_leaf': array([ 1,  4,  7, 10]),\n",
       "                          'rf__min_samples_split': array([0.0001  , 0.000325, 0.00055 , 0.000775, 0.001   ]),\n",
       "                          'rf__n_estimators': array([30, 40, 50, 60, 70])}],\n",
       "             pre_dispatch='2*n_jobs', refit=True, return_train_score=True,\n",
       "             scoring='r2', verbose=2)"
      ]
     },
     "execution_count": 119,
     "metadata": {
      "tags": []
     },
     "output_type": "execute_result"
    }
   ],
   "source": [
    "#Create pipeline\n",
    "pipe = Pipeline([('scaler', StandardScaler()), \n",
    "                 ('rf', RandomForestRegressor(random_state=100, max_features=4))])\n",
    "\n",
    "#Create params grid\n",
    "params_list = [{'rf__n_estimators': np.linspace(30, 70, 5, endpoint=True, dtype=int),\n",
    "                'rf__max_depth' : np.linspace(1, 10, 5, endpoint=True, dtype=int),\n",
    "                'rf__min_samples_split': np.linspace(0.0001, 0.001, 5, endpoint=True),\n",
    "                'rf__min_samples_leaf': np.linspace(1, 10, 4, endpoint=True, dtype=int),\n",
    "               }]\n",
    "\n",
    "# Perform grid search\n",
    "grid_search = GridSearchCV(estimator=pipe, \n",
    "                           param_grid=params_list, \n",
    "                           cv=5, \n",
    "                           scoring='r2',\n",
    "                          verbose=2,\n",
    "                          n_jobs=-1,\n",
    "                          return_train_score=True)\n",
    "  \n",
    "grid_search.fit(X_train, y_train)"
   ]
  },
  {
   "cell_type": "markdown",
   "metadata": {
    "colab_type": "text",
    "id": "WSUaNm3OBq2O"
   },
   "source": [
    "First let's get the subset of optimal parameters obtained by the ``GridSearchCV`` algorithm and its score."
   ]
  },
  {
   "cell_type": "code",
   "execution_count": 0,
   "metadata": {
    "colab": {
     "base_uri": "https://localhost:8080/",
     "height": 87
    },
    "colab_type": "code",
    "id": "UdrnCXwN5yUx",
    "outputId": "a4c78015-72e7-400a-ea1c-ab4452b18486"
   },
   "outputs": [
    {
     "data": {
      "text/plain": [
       "{'rf__max_depth': 10,\n",
       " 'rf__min_samples_leaf': 7,\n",
       " 'rf__min_samples_split': 0.0001,\n",
       " 'rf__n_estimators': 70}"
      ]
     },
     "execution_count": 120,
     "metadata": {
      "tags": []
     },
     "output_type": "execute_result"
    }
   ],
   "source": [
    "#Get best params\n",
    "grid_search.best_params_"
   ]
  },
  {
   "cell_type": "code",
   "execution_count": 0,
   "metadata": {
    "colab": {
     "base_uri": "https://localhost:8080/",
     "height": 34
    },
    "colab_type": "code",
    "id": "VoJAlIjt5yU1",
    "outputId": "671dd5eb-8606-437b-fdc7-5913e8a52dd3"
   },
   "outputs": [
    {
     "data": {
      "text/plain": [
       "0.69"
      ]
     },
     "execution_count": 139,
     "metadata": {
      "tags": []
     },
     "output_type": "execute_result"
    }
   ],
   "source": [
    "#Get best score\n",
    "grid_search.best_score_.round(2)"
   ]
  },
  {
   "cell_type": "markdown",
   "metadata": {
    "colab_type": "text",
    "id": "U0QiRC2NB1tr"
   },
   "source": [
    "For this case we have chosen $R^{2}$ as the metric for model selection (as seen before). Hence, we will evaluate the results obtained with this metric for both training and test set."
   ]
  },
  {
   "cell_type": "code",
   "execution_count": 0,
   "metadata": {
    "colab": {
     "base_uri": "https://localhost:8080/",
     "height": 34
    },
    "colab_type": "code",
    "id": "LFRSx-TI5yU4",
    "outputId": "e2cc3d0e-df4f-4d3b-b0ef-6db1078cf812"
   },
   "outputs": [
    {
     "data": {
      "text/plain": [
       "0.77"
      ]
     },
     "execution_count": 137,
     "metadata": {
      "tags": []
     },
     "output_type": "execute_result"
    }
   ],
   "source": [
    "#Use the best model for prediction on training set and get metric\n",
    "r2_score(y_train, grid_search.predict(X_train)).round(2)"
   ]
  },
  {
   "cell_type": "code",
   "execution_count": 0,
   "metadata": {
    "colab": {
     "base_uri": "https://localhost:8080/",
     "height": 34
    },
    "colab_type": "code",
    "id": "03kauyXg5yU6",
    "outputId": "95f66974-0cdc-4b78-95b8-e0e104f5dcff"
   },
   "outputs": [
    {
     "data": {
      "text/plain": [
       "0.7"
      ]
     },
     "execution_count": 138,
     "metadata": {
      "tags": []
     },
     "output_type": "execute_result"
    }
   ],
   "source": [
    "#Use the best model for prediction on test set and get metric\n",
    "r2_score(y_test, grid_search.predict(X_test)).round(2)"
   ]
  },
  {
   "cell_type": "code",
   "execution_count": 0,
   "metadata": {
    "colab": {
     "base_uri": "https://localhost:8080/",
     "height": 227
    },
    "colab_type": "code",
    "id": "8QE_53hy5yU9",
    "outputId": "a7ff3974-66a5-4f2a-a548-ea03fa435d24"
   },
   "outputs": [
    {
     "data": {
      "text/html": [
       "<div>\n",
       "<style scoped>\n",
       "    .dataframe tbody tr th:only-of-type {\n",
       "        vertical-align: middle;\n",
       "    }\n",
       "\n",
       "    .dataframe tbody tr th {\n",
       "        vertical-align: top;\n",
       "    }\n",
       "\n",
       "    .dataframe thead th {\n",
       "        text-align: right;\n",
       "    }\n",
       "</style>\n",
       "<table border=\"1\" class=\"dataframe\">\n",
       "  <thead>\n",
       "    <tr style=\"text-align: right;\">\n",
       "      <th></th>\n",
       "      <th>0</th>\n",
       "    </tr>\n",
       "  </thead>\n",
       "  <tbody>\n",
       "    <tr>\n",
       "      <th>dayofyear_sin</th>\n",
       "      <td>0.241934</td>\n",
       "    </tr>\n",
       "    <tr>\n",
       "      <th>dayofyear_cos</th>\n",
       "      <td>0.077818</td>\n",
       "    </tr>\n",
       "    <tr>\n",
       "      <th>weekday_sin</th>\n",
       "      <td>0.136558</td>\n",
       "    </tr>\n",
       "    <tr>\n",
       "      <th>weekday_cos</th>\n",
       "      <td>0.011994</td>\n",
       "    </tr>\n",
       "    <tr>\n",
       "      <th>hour_sin</th>\n",
       "      <td>0.299072</td>\n",
       "    </tr>\n",
       "    <tr>\n",
       "      <th>hour_cos</th>\n",
       "      <td>0.232625</td>\n",
       "    </tr>\n",
       "  </tbody>\n",
       "</table>\n",
       "</div>"
      ],
      "text/plain": [
       "                      0\n",
       "dayofyear_sin  0.241934\n",
       "dayofyear_cos  0.077818\n",
       "weekday_sin    0.136558\n",
       "weekday_cos    0.011994\n",
       "hour_sin       0.299072\n",
       "hour_cos       0.232625"
      ]
     },
     "execution_count": 124,
     "metadata": {
      "tags": []
     },
     "output_type": "execute_result"
    }
   ],
   "source": [
    "# Feature importance for time series data\n",
    "pd.DataFrame(data=grid_search.best_estimator_.named_steps['rf'].feature_importances_,\n",
    "            index=X_train.columns)"
   ]
  },
  {
   "cell_type": "markdown",
   "metadata": {
    "colab_type": "text",
    "id": "6i9O0OvHKu-s"
   },
   "source": [
    "After reviewing the results, we can evidence that indeed modeling rate of change dependent of time as a cyclic variable helps us predict with certain accuracy its behavior.\n",
    "\n",
    "Nevertheless, we must consider de following for **future work**\n",
    "\n",
    "* Even with the data at hand, the model could be improved applying a more rigorous hyperparameter optimization, which is key in stochastic algorithms. Or another alternative could be to model the demand as time series using models such as ARIMA or SARIMA and compare its performance.\n",
    "\n",
    "* To improve model metrics, we could also think of adding data from previous and following years to the model, specifically to provide more yearly seasonality information to the model, this might reduce variance.\n",
    "\n",
    "* The model is in early stages of development, to reduce model variance (overfitting) there are some solutions to be tested: restrict complexity using hyperparameters (although this was carried out) and get more data to improve generalization capability.\n",
    "\n",
    "* Using the real-time station status data available through the API, one could instantly assess model performance using real data.\n"
   ]
  },
  {
   "cell_type": "markdown",
   "metadata": {
    "colab_type": "text",
    "id": "UDfmx_nrMIC5"
   },
   "source": [
    "### Evaluating predictions for months of high demand\n",
    "\n",
    "We will compare the predictions for June, July and August into a timeline with the real data to review overall model performance."
   ]
  },
  {
   "cell_type": "code",
   "execution_count": 0,
   "metadata": {
    "colab": {},
    "colab_type": "code",
    "id": "PS-aE7diMR0w"
   },
   "outputs": [],
   "source": [
    "#Set the time range\n",
    "init_day = 152  #Jun 1st\n",
    "final_day = 243  #Aug 31st\n",
    "\n",
    "#Real data\n",
    "real_y = y.rate_of_change[(counts_union.dayofyear >= init_day) & \n",
    "                       (counts_union.dayofyear <= final_day)]\n",
    "\n",
    "#Calculate predictions\n",
    "X_subset = X[(counts_union.dayofyear >= init_day) & \n",
    "                       (counts_union.dayofyear <= final_day)]\n",
    "\n",
    "predic_y = grid_search.predict(X_subset)"
   ]
  },
  {
   "cell_type": "code",
   "execution_count": 0,
   "metadata": {
    "colab": {
     "base_uri": "https://localhost:8080/",
     "height": 367
    },
    "colab_type": "code",
    "id": "qN__Fb_BOztq",
    "outputId": "b10aa1bd-acaa-4452-d7ce-216df6850edf"
   },
   "outputs": [
    {
     "data": {
      "text/plain": [
       "<function matplotlib.pyplot.show>"
      ]
     },
     "execution_count": 145,
     "metadata": {
      "tags": []
     },
     "output_type": "execute_result"
    },
    {
     "data": {
      "image/png": "[encoded data removed]",
      "text/plain": [
       "<Figure size 1080x360 with 1 Axes>"
      ]
     },
     "metadata": {
      "tags": []
     },
     "output_type": "display_data"
    }
   ],
   "source": [
    "#Get the indices of the data points\n",
    "x_values = counts_union.index[(counts_union.dayofyear >= init_day) & (counts_union.dayofyear <= final_day)]\n",
    "\n",
    "#Plot\n",
    "fig, axes= plt.subplots(nrows=1, ncols=1,figsize=(15,5))\n",
    "\n",
    "#Plot difference between real and predicted value\n",
    "plt.plot(x_values, real_y- predic_y, c='black')\n",
    "plt.xlabel('Data indices (hours) from June 1st to Aug 31st')\n",
    "plt.ylabel('Delta rate of change (real -  prediction)')\n",
    "plt.title('Difference between real rate of change and predicted rate of change')\n",
    "plt.show"
   ]
  },
  {
   "cell_type": "markdown",
   "metadata": {
    "colab_type": "text",
    "id": "zmD-u8aDFFmk"
   },
   "source": [
    "### Final remarks\n",
    "\n",
    "* The most important factor for prediction is the hour of the day, both on the cosine and sine components. The dayofyear and weekday also have some influence, mainly on their sine component, since these are the variables that provide information about weekly and yearly seasonality.\n",
    "\n",
    "* In terms of prediction for months of high demand, the model seems to do a good job on most days, in which the difference between the real value and prediction are close to zero and between the $[-5,5]$ range, with a capacity of 26 bikes, this error might be acceptable (depending on the hour of the day). However, several peak points in the difference are still present, it's important identify explanatory variables for those peaks in order to improve model performance.\n",
    "\n",
    "* This model could be used for predicting the performance of other stations aswell since the data is already clean and prepared for the analysis.\n"
   ]
  },
  {
   "cell_type": "code",
   "execution_count": null,
   "metadata": {},
   "outputs": [],
   "source": []
  }
 ],
 "metadata": {
  "kernelspec": {
   "display_name": "Python 3",
   "language": "python",
   "name": "python3"
  },
  "language_info": {
   "codemirror_mode": {
    "name": "ipython",
    "version": 3
   },
   "file_extension": ".py",
   "mimetype": "text/x-python",
   "name": "python",
   "nbconvert_exporter": "python",
   "pygments_lexer": "ipython3",
   "version": "3.7.4"
  }
 },
 "nbformat": 4,
 "nbformat_minor": 2
}
