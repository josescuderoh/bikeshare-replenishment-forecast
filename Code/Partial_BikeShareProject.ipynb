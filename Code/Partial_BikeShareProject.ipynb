{
  "nbformat": 4,
  "nbformat_minor": 0,
  "metadata": {
    "colab": {
      "name": "Partial_BikeShareProject.ipynb",
      "provenance": [],
      "collapsed_sections": [],
      "toc_visible": true
    },
    "kernelspec": {
      "name": "python3",
      "display_name": "Python 3"
    }
  },
  "cells": [
    {
      "cell_type": "markdown",
      "metadata": {
        "id": "toHgy7z7vOnk",
        "colab_type": "text"
      },
      "source": [
        "# Bike Share Replenishment"
      ]
    },
    {
      "cell_type": "markdown",
      "metadata": {
        "id": "Z41YGz9RdzA5",
        "colab_type": "text"
      },
      "source": [
        "## Introduction\n",
        "\n",
        "Bike Share Toronto was designed to allow users to make short trips around town. The sturdy-framed bikes are available at any docking station in the city. The bikes can be taken from any station and returned to any station in the bike share system. \n",
        "\n",
        "According to the CBC, the project has required more than $ 27.5 million in public funds on service operations since 2014, and more funding is every time on the works. This has drawn several criticisms given the fact that the service is still not profitable for the city and has been **cash flow negative** and losing money for a few years now, according to CBC. Furthermore, several figures demonstrate that the service is not efficient using its resources, one big example of this is the fact that as of Nov. 2018, the service had more than 3.750 bikes for a 1.8 million ridership, a mere 480 rides per bike a year, a little over **one ride per day per bike**. This is even more worrisome today since the service offers 5.000 bikes according to their site, and rumors about service expansion have spread out. Also, and even more important it's been a proof of non-sustainable eco-friendly alternative transportation service. \n",
        "\n",
        "Moving 5.000 bikes around 465 stations throughout Toronto is a major engineering and planning challenge to tackle. Therefore, predicting where, when and how many bikes should be moved from a station to another using their own data would be a major help for their operations department. *This report presents a methodology for modeling the bike demand along with examples of how it could be used for prediction in this system*. It also analyzes more in depth high demand months (June, July and August) and approximates the amount of bikes to be moved using existing data.\n"
      ]
    },
    {
      "cell_type": "markdown",
      "metadata": {
        "id": "jwX36sHOiFWd",
        "colab_type": "text"
      },
      "source": [
        "## Data availability\n",
        "\n",
        "Since **public historical information about station status is not available**, in order to perform this analysis, we rely on different sources of information to approximate the variables of interest.\n",
        "\n",
        "1. Open data for 2017 ridership available [here](https://ckan0.cf.opendata.inter.prod-toronto.ca/download_resource/a1a0ee42-caf5-4395-abbc-58925c7434dd). This data was used to calculate the rate of change (explained below) for all stations.\n",
        "\n",
        "2. Online data for stations general information available through an API [here](https://tor.publicbikesystem.net/ube/gbfs/v1/en/station_information). This was used to update the information from 2017 with information from today regarding station capacity, coordinates, location, name, ID, among others.\n",
        "\n",
        "### Remarks\n",
        "* Historic data for state of stations between 2011 and 2018 is available upon request [here](https://data.cdrc.ac.uk/dataset/toronto-bss), this application process is underway right now to further update the model and analysis.\n",
        "* Real-time data for stations' status (including bikes parked and available spots) available [here](https://tor.publicbikesystem.net/ube/gbfs/v1/en/station_status)\n"
      ]
    },
    {
      "cell_type": "markdown",
      "metadata": {
        "id": "rEVxaaBvvaUZ",
        "colab_type": "text"
      },
      "source": [
        "## Data Cleansing\n",
        "\n",
        "This section explores the preprocessing steps that were carried out to clean the data and generate a dataset with relevant information for exploratory and predictive data analysis.\n",
        "\n",
        "### Known data issues to tackle\n",
        "\n",
        "- Datatime formats do not match accross the dataset.\n",
        "- Station IDs inexistent for Q3 and Q4.\n",
        "- Shifted columns in Q3 and Q4.\n",
        "- Significant number of outliers to deal with.\n",
        "- Some null values.\n"
      ]
    },
    {
      "cell_type": "code",
      "metadata": {
        "id": "3aD662vdveZ9",
        "colab_type": "code",
        "outputId": "e7288713-8292-4b5a-9048-9b5eb93fbe39",
        "colab": {
          "base_uri": "https://localhost:8080/",
          "height": 267
        }
      },
      "source": [
        "# Load all packages\n",
        "import pandas as pd\n",
        "import numpy as np\n",
        "import matplotlib.pyplot as plt\n",
        "import math\n",
        "import warnings\n",
        "from google.colab import drive\n",
        "from datetime import datetime\n",
        "\n",
        "import requests\n",
        "import seaborn as sns\n",
        "import json\n",
        "import os\n",
        "\n",
        "from sklearn.linear_model import LinearRegression, Ridge, Lasso\n",
        "from sklearn.ensemble import RandomForestRegressor\n",
        "from sklearn.preprocessing import StandardScaler\n",
        "from sklearn.svm import SVR\n",
        "from sklearn.model_selection import train_test_split, GridSearchCV\n",
        "from sklearn.pipeline import Pipeline\n",
        "from sklearn.metrics import r2_score, mean_squared_error\n",
        "from sklearn.impute import SimpleImputer\n",
        "\n",
        "%pip install fuzzywuzzy[speedup]\n",
        "\n",
        "from fuzzywuzzy import process\n",
        "from fuzzywuzzy import fuzz\n",
        "\n",
        "warnings.filterwarnings('ignore')"
      ],
      "execution_count": 0,
      "outputs": [
        {
          "output_type": "stream",
          "text": [
            "Collecting fuzzywuzzy[speedup]\n",
            "  Downloading https://files.pythonhosted.org/packages/d8/f1/5a267addb30ab7eaa1beab2b9323073815da4551076554ecc890a3595ec9/fuzzywuzzy-0.17.0-py2.py3-none-any.whl\n",
            "Collecting python-levenshtein>=0.12; extra == \"speedup\" (from fuzzywuzzy[speedup])\n",
            "\u001b[?25l  Downloading https://files.pythonhosted.org/packages/42/a9/d1785c85ebf9b7dfacd08938dd028209c34a0ea3b1bcdb895208bd40a67d/python-Levenshtein-0.12.0.tar.gz (48kB)\n",
            "\u001b[K     |████████████████████████████████| 51kB 3.8MB/s \n",
            "\u001b[?25hRequirement already satisfied: setuptools in /usr/local/lib/python3.6/dist-packages (from python-levenshtein>=0.12; extra == \"speedup\"->fuzzywuzzy[speedup]) (41.2.0)\n",
            "Building wheels for collected packages: python-levenshtein\n",
            "  Building wheel for python-levenshtein (setup.py) ... \u001b[?25l\u001b[?25hdone\n",
            "  Created wheel for python-levenshtein: filename=python_Levenshtein-0.12.0-cp36-cp36m-linux_x86_64.whl size=144666 sha256=ec5a399ec479fb3ce4bedb77b425d5dac5bca62837e5ebd24fe523cca986c226\n",
            "  Stored in directory: /root/.cache/pip/wheels/de/c2/93/660fd5f7559049268ad2dc6d81c4e39e9e36518766eaf7e342\n",
            "Successfully built python-levenshtein\n",
            "Installing collected packages: python-levenshtein, fuzzywuzzy\n",
            "Successfully installed fuzzywuzzy-0.17.0 python-levenshtein-0.12.0\n"
          ],
          "name": "stdout"
        }
      ]
    },
    {
      "cell_type": "markdown",
      "metadata": {
        "id": "S3YJOhzFlw0J",
        "colab_type": "text"
      },
      "source": [
        "First, let's load the data."
      ]
    },
    {
      "cell_type": "code",
      "metadata": {
        "id": "ZuXZIzG5viDZ",
        "colab_type": "code",
        "outputId": "f970c8c3-a314-486b-a369-f3d2af09190d",
        "colab": {
          "base_uri": "https://localhost:8080/",
          "height": 125
        }
      },
      "source": [
        "#Connect to drive folder\n",
        "drive.mount('/content/gdrive', force_remount=False)"
      ],
      "execution_count": 0,
      "outputs": [
        {
          "output_type": "stream",
          "text": [
            "Go to this URL in a browser: https://accounts.google.com/o/oauth2/auth?client_id=947318989803-6bn6qk8qdgf4n4g3pfee6491hc0brc4i.apps.googleusercontent.com&redirect_uri=urn%3Aietf%3Awg%3Aoauth%3A2.0%3Aoob&scope=email%20https%3A%2F%2Fwww.googleapis.com%2Fauth%2Fdocs.test%20https%3A%2F%2Fwww.googleapis.com%2Fauth%2Fdrive%20https%3A%2F%2Fwww.googleapis.com%2Fauth%2Fdrive.photos.readonly%20https%3A%2F%2Fwww.googleapis.com%2Fauth%2Fpeopleapi.readonly&response_type=code\n",
            "\n",
            "Enter your authorization code:\n",
            "··········\n",
            "Mounted at /content/gdrive\n"
          ],
          "name": "stdout"
        }
      ]
    },
    {
      "cell_type": "code",
      "metadata": {
        "id": "6POvZtdUvpIi",
        "colab_type": "code",
        "colab": {}
      },
      "source": [
        "# Read the data\n",
        "bike_df = pd.read_csv('/content/gdrive/My Drive/1000ml/0_BikeShare/2017_Toronto_Bikeshare.csv')"
      ],
      "execution_count": 0,
      "outputs": []
    },
    {
      "cell_type": "code",
      "metadata": {
        "id": "hjmOnqB3v9vC",
        "colab_type": "code",
        "outputId": "69bdfd67-2c15-45e7-f2f4-9ff0933832ae",
        "colab": {
          "base_uri": "https://localhost:8080/",
          "height": 265
        }
      },
      "source": [
        "bike_df.info()"
      ],
      "execution_count": 0,
      "outputs": [
        {
          "output_type": "stream",
          "text": [
            "<class 'pandas.core.frame.DataFrame'>\n",
            "RangeIndex: 1492370 entries, 0 to 1492369\n",
            "Data columns (total 9 columns):\n",
            "trip_id                  1492370 non-null object\n",
            "trip_start_time          1492369 non-null object\n",
            "trip_stop_time           1492369 non-null object\n",
            "trip_duration_seconds    1492369 non-null float64\n",
            "from_station_id          1492369 non-null object\n",
            "from_station_name        1492368 non-null object\n",
            "to_station_id            1492369 non-null object\n",
            "to_station_name          465476 non-null object\n",
            "user_type                465476 non-null object\n",
            "dtypes: float64(1), object(8)\n",
            "memory usage: 102.5+ MB\n"
          ],
          "name": "stdout"
        }
      ]
    },
    {
      "cell_type": "markdown",
      "metadata": {
        "id": "Siu0Faqdxmj0",
        "colab_type": "text"
      },
      "source": [
        "### Null Values\n",
        "\n",
        "- The dataset contains 9 columns and 1.492.370 registers.\n",
        "- Null values in Q3 and Q4 given shifted columns (see ``to_station_name`` and `user_type` )\n",
        "- There are a couple of null values registers in the dataset.\n"
      ]
    },
    {
      "cell_type": "code",
      "metadata": {
        "id": "PgeLpB5gxpBS",
        "colab_type": "code",
        "outputId": "93186e67-4a66-4109-bfb9-cbe7d8292801",
        "colab": {
          "base_uri": "https://localhost:8080/",
          "height": 194
        }
      },
      "source": [
        "#Get count of null registers\n",
        "bike_df.isna().sum()"
      ],
      "execution_count": 0,
      "outputs": [
        {
          "output_type": "execute_result",
          "data": {
            "text/plain": [
              "trip_id                        0\n",
              "trip_start_time                1\n",
              "trip_stop_time                 1\n",
              "trip_duration_seconds          1\n",
              "from_station_id                1\n",
              "from_station_name              2\n",
              "to_station_id                  1\n",
              "to_station_name          1026894\n",
              "user_type                1026894\n",
              "dtype: int64"
            ]
          },
          "metadata": {
            "tags": []
          },
          "execution_count": 6
        }
      ]
    },
    {
      "cell_type": "markdown",
      "metadata": {
        "id": "3gSOS-2BoeQE",
        "colab_type": "text"
      },
      "source": [
        "Let's take a look at the null values"
      ]
    },
    {
      "cell_type": "code",
      "metadata": {
        "id": "kVJSzI6Cx2ib",
        "colab_type": "code",
        "outputId": "e3fdd10e-88ae-4943-9c27-5c95608e35d3",
        "colab": {
          "base_uri": "https://localhost:8080/",
          "height": 144
        }
      },
      "source": [
        "bike_df[bike_df.from_station_name.isna()]"
      ],
      "execution_count": 0,
      "outputs": [
        {
          "output_type": "execute_result",
          "data": {
            "text/html": [
              "<div>\n",
              "<style scoped>\n",
              "    .dataframe tbody tr th:only-of-type {\n",
              "        vertical-align: middle;\n",
              "    }\n",
              "\n",
              "    .dataframe tbody tr th {\n",
              "        vertical-align: top;\n",
              "    }\n",
              "\n",
              "    .dataframe thead th {\n",
              "        text-align: right;\n",
              "    }\n",
              "</style>\n",
              "<table border=\"1\" class=\"dataframe\">\n",
              "  <thead>\n",
              "    <tr style=\"text-align: right;\">\n",
              "      <th></th>\n",
              "      <th>trip_id</th>\n",
              "      <th>trip_start_time</th>\n",
              "      <th>trip_stop_time</th>\n",
              "      <th>trip_duration_seconds</th>\n",
              "      <th>from_station_id</th>\n",
              "      <th>from_station_name</th>\n",
              "      <th>to_station_id</th>\n",
              "      <th>to_station_name</th>\n",
              "      <th>user_type</th>\n",
              "    </tr>\n",
              "  </thead>\n",
              "  <tbody>\n",
              "    <tr>\n",
              "      <th>1424602</th>\n",
              "      <td>2302635</td>\n",
              "      <td>11/29/17 05:53:54</td>\n",
              "      <td>NULLNULL</td>\n",
              "      <td>0.0</td>\n",
              "      <td>Seaton St / Dundas St E</td>\n",
              "      <td>NaN</td>\n",
              "      <td>Casual</td>\n",
              "      <td>NaN</td>\n",
              "      <td>NaN</td>\n",
              "    </tr>\n",
              "    <tr>\n",
              "      <th>1492369</th>\n",
              "      <td>\u001a</td>\n",
              "      <td>NaN</td>\n",
              "      <td>NaN</td>\n",
              "      <td>NaN</td>\n",
              "      <td>NaN</td>\n",
              "      <td>NaN</td>\n",
              "      <td>NaN</td>\n",
              "      <td>NaN</td>\n",
              "      <td>NaN</td>\n",
              "    </tr>\n",
              "  </tbody>\n",
              "</table>\n",
              "</div>"
            ],
            "text/plain": [
              "         trip_id    trip_start_time  ... to_station_name  user_type\n",
              "1424602  2302635  11/29/17 05:53:54  ...             NaN        NaN\n",
              "1492369        \u001a                NaN  ...             NaN        NaN\n",
              "\n",
              "[2 rows x 9 columns]"
            ]
          },
          "metadata": {
            "tags": []
          },
          "execution_count": 11
        }
      ]
    },
    {
      "cell_type": "markdown",
      "metadata": {
        "id": "lhM4Jo2UojzT",
        "colab_type": "text"
      },
      "source": [
        "This two rows do not have valuable information, hence, will be deleted"
      ]
    },
    {
      "cell_type": "code",
      "metadata": {
        "id": "sIuvQpE7x-KI",
        "colab_type": "code",
        "colab": {}
      },
      "source": [
        "## Drop these two columns\n",
        "bike_df.drop(index=bike_df[bike_df.from_station_name.isna()].index, inplace=True)"
      ],
      "execution_count": 0,
      "outputs": []
    },
    {
      "cell_type": "markdown",
      "metadata": {
        "id": "ygOVyZlqyG4Z",
        "colab_type": "text"
      },
      "source": [
        "Now let's check the inconsistencies and null values for Q3 and Q4"
      ]
    },
    {
      "cell_type": "code",
      "metadata": {
        "id": "xBXKggd5yCe8",
        "colab_type": "code",
        "outputId": "bf31ebb0-5d74-49ea-a78f-10d98525c8f6",
        "colab": {
          "base_uri": "https://localhost:8080/",
          "height": 161
        }
      },
      "source": [
        "bike_df[bike_df.to_station_name.isna()].head(2)"
      ],
      "execution_count": 0,
      "outputs": [
        {
          "output_type": "execute_result",
          "data": {
            "text/html": [
              "<div>\n",
              "<style scoped>\n",
              "    .dataframe tbody tr th:only-of-type {\n",
              "        vertical-align: middle;\n",
              "    }\n",
              "\n",
              "    .dataframe tbody tr th {\n",
              "        vertical-align: top;\n",
              "    }\n",
              "\n",
              "    .dataframe thead th {\n",
              "        text-align: right;\n",
              "    }\n",
              "</style>\n",
              "<table border=\"1\" class=\"dataframe\">\n",
              "  <thead>\n",
              "    <tr style=\"text-align: right;\">\n",
              "      <th></th>\n",
              "      <th>trip_id</th>\n",
              "      <th>trip_start_time</th>\n",
              "      <th>trip_stop_time</th>\n",
              "      <th>trip_duration_seconds</th>\n",
              "      <th>from_station_id</th>\n",
              "      <th>from_station_name</th>\n",
              "      <th>to_station_id</th>\n",
              "      <th>to_station_name</th>\n",
              "      <th>user_type</th>\n",
              "    </tr>\n",
              "  </thead>\n",
              "  <tbody>\n",
              "    <tr>\n",
              "      <th>465476</th>\n",
              "      <td>1253914</td>\n",
              "      <td>7/1/2017 0:00</td>\n",
              "      <td>7/1/2017 0:15</td>\n",
              "      <td>910.0</td>\n",
              "      <td>Princess St / Adelaide St E</td>\n",
              "      <td>424 Wellington St W</td>\n",
              "      <td>Member</td>\n",
              "      <td>NaN</td>\n",
              "      <td>NaN</td>\n",
              "    </tr>\n",
              "    <tr>\n",
              "      <th>465477</th>\n",
              "      <td>1253915</td>\n",
              "      <td>7/1/2017 0:01</td>\n",
              "      <td>7/1/2017 0:15</td>\n",
              "      <td>837.0</td>\n",
              "      <td>Fort York  Blvd / Capreol Crt</td>\n",
              "      <td>HTO Park (Queens Quay W)</td>\n",
              "      <td>Casual</td>\n",
              "      <td>NaN</td>\n",
              "      <td>NaN</td>\n",
              "    </tr>\n",
              "  </tbody>\n",
              "</table>\n",
              "</div>"
            ],
            "text/plain": [
              "        trip_id trip_start_time  ... to_station_name  user_type\n",
              "465476  1253914   7/1/2017 0:00  ...             NaN        NaN\n",
              "465477  1253915   7/1/2017 0:01  ...             NaN        NaN\n",
              "\n",
              "[2 rows x 9 columns]"
            ]
          },
          "metadata": {
            "tags": []
          },
          "execution_count": 13
        }
      ]
    },
    {
      "cell_type": "markdown",
      "metadata": {
        "id": "Ic_JaPvjowcm",
        "colab_type": "text"
      },
      "source": [
        "Here, we can see that the columns are shifted to the left, causing null values in `to_station_name` and `user_type`, not to mention inconsistencies in all stations-related columns (names and IDs). We will have to fix that."
      ]
    },
    {
      "cell_type": "markdown",
      "metadata": {
        "id": "WNqa5VqUoki5",
        "colab_type": "text"
      },
      "source": [
        "### Cleaning timestamps\n",
        "\n",
        "After reviewing the dataset, we could observe that datetimes columns for each quarter were parsed differently with the following formats\n",
        "\n",
        "```\n",
        "date_formats = {\n",
        "    '2017 Q1': ['%d/%m/%Y %H:%M', -4],\n",
        "    '2017 Q2': ['%d/%m/%Y %H:%M', -4],\n",
        "    '2017 Q3': ['%m/%d/%Y %H:%M', 0],  *\n",
        "    '2017 Q4': ['%m/%d/%y %H:%M:%S', 0], *\n",
        "}\n",
        "\n",
        "```\n",
        "\n",
        "`*` These also have some string issues to be dealt with. First thing we do, is divide the dataset in two parts for proper preprocessing.\n"
      ]
    },
    {
      "cell_type": "code",
      "metadata": {
        "id": "zSddhhnVuFhl",
        "colab_type": "code",
        "colab": {}
      },
      "source": [
        "#Split the data into two semesters for date correction\n",
        "bike_df1 = bike_df.loc[:465475,:]\n",
        "bike_df2 = bike_df.loc[465476:,:]"
      ],
      "execution_count": 0,
      "outputs": []
    },
    {
      "cell_type": "markdown",
      "metadata": {
        "id": "YWOdPl3OuGyG",
        "colab_type": "text"
      },
      "source": [
        "Then, a couple of functions are created to properly handle each of the subsets with the aforementioned information."
      ]
    },
    {
      "cell_type": "code",
      "metadata": {
        "id": "FFfVNLLNosO4",
        "colab_type": "code",
        "colab": {}
      },
      "source": [
        "def format_date_S1(date):\n",
        "  \"\"\"Function for cleaning datetimes according to detected format for the first semester subset:\n",
        "  \n",
        "  Takes a date with format ['%d/%m/%Y %H:%M', -4] and returns a datetime object.\n",
        "  \n",
        "  \"\"\"\n",
        "  formatted = datetime.strptime(date, '%d/%m/%Y %H:%M')\n",
        "  return formatted  \n",
        "\n",
        "def format_date_S2(date):\n",
        "  \"\"\"Function for cleaning the second semester subset, which is known to have switched string issues\n",
        "  along with two different formats for each Q, as stated before.\n",
        "  \n",
        "  Takes a date with any of the formats ['%m/%d/%Y %H:%M', 0] or ['%m/%d/%y %H:%M:%S', 0] and returns\n",
        "  a d datetime object.\n",
        "  \n",
        "  \"\"\"  \n",
        "  \n",
        "  # Check for years detected within the dataset that are not desired.\n",
        "  not_wanted = ('2001', '2010', '2011', '2012')\n",
        "  \n",
        "  #Check if formatting is standard and belongs to the group of interest for applying pd.to_datetime function\n",
        "  if not date.startswith(not_wanted):\n",
        "    formatted = pd.to_datetime(date).to_pydatetime()\n",
        "        \n",
        "  else:\n",
        "      #Check first type of formatting\n",
        "    try:\n",
        "      formatted = datetime.strptime(date[2:], '%m/%d/%y %H:%M:%S')\n",
        "    except ValueError:\n",
        "      #Check second type of formatting\n",
        "      formatted = datetime.strptime(date[2:], '%m-%d-%y %H:%M')\n",
        "  \n",
        "  return formatted"
      ],
      "execution_count": 0,
      "outputs": []
    },
    {
      "cell_type": "markdown",
      "metadata": {
        "id": "pAd-7RmEp95Q",
        "colab_type": "text"
      },
      "source": [
        "Now we will vectorize both functions in order to apply it efficiently along the timestamp columns."
      ]
    },
    {
      "cell_type": "code",
      "metadata": {
        "id": "O0SLGIr5qHnM",
        "colab_type": "code",
        "colab": {}
      },
      "source": [
        "format_date_S1v = np.vectorize(format_date_S1)\n",
        "format_date_S2v = np.vectorize(format_date_S2)"
      ],
      "execution_count": 0,
      "outputs": []
    },
    {
      "cell_type": "markdown",
      "metadata": {
        "id": "ZQUA9v3eqYwd",
        "colab_type": "text"
      },
      "source": [
        "Apply timestamp transformation for the first semester subset using the appropriate function"
      ]
    },
    {
      "cell_type": "code",
      "metadata": {
        "id": "BIqNnLlvqeGV",
        "colab_type": "code",
        "colab": {}
      },
      "source": [
        "#Apply to two date columns\n",
        "bike_df1['trip_start_time_f'] = format_date_S1v(bike_df1.trip_start_time)\n",
        "bike_df1['trip_stop_time_f'] = format_date_S1v(bike_df1.trip_stop_time)"
      ],
      "execution_count": 0,
      "outputs": []
    },
    {
      "cell_type": "markdown",
      "metadata": {
        "id": "es3qu8L9qhZG",
        "colab_type": "text"
      },
      "source": [
        "This part runs pretty quick given the fact that datetime processing only requires string-to-date parsing. Now let's apply date formatting for the second semester subset with the other function"
      ]
    },
    {
      "cell_type": "code",
      "metadata": {
        "id": "1oAxVGNaqlPt",
        "colab_type": "code",
        "colab": {}
      },
      "source": [
        "#Apply to two date columns\n",
        "bike_df2['trip_start_time_f'] = format_date_S2v(bike_df2.trip_start_time)\n",
        "bike_df2['trip_stop_time_f'] = format_date_S2v(bike_df2.trip_stop_time)"
      ],
      "execution_count": 0,
      "outputs": []
    },
    {
      "cell_type": "markdown",
      "metadata": {
        "id": "Q1Fc33myrMdW",
        "colab_type": "text"
      },
      "source": [
        "Since this function uses `pd.to_datetime` on some dates it is indeed slower to apply, one could further optimize this function by modifying that line of code and implementing string-to-date parsing, this will improve scalability for large datasets.\n",
        "\n",
        "Now let's check if we have the years we want with the following test:"
      ]
    },
    {
      "cell_type": "code",
      "metadata": {
        "id": "PzFNomvGrWBy",
        "colab_type": "code",
        "outputId": "cb4bed24-cc9d-4db3-ee1d-decbb86d003f",
        "colab": {
          "base_uri": "https://localhost:8080/",
          "height": 34
        }
      },
      "source": [
        "# Year should only be 2017 for the first semester (since we are only dealing with data from 2017)\n",
        "[set([date.year for date in bike_df1.trip_start_time_f]), set([date.year for date in bike_df1.trip_stop_time_f])]"
      ],
      "execution_count": 0,
      "outputs": [
        {
          "output_type": "execute_result",
          "data": {
            "text/plain": [
              "[{2017}, {2017}]"
            ]
          },
          "metadata": {
            "tags": []
          },
          "execution_count": 21
        }
      ]
    },
    {
      "cell_type": "code",
      "metadata": {
        "id": "6VOZCzbdrrRh",
        "colab_type": "code",
        "outputId": "7ac15b79-037b-4506-f352-0f12263257e5",
        "colab": {
          "base_uri": "https://localhost:8080/",
          "height": 34
        }
      },
      "source": [
        "# Year should be 2017 and 2018 for the second semester given the fact that some trips finish in 2018\n",
        "[set([date.year for date in bike_df2.trip_start_time_f]), set([date.year for date in bike_df2.trip_stop_time_f])]"
      ],
      "execution_count": 0,
      "outputs": [
        {
          "output_type": "execute_result",
          "data": {
            "text/plain": [
              "[{2017}, {2017, 2018}]"
            ]
          },
          "metadata": {
            "tags": []
          },
          "execution_count": 22
        }
      ]
    },
    {
      "cell_type": "markdown",
      "metadata": {
        "id": "IK4MCKEssAZz",
        "colab_type": "text"
      },
      "source": [
        "**Time continuiity**\n",
        "\n",
        "Create a temporary column to verify the difference between one ``trip_start_time_f`` and the previous one. The difference shouldn't be negative for a sorted dataframe and shouldn't be more than 1 day (for trips that start one day and finish the following day)."
      ]
    },
    {
      "cell_type": "code",
      "metadata": {
        "id": "8OvgBeA5sLi5",
        "colab_type": "code",
        "outputId": "0944baaf-90dd-4d57-aacf-d61732367355",
        "colab": {
          "base_uri": "https://localhost:8080/",
          "height": 34
        }
      },
      "source": [
        "# Concatenate both dataframes\n",
        "bike_df = pd.concat([bike_df1, bike_df2])\n",
        "\n",
        "#Create desired column using the formatted start time\n",
        "bike_df['temp_start_diff'] = bike_df.trip_start_time_f.dt.dayofyear.diff()\n",
        "\n",
        "#Check for values different than zero or one\n",
        "non_cont = bike_df.loc[(bike_df.temp_start_diff < 0) | (bike_df.temp_start_diff >1), :]\n",
        "\n",
        "#Get those non continuous registers\n",
        "non_cont.shape[0]"
      ],
      "execution_count": 0,
      "outputs": [
        {
          "output_type": "execute_result",
          "data": {
            "text/plain": [
              "16"
            ]
          },
          "metadata": {
            "tags": []
          },
          "execution_count": 23
        }
      ]
    },
    {
      "cell_type": "markdown",
      "metadata": {
        "id": "PxeqsLZD0ffD",
        "colab_type": "text"
      },
      "source": [
        "Here, we can see that we are in possession of 16 registers with an odd behavior in which the continuity is not preserved. Let's check one of those out."
      ]
    },
    {
      "cell_type": "code",
      "metadata": {
        "id": "BaJ6aGKuxRAc",
        "colab_type": "code",
        "outputId": "ef86a40e-88b6-4e0c-a9ef-f5de967ae902",
        "colab": {
          "base_uri": "https://localhost:8080/",
          "height": 207
        }
      },
      "source": [
        "#Get non continuous trip, previous and following\n",
        "idx = non_cont.index[0]\n",
        "bike_df.loc[idx-1:idx+1,:]"
      ],
      "execution_count": 0,
      "outputs": [
        {
          "output_type": "execute_result",
          "data": {
            "text/html": [
              "<div>\n",
              "<style scoped>\n",
              "    .dataframe tbody tr th:only-of-type {\n",
              "        vertical-align: middle;\n",
              "    }\n",
              "\n",
              "    .dataframe tbody tr th {\n",
              "        vertical-align: top;\n",
              "    }\n",
              "\n",
              "    .dataframe thead th {\n",
              "        text-align: right;\n",
              "    }\n",
              "</style>\n",
              "<table border=\"1\" class=\"dataframe\">\n",
              "  <thead>\n",
              "    <tr style=\"text-align: right;\">\n",
              "      <th></th>\n",
              "      <th>trip_id</th>\n",
              "      <th>trip_start_time</th>\n",
              "      <th>trip_stop_time</th>\n",
              "      <th>trip_duration_seconds</th>\n",
              "      <th>from_station_id</th>\n",
              "      <th>from_station_name</th>\n",
              "      <th>to_station_id</th>\n",
              "      <th>to_station_name</th>\n",
              "      <th>user_type</th>\n",
              "      <th>trip_start_time_f</th>\n",
              "      <th>trip_stop_time_f</th>\n",
              "      <th>temp_start_diff</th>\n",
              "    </tr>\n",
              "  </thead>\n",
              "  <tbody>\n",
              "    <tr>\n",
              "      <th>156831</th>\n",
              "      <td>896854</td>\n",
              "      <td>12/4/2017 0:29</td>\n",
              "      <td>12/4/2017 0:35</td>\n",
              "      <td>374.0</td>\n",
              "      <td>7001</td>\n",
              "      <td>Lower Jarvis St / The Esplanade</td>\n",
              "      <td>7060</td>\n",
              "      <td>Princess St / Adelaide St</td>\n",
              "      <td>Member</td>\n",
              "      <td>2017-04-12 00:29:00</td>\n",
              "      <td>2017-04-12 00:35:00</td>\n",
              "      <td>0.0</td>\n",
              "    </tr>\n",
              "    <tr>\n",
              "      <th>156832</th>\n",
              "      <td>896859</td>\n",
              "      <td>11/4/2017 23:52</td>\n",
              "      <td>11/4/2017 23:57</td>\n",
              "      <td>271.0</td>\n",
              "      <td>7029</td>\n",
              "      <td>Bay St / Bloor St W</td>\n",
              "      <td>7025</td>\n",
              "      <td>Ted Rogers Way / Bloor St E</td>\n",
              "      <td>Member</td>\n",
              "      <td>2017-04-11 23:52:00</td>\n",
              "      <td>2017-04-11 23:57:00</td>\n",
              "      <td>-1.0</td>\n",
              "    </tr>\n",
              "    <tr>\n",
              "      <th>156833</th>\n",
              "      <td>896860</td>\n",
              "      <td>12/4/2017 0:21</td>\n",
              "      <td>12/4/2017 0:36</td>\n",
              "      <td>909.0</td>\n",
              "      <td>7029</td>\n",
              "      <td>Bay St / Bloor St W</td>\n",
              "      <td>7076</td>\n",
              "      <td>York St / Queens Quay W</td>\n",
              "      <td>Member</td>\n",
              "      <td>2017-04-12 00:21:00</td>\n",
              "      <td>2017-04-12 00:36:00</td>\n",
              "      <td>1.0</td>\n",
              "    </tr>\n",
              "  </tbody>\n",
              "</table>\n",
              "</div>"
            ],
            "text/plain": [
              "       trip_id  trip_start_time  ...    trip_stop_time_f  temp_start_diff\n",
              "156831  896854   12/4/2017 0:29  ... 2017-04-12 00:35:00              0.0\n",
              "156832  896859  11/4/2017 23:52  ... 2017-04-11 23:57:00             -1.0\n",
              "156833  896860   12/4/2017 0:21  ... 2017-04-12 00:36:00              1.0\n",
              "\n",
              "[3 rows x 12 columns]"
            ]
          },
          "metadata": {
            "tags": []
          },
          "execution_count": 25
        }
      ]
    },
    {
      "cell_type": "markdown",
      "metadata": {
        "id": "zSosNJSk0p5Z",
        "colab_type": "text"
      },
      "source": [
        "After reviewing, it's not clear why these rows are flagged, one hypothesis could be a timezone issue on storage. We may calculate some statistics to check if those registers are outliers or present significant differences in relevant statistics compared to the whole dataframe."
      ]
    },
    {
      "cell_type": "code",
      "metadata": {
        "id": "5lK-JwMz05Ni",
        "colab_type": "code",
        "outputId": "fe845687-2b03-4ec3-e06c-392cfef1fbdf",
        "colab": {
          "base_uri": "https://localhost:8080/",
          "height": 107
        }
      },
      "source": [
        "pd.DataFrame([bike_df.trip_duration_seconds.describe().round(0), \n",
        "              non_cont.trip_duration_seconds.describe().round(0)],\n",
        "            index=['full', 'non_cont'])"
      ],
      "execution_count": 0,
      "outputs": [
        {
          "output_type": "execute_result",
          "data": {
            "text/html": [
              "<div>\n",
              "<style scoped>\n",
              "    .dataframe tbody tr th:only-of-type {\n",
              "        vertical-align: middle;\n",
              "    }\n",
              "\n",
              "    .dataframe tbody tr th {\n",
              "        vertical-align: top;\n",
              "    }\n",
              "\n",
              "    .dataframe thead th {\n",
              "        text-align: right;\n",
              "    }\n",
              "</style>\n",
              "<table border=\"1\" class=\"dataframe\">\n",
              "  <thead>\n",
              "    <tr style=\"text-align: right;\">\n",
              "      <th></th>\n",
              "      <th>count</th>\n",
              "      <th>mean</th>\n",
              "      <th>std</th>\n",
              "      <th>min</th>\n",
              "      <th>25%</th>\n",
              "      <th>50%</th>\n",
              "      <th>75%</th>\n",
              "      <th>max</th>\n",
              "    </tr>\n",
              "  </thead>\n",
              "  <tbody>\n",
              "    <tr>\n",
              "      <th>full</th>\n",
              "      <td>1492368.0</td>\n",
              "      <td>1018.0</td>\n",
              "      <td>9773.0</td>\n",
              "      <td>1.0</td>\n",
              "      <td>415.0</td>\n",
              "      <td>654.0</td>\n",
              "      <td>1020.0</td>\n",
              "      <td>6382030.0</td>\n",
              "    </tr>\n",
              "    <tr>\n",
              "      <th>non_cont</th>\n",
              "      <td>16.0</td>\n",
              "      <td>620.0</td>\n",
              "      <td>417.0</td>\n",
              "      <td>60.0</td>\n",
              "      <td>414.0</td>\n",
              "      <td>490.0</td>\n",
              "      <td>706.0</td>\n",
              "      <td>1611.0</td>\n",
              "    </tr>\n",
              "  </tbody>\n",
              "</table>\n",
              "</div>"
            ],
            "text/plain": [
              "              count    mean     std   min    25%    50%     75%        max\n",
              "full      1492368.0  1018.0  9773.0   1.0  415.0  654.0  1020.0  6382030.0\n",
              "non_cont       16.0   620.0   417.0  60.0  414.0  490.0   706.0     1611.0"
            ]
          },
          "metadata": {
            "tags": []
          },
          "execution_count": 27
        }
      ]
    },
    {
      "cell_type": "markdown",
      "metadata": {
        "id": "IxvPhoE81ric",
        "colab_type": "text"
      },
      "source": [
        "Other than the standard deviation, there are no significant differences overall, this is specially visible in the median. The mean and standard deviation are expected to vary significantly given the presence of outliers in full dataset (read below). Given this, we will include this registers and reorder the dataframe by `trip_start_date_f`,"
      ]
    },
    {
      "cell_type": "code",
      "metadata": {
        "id": "1jy1_s5W21U4",
        "colab_type": "code",
        "colab": {}
      },
      "source": [
        "#Sort dataframe by date\n",
        "bike_df.sort_values(by='trip_start_time_f', inplace=True)"
      ],
      "execution_count": 0,
      "outputs": []
    },
    {
      "cell_type": "markdown",
      "metadata": {
        "id": "wwHq96jjsfSz",
        "colab_type": "text"
      },
      "source": [
        "Now that we have our dates properly formatted, let's drop `temp_start_diff`, `temp_start_diff` and `trip_stop_time`"
      ]
    },
    {
      "cell_type": "code",
      "metadata": {
        "id": "cYdUVhhZshog",
        "colab_type": "code",
        "colab": {}
      },
      "source": [
        "bike_df.drop(columns=['trip_start_time', 'trip_stop_time', 'temp_start_diff'], inplace=True)"
      ],
      "execution_count": 0,
      "outputs": []
    },
    {
      "cell_type": "markdown",
      "metadata": {
        "id": "CDTV95qmsmbu",
        "colab_type": "text"
      },
      "source": [
        "With our dates meeting the standards, we can move on and continue working with null values, but first, let's save this dataframe to avoid running these lines every time we need."
      ]
    },
    {
      "cell_type": "code",
      "metadata": {
        "id": "itu2M-4awR5j",
        "colab_type": "code",
        "colab": {}
      },
      "source": [
        "bike_df.to_csv('/content/gdrive/My Drive/1000ml/2_BikeShareReplenishment/2017_Toronto_Bikeshare_Dates.csv',\n",
        "              header=True, index=False)"
      ],
      "execution_count": 0,
      "outputs": []
    },
    {
      "cell_type": "markdown",
      "metadata": {
        "id": "dlLYt3jxytNJ",
        "colab_type": "text"
      },
      "source": [
        "### Correcting Stations Data\n",
        "\n",
        "We will connect to the Toronto Bike Share API to gather the stations data, in order to standardize and fix issues related to stations' in our dataframe."
      ]
    },
    {
      "cell_type": "code",
      "metadata": {
        "id": "OTMfNQCj8YPA",
        "colab_type": "code",
        "outputId": "26b8250c-c7d6-4a01-f6d3-5070ea00720b",
        "colab": {
          "base_uri": "https://localhost:8080/",
          "height": 161
        }
      },
      "source": [
        "#Import the stored data\n",
        "bike_df = pd.read_csv('/content/gdrive/My Drive/1000ml/2_BikeShareReplenishment/2017_Toronto_Bikeshare_Dates.csv',\n",
        "                        parse_dates=['trip_start_time_f', 'trip_stop_time_f'])\n",
        "\n",
        "bike_df.head(2)"
      ],
      "execution_count": 0,
      "outputs": [
        {
          "output_type": "execute_result",
          "data": {
            "text/html": [
              "<div>\n",
              "<style scoped>\n",
              "    .dataframe tbody tr th:only-of-type {\n",
              "        vertical-align: middle;\n",
              "    }\n",
              "\n",
              "    .dataframe tbody tr th {\n",
              "        vertical-align: top;\n",
              "    }\n",
              "\n",
              "    .dataframe thead th {\n",
              "        text-align: right;\n",
              "    }\n",
              "</style>\n",
              "<table border=\"1\" class=\"dataframe\">\n",
              "  <thead>\n",
              "    <tr style=\"text-align: right;\">\n",
              "      <th></th>\n",
              "      <th>trip_id</th>\n",
              "      <th>trip_duration_seconds</th>\n",
              "      <th>from_station_id</th>\n",
              "      <th>from_station_name</th>\n",
              "      <th>to_station_id</th>\n",
              "      <th>to_station_name</th>\n",
              "      <th>user_type</th>\n",
              "      <th>trip_start_time_f</th>\n",
              "      <th>trip_stop_time_f</th>\n",
              "    </tr>\n",
              "  </thead>\n",
              "  <tbody>\n",
              "    <tr>\n",
              "      <th>0</th>\n",
              "      <td>712382</td>\n",
              "      <td>223.0</td>\n",
              "      <td>7051</td>\n",
              "      <td>Wellesley St E / Yonge St Green P</td>\n",
              "      <td>7089</td>\n",
              "      <td>Church St  / Wood St</td>\n",
              "      <td>Member</td>\n",
              "      <td>2017-01-01</td>\n",
              "      <td>2017-01-01 00:03:00</td>\n",
              "    </tr>\n",
              "    <tr>\n",
              "      <th>1</th>\n",
              "      <td>712383</td>\n",
              "      <td>279.0</td>\n",
              "      <td>7143</td>\n",
              "      <td>Kendal Ave / Bernard Ave</td>\n",
              "      <td>7154</td>\n",
              "      <td>Bathurst Subway Station</td>\n",
              "      <td>Member</td>\n",
              "      <td>2017-01-01</td>\n",
              "      <td>2017-01-01 00:05:00</td>\n",
              "    </tr>\n",
              "  </tbody>\n",
              "</table>\n",
              "</div>"
            ],
            "text/plain": [
              "   trip_id  trip_duration_seconds  ... trip_start_time_f    trip_stop_time_f\n",
              "0   712382                  223.0  ...        2017-01-01 2017-01-01 00:03:00\n",
              "1   712383                  279.0  ...        2017-01-01 2017-01-01 00:05:00\n",
              "\n",
              "[2 rows x 9 columns]"
            ]
          },
          "metadata": {
            "tags": []
          },
          "execution_count": 8
        }
      ]
    },
    {
      "cell_type": "markdown",
      "metadata": {
        "id": "JJ25tXnc8y7K",
        "colab_type": "text"
      },
      "source": [
        "As seen, dates are already parsed correctly by the pandas package. First, we are going to use the information from the `station_information` endpoint to fix the stations data."
      ]
    },
    {
      "cell_type": "code",
      "metadata": {
        "id": "yoY7re2uyuYZ",
        "colab_type": "code",
        "colab": {}
      },
      "source": [
        "#Send get request\n",
        "req = requests.get('https://tor.publicbikesystem.net/ube/gbfs/v1/en/station_information')"
      ],
      "execution_count": 0,
      "outputs": []
    },
    {
      "cell_type": "markdown",
      "metadata": {
        "id": "39ItIg8dvBwg",
        "colab_type": "text"
      },
      "source": [
        "Now get the stations data from the whole json object"
      ]
    },
    {
      "cell_type": "code",
      "metadata": {
        "id": "6rK6TleNzIQ-",
        "colab_type": "code",
        "outputId": "1b925efe-5fbd-43ee-b9c5-10566e9f8106",
        "colab": {
          "base_uri": "https://localhost:8080/",
          "height": 77
        }
      },
      "source": [
        "#Extract the data\n",
        "stations_data = pd.DataFrame(json.loads(req.content)['data']['stations'])[['station_id', 'name', 'capacity', 'lat', 'lon']]\n",
        "\n",
        "#Remove whitespaces\n",
        "stations_data.name = stations_data.name.str.strip()\n",
        "stations_data.head(1)"
      ],
      "execution_count": 0,
      "outputs": [
        {
          "output_type": "execute_result",
          "data": {
            "text/html": [
              "<div>\n",
              "<style scoped>\n",
              "    .dataframe tbody tr th:only-of-type {\n",
              "        vertical-align: middle;\n",
              "    }\n",
              "\n",
              "    .dataframe tbody tr th {\n",
              "        vertical-align: top;\n",
              "    }\n",
              "\n",
              "    .dataframe thead th {\n",
              "        text-align: right;\n",
              "    }\n",
              "</style>\n",
              "<table border=\"1\" class=\"dataframe\">\n",
              "  <thead>\n",
              "    <tr style=\"text-align: right;\">\n",
              "      <th></th>\n",
              "      <th>station_id</th>\n",
              "      <th>name</th>\n",
              "      <th>capacity</th>\n",
              "      <th>lat</th>\n",
              "      <th>lon</th>\n",
              "    </tr>\n",
              "  </thead>\n",
              "  <tbody>\n",
              "    <tr>\n",
              "      <th>0</th>\n",
              "      <td>7000</td>\n",
              "      <td>Fort York  Blvd / Capreol Ct</td>\n",
              "      <td>31</td>\n",
              "      <td>43.639832</td>\n",
              "      <td>-79.395954</td>\n",
              "    </tr>\n",
              "  </tbody>\n",
              "</table>\n",
              "</div>"
            ],
            "text/plain": [
              "  station_id                          name  capacity        lat        lon\n",
              "0       7000  Fort York  Blvd / Capreol Ct        31  43.639832 -79.395954"
            ]
          },
          "metadata": {
            "tags": []
          },
          "execution_count": 10
        }
      ]
    },
    {
      "cell_type": "markdown",
      "metadata": {
        "id": "fzEDYAP7vM0m",
        "colab_type": "text"
      },
      "source": [
        "When was the last update?"
      ]
    },
    {
      "cell_type": "code",
      "metadata": {
        "id": "KVZYKkLK1sWN",
        "colab_type": "code",
        "outputId": "da3cc489-bd4d-4480-a2ed-57ea07c6b934",
        "colab": {
          "base_uri": "https://localhost:8080/",
          "height": 34
        }
      },
      "source": [
        "datetime.fromtimestamp(json.loads(req.content)['last_updated'])"
      ],
      "execution_count": 0,
      "outputs": [
        {
          "output_type": "execute_result",
          "data": {
            "text/plain": [
              "datetime.datetime(2019, 10, 8, 14, 4, 15)"
            ]
          },
          "metadata": {
            "tags": []
          },
          "execution_count": 11
        }
      ]
    },
    {
      "cell_type": "markdown",
      "metadata": {
        "id": "R472Bk513Gpp",
        "colab_type": "text"
      },
      "source": [
        "So this information is up to date (but in a different timezone). However, we must check if the number of stations changed since 2017."
      ]
    },
    {
      "cell_type": "code",
      "metadata": {
        "id": "BaDkalRlzOns",
        "colab_type": "code",
        "outputId": "c5172952-d624-4866-ddd7-8dea0cb57665",
        "colab": {
          "base_uri": "https://localhost:8080/",
          "height": 34
        }
      },
      "source": [
        "#Stations as of today\n",
        "stations_data.name.shape"
      ],
      "execution_count": 0,
      "outputs": [
        {
          "output_type": "execute_result",
          "data": {
            "text/plain": [
              "(458,)"
            ]
          },
          "metadata": {
            "tags": []
          },
          "execution_count": 12
        }
      ]
    },
    {
      "cell_type": "markdown",
      "metadata": {
        "id": "QLbsq1bY1mp0",
        "colab_type": "text"
      },
      "source": [
        "For the record, this differs a bit from the information displayed on the website stating that 465 stations are available. Now let's shift the columns for the second semester in order to have the complete information about stations."
      ]
    },
    {
      "cell_type": "code",
      "metadata": {
        "id": "RXRRKhjC1d4I",
        "colab_type": "code",
        "colab": {}
      },
      "source": [
        "#Shift the columns to the right place\n",
        "flags = bike_df.to_station_name.isna()\n",
        "bike_df.loc[flags, 'user_type'] = bike_df.loc[flags, 'to_station_id']\n",
        "bike_df.loc[flags, 'to_station_name'] = bike_df.loc[flags, 'from_station_name']\n",
        "bike_df.loc[flags, 'from_station_name'] = bike_df.loc[flags, 'from_station_id']\n",
        "\n",
        "#Now set all the unknown IDs to None to make them easy to detect\n",
        "bike_df.loc[flags, 'to_station_id'] = None\n",
        "bike_df.loc[flags, 'from_station_id'] = None"
      ],
      "execution_count": 0,
      "outputs": []
    },
    {
      "cell_type": "markdown",
      "metadata": {
        "id": "uWUq4BCA54Dk",
        "colab_type": "text"
      },
      "source": [
        "Now let's take a look at the resulting dataframe to see if it's what we expected."
      ]
    },
    {
      "cell_type": "code",
      "metadata": {
        "id": "Yz38t53w56KX",
        "colab_type": "code",
        "outputId": "159b7208-504a-4ff1-92a4-7c9d52a5e701",
        "colab": {
          "base_uri": "https://localhost:8080/",
          "height": 161
        }
      },
      "source": [
        "bike_df.tail(2)"
      ],
      "execution_count": 0,
      "outputs": [
        {
          "output_type": "execute_result",
          "data": {
            "text/html": [
              "<div>\n",
              "<style scoped>\n",
              "    .dataframe tbody tr th:only-of-type {\n",
              "        vertical-align: middle;\n",
              "    }\n",
              "\n",
              "    .dataframe tbody tr th {\n",
              "        vertical-align: top;\n",
              "    }\n",
              "\n",
              "    .dataframe thead th {\n",
              "        text-align: right;\n",
              "    }\n",
              "</style>\n",
              "<table border=\"1\" class=\"dataframe\">\n",
              "  <thead>\n",
              "    <tr style=\"text-align: right;\">\n",
              "      <th></th>\n",
              "      <th>trip_id</th>\n",
              "      <th>trip_duration_seconds</th>\n",
              "      <th>from_station_id</th>\n",
              "      <th>from_station_name</th>\n",
              "      <th>to_station_id</th>\n",
              "      <th>to_station_name</th>\n",
              "      <th>user_type</th>\n",
              "      <th>trip_start_time_f</th>\n",
              "      <th>trip_stop_time_f</th>\n",
              "    </tr>\n",
              "  </thead>\n",
              "  <tbody>\n",
              "    <tr>\n",
              "      <th>1492366</th>\n",
              "      <td>2383645</td>\n",
              "      <td>26.0</td>\n",
              "      <td>None</td>\n",
              "      <td>Phoebe St / Spadina Ave</td>\n",
              "      <td>None</td>\n",
              "      <td>Phoebe St / Spadina Ave</td>\n",
              "      <td>Member</td>\n",
              "      <td>2017-12-31 23:49:08</td>\n",
              "      <td>2017-12-31 23:49:34</td>\n",
              "    </tr>\n",
              "    <tr>\n",
              "      <th>1492367</th>\n",
              "      <td>2383646</td>\n",
              "      <td>480.0</td>\n",
              "      <td>None</td>\n",
              "      <td>Phoebe St / Spadina Ave</td>\n",
              "      <td>None</td>\n",
              "      <td>Simcoe St / Queen St W</td>\n",
              "      <td>Member</td>\n",
              "      <td>2017-12-31 23:49:41</td>\n",
              "      <td>2017-12-31 23:57:41</td>\n",
              "    </tr>\n",
              "  </tbody>\n",
              "</table>\n",
              "</div>"
            ],
            "text/plain": [
              "         trip_id  trip_duration_seconds  ...   trip_start_time_f    trip_stop_time_f\n",
              "1492366  2383645                   26.0  ... 2017-12-31 23:49:08 2017-12-31 23:49:34\n",
              "1492367  2383646                  480.0  ... 2017-12-31 23:49:41 2017-12-31 23:57:41\n",
              "\n",
              "[2 rows x 9 columns]"
            ]
          },
          "metadata": {
            "tags": []
          },
          "execution_count": 14
        }
      ]
    },
    {
      "cell_type": "markdown",
      "metadata": {
        "id": "hxh7QwcF6b40",
        "colab_type": "text"
      },
      "source": [
        "Great, everything is in the right place and the station ID columns are now none. Now let's get the full list of stations used in 2017."
      ]
    },
    {
      "cell_type": "code",
      "metadata": {
        "id": "VSddmz4F5ttU",
        "colab_type": "code",
        "colab": {}
      },
      "source": [
        "#Get the origin stations and IDs\n",
        "start = bike_df[['from_station_id', 'from_station_name']]\n",
        "start.columns = ['id', 'station']\n",
        "\n",
        "#Get the destination stations and IDs\n",
        "stop = bike_df[['to_station_id', 'to_station_name']]\n",
        "stop.columns = ['id', 'station']\n",
        "\n",
        "#Now let's merge those together to obtain names for stations in 2017\n",
        "stations_2017 = pd.concat([start, stop]).drop_duplicates(['station']).sort_values(by='station').reset_index(drop=True)\n",
        "stations_2017.station = stations_2017.station.str.strip()"
      ],
      "execution_count": 0,
      "outputs": []
    },
    {
      "cell_type": "code",
      "metadata": {
        "id": "BfuMYfjX3t3A",
        "colab_type": "code",
        "outputId": "5ebd014f-510e-4a13-d640-3f80a43f7540",
        "colab": {
          "base_uri": "https://localhost:8080/",
          "height": 197
        }
      },
      "source": [
        "#Inspect\n",
        "stations_2017.head()"
      ],
      "execution_count": 0,
      "outputs": [
        {
          "output_type": "execute_result",
          "data": {
            "text/html": [
              "<div>\n",
              "<style scoped>\n",
              "    .dataframe tbody tr th:only-of-type {\n",
              "        vertical-align: middle;\n",
              "    }\n",
              "\n",
              "    .dataframe tbody tr th {\n",
              "        vertical-align: top;\n",
              "    }\n",
              "\n",
              "    .dataframe thead th {\n",
              "        text-align: right;\n",
              "    }\n",
              "</style>\n",
              "<table border=\"1\" class=\"dataframe\">\n",
              "  <thead>\n",
              "    <tr style=\"text-align: right;\">\n",
              "      <th></th>\n",
              "      <th>id</th>\n",
              "      <th>station</th>\n",
              "    </tr>\n",
              "  </thead>\n",
              "  <tbody>\n",
              "    <tr>\n",
              "      <th>0</th>\n",
              "      <td>None</td>\n",
              "      <td>111 Bond St (North of Dundas St E)  - SMART</td>\n",
              "    </tr>\n",
              "    <tr>\n",
              "      <th>1</th>\n",
              "      <td>7071</td>\n",
              "      <td>161 Bleecker St (South of Wellesley)</td>\n",
              "    </tr>\n",
              "    <tr>\n",
              "      <th>2</th>\n",
              "      <td>7070</td>\n",
              "      <td>25 York St (ACC/Union Station South)</td>\n",
              "    </tr>\n",
              "    <tr>\n",
              "      <th>3</th>\n",
              "      <td>None</td>\n",
              "      <td>424 Wellington St W</td>\n",
              "    </tr>\n",
              "    <tr>\n",
              "      <th>4</th>\n",
              "      <td>7123</td>\n",
              "      <td>424 Wellington St. W</td>\n",
              "    </tr>\n",
              "  </tbody>\n",
              "</table>\n",
              "</div>"
            ],
            "text/plain": [
              "     id                                      station\n",
              "0  None  111 Bond St (North of Dundas St E)  - SMART\n",
              "1  7071         161 Bleecker St (South of Wellesley)\n",
              "2  7070         25 York St (ACC/Union Station South)\n",
              "3  None                          424 Wellington St W\n",
              "4  7123                         424 Wellington St. W"
            ]
          },
          "metadata": {
            "tags": []
          },
          "execution_count": 16
        }
      ]
    },
    {
      "cell_type": "code",
      "metadata": {
        "id": "OCM7-6VG-MiL",
        "colab_type": "code",
        "outputId": "f4499ff5-cdde-4371-b379-9eb77e2bf358",
        "colab": {
          "base_uri": "https://localhost:8080/",
          "height": 34
        }
      },
      "source": [
        "stations_2017.shape"
      ],
      "execution_count": 0,
      "outputs": [
        {
          "output_type": "execute_result",
          "data": {
            "text/plain": [
              "(293, 2)"
            ]
          },
          "metadata": {
            "tags": []
          },
          "execution_count": 17
        }
      ]
    },
    {
      "cell_type": "markdown",
      "metadata": {
        "id": "caVRo8Zn6lRd",
        "colab_type": "text"
      },
      "source": [
        "We have a total of 293 \"unique\" stations, however, we can see in the last step that some of these stations are repeated with a slightly different name. First we are going to check the rows that can be directly mapped to today's stations."
      ]
    },
    {
      "cell_type": "markdown",
      "metadata": {
        "id": "UHxj-ijrPbgX",
        "colab_type": "text"
      },
      "source": [
        "For this mapping we will use three approaches:\n",
        "\n",
        "1. Will be only by full string matching the station name (``strmatch``) to the name in ``stations_data``\n",
        "2. we will use **fuzzywuzy**, a string matching package to perform partial string matching of similar names and import the fields from our ``stations_data``.\n",
        "3. Those stations that are left will be filled with None variables for future analysis.\n"
      ]
    },
    {
      "cell_type": "code",
      "metadata": {
        "colab_type": "code",
        "id": "-gbnHkxwjEBU",
        "colab": {}
      },
      "source": [
        "def fix_null_station(station, choices):\n",
        "  \"\"\"This function will fix null stations by applying fuzzywuzy to the string and\n",
        "  filtering those that do not meet a threshold of 80 or more according to wuzy partial\n",
        "  ratio matching algorithm.\n",
        "  \n",
        "  Takes a station and a set of choices (which is the list of current stations) and \n",
        "  matches the string with the greatest score if it meets the criteria. It will return a \n",
        "  dictionary with the name, the index and the score of the station (if found).\n",
        "  \n",
        "  \"\"\"\n",
        "  \n",
        "  #Create empty dictionary for storing station information\n",
        "  stat_dict = {}\n",
        "  new_score = None\n",
        "\n",
        "  # Get the best match using fuzzywuzy\n",
        "  best_match = process.extract(station, choices.name, limit=1, scorer=fuzz.partial_ratio)[0]\n",
        "\n",
        "  # Check if match score above threshold and assign values accordingly\n",
        "  if best_match[1] > 80:\n",
        "    new_idx = best_match[2]\n",
        "    new_station = best_match[0]\n",
        "    new_score = best_match[1]\n",
        "  else:\n",
        "    new_idx = None\n",
        "    new_station = station\n",
        "    \n",
        "  #Add data to dictionary and append to list\n",
        "  stat_dict['idx'] = new_idx\n",
        "  stat_dict['name'] = new_station\n",
        "  stat_dict['score'] = new_score\n",
        "      \n",
        "  return(stat_dict)"
      ],
      "execution_count": 0,
      "outputs": []
    },
    {
      "cell_type": "markdown",
      "metadata": {
        "id": "oLXK0WLq-lVY",
        "colab_type": "text"
      },
      "source": [
        "Now let's preprocess the `stations_2017` dataframe to get the data from the stations matche through either of the two methods (string matching or `fix_null_values`) and non-matched."
      ]
    },
    {
      "cell_type": "code",
      "metadata": {
        "id": "ZrC0vAev_JBB",
        "colab_type": "code",
        "colab": {}
      },
      "source": [
        "stations_list = []\n",
        "\n",
        "for row in stations_2017.itertuples():\n",
        "  \n",
        "  #Create a dictionary of station\n",
        "  stat_dict = {}\n",
        "  \n",
        "  #Find the register through string matching only\n",
        "  stat_data = stations_data.loc[stations_data.name == row[2],:].get_values()\n",
        "  \n",
        "  if stat_data.shape[0] > 0:\n",
        "    \n",
        "    #Assign to dictionary if found\n",
        "    stat_dict['idx'] = stat_data[0][0]\n",
        "    stat_dict['name'] = stat_data[0][1]\n",
        "    stat_dict['capacity'] = stat_data[0][2]\n",
        "    stat_dict['lat'] = stat_data[0][3]\n",
        "    stat_dict['lon'] = stat_data[0][4]\n",
        "    stat_dict['matched'] = 'strmatch'\n",
        "    stat_dict['score'] = 100\n",
        "    \n",
        "  else:\n",
        "    \n",
        "    #Set values using fuzzywuzy\n",
        "    best_result = fix_null_station(row[2], stations_data)\n",
        "    \n",
        "    #Set value according to station found\n",
        "    stat_data = stations_data.loc[stations_data.name == best_result['name'],:].get_values()\n",
        "      \n",
        "    if stat_data.shape[0] > 0:\n",
        "      \n",
        "      #Set values if exists    \n",
        "      stat_dict['idx'] = stat_data[0][0]\n",
        "      stat_dict['name'] = stat_data[0][1] #Hey\n",
        "      stat_dict['capacity'] = stat_data[0][2]\n",
        "      stat_dict['lat'] = stat_data[0][3]\n",
        "      stat_dict['lon'] = stat_data[0][4]\n",
        "      stat_dict['matched'] = 'fuzzywuzy'\n",
        "      stat_dict['score'] = best_result['score']\n",
        "    \n",
        "    else:\n",
        "      \n",
        "      #We couldn't find it \n",
        "      stat_dict['idx'] = None\n",
        "      stat_dict['name'] = row[2]   #Set original date\n",
        "      stat_dict['capacity'] = None\n",
        "      stat_dict['lat'] = None\n",
        "      stat_dict['lon'] = None\n",
        "      stat_dict['matched'] = 'No'\n",
        "      stat_dict['score'] = None\n",
        "  \n",
        "  # Append to list of dictionaries\n",
        "  stations_list.append(stat_dict)"
      ],
      "execution_count": 0,
      "outputs": []
    },
    {
      "cell_type": "code",
      "metadata": {
        "id": "K9LKoY0XNMl0",
        "colab_type": "code",
        "outputId": "f67223e3-ae58-4259-f4e6-5518c11c9aa0",
        "colab": {
          "base_uri": "https://localhost:8080/",
          "height": 34
        }
      },
      "source": [
        "len(stations_list)"
      ],
      "execution_count": 0,
      "outputs": [
        {
          "output_type": "execute_result",
          "data": {
            "text/plain": [
              "293"
            ]
          },
          "metadata": {
            "tags": []
          },
          "execution_count": 20
        }
      ]
    },
    {
      "cell_type": "markdown",
      "metadata": {
        "id": "l2FqG6DhIQ1h",
        "colab_type": "text"
      },
      "source": [
        "Now we have a list of dictionaries with all the information about each of the 293 stations extracted from the dataframe, namely ID, name, capacity, latitude, longitude, if it was matched or not, and the score of the match if fuzzywuzy was used. Now let's turn it into a dataframe to get a full list of stations for the ridership data."
      ]
    },
    {
      "cell_type": "code",
      "metadata": {
        "id": "b-716oF-Na2D",
        "colab_type": "code",
        "outputId": "a6d2226a-35fe-4a35-a19b-62af61872a44",
        "colab": {
          "base_uri": "https://localhost:8080/",
          "height": 197
        }
      },
      "source": [
        "#Create the dataset as needed\n",
        "stations_df = pd.DataFrame(stations_list)\n",
        "stations_df.columns =['cap', 'st_id', 'lat', 'lon', 'matched', 'st_name', 'score']\n",
        "stations_df.head(5)"
      ],
      "execution_count": 0,
      "outputs": [
        {
          "output_type": "execute_result",
          "data": {
            "text/html": [
              "<div>\n",
              "<style scoped>\n",
              "    .dataframe tbody tr th:only-of-type {\n",
              "        vertical-align: middle;\n",
              "    }\n",
              "\n",
              "    .dataframe tbody tr th {\n",
              "        vertical-align: top;\n",
              "    }\n",
              "\n",
              "    .dataframe thead th {\n",
              "        text-align: right;\n",
              "    }\n",
              "</style>\n",
              "<table border=\"1\" class=\"dataframe\">\n",
              "  <thead>\n",
              "    <tr style=\"text-align: right;\">\n",
              "      <th></th>\n",
              "      <th>cap</th>\n",
              "      <th>st_id</th>\n",
              "      <th>lat</th>\n",
              "      <th>lon</th>\n",
              "      <th>matched</th>\n",
              "      <th>st_name</th>\n",
              "      <th>score</th>\n",
              "    </tr>\n",
              "  </thead>\n",
              "  <tbody>\n",
              "    <tr>\n",
              "      <th>0</th>\n",
              "      <td>16.0</td>\n",
              "      <td>7268</td>\n",
              "      <td>43.656927</td>\n",
              "      <td>-79.378497</td>\n",
              "      <td>strmatch</td>\n",
              "      <td>111 Bond St (North of Dundas St E)  - SMART</td>\n",
              "      <td>100.0</td>\n",
              "    </tr>\n",
              "    <tr>\n",
              "      <th>1</th>\n",
              "      <td>23.0</td>\n",
              "      <td>7071</td>\n",
              "      <td>43.666233</td>\n",
              "      <td>-79.373327</td>\n",
              "      <td>strmatch</td>\n",
              "      <td>161 Bleecker St (South of Wellesley)</td>\n",
              "      <td>100.0</td>\n",
              "    </tr>\n",
              "    <tr>\n",
              "      <th>2</th>\n",
              "      <td>26.0</td>\n",
              "      <td>7033</td>\n",
              "      <td>43.645609</td>\n",
              "      <td>-79.380386</td>\n",
              "      <td>fuzzywuzy</td>\n",
              "      <td>Union Station</td>\n",
              "      <td>100.0</td>\n",
              "    </tr>\n",
              "    <tr>\n",
              "      <th>3</th>\n",
              "      <td>15.0</td>\n",
              "      <td>7123</td>\n",
              "      <td>43.643834</td>\n",
              "      <td>-79.396649</td>\n",
              "      <td>strmatch</td>\n",
              "      <td>424 Wellington St W</td>\n",
              "      <td>100.0</td>\n",
              "    </tr>\n",
              "    <tr>\n",
              "      <th>4</th>\n",
              "      <td>15.0</td>\n",
              "      <td>7123</td>\n",
              "      <td>43.643834</td>\n",
              "      <td>-79.396649</td>\n",
              "      <td>fuzzywuzy</td>\n",
              "      <td>424 Wellington St W</td>\n",
              "      <td>95.0</td>\n",
              "    </tr>\n",
              "  </tbody>\n",
              "</table>\n",
              "</div>"
            ],
            "text/plain": [
              "    cap st_id  ...                                      st_name  score\n",
              "0  16.0  7268  ...  111 Bond St (North of Dundas St E)  - SMART  100.0\n",
              "1  23.0  7071  ...         161 Bleecker St (South of Wellesley)  100.0\n",
              "2  26.0  7033  ...                                Union Station  100.0\n",
              "3  15.0  7123  ...                          424 Wellington St W  100.0\n",
              "4  15.0  7123  ...                          424 Wellington St W   95.0\n",
              "\n",
              "[5 rows x 7 columns]"
            ]
          },
          "metadata": {
            "tags": []
          },
          "execution_count": 21
        }
      ]
    },
    {
      "cell_type": "markdown",
      "metadata": {
        "id": "4zdd4J4Lyzig",
        "colab_type": "text"
      },
      "source": [
        "Now we are going to use this information to match the capacity, ID, lat, long and name variables to our ``stations_2017`` dataset to complete the information in it."
      ]
    },
    {
      "cell_type": "code",
      "metadata": {
        "id": "aYDvZGA2IhXF",
        "colab_type": "code",
        "outputId": "08d839ef-d2c5-45ae-9099-e776f371b714",
        "colab": {
          "base_uri": "https://localhost:8080/",
          "height": 107
        }
      },
      "source": [
        "#Merge dataframes\n",
        "stations_df = stations_2017.reset_index(drop=True).merge(stations_df.reset_index(drop=True), \n",
        "                                                         left_index=True, \n",
        "                                                         right_index=True)\n",
        "#Display a bit\n",
        "stations_df.head(2)"
      ],
      "execution_count": 0,
      "outputs": [
        {
          "output_type": "execute_result",
          "data": {
            "text/html": [
              "<div>\n",
              "<style scoped>\n",
              "    .dataframe tbody tr th:only-of-type {\n",
              "        vertical-align: middle;\n",
              "    }\n",
              "\n",
              "    .dataframe tbody tr th {\n",
              "        vertical-align: top;\n",
              "    }\n",
              "\n",
              "    .dataframe thead th {\n",
              "        text-align: right;\n",
              "    }\n",
              "</style>\n",
              "<table border=\"1\" class=\"dataframe\">\n",
              "  <thead>\n",
              "    <tr style=\"text-align: right;\">\n",
              "      <th></th>\n",
              "      <th>id</th>\n",
              "      <th>station</th>\n",
              "      <th>cap</th>\n",
              "      <th>st_id</th>\n",
              "      <th>lat</th>\n",
              "      <th>lon</th>\n",
              "      <th>matched</th>\n",
              "      <th>st_name</th>\n",
              "      <th>score</th>\n",
              "    </tr>\n",
              "  </thead>\n",
              "  <tbody>\n",
              "    <tr>\n",
              "      <th>0</th>\n",
              "      <td>None</td>\n",
              "      <td>111 Bond St (North of Dundas St E)  - SMART</td>\n",
              "      <td>16.0</td>\n",
              "      <td>7268</td>\n",
              "      <td>43.656927</td>\n",
              "      <td>-79.378497</td>\n",
              "      <td>strmatch</td>\n",
              "      <td>111 Bond St (North of Dundas St E)  - SMART</td>\n",
              "      <td>100.0</td>\n",
              "    </tr>\n",
              "    <tr>\n",
              "      <th>1</th>\n",
              "      <td>7071</td>\n",
              "      <td>161 Bleecker St (South of Wellesley)</td>\n",
              "      <td>23.0</td>\n",
              "      <td>7071</td>\n",
              "      <td>43.666233</td>\n",
              "      <td>-79.373327</td>\n",
              "      <td>strmatch</td>\n",
              "      <td>161 Bleecker St (South of Wellesley)</td>\n",
              "      <td>100.0</td>\n",
              "    </tr>\n",
              "  </tbody>\n",
              "</table>\n",
              "</div>"
            ],
            "text/plain": [
              "     id  ...  score\n",
              "0  None  ...  100.0\n",
              "1  7071  ...  100.0\n",
              "\n",
              "[2 rows x 9 columns]"
            ]
          },
          "metadata": {
            "tags": []
          },
          "execution_count": 22
        }
      ]
    },
    {
      "cell_type": "markdown",
      "metadata": {
        "id": "oeUDKofKNTQR",
        "colab_type": "text"
      },
      "source": [
        "Now let's check if we have some inconsistencies in the mapping carried out."
      ]
    },
    {
      "cell_type": "code",
      "metadata": {
        "id": "a17jQNt8dko2",
        "colab_type": "code",
        "outputId": "1f3c6e4e-9575-4dec-c69d-7560d09a44bb",
        "colab": {
          "base_uri": "https://localhost:8080/",
          "height": 437
        }
      },
      "source": [
        "#Check for null values\n",
        "stations_df.loc[pd.isna(stations_df.st_id), :].reset_index(drop=True)"
      ],
      "execution_count": 0,
      "outputs": [
        {
          "output_type": "execute_result",
          "data": {
            "text/html": [
              "<div>\n",
              "<style scoped>\n",
              "    .dataframe tbody tr th:only-of-type {\n",
              "        vertical-align: middle;\n",
              "    }\n",
              "\n",
              "    .dataframe tbody tr th {\n",
              "        vertical-align: top;\n",
              "    }\n",
              "\n",
              "    .dataframe thead th {\n",
              "        text-align: right;\n",
              "    }\n",
              "</style>\n",
              "<table border=\"1\" class=\"dataframe\">\n",
              "  <thead>\n",
              "    <tr style=\"text-align: right;\">\n",
              "      <th></th>\n",
              "      <th>id</th>\n",
              "      <th>station</th>\n",
              "      <th>cap</th>\n",
              "      <th>st_id</th>\n",
              "      <th>lat</th>\n",
              "      <th>lon</th>\n",
              "      <th>matched</th>\n",
              "      <th>st_name</th>\n",
              "      <th>score</th>\n",
              "    </tr>\n",
              "  </thead>\n",
              "  <tbody>\n",
              "    <tr>\n",
              "      <th>0</th>\n",
              "      <td>7179</td>\n",
              "      <td>Bloor GO / UP Station/ Rail Path</td>\n",
              "      <td>NaN</td>\n",
              "      <td>None</td>\n",
              "      <td>NaN</td>\n",
              "      <td>NaN</td>\n",
              "      <td>No</td>\n",
              "      <td>Bloor GO / UP Station/ Rail Path</td>\n",
              "      <td>NaN</td>\n",
              "    </tr>\n",
              "    <tr>\n",
              "      <th>1</th>\n",
              "      <td>7061</td>\n",
              "      <td>Bloor St / Brunswick Ave</td>\n",
              "      <td>NaN</td>\n",
              "      <td>None</td>\n",
              "      <td>NaN</td>\n",
              "      <td>NaN</td>\n",
              "      <td>No</td>\n",
              "      <td>Bloor St / Brunswick Ave</td>\n",
              "      <td>NaN</td>\n",
              "    </tr>\n",
              "    <tr>\n",
              "      <th>2</th>\n",
              "      <td>7073</td>\n",
              "      <td>Bremner Blvd / Spadina Ave</td>\n",
              "      <td>NaN</td>\n",
              "      <td>None</td>\n",
              "      <td>NaN</td>\n",
              "      <td>NaN</td>\n",
              "      <td>No</td>\n",
              "      <td>Bremner Blvd / Spadina Ave</td>\n",
              "      <td>NaN</td>\n",
              "    </tr>\n",
              "    <tr>\n",
              "      <th>3</th>\n",
              "      <td>7130</td>\n",
              "      <td>Davenport Rd / Bedford Rd</td>\n",
              "      <td>NaN</td>\n",
              "      <td>None</td>\n",
              "      <td>NaN</td>\n",
              "      <td>NaN</td>\n",
              "      <td>No</td>\n",
              "      <td>Davenport Rd / Bedford Rd</td>\n",
              "      <td>NaN</td>\n",
              "    </tr>\n",
              "    <tr>\n",
              "      <th>4</th>\n",
              "      <td>None</td>\n",
              "      <td>Fringe Next Stage - 7219</td>\n",
              "      <td>NaN</td>\n",
              "      <td>None</td>\n",
              "      <td>NaN</td>\n",
              "      <td>NaN</td>\n",
              "      <td>No</td>\n",
              "      <td>Fringe Next Stage - 7219</td>\n",
              "      <td>NaN</td>\n",
              "    </tr>\n",
              "    <tr>\n",
              "      <th>5</th>\n",
              "      <td>None</td>\n",
              "      <td>Margueretta St / College St</td>\n",
              "      <td>NaN</td>\n",
              "      <td>None</td>\n",
              "      <td>NaN</td>\n",
              "      <td>NaN</td>\n",
              "      <td>No</td>\n",
              "      <td>Margueretta St / College St</td>\n",
              "      <td>NaN</td>\n",
              "    </tr>\n",
              "    <tr>\n",
              "      <th>6</th>\n",
              "      <td>7183</td>\n",
              "      <td>Margueretta St / College St W</td>\n",
              "      <td>NaN</td>\n",
              "      <td>None</td>\n",
              "      <td>NaN</td>\n",
              "      <td>NaN</td>\n",
              "      <td>No</td>\n",
              "      <td>Margueretta St / College St W</td>\n",
              "      <td>NaN</td>\n",
              "    </tr>\n",
              "    <tr>\n",
              "      <th>7</th>\n",
              "      <td>None</td>\n",
              "      <td>Michael Sweet Ave / St. Patrick St</td>\n",
              "      <td>NaN</td>\n",
              "      <td>None</td>\n",
              "      <td>NaN</td>\n",
              "      <td>NaN</td>\n",
              "      <td>No</td>\n",
              "      <td>Michael Sweet Ave / St. Patrick St</td>\n",
              "      <td>NaN</td>\n",
              "    </tr>\n",
              "    <tr>\n",
              "      <th>8</th>\n",
              "      <td>7171</td>\n",
              "      <td>Ontario Place Blvd / Remembrance Dr</td>\n",
              "      <td>NaN</td>\n",
              "      <td>None</td>\n",
              "      <td>NaN</td>\n",
              "      <td>NaN</td>\n",
              "      <td>No</td>\n",
              "      <td>Ontario Place Blvd / Remembrance Dr</td>\n",
              "      <td>NaN</td>\n",
              "    </tr>\n",
              "    <tr>\n",
              "      <th>9</th>\n",
              "      <td>None</td>\n",
              "      <td>Roxton Rd / College St</td>\n",
              "      <td>NaN</td>\n",
              "      <td>None</td>\n",
              "      <td>NaN</td>\n",
              "      <td>NaN</td>\n",
              "      <td>No</td>\n",
              "      <td>Roxton Rd / College St</td>\n",
              "      <td>NaN</td>\n",
              "    </tr>\n",
              "    <tr>\n",
              "      <th>10</th>\n",
              "      <td>7084</td>\n",
              "      <td>Stephenson Ave / Main St</td>\n",
              "      <td>NaN</td>\n",
              "      <td>None</td>\n",
              "      <td>NaN</td>\n",
              "      <td>NaN</td>\n",
              "      <td>No</td>\n",
              "      <td>Stephenson Ave / Main St</td>\n",
              "      <td>NaN</td>\n",
              "    </tr>\n",
              "    <tr>\n",
              "      <th>11</th>\n",
              "      <td>7019</td>\n",
              "      <td>Temperance St / Yonge St</td>\n",
              "      <td>NaN</td>\n",
              "      <td>None</td>\n",
              "      <td>NaN</td>\n",
              "      <td>NaN</td>\n",
              "      <td>No</td>\n",
              "      <td>Temperance St / Yonge St</td>\n",
              "      <td>NaN</td>\n",
              "    </tr>\n",
              "    <tr>\n",
              "      <th>12</th>\n",
              "      <td>7164</td>\n",
              "      <td>Victoria St / Gould St (Ryerson University)</td>\n",
              "      <td>NaN</td>\n",
              "      <td>None</td>\n",
              "      <td>NaN</td>\n",
              "      <td>NaN</td>\n",
              "      <td>No</td>\n",
              "      <td>Victoria St / Gould St (Ryerson University)</td>\n",
              "      <td>NaN</td>\n",
              "    </tr>\n",
              "  </tbody>\n",
              "</table>\n",
              "</div>"
            ],
            "text/plain": [
              "      id  ... score\n",
              "0   7179  ...   NaN\n",
              "1   7061  ...   NaN\n",
              "2   7073  ...   NaN\n",
              "3   7130  ...   NaN\n",
              "4   None  ...   NaN\n",
              "5   None  ...   NaN\n",
              "6   7183  ...   NaN\n",
              "7   None  ...   NaN\n",
              "8   7171  ...   NaN\n",
              "9   None  ...   NaN\n",
              "10  7084  ...   NaN\n",
              "11  7019  ...   NaN\n",
              "12  7164  ...   NaN\n",
              "\n",
              "[13 rows x 9 columns]"
            ]
          },
          "metadata": {
            "tags": []
          },
          "execution_count": 23
        }
      ]
    },
    {
      "cell_type": "markdown",
      "metadata": {
        "id": "JpoqZiQt3t6M",
        "colab_type": "text"
      },
      "source": [
        "So, aftwer reviewing manually these registers, it turns out that most of these 13 stations no longer exist (according to BTS data), the only two stations that were found and not matched by our algorithm were:\n",
        "\n",
        "- 'Temperance St / Yonge St\t' -> 'Temperance St. Station'\n",
        "- 'Bloor GO / UP Station/ Rail Path\t' -> 'Bloor GO / UP Station (West Toronto Railpath)'\n",
        "\n",
        "To improve the score in these two, we will modify the `stations_df` data to replace these names in order to match for both of these stations to the map below. We are offering a little bit of help to the string matching algorithm."
      ]
    },
    {
      "cell_type": "code",
      "metadata": {
        "id": "LotqN61Y45XY",
        "colab_type": "code",
        "colab": {}
      },
      "source": [
        "#Stations to be replaced\n",
        "str_dict = {'Temperance St / Yonge St': 'Temperance St. Station',\n",
        "            'Bloor GO / UP Station/ Rail Path\t': 'Bloor GO / UP Station (West Toronto Railpath)'}\n",
        "\n",
        "# Find these stations and modify the stations_df map.\n",
        "for key, value in str_dict.items():\n",
        "  \n",
        "  #Get index\n",
        "  idx = stations_df.index[stations_df.station == key.strip()]\n",
        "  value = value.strip()\n",
        "  \n",
        "  #Fill values manually\n",
        "  stations_df.loc[idx, 'st_id'] = stations_data.station_id[stations_data.name == value].values[0]\n",
        "  stations_df.loc[idx, 'st_name'] = stations_data.name[stations_data.name == value].values[0]\n",
        "  stations_df.loc[idx, 'cap'] = stations_data.capacity[stations_data.name == value].values[0]\n",
        "  stations_df.loc[idx, 'lat'] = stations_data.lat[stations_data.name == value].values[0]\n",
        "  stations_df.loc[idx, 'lon'] = stations_data.lon[stations_data.name == value].values[0]\n",
        "  stations_df.loc[idx, 'matched'] = 'No'\n",
        "  stations_df.loc[idx, 'score'] = None"
      ],
      "execution_count": 0,
      "outputs": []
    },
    {
      "cell_type": "markdown",
      "metadata": {
        "id": "hOMjz8Kc0kga",
        "colab_type": "text"
      },
      "source": [
        "Check if it was corrected and we have two registers less in our dataframe."
      ]
    },
    {
      "cell_type": "code",
      "metadata": {
        "id": "SR5NKHgyt2yH",
        "colab_type": "code",
        "outputId": "e403ed8e-48a7-46ca-f9eb-d6218571f256",
        "colab": {
          "base_uri": "https://localhost:8080/",
          "height": 377
        }
      },
      "source": [
        "stations_df.loc[pd.isna(stations_df.st_id), :].reset_index()"
      ],
      "execution_count": 0,
      "outputs": [
        {
          "output_type": "execute_result",
          "data": {
            "text/html": [
              "<div>\n",
              "<style scoped>\n",
              "    .dataframe tbody tr th:only-of-type {\n",
              "        vertical-align: middle;\n",
              "    }\n",
              "\n",
              "    .dataframe tbody tr th {\n",
              "        vertical-align: top;\n",
              "    }\n",
              "\n",
              "    .dataframe thead th {\n",
              "        text-align: right;\n",
              "    }\n",
              "</style>\n",
              "<table border=\"1\" class=\"dataframe\">\n",
              "  <thead>\n",
              "    <tr style=\"text-align: right;\">\n",
              "      <th></th>\n",
              "      <th>index</th>\n",
              "      <th>id</th>\n",
              "      <th>station</th>\n",
              "      <th>cap</th>\n",
              "      <th>st_id</th>\n",
              "      <th>lat</th>\n",
              "      <th>lon</th>\n",
              "      <th>matched</th>\n",
              "      <th>st_name</th>\n",
              "      <th>score</th>\n",
              "    </tr>\n",
              "  </thead>\n",
              "  <tbody>\n",
              "    <tr>\n",
              "      <th>0</th>\n",
              "      <td>32</td>\n",
              "      <td>7061</td>\n",
              "      <td>Bloor St / Brunswick Ave</td>\n",
              "      <td>NaN</td>\n",
              "      <td>None</td>\n",
              "      <td>NaN</td>\n",
              "      <td>NaN</td>\n",
              "      <td>No</td>\n",
              "      <td>Bloor St / Brunswick Ave</td>\n",
              "      <td>NaN</td>\n",
              "    </tr>\n",
              "    <tr>\n",
              "      <th>1</th>\n",
              "      <td>44</td>\n",
              "      <td>7073</td>\n",
              "      <td>Bremner Blvd / Spadina Ave</td>\n",
              "      <td>NaN</td>\n",
              "      <td>None</td>\n",
              "      <td>NaN</td>\n",
              "      <td>NaN</td>\n",
              "      <td>No</td>\n",
              "      <td>Bremner Blvd / Spadina Ave</td>\n",
              "      <td>NaN</td>\n",
              "    </tr>\n",
              "    <tr>\n",
              "      <th>2</th>\n",
              "      <td>83</td>\n",
              "      <td>7130</td>\n",
              "      <td>Davenport Rd / Bedford Rd</td>\n",
              "      <td>NaN</td>\n",
              "      <td>None</td>\n",
              "      <td>NaN</td>\n",
              "      <td>NaN</td>\n",
              "      <td>No</td>\n",
              "      <td>Davenport Rd / Bedford Rd</td>\n",
              "      <td>NaN</td>\n",
              "    </tr>\n",
              "    <tr>\n",
              "      <th>3</th>\n",
              "      <td>111</td>\n",
              "      <td>None</td>\n",
              "      <td>Fringe Next Stage - 7219</td>\n",
              "      <td>NaN</td>\n",
              "      <td>None</td>\n",
              "      <td>NaN</td>\n",
              "      <td>NaN</td>\n",
              "      <td>No</td>\n",
              "      <td>Fringe Next Stage - 7219</td>\n",
              "      <td>NaN</td>\n",
              "    </tr>\n",
              "    <tr>\n",
              "      <th>4</th>\n",
              "      <td>166</td>\n",
              "      <td>None</td>\n",
              "      <td>Margueretta St / College St</td>\n",
              "      <td>NaN</td>\n",
              "      <td>None</td>\n",
              "      <td>NaN</td>\n",
              "      <td>NaN</td>\n",
              "      <td>No</td>\n",
              "      <td>Margueretta St / College St</td>\n",
              "      <td>NaN</td>\n",
              "    </tr>\n",
              "    <tr>\n",
              "      <th>5</th>\n",
              "      <td>167</td>\n",
              "      <td>7183</td>\n",
              "      <td>Margueretta St / College St W</td>\n",
              "      <td>NaN</td>\n",
              "      <td>None</td>\n",
              "      <td>NaN</td>\n",
              "      <td>NaN</td>\n",
              "      <td>No</td>\n",
              "      <td>Margueretta St / College St W</td>\n",
              "      <td>NaN</td>\n",
              "    </tr>\n",
              "    <tr>\n",
              "      <th>6</th>\n",
              "      <td>173</td>\n",
              "      <td>None</td>\n",
              "      <td>Michael Sweet Ave / St. Patrick St</td>\n",
              "      <td>NaN</td>\n",
              "      <td>None</td>\n",
              "      <td>NaN</td>\n",
              "      <td>NaN</td>\n",
              "      <td>No</td>\n",
              "      <td>Michael Sweet Ave / St. Patrick St</td>\n",
              "      <td>NaN</td>\n",
              "    </tr>\n",
              "    <tr>\n",
              "      <th>7</th>\n",
              "      <td>180</td>\n",
              "      <td>7171</td>\n",
              "      <td>Ontario Place Blvd / Remembrance Dr</td>\n",
              "      <td>NaN</td>\n",
              "      <td>None</td>\n",
              "      <td>NaN</td>\n",
              "      <td>NaN</td>\n",
              "      <td>No</td>\n",
              "      <td>Ontario Place Blvd / Remembrance Dr</td>\n",
              "      <td>NaN</td>\n",
              "    </tr>\n",
              "    <tr>\n",
              "      <th>8</th>\n",
              "      <td>222</td>\n",
              "      <td>None</td>\n",
              "      <td>Roxton Rd / College St</td>\n",
              "      <td>NaN</td>\n",
              "      <td>None</td>\n",
              "      <td>NaN</td>\n",
              "      <td>NaN</td>\n",
              "      <td>No</td>\n",
              "      <td>Roxton Rd / College St</td>\n",
              "      <td>NaN</td>\n",
              "    </tr>\n",
              "    <tr>\n",
              "      <th>9</th>\n",
              "      <td>244</td>\n",
              "      <td>7084</td>\n",
              "      <td>Stephenson Ave / Main St</td>\n",
              "      <td>NaN</td>\n",
              "      <td>None</td>\n",
              "      <td>NaN</td>\n",
              "      <td>NaN</td>\n",
              "      <td>No</td>\n",
              "      <td>Stephenson Ave / Main St</td>\n",
              "      <td>NaN</td>\n",
              "    </tr>\n",
              "    <tr>\n",
              "      <th>10</th>\n",
              "      <td>268</td>\n",
              "      <td>7164</td>\n",
              "      <td>Victoria St / Gould St (Ryerson University)</td>\n",
              "      <td>NaN</td>\n",
              "      <td>None</td>\n",
              "      <td>NaN</td>\n",
              "      <td>NaN</td>\n",
              "      <td>No</td>\n",
              "      <td>Victoria St / Gould St (Ryerson University)</td>\n",
              "      <td>NaN</td>\n",
              "    </tr>\n",
              "  </tbody>\n",
              "</table>\n",
              "</div>"
            ],
            "text/plain": [
              "    index    id  ...                                      st_name  score\n",
              "0      32  7061  ...                     Bloor St / Brunswick Ave    NaN\n",
              "1      44  7073  ...                   Bremner Blvd / Spadina Ave    NaN\n",
              "2      83  7130  ...                    Davenport Rd / Bedford Rd    NaN\n",
              "3     111  None  ...                     Fringe Next Stage - 7219    NaN\n",
              "4     166  None  ...                  Margueretta St / College St    NaN\n",
              "5     167  7183  ...                Margueretta St / College St W    NaN\n",
              "6     173  None  ...           Michael Sweet Ave / St. Patrick St    NaN\n",
              "7     180  7171  ...          Ontario Place Blvd / Remembrance Dr    NaN\n",
              "8     222  None  ...                       Roxton Rd / College St    NaN\n",
              "9     244  7084  ...                     Stephenson Ave / Main St    NaN\n",
              "10    268  7164  ...  Victoria St / Gould St (Ryerson University)    NaN\n",
              "\n",
              "[11 rows x 10 columns]"
            ]
          },
          "metadata": {
            "tags": []
          },
          "execution_count": 25
        }
      ]
    },
    {
      "cell_type": "markdown",
      "metadata": {
        "id": "xpC1zEUNPyNb",
        "colab_type": "text"
      },
      "source": [
        "Great, the two stations that we needed information from are now correct. Now it's time to map the values to the stations, for this we will extract a subset of `stations_df` because not all the information is needed."
      ]
    },
    {
      "cell_type": "code",
      "metadata": {
        "id": "5JYTjEu9ecFp",
        "colab_type": "code",
        "outputId": "fd1ddf5f-12cf-43b6-8c4c-ccb182df2f02",
        "colab": {
          "base_uri": "https://localhost:8080/",
          "height": 197
        }
      },
      "source": [
        "#Create the map to use\n",
        "stations_map = stations_df[['station', 'st_id', 'st_name', 'lat', 'lon', 'cap']]\n",
        "stations_map.station = stations_map.station.str.strip()\n",
        "stations_map.head()"
      ],
      "execution_count": 0,
      "outputs": [
        {
          "output_type": "execute_result",
          "data": {
            "text/html": [
              "<div>\n",
              "<style scoped>\n",
              "    .dataframe tbody tr th:only-of-type {\n",
              "        vertical-align: middle;\n",
              "    }\n",
              "\n",
              "    .dataframe tbody tr th {\n",
              "        vertical-align: top;\n",
              "    }\n",
              "\n",
              "    .dataframe thead th {\n",
              "        text-align: right;\n",
              "    }\n",
              "</style>\n",
              "<table border=\"1\" class=\"dataframe\">\n",
              "  <thead>\n",
              "    <tr style=\"text-align: right;\">\n",
              "      <th></th>\n",
              "      <th>station</th>\n",
              "      <th>st_id</th>\n",
              "      <th>st_name</th>\n",
              "      <th>lat</th>\n",
              "      <th>lon</th>\n",
              "      <th>cap</th>\n",
              "    </tr>\n",
              "  </thead>\n",
              "  <tbody>\n",
              "    <tr>\n",
              "      <th>0</th>\n",
              "      <td>111 Bond St (North of Dundas St E)  - SMART</td>\n",
              "      <td>7268</td>\n",
              "      <td>111 Bond St (North of Dundas St E)  - SMART</td>\n",
              "      <td>43.656927</td>\n",
              "      <td>-79.378497</td>\n",
              "      <td>16.0</td>\n",
              "    </tr>\n",
              "    <tr>\n",
              "      <th>1</th>\n",
              "      <td>161 Bleecker St (South of Wellesley)</td>\n",
              "      <td>7071</td>\n",
              "      <td>161 Bleecker St (South of Wellesley)</td>\n",
              "      <td>43.666233</td>\n",
              "      <td>-79.373327</td>\n",
              "      <td>23.0</td>\n",
              "    </tr>\n",
              "    <tr>\n",
              "      <th>2</th>\n",
              "      <td>25 York St (ACC/Union Station South)</td>\n",
              "      <td>7033</td>\n",
              "      <td>Union Station</td>\n",
              "      <td>43.645609</td>\n",
              "      <td>-79.380386</td>\n",
              "      <td>26.0</td>\n",
              "    </tr>\n",
              "    <tr>\n",
              "      <th>3</th>\n",
              "      <td>424 Wellington St W</td>\n",
              "      <td>7123</td>\n",
              "      <td>424 Wellington St W</td>\n",
              "      <td>43.643834</td>\n",
              "      <td>-79.396649</td>\n",
              "      <td>15.0</td>\n",
              "    </tr>\n",
              "    <tr>\n",
              "      <th>4</th>\n",
              "      <td>424 Wellington St. W</td>\n",
              "      <td>7123</td>\n",
              "      <td>424 Wellington St W</td>\n",
              "      <td>43.643834</td>\n",
              "      <td>-79.396649</td>\n",
              "      <td>15.0</td>\n",
              "    </tr>\n",
              "  </tbody>\n",
              "</table>\n",
              "</div>"
            ],
            "text/plain": [
              "                                       station st_id  ...        lon   cap\n",
              "0  111 Bond St (North of Dundas St E)  - SMART  7268  ... -79.378497  16.0\n",
              "1         161 Bleecker St (South of Wellesley)  7071  ... -79.373327  23.0\n",
              "2         25 York St (ACC/Union Station South)  7033  ... -79.380386  26.0\n",
              "3                          424 Wellington St W  7123  ... -79.396649  15.0\n",
              "4                         424 Wellington St. W  7123  ... -79.396649  15.0\n",
              "\n",
              "[5 rows x 6 columns]"
            ]
          },
          "metadata": {
            "tags": []
          },
          "execution_count": 26
        }
      ]
    },
    {
      "cell_type": "markdown",
      "metadata": {
        "id": "hsVNYj0H1VrZ",
        "colab_type": "text"
      },
      "source": [
        "Now, before we finally assign the new data to the ``bike_df`` main dataframe we are going to need a bit of preprocessing"
      ]
    },
    {
      "cell_type": "code",
      "metadata": {
        "id": "tWboyScKKhM4",
        "colab_type": "code",
        "colab": {}
      },
      "source": [
        "bike_df.from_station_name = bike_df.from_station_name.str.strip()\n",
        "bike_df.to_station_name = bike_df.to_station_name.str.strip()"
      ],
      "execution_count": 0,
      "outputs": []
    },
    {
      "cell_type": "markdown",
      "metadata": {
        "id": "2k5U6U7jfGJ4",
        "colab_type": "text"
      },
      "source": [
        "Now merge the ``stations_map`` with our main dataframe to correct the origin and destination information and attached extra data."
      ]
    },
    {
      "cell_type": "code",
      "metadata": {
        "id": "-N8PZ61_GEsS",
        "colab_type": "code",
        "colab": {}
      },
      "source": [
        "bike_clean = bike_df.merge(stations_map,\n",
        "                      how='left', \n",
        "                      left_on='from_station_name', \n",
        "                      right_on='station')\\\n",
        "                  .merge(stations_map, \n",
        "                      how='left', \n",
        "                      left_on='to_station_name', \n",
        "                      right_on='station', suffixes = ('_orig','_dest'))"
      ],
      "execution_count": 0,
      "outputs": []
    },
    {
      "cell_type": "markdown",
      "metadata": {
        "id": "5nbMfBEstH6-",
        "colab_type": "text"
      },
      "source": [
        "Now let's see if there were any stations left to match for the origin and destination stations."
      ]
    },
    {
      "cell_type": "code",
      "metadata": {
        "id": "D_CYytWcorN9",
        "colab_type": "code",
        "outputId": "cb6280e6-f9c7-41a8-9b24-b8a46285ea6c",
        "colab": {
          "base_uri": "https://localhost:8080/",
          "height": 34
        }
      },
      "source": [
        "bike_clean.from_station_name[pd.isna(bike_clean.st_id_orig)].nunique()"
      ],
      "execution_count": 0,
      "outputs": [
        {
          "output_type": "execute_result",
          "data": {
            "text/plain": [
              "11"
            ]
          },
          "metadata": {
            "tags": []
          },
          "execution_count": 32
        }
      ]
    },
    {
      "cell_type": "code",
      "metadata": {
        "id": "n7UCmWuxrIFK",
        "colab_type": "code",
        "outputId": "e9e378c0-64e8-4b80-cfa5-f190ef630ac7",
        "colab": {
          "base_uri": "https://localhost:8080/",
          "height": 34
        }
      },
      "source": [
        "bike_clean.to_station_name[pd.isna(bike_clean.st_id_dest)].nunique()"
      ],
      "execution_count": 0,
      "outputs": [
        {
          "output_type": "execute_result",
          "data": {
            "text/plain": [
              "11"
            ]
          },
          "metadata": {
            "tags": []
          },
          "execution_count": 33
        }
      ]
    },
    {
      "cell_type": "markdown",
      "metadata": {
        "id": "Z-xhXXmVhv02",
        "colab_type": "text"
      },
      "source": [
        "This is expected since we saw before that we did not have any data for 11 stations (which are represented here). That is to say, the only null values that we have for non-matched stations are the ones we already know no longer exist. Now let's drop some unusefull columns from this wide dataset"
      ]
    },
    {
      "cell_type": "code",
      "metadata": {
        "id": "tPWWdLtw1zwu",
        "colab_type": "code",
        "outputId": "55bdac48-2e13-43de-c946-6f51b4c4a935",
        "colab": {
          "base_uri": "https://localhost:8080/",
          "height": 131
        }
      },
      "source": [
        "bike_clean.head(1)"
      ],
      "execution_count": 0,
      "outputs": [
        {
          "output_type": "execute_result",
          "data": {
            "text/html": [
              "<div>\n",
              "<style scoped>\n",
              "    .dataframe tbody tr th:only-of-type {\n",
              "        vertical-align: middle;\n",
              "    }\n",
              "\n",
              "    .dataframe tbody tr th {\n",
              "        vertical-align: top;\n",
              "    }\n",
              "\n",
              "    .dataframe thead th {\n",
              "        text-align: right;\n",
              "    }\n",
              "</style>\n",
              "<table border=\"1\" class=\"dataframe\">\n",
              "  <thead>\n",
              "    <tr style=\"text-align: right;\">\n",
              "      <th></th>\n",
              "      <th>trip_id</th>\n",
              "      <th>trip_duration_seconds</th>\n",
              "      <th>from_station_id</th>\n",
              "      <th>from_station_name</th>\n",
              "      <th>to_station_id</th>\n",
              "      <th>to_station_name</th>\n",
              "      <th>user_type</th>\n",
              "      <th>trip_start_time_f</th>\n",
              "      <th>trip_stop_time_f</th>\n",
              "      <th>station_orig</th>\n",
              "      <th>st_id_orig</th>\n",
              "      <th>st_name_orig</th>\n",
              "      <th>lat_orig</th>\n",
              "      <th>lon_orig</th>\n",
              "      <th>cap_orig</th>\n",
              "      <th>station_dest</th>\n",
              "      <th>st_id_dest</th>\n",
              "      <th>st_name_dest</th>\n",
              "      <th>lat_dest</th>\n",
              "      <th>lon_dest</th>\n",
              "      <th>cap_dest</th>\n",
              "    </tr>\n",
              "  </thead>\n",
              "  <tbody>\n",
              "    <tr>\n",
              "      <th>0</th>\n",
              "      <td>712382</td>\n",
              "      <td>223.0</td>\n",
              "      <td>7051</td>\n",
              "      <td>Wellesley St E / Yonge St Green P</td>\n",
              "      <td>7089</td>\n",
              "      <td>Church St  / Wood St</td>\n",
              "      <td>Member</td>\n",
              "      <td>2017-01-01</td>\n",
              "      <td>2017-01-01 00:03:00</td>\n",
              "      <td>Wellesley St E / Yonge St Green P</td>\n",
              "      <td>7051</td>\n",
              "      <td>Wellesley St E / Yonge St (Green P)</td>\n",
              "      <td>43.66506</td>\n",
              "      <td>-79.38357</td>\n",
              "      <td>17.0</td>\n",
              "      <td>Church St  / Wood St</td>\n",
              "      <td>7089</td>\n",
              "      <td>Church St  / Wood St</td>\n",
              "      <td>43.662712</td>\n",
              "      <td>-79.379903</td>\n",
              "      <td>19.0</td>\n",
              "    </tr>\n",
              "  </tbody>\n",
              "</table>\n",
              "</div>"
            ],
            "text/plain": [
              "   trip_id  trip_duration_seconds  ...   lon_dest cap_dest\n",
              "0   712382                  223.0  ... -79.379903     19.0\n",
              "\n",
              "[1 rows x 21 columns]"
            ]
          },
          "metadata": {
            "tags": []
          },
          "execution_count": 34
        }
      ]
    },
    {
      "cell_type": "code",
      "metadata": {
        "id": "dvvHYFcgh2iv",
        "colab_type": "code",
        "colab": {}
      },
      "source": [
        "bike_clean.drop(columns=['station_orig', 'station_dest', 'from_station_id', \n",
        "                         'to_station_id', 'from_station_name', 'to_station_name'], inplace=True)"
      ],
      "execution_count": 0,
      "outputs": []
    },
    {
      "cell_type": "markdown",
      "metadata": {
        "id": "C8yGMCphnN0j",
        "colab_type": "text"
      },
      "source": [
        "Now let's drop the trips with **unknown origin and destination** stations since those are not useful for our analysis"
      ]
    },
    {
      "cell_type": "code",
      "metadata": {
        "id": "hnDiI03ZnRpo",
        "colab_type": "code",
        "outputId": "9d890b65-beb9-434a-8720-4a2ab36abc4a",
        "colab": {
          "base_uri": "https://localhost:8080/",
          "height": 34
        }
      },
      "source": [
        "#How many of those registers we have?\n",
        "bike_clean.index[pd.isna(bike_clean.st_id_orig) &  pd.isna(bike_clean.st_id_dest)].nunique()"
      ],
      "execution_count": 0,
      "outputs": [
        {
          "output_type": "execute_result",
          "data": {
            "text/plain": [
              "6606"
            ]
          },
          "metadata": {
            "tags": []
          },
          "execution_count": 36
        }
      ]
    },
    {
      "cell_type": "code",
      "metadata": {
        "id": "BD872HgK0YEm",
        "colab_type": "code",
        "colab": {}
      },
      "source": [
        "#Drop\n",
        "bike_clean.drop(index=bike_clean.index[pd.isna(bike_clean.st_id_orig) &  pd.isna(bike_clean.st_id_dest)], inplace=True)"
      ],
      "execution_count": 0,
      "outputs": []
    },
    {
      "cell_type": "markdown",
      "metadata": {
        "id": "9nkHw61q_7fF",
        "colab_type": "text"
      },
      "source": [
        "**Partial station data**\n",
        "\n",
        "We also have some data in which one of the two stations is unknown. We will perform some Exploratory Data Analysis on it to assess whether if we could omit it or not."
      ]
    },
    {
      "cell_type": "code",
      "metadata": {
        "id": "7CyG9RrWAHrE",
        "colab_type": "code",
        "colab": {}
      },
      "source": [
        "#Get the partial records\n",
        "partial_records = bike_clean[pd.isna(bike_clean.st_id_orig) | pd.isna(bike_clean.st_id_dest)]"
      ],
      "execution_count": 0,
      "outputs": []
    },
    {
      "cell_type": "markdown",
      "metadata": {
        "id": "DEKxPVo8Aips",
        "colab_type": "text"
      },
      "source": [
        "How are these partial records distributed during the year?"
      ]
    },
    {
      "cell_type": "code",
      "metadata": {
        "id": "9323gTxTAdpA",
        "colab_type": "code",
        "outputId": "6ccaff6b-c346-4427-9f59-4b8a3892d858",
        "colab": {
          "base_uri": "https://localhost:8080/",
          "height": 370
        }
      },
      "source": [
        "fig, ax = plt.subplots(nrows=1, ncols=2, figsize=(15,5))\n",
        "\n",
        "# Firtst plot the distribution of trips during the whole year\n",
        "bike_clean.groupby(bike_clean.trip_start_time_f.dt.month).aggregate({'trip_id': 'count'}).plot(kind='bar', ax=ax[0])\n",
        "ax[0].set_title('All of the trips')\n",
        "ax[0].set_xlabel('Months')\n",
        "partial_records.groupby(partial_records.trip_start_time_f.dt.month).aggregate({'trip_id': 'count'}).plot(kind='bar', ax=ax[1])\n",
        "ax[1].set_title('Partial station data')\n",
        "ax[1].set_xlabel('Months')"
      ],
      "execution_count": 0,
      "outputs": [
        {
          "output_type": "execute_result",
          "data": {
            "text/plain": [
              "Text(0.5, 0, 'Months')"
            ]
          },
          "metadata": {
            "tags": []
          },
          "execution_count": 40
        },
        {
          "output_type": "display_data",
          "data": {
            "image/png": "[encoded data removed]",
            "text/plain": [
              "<Figure size 1080x360 with 2 Axes>"
            ]
          },
          "metadata": {
            "tags": []
          }
        }
      ]
    },
    {
      "cell_type": "markdown",
      "metadata": {
        "id": "C4g4Bdw5Bv5_",
        "colab_type": "text"
      },
      "source": [
        "Here, we can see that these are pretty much distributed similarly to the full data throughout the year, hence it will have a distributed impact on the analysis. \n",
        "\n",
        "However, even though the ``None`` stations no longer exist, and under the assumption that **people using the related start stations would still take the service to go to another nearby**, and **people arriving to the related stop destinations would still get there from any other destination**, we would not delete this data and use it for the analysis.\n",
        "\n",
        "But first, store this copy"
      ]
    },
    {
      "cell_type": "code",
      "metadata": {
        "id": "hl49Nxws0uhE",
        "colab_type": "code",
        "colab": {}
      },
      "source": [
        "bike_clean.to_csv('/content/gdrive/My Drive/1000ml/2_BikeShareReplenishment/2017_Toronto_Bikeshare_Stations.csv',\n",
        "              header=True, index=False)"
      ],
      "execution_count": 0,
      "outputs": []
    },
    {
      "cell_type": "markdown",
      "metadata": {
        "id": "gkwyYFJqjSRL",
        "colab_type": "text"
      },
      "source": [
        "### Verifying trip duration\n",
        "\n",
        "Since we already have a tidy dataset, it's worth the time verifying the ``trip_duration_seconds`` variable using our timestamps"
      ]
    },
    {
      "cell_type": "code",
      "metadata": {
        "id": "VetkJ1qG5q_S",
        "colab_type": "code",
        "outputId": "27b8390b-657b-4e73-83c2-59db5855e27f",
        "colab": {
          "base_uri": "https://localhost:8080/",
          "height": 194
        }
      },
      "source": [
        "#Import the data\n",
        "bike_df = pd.read_csv('/content/gdrive/My Drive/1000ml/2_BikeShareReplenishment/2017_Toronto_Bikeshare_Stations.csv',\n",
        "                        parse_dates=['trip_start_time_f', 'trip_stop_time_f'])\n",
        "\n",
        "bike_df.head(2)"
      ],
      "execution_count": 0,
      "outputs": [
        {
          "output_type": "execute_result",
          "data": {
            "text/html": [
              "<div>\n",
              "<style scoped>\n",
              "    .dataframe tbody tr th:only-of-type {\n",
              "        vertical-align: middle;\n",
              "    }\n",
              "\n",
              "    .dataframe tbody tr th {\n",
              "        vertical-align: top;\n",
              "    }\n",
              "\n",
              "    .dataframe thead th {\n",
              "        text-align: right;\n",
              "    }\n",
              "</style>\n",
              "<table border=\"1\" class=\"dataframe\">\n",
              "  <thead>\n",
              "    <tr style=\"text-align: right;\">\n",
              "      <th></th>\n",
              "      <th>trip_id</th>\n",
              "      <th>trip_duration_seconds</th>\n",
              "      <th>user_type</th>\n",
              "      <th>trip_start_time_f</th>\n",
              "      <th>trip_stop_time_f</th>\n",
              "      <th>st_id_orig</th>\n",
              "      <th>st_name_orig</th>\n",
              "      <th>lat_orig</th>\n",
              "      <th>lon_orig</th>\n",
              "      <th>cap_orig</th>\n",
              "      <th>st_id_dest</th>\n",
              "      <th>st_name_dest</th>\n",
              "      <th>lat_dest</th>\n",
              "      <th>lon_dest</th>\n",
              "      <th>cap_dest</th>\n",
              "    </tr>\n",
              "  </thead>\n",
              "  <tbody>\n",
              "    <tr>\n",
              "      <th>0</th>\n",
              "      <td>712382</td>\n",
              "      <td>223.0</td>\n",
              "      <td>Member</td>\n",
              "      <td>2017-01-01</td>\n",
              "      <td>2017-01-01 00:03:00</td>\n",
              "      <td>7051.0</td>\n",
              "      <td>Wellesley St E / Yonge St (Green P)</td>\n",
              "      <td>43.665060</td>\n",
              "      <td>-79.383570</td>\n",
              "      <td>17.0</td>\n",
              "      <td>7089.0</td>\n",
              "      <td>Church St  / Wood St</td>\n",
              "      <td>43.662712</td>\n",
              "      <td>-79.379903</td>\n",
              "      <td>19.0</td>\n",
              "    </tr>\n",
              "    <tr>\n",
              "      <th>1</th>\n",
              "      <td>712383</td>\n",
              "      <td>279.0</td>\n",
              "      <td>Member</td>\n",
              "      <td>2017-01-01</td>\n",
              "      <td>2017-01-01 00:05:00</td>\n",
              "      <td>7143.0</td>\n",
              "      <td>Kendal Ave / Bernard Ave</td>\n",
              "      <td>43.671513</td>\n",
              "      <td>-79.408317</td>\n",
              "      <td>15.0</td>\n",
              "      <td>7154.0</td>\n",
              "      <td>Bathurst Subway Station</td>\n",
              "      <td>43.666667</td>\n",
              "      <td>-79.411667</td>\n",
              "      <td>23.0</td>\n",
              "    </tr>\n",
              "  </tbody>\n",
              "</table>\n",
              "</div>"
            ],
            "text/plain": [
              "   trip_id  trip_duration_seconds user_type  ...   lat_dest   lon_dest  cap_dest\n",
              "0   712382                  223.0    Member  ...  43.662712 -79.379903      19.0\n",
              "1   712383                  279.0    Member  ...  43.666667 -79.411667      23.0\n",
              "\n",
              "[2 rows x 15 columns]"
            ]
          },
          "metadata": {
            "tags": []
          },
          "execution_count": 94
        }
      ]
    },
    {
      "cell_type": "markdown",
      "metadata": {
        "id": "4VBRpfmP3xX1",
        "colab_type": "text"
      },
      "source": [
        "We will create a new column to calculate the difference between the stop time and the start time, namely ``trip_stop_time_f`` and ``trip_start_time_f``"
      ]
    },
    {
      "cell_type": "code",
      "metadata": {
        "id": "DJz649VTjUDQ",
        "colab_type": "code",
        "colab": {}
      },
      "source": [
        "#Calculate the duration\n",
        "bike_df['trip_duration'] = bike_df.trip_stop_time_f - bike_df.trip_start_time_f\n",
        "#Convert it to seconds\n",
        "bike_df['trip_duration'] = bike_df.trip_duration.dt.seconds"
      ],
      "execution_count": 0,
      "outputs": []
    },
    {
      "cell_type": "markdown",
      "metadata": {
        "id": "KjEBpA4o7gQA",
        "colab_type": "text"
      },
      "source": [
        "Let's look at some statistics for these numbers"
      ]
    },
    {
      "cell_type": "code",
      "metadata": {
        "id": "SEsOjYog7kMQ",
        "colab_type": "code",
        "outputId": "c22e5afb-7eb8-42af-b268-25ebb4eca008",
        "colab": {
          "base_uri": "https://localhost:8080/",
          "height": 107
        }
      },
      "source": [
        "pd.DataFrame([bike_df.trip_duration.divide(60).describe().round(1), bike_df.trip_duration_seconds.divide(60).describe().round(1)])"
      ],
      "execution_count": 0,
      "outputs": [
        {
          "output_type": "execute_result",
          "data": {
            "text/html": [
              "<div>\n",
              "<style scoped>\n",
              "    .dataframe tbody tr th:only-of-type {\n",
              "        vertical-align: middle;\n",
              "    }\n",
              "\n",
              "    .dataframe tbody tr th {\n",
              "        vertical-align: top;\n",
              "    }\n",
              "\n",
              "    .dataframe thead th {\n",
              "        text-align: right;\n",
              "    }\n",
              "</style>\n",
              "<table border=\"1\" class=\"dataframe\">\n",
              "  <thead>\n",
              "    <tr style=\"text-align: right;\">\n",
              "      <th></th>\n",
              "      <th>count</th>\n",
              "      <th>mean</th>\n",
              "      <th>std</th>\n",
              "      <th>min</th>\n",
              "      <th>25%</th>\n",
              "      <th>50%</th>\n",
              "      <th>75%</th>\n",
              "      <th>max</th>\n",
              "    </tr>\n",
              "  </thead>\n",
              "  <tbody>\n",
              "    <tr>\n",
              "      <th>trip_duration</th>\n",
              "      <td>1485762.0</td>\n",
              "      <td>16.2</td>\n",
              "      <td>33.8</td>\n",
              "      <td>0.0</td>\n",
              "      <td>7.0</td>\n",
              "      <td>11.0</td>\n",
              "      <td>17.0</td>\n",
              "      <td>1439.0</td>\n",
              "    </tr>\n",
              "    <tr>\n",
              "      <th>trip_duration_seconds</th>\n",
              "      <td>1485762.0</td>\n",
              "      <td>16.9</td>\n",
              "      <td>163.2</td>\n",
              "      <td>0.0</td>\n",
              "      <td>6.9</td>\n",
              "      <td>10.9</td>\n",
              "      <td>17.0</td>\n",
              "      <td>106367.2</td>\n",
              "    </tr>\n",
              "  </tbody>\n",
              "</table>\n",
              "</div>"
            ],
            "text/plain": [
              "                           count  mean    std  min  25%   50%   75%       max\n",
              "trip_duration          1485762.0  16.2   33.8  0.0  7.0  11.0  17.0    1439.0\n",
              "trip_duration_seconds  1485762.0  16.9  163.2  0.0  6.9  10.9  17.0  106367.2"
            ]
          },
          "metadata": {
            "tags": []
          },
          "execution_count": 99
        }
      ]
    },
    {
      "cell_type": "markdown",
      "metadata": {
        "id": "QfYOguGx8hRc",
        "colab_type": "text"
      },
      "source": [
        "We can see that the calculated information from `trip_duration` looks **more reliable**, we have less variance and less extreme outliers, hence, we will use this information instead of the `trip_duration_seconds` variable given in the dataset. Now we will drop the variable from the dataset"
      ]
    },
    {
      "cell_type": "code",
      "metadata": {
        "id": "ekRMPkU-9uMi",
        "colab_type": "code",
        "colab": {}
      },
      "source": [
        "#Drop trip_duration_seconds\n",
        "bike_df.drop(columns='trip_duration_seconds', inplace=True)"
      ],
      "execution_count": 0,
      "outputs": []
    },
    {
      "cell_type": "code",
      "metadata": {
        "id": "bB43LR_s900o",
        "colab_type": "code",
        "outputId": "3c308f36-cafc-4362-b46e-e2c132628e97",
        "colab": {
          "base_uri": "https://localhost:8080/",
          "height": 301
        }
      },
      "source": [
        "#Get the null values finally\n",
        "bike_df.isna().sum()"
      ],
      "execution_count": 0,
      "outputs": [
        {
          "output_type": "execute_result",
          "data": {
            "text/plain": [
              "trip_id                  0\n",
              "user_type                0\n",
              "trip_start_time_f        0\n",
              "trip_stop_time_f         0\n",
              "st_id_orig           53969\n",
              "st_name_orig             0\n",
              "lat_orig             53969\n",
              "lon_orig             53969\n",
              "cap_orig             53969\n",
              "st_id_dest           55449\n",
              "st_name_dest             0\n",
              "lat_dest             55449\n",
              "lon_dest             55449\n",
              "cap_dest             55449\n",
              "trip_duration            0\n",
              "dtype: int64"
            ]
          },
          "metadata": {
            "tags": []
          },
          "execution_count": 101
        }
      ]
    },
    {
      "cell_type": "markdown",
      "metadata": {
        "id": "nf4kzQ1W-ZsY",
        "colab_type": "text"
      },
      "source": [
        "These null values are the unknown start/stop stations in which its pair is known and as discussed this will be used during the analysis. Now we got ourselves a clean dataset to analyze. Let's store a copy"
      ]
    },
    {
      "cell_type": "code",
      "metadata": {
        "id": "fjXQy_Ac4_1D",
        "colab_type": "code",
        "colab": {}
      },
      "source": [
        "bike_clean.to_csv('/content/gdrive/My Drive/1000ml/2_BikeShareReplenishment/2017_Toronto_Bikeshare_Duration.csv',\n",
        "              header=True, index=False)"
      ],
      "execution_count": 0,
      "outputs": []
    },
    {
      "cell_type": "markdown",
      "metadata": {
        "id": "XfFKabj_FG2O",
        "colab_type": "text"
      },
      "source": [
        "### Outliers detection\n",
        "\n",
        "Let's begin with the `trip_duration` variable which seems to have some outliers given the previous statistics explored\n"
      ]
    },
    {
      "cell_type": "code",
      "metadata": {
        "id": "xpUri3R2FhtU",
        "colab_type": "code",
        "outputId": "331907a2-7a96-4848-af16-daeaf041feb9",
        "colab": {
          "base_uri": "https://localhost:8080/",
          "height": 302
        }
      },
      "source": [
        "sns.distplot(bike_df.trip_duration, hist=False)"
      ],
      "execution_count": 0,
      "outputs": [
        {
          "output_type": "execute_result",
          "data": {
            "text/plain": [
              "<matplotlib.axes._subplots.AxesSubplot at 0x7f26601412e8>"
            ]
          },
          "metadata": {
            "tags": []
          },
          "execution_count": 103
        },
        {
          "output_type": "display_data",
          "data": {
            "image/png": "[encoded data removed]",
            "text/plain": [
              "<Figure size 432x288 with 1 Axes>"
            ]
          },
          "metadata": {
            "tags": []
          }
        }
      ]
    },
    {
      "cell_type": "markdown",
      "metadata": {
        "id": "FAFB-C_gGZBS",
        "colab_type": "text"
      },
      "source": [
        "**Toronto Parking Authority (TPA)** generally considers trips less than a minute to be *false trips* in their own analysis, hence we are going to remove these from our data."
      ]
    },
    {
      "cell_type": "code",
      "metadata": {
        "id": "zBj2L7Z2Gtgv",
        "colab_type": "code",
        "outputId": "34517977-aaca-4987-d416-b1b0940eae28",
        "colab": {
          "base_uri": "https://localhost:8080/",
          "height": 34
        }
      },
      "source": [
        "#Calculate the percentage of false trips\n",
        "bike_df[bike_df.trip_duration < 60].shape[0]/bike_df.shape[0]"
      ],
      "execution_count": 0,
      "outputs": [
        {
          "output_type": "execute_result",
          "data": {
            "text/plain": [
              "0.012242202990788565"
            ]
          },
          "metadata": {
            "tags": []
          },
          "execution_count": 104
        }
      ]
    },
    {
      "cell_type": "markdown",
      "metadata": {
        "id": "1Ze0aHvG8WOH",
        "colab_type": "text"
      },
      "source": [
        "This is about 1.2% of the data to be deleted.\n"
      ]
    },
    {
      "cell_type": "code",
      "metadata": {
        "id": "z7_whgOEHXJM",
        "colab_type": "code",
        "outputId": "89bc2e87-b293-4ecd-b6db-04a4005d90dd",
        "colab": {
          "base_uri": "https://localhost:8080/",
          "height": 302
        }
      },
      "source": [
        "#Drop the false trips\n",
        "bike_df = bike_df[bike_df.trip_duration > 60]\n",
        "\n",
        "#Now plot the new distribution\n",
        "sns.distplot(bike_df.trip_duration, hist=False)"
      ],
      "execution_count": 0,
      "outputs": [
        {
          "output_type": "execute_result",
          "data": {
            "text/plain": [
              "<matplotlib.axes._subplots.AxesSubplot at 0x7f266088f390>"
            ]
          },
          "metadata": {
            "tags": []
          },
          "execution_count": 107
        },
        {
          "output_type": "display_data",
          "data": {
            "image/png": "[encoded data removed]",
            "text/plain": [
              "<Figure size 432x288 with 1 Axes>"
            ]
          },
          "metadata": {
            "tags": []
          }
        }
      ]
    },
    {
      "cell_type": "markdown",
      "metadata": {
        "id": "iM5-vo9tHQGV",
        "colab_type": "text"
      },
      "source": [
        "We can still evidence some righ-tail outlers for this variable.\n",
        "\n",
        "**Detecting outliers**\n",
        "\n",
        "The outliers are defined as data points that are $±1.5 IQR$ (Inter Quartile Range) away from the median. Some of the outliers could be removed using this criteria."
      ]
    },
    {
      "cell_type": "code",
      "metadata": {
        "id": "-7Tv3VuEIJIT",
        "colab_type": "code",
        "outputId": "82b6f7d4-74c0-4641-f239-25f60e62e409",
        "colab": {
          "base_uri": "https://localhost:8080/",
          "height": 34
        }
      },
      "source": [
        "# Get 25th and 7hth quarntile\n",
        "q1 = bike_df.trip_duration.quantile(0.25)\n",
        "q3 = bike_df.trip_duration.quantile(0.75)\n",
        "\n",
        "# Calculate IQR\n",
        "IQR = q3 - q1\n",
        "\n",
        "#Get the percentage of data within this category\n",
        "bike_df[((bike_df.trip_duration < (q1 - 1.5 * IQR)) | \\\n",
        "                                     (bike_df.trip_duration > (q3 + 1.5 * IQR)))] \\\n",
        ".reset_index(drop=True).shape[0]/bike_df.shape[0]"
      ],
      "execution_count": 0,
      "outputs": [
        {
          "output_type": "execute_result",
          "data": {
            "text/plain": [
              "0.05580510737150375"
            ]
          },
          "metadata": {
            "tags": []
          },
          "execution_count": 108
        }
      ]
    },
    {
      "cell_type": "markdown",
      "metadata": {
        "id": "B3HC7rTnO0mX",
        "colab_type": "text"
      },
      "source": [
        "According to this criteria, outliers represent about 5.6% of the dataset. This data will be ommited since we are interested in modeling an 'usual' service of the system."
      ]
    },
    {
      "cell_type": "code",
      "metadata": {
        "id": "mgOb9yOLJ04h",
        "colab_type": "code",
        "outputId": "675500a4-d0eb-4e7e-a254-f0791d7f442a",
        "colab": {
          "base_uri": "https://localhost:8080/",
          "height": 302
        }
      },
      "source": [
        "#Filter outliers out\n",
        "bike_df = bike_df[~((bike_df.trip_duration < (q1 - 1.5 * IQR)) | \\\n",
        "                    (bike_df.trip_duration > (q3 + 1.5 * IQR)))].reset_index(drop=True)\n",
        "\n",
        "#Plot new distribution\n",
        "sns.distplot(bike_df.trip_duration, hist=False)"
      ],
      "execution_count": 0,
      "outputs": [
        {
          "output_type": "execute_result",
          "data": {
            "text/plain": [
              "<matplotlib.axes._subplots.AxesSubplot at 0x7f2660797b00>"
            ]
          },
          "metadata": {
            "tags": []
          },
          "execution_count": 109
        },
        {
          "output_type": "display_data",
          "data": {
            "image/png": "[encoded data removed]",
            "text/plain": [
              "<Figure size 432x288 with 1 Axes>"
            ]
          },
          "metadata": {
            "tags": []
          }
        }
      ]
    },
    {
      "cell_type": "markdown",
      "metadata": {
        "id": "rs0HPrY2F29l",
        "colab_type": "text"
      },
      "source": [
        "Beautiful, now let's store our clean dataset for further EDA."
      ]
    },
    {
      "cell_type": "code",
      "metadata": {
        "id": "Vb97rYfpF5Lh",
        "colab_type": "code",
        "colab": {}
      },
      "source": [
        "bike_df.to_csv('/content/gdrive/My Drive/1000ml/2_BikeShareReplenishment/2017_Toronto_Bikeshare_Clean.csv',\n",
        "              header=True, index=False)"
      ],
      "execution_count": 0,
      "outputs": []
    },
    {
      "cell_type": "markdown",
      "metadata": {
        "id": "KLKUXo_LD2sY",
        "colab_type": "text"
      },
      "source": [
        "## Narowing down the problem\n",
        "\n",
        "In order to narrow down the analysis to prove modeling approaches, we will start analyzing popular start and stop stations and how these two numbers match."
      ]
    },
    {
      "cell_type": "code",
      "metadata": {
        "id": "H4jISSdyEWqT",
        "colab_type": "code",
        "colab": {}
      },
      "source": [
        "#Import the data\n",
        "bike_data = pd.read_csv('/content/gdrive/My Drive/1000ml/2_BikeShareReplenishment/2017_Toronto_Bikeshare_Clean.csv',\n",
        "                        parse_dates=['trip_start_time_f', 'trip_stop_time_f'])"
      ],
      "execution_count": 0,
      "outputs": []
    },
    {
      "cell_type": "code",
      "metadata": {
        "id": "LmYpVRBLD6Dl",
        "colab_type": "code",
        "outputId": "e7616678-5201-4f66-fadd-69c0f016b9dd",
        "colab": {
          "base_uri": "https://localhost:8080/",
          "height": 197
        }
      },
      "source": [
        "#Top 5 start stations (origin)\n",
        "pd.DataFrame({'start_counts':bike_data.st_name_orig.value_counts(),\n",
        "              'stop_counts': bike_data.st_name_dest.value_counts(),\n",
        "             'start_pct': bike_data.st_name_orig.value_counts()/sum(bike_data.st_name_orig.value_counts())*100,\n",
        "             'stop_pct': bike_data.st_name_dest.value_counts()/sum(bike_data.st_name_dest.value_counts())*100})\\\n",
        ".sort_values(by='start_counts', ascending=False).head(5).round(2)"
      ],
      "execution_count": 0,
      "outputs": [
        {
          "output_type": "execute_result",
          "data": {
            "text/html": [
              "<div>\n",
              "<style scoped>\n",
              "    .dataframe tbody tr th:only-of-type {\n",
              "        vertical-align: middle;\n",
              "    }\n",
              "\n",
              "    .dataframe tbody tr th {\n",
              "        vertical-align: top;\n",
              "    }\n",
              "\n",
              "    .dataframe thead th {\n",
              "        text-align: right;\n",
              "    }\n",
              "</style>\n",
              "<table border=\"1\" class=\"dataframe\">\n",
              "  <thead>\n",
              "    <tr style=\"text-align: right;\">\n",
              "      <th></th>\n",
              "      <th>start_counts</th>\n",
              "      <th>stop_counts</th>\n",
              "      <th>start_pct</th>\n",
              "      <th>stop_pct</th>\n",
              "    </tr>\n",
              "  </thead>\n",
              "  <tbody>\n",
              "    <tr>\n",
              "      <th>Union Station</th>\n",
              "      <td>27760</td>\n",
              "      <td>35600</td>\n",
              "      <td>2.02</td>\n",
              "      <td>2.59</td>\n",
              "    </tr>\n",
              "    <tr>\n",
              "      <th>Simcoe St / Wellington St South</th>\n",
              "      <td>20197</td>\n",
              "      <td>21614</td>\n",
              "      <td>1.47</td>\n",
              "      <td>1.58</td>\n",
              "    </tr>\n",
              "    <tr>\n",
              "      <th>Dundas St W / Yonge St</th>\n",
              "      <td>18205</td>\n",
              "      <td>19755</td>\n",
              "      <td>1.33</td>\n",
              "      <td>1.44</td>\n",
              "    </tr>\n",
              "    <tr>\n",
              "      <th>Bay St / Wellesley St W</th>\n",
              "      <td>17461</td>\n",
              "      <td>11275</td>\n",
              "      <td>1.27</td>\n",
              "      <td>0.82</td>\n",
              "    </tr>\n",
              "    <tr>\n",
              "      <th>King St W / Spadina Ave</th>\n",
              "      <td>16940</td>\n",
              "      <td>18431</td>\n",
              "      <td>1.23</td>\n",
              "      <td>1.34</td>\n",
              "    </tr>\n",
              "  </tbody>\n",
              "</table>\n",
              "</div>"
            ],
            "text/plain": [
              "                                 start_counts  stop_counts  start_pct  stop_pct\n",
              "Union Station                           27760        35600       2.02      2.59\n",
              "Simcoe St / Wellington St South         20197        21614       1.47      1.58\n",
              "Dundas St W / Yonge St                  18205        19755       1.33      1.44\n",
              "Bay St / Wellesley St W                 17461        11275       1.27      0.82\n",
              "King St W / Spadina Ave                 16940        18431       1.23      1.34"
            ]
          },
          "metadata": {
            "tags": []
          },
          "execution_count": 114
        }
      ]
    },
    {
      "cell_type": "code",
      "metadata": {
        "id": "bYdx6GUvE6Ga",
        "colab_type": "code",
        "outputId": "72b898c8-8037-485b-a382-d8f86fa40843",
        "colab": {
          "base_uri": "https://localhost:8080/",
          "height": 197
        }
      },
      "source": [
        "#Top 5 stop stations (destination)\n",
        "pd.DataFrame({'start_counts':bike_data.st_name_orig.value_counts(),\n",
        "              'stop_counts': bike_data.st_name_dest.value_counts(),\n",
        "             'start_pct': bike_data.st_name_orig.value_counts()/sum(bike_data.st_name_orig.value_counts())*100,\n",
        "             'stop_pct': bike_data.st_name_dest.value_counts()/sum(bike_data.st_name_dest.value_counts())*100})\\\n",
        ".sort_values(by='stop_counts', ascending=False).head(5).round(2)"
      ],
      "execution_count": 0,
      "outputs": [
        {
          "output_type": "execute_result",
          "data": {
            "text/html": [
              "<div>\n",
              "<style scoped>\n",
              "    .dataframe tbody tr th:only-of-type {\n",
              "        vertical-align: middle;\n",
              "    }\n",
              "\n",
              "    .dataframe tbody tr th {\n",
              "        vertical-align: top;\n",
              "    }\n",
              "\n",
              "    .dataframe thead th {\n",
              "        text-align: right;\n",
              "    }\n",
              "</style>\n",
              "<table border=\"1\" class=\"dataframe\">\n",
              "  <thead>\n",
              "    <tr style=\"text-align: right;\">\n",
              "      <th></th>\n",
              "      <th>start_counts</th>\n",
              "      <th>stop_counts</th>\n",
              "      <th>start_pct</th>\n",
              "      <th>stop_pct</th>\n",
              "    </tr>\n",
              "  </thead>\n",
              "  <tbody>\n",
              "    <tr>\n",
              "      <th>Union Station</th>\n",
              "      <td>27760</td>\n",
              "      <td>35600</td>\n",
              "      <td>2.02</td>\n",
              "      <td>2.59</td>\n",
              "    </tr>\n",
              "    <tr>\n",
              "      <th>Simcoe St / Wellington St South</th>\n",
              "      <td>20197</td>\n",
              "      <td>21614</td>\n",
              "      <td>1.47</td>\n",
              "      <td>1.58</td>\n",
              "    </tr>\n",
              "    <tr>\n",
              "      <th>Dundas St W / Yonge St</th>\n",
              "      <td>18205</td>\n",
              "      <td>19755</td>\n",
              "      <td>1.33</td>\n",
              "      <td>1.44</td>\n",
              "    </tr>\n",
              "    <tr>\n",
              "      <th>Princess St / Adelaide St E</th>\n",
              "      <td>15903</td>\n",
              "      <td>18823</td>\n",
              "      <td>1.16</td>\n",
              "      <td>1.37</td>\n",
              "    </tr>\n",
              "    <tr>\n",
              "      <th>King St W / Spadina Ave</th>\n",
              "      <td>16940</td>\n",
              "      <td>18431</td>\n",
              "      <td>1.23</td>\n",
              "      <td>1.34</td>\n",
              "    </tr>\n",
              "  </tbody>\n",
              "</table>\n",
              "</div>"
            ],
            "text/plain": [
              "                                 start_counts  stop_counts  start_pct  stop_pct\n",
              "Union Station                           27760        35600       2.02      2.59\n",
              "Simcoe St / Wellington St South         20197        21614       1.47      1.58\n",
              "Dundas St W / Yonge St                  18205        19755       1.33      1.44\n",
              "Princess St / Adelaide St E             15903        18823       1.16      1.37\n",
              "King St W / Spadina Ave                 16940        18431       1.23      1.34"
            ]
          },
          "metadata": {
            "tags": []
          },
          "execution_count": 116
        }
      ]
    },
    {
      "cell_type": "markdown",
      "metadata": {
        "id": "9fsiUQ6VRx6O",
        "colab_type": "text"
      },
      "source": [
        "For the start and stop stations, the top 10 stations of 266 (3.6%) account for the 13% and 14% of all trips, respectively. To create a first model, we will only analyze supply and demand for the top station, which is Union Station, accounting for a 2.6% as origin and stop station."
      ]
    },
    {
      "cell_type": "markdown",
      "metadata": {
        "id": "P7m0JHLxC8Om",
        "colab_type": "text"
      },
      "source": [
        "## Approximating the station status variable\n",
        "\n",
        "The 2017 ridership data should be used as raw material to create a model that helps us predict the necesary replenishment of the BTS stations on an hourly basis. For this, a time series of `station_status` data could be useful, but since that information is not at hand, we will use a **surrogate** variable: the **rate of change** of bikes inventory. Since we have the amount of bikes arriving and leaving the stations, and we have the stations' capacity, we could create a new variable that helps us assess how the inventory is changing with time so as to move bikes around the city from loaded stations to empty stations in an efficient manner."
      ]
    },
    {
      "cell_type": "code",
      "metadata": {
        "id": "6xNsQd9SC_tZ",
        "colab_type": "code",
        "colab": {}
      },
      "source": [
        "#Load the clean data\n",
        "bike_data = pd.read_csv('/content/gdrive/My Drive/1000ml/2_BikeShareReplenishment/2017_Toronto_Bikeshare_Clean.csv',\n",
        "                        parse_dates=['trip_start_time_f', 'trip_stop_time_f'])"
      ],
      "execution_count": 0,
      "outputs": []
    },
    {
      "cell_type": "markdown",
      "metadata": {
        "id": "_y5pAXCoS7FS",
        "colab_type": "text"
      },
      "source": [
        "### Extracting Union ridership\n",
        "\n",
        "With this data, let's slice the rows containing Union Station as origin or destination."
      ]
    },
    {
      "cell_type": "code",
      "metadata": {
        "id": "j7q85Zz-S1fZ",
        "colab_type": "code",
        "outputId": "3876d11f-88bd-44cb-dc52-4db69c5742e3",
        "colab": {
          "base_uri": "https://localhost:8080/",
          "height": 34
        }
      },
      "source": [
        "bike_union = bike_data[(bike_data.st_name_orig == 'Union Station') | (bike_data.st_name_dest == 'Union Station')]\n",
        "bike_union.shape"
      ],
      "execution_count": 0,
      "outputs": [
        {
          "output_type": "execute_result",
          "data": {
            "text/plain": [
              "(63093, 15)"
            ]
          },
          "metadata": {
            "tags": []
          },
          "execution_count": 42
        }
      ]
    },
    {
      "cell_type": "markdown",
      "metadata": {
        "id": "8RR3ECSsTd8t",
        "colab_type": "text"
      },
      "source": [
        "We have that during 2017, 63.093 bikes were taken from and to Union Station. Given that the systems uses about 5.000 bikes according to their website, it's critical to know how much of these bikes are being used at this station. However, that is the number of bikes today, we could think that as stations were nearly half of what they are today, the amount of bikes available could have been much less at that point in time.\n",
        "\n",
        "Let's evaluate some statistics for this data:"
      ]
    },
    {
      "cell_type": "code",
      "metadata": {
        "id": "S-F38dzcTTMw",
        "colab_type": "code",
        "outputId": "f798639d-cc92-4e22-f81c-51a64519e528",
        "colab": {
          "base_uri": "https://localhost:8080/",
          "height": 77
        }
      },
      "source": [
        "#Get a summary of the amount of trips per day of the year\n",
        "bike_union.groupby(bike_union.trip_start_time_f.dt.dayofyear).aggregate({'trip_id':'count'}).describe().T"
      ],
      "execution_count": 0,
      "outputs": [
        {
          "output_type": "execute_result",
          "data": {
            "text/html": [
              "<div>\n",
              "<style scoped>\n",
              "    .dataframe tbody tr th:only-of-type {\n",
              "        vertical-align: middle;\n",
              "    }\n",
              "\n",
              "    .dataframe tbody tr th {\n",
              "        vertical-align: top;\n",
              "    }\n",
              "\n",
              "    .dataframe thead th {\n",
              "        text-align: right;\n",
              "    }\n",
              "</style>\n",
              "<table border=\"1\" class=\"dataframe\">\n",
              "  <thead>\n",
              "    <tr style=\"text-align: right;\">\n",
              "      <th></th>\n",
              "      <th>count</th>\n",
              "      <th>mean</th>\n",
              "      <th>std</th>\n",
              "      <th>min</th>\n",
              "      <th>25%</th>\n",
              "      <th>50%</th>\n",
              "      <th>75%</th>\n",
              "      <th>max</th>\n",
              "    </tr>\n",
              "  </thead>\n",
              "  <tbody>\n",
              "    <tr>\n",
              "      <th>trip_id</th>\n",
              "      <td>365.0</td>\n",
              "      <td>172.857534</td>\n",
              "      <td>113.059118</td>\n",
              "      <td>2.0</td>\n",
              "      <td>81.0</td>\n",
              "      <td>141.0</td>\n",
              "      <td>267.0</td>\n",
              "      <td>499.0</td>\n",
              "    </tr>\n",
              "  </tbody>\n",
              "</table>\n",
              "</div>"
            ],
            "text/plain": [
              "         count        mean         std  min   25%    50%    75%    max\n",
              "trip_id  365.0  172.857534  113.059118  2.0  81.0  141.0  267.0  499.0"
            ]
          },
          "metadata": {
            "tags": []
          },
          "execution_count": 43
        }
      ]
    },
    {
      "cell_type": "markdown",
      "metadata": {
        "id": "02L97DfQVWB6",
        "colab_type": "text"
      },
      "source": [
        "With this statistics we can evidence that even considering the 5.000 bikes, Union Station uses on average 172 bikes a day, with a maximum of nearly 500 bikes! Almost 10% of all bikes available today! Let's see how these numbers distribute change for **busines days**."
      ]
    },
    {
      "cell_type": "code",
      "metadata": {
        "id": "FFffFPx7U3Ck",
        "colab_type": "code",
        "outputId": "80de580d-d8c2-4861-e9bb-76a4cfae9bdd",
        "colab": {
          "base_uri": "https://localhost:8080/",
          "height": 77
        }
      },
      "source": [
        "# Count trips per weekday of the year\n",
        "bike_union[~bike_union.trip_start_time_f.dt.weekday_name.isin(['Sunday', 'Saturday'])].\\\n",
        "groupby(bike_union.trip_start_time_f.dt.dayofyear).\\\n",
        "aggregate({'trip_id':'count'}).describe().T"
      ],
      "execution_count": 0,
      "outputs": [
        {
          "output_type": "execute_result",
          "data": {
            "text/html": [
              "<div>\n",
              "<style scoped>\n",
              "    .dataframe tbody tr th:only-of-type {\n",
              "        vertical-align: middle;\n",
              "    }\n",
              "\n",
              "    .dataframe tbody tr th {\n",
              "        vertical-align: top;\n",
              "    }\n",
              "\n",
              "    .dataframe thead th {\n",
              "        text-align: right;\n",
              "    }\n",
              "</style>\n",
              "<table border=\"1\" class=\"dataframe\">\n",
              "  <thead>\n",
              "    <tr style=\"text-align: right;\">\n",
              "      <th></th>\n",
              "      <th>count</th>\n",
              "      <th>mean</th>\n",
              "      <th>std</th>\n",
              "      <th>min</th>\n",
              "      <th>25%</th>\n",
              "      <th>50%</th>\n",
              "      <th>75%</th>\n",
              "      <th>max</th>\n",
              "    </tr>\n",
              "  </thead>\n",
              "  <tbody>\n",
              "    <tr>\n",
              "      <th>trip_id</th>\n",
              "      <td>260.0</td>\n",
              "      <td>213.311538</td>\n",
              "      <td>106.794317</td>\n",
              "      <td>2.0</td>\n",
              "      <td>116.75</td>\n",
              "      <td>220.5</td>\n",
              "      <td>300.5</td>\n",
              "      <td>499.0</td>\n",
              "    </tr>\n",
              "  </tbody>\n",
              "</table>\n",
              "</div>"
            ],
            "text/plain": [
              "         count        mean         std  min     25%    50%    75%    max\n",
              "trip_id  260.0  213.311538  106.794317  2.0  116.75  220.5  300.5  499.0"
            ]
          },
          "metadata": {
            "tags": []
          },
          "execution_count": 44
        }
      ]
    },
    {
      "cell_type": "markdown",
      "metadata": {
        "id": "UXBElJTxXgxH",
        "colab_type": "text"
      },
      "source": [
        "As we see, the mean goes up to 213 bikes during weekdays, which means trips are mainly skewed towards weekdays.\n",
        "\n",
        "### Creating dataset for stations\n",
        "\n",
        "Now that we have narrowed down our search, it's time to create the dataset that will help us build our model. Let's first review what would be our ideal dataset:\n",
        "\n",
        "**Ideal dataset fields**: timestamp, station name, station ID, number of bikes at the station\n",
        "\n",
        "Since we don’t have the static variable that we want to predict, namely the number of bikes at every time at each station, we calculate a **rate of change** of this value, assuming known initial conditions. This variable will approximate the inflow and outflow of bikes for Union Station during each day hour of every day of the year.\n",
        "\n",
        "**Derived dataset fields:** month, day, hour, station name, station ID, count of bikes arriving, count of bikes leaving\n",
        "\n",
        "We will first extract the day of the year, month, day of the week and hour in which every event happened.\n"
      ]
    },
    {
      "cell_type": "code",
      "metadata": {
        "id": "NRcC2FYJzh9D",
        "colab_type": "code",
        "colab": {}
      },
      "source": [
        "# Add new fields to dataframe\n",
        "bike_union['dayofyear'] = bike_union.trip_start_time_f.dt.dayofyear\n",
        "bike_union['weekday'] = bike_union.trip_start_time_f.dt.weekday\n",
        "bike_union['hour'] = bike_union.trip_start_time_f.dt.hour"
      ],
      "execution_count": 0,
      "outputs": []
    },
    {
      "cell_type": "markdown",
      "metadata": {
        "id": "ke4focayVdqI",
        "colab_type": "text"
      },
      "source": [
        "Now let's reshape the dataframe to obtain trip counts by weekday, hour and day of the year for trips going in and out of Union Station, for this we do the following"
      ]
    },
    {
      "cell_type": "code",
      "metadata": {
        "colab_type": "code",
        "outputId": "dfc3dd86-529c-4a48-facd-0375c3499c55",
        "id": "imQ3RtAn5dwq",
        "colab": {
          "base_uri": "https://localhost:8080/",
          "height": 197
        }
      },
      "source": [
        "# Separating the dataframe into origin and destination registers\n",
        "bike_union_orig = bike_union[bike_union.st_name_orig == 'Union Station']\n",
        "bike_union_dest = bike_union[bike_union.st_name_dest == 'Union Station']\n",
        "\n",
        "#Melting and the merging by days to get count of trips in and out of the station every hour\n",
        "counts_union = pd.merge(bike_union_orig.groupby(['dayofyear','weekday','hour']).aggregate({'trip_id':'count'}).reset_index(),\n",
        "                        bike_union_dest.groupby(['dayofyear','weekday','hour']).aggregate({'trip_id':'count'}).reset_index(),\n",
        "                        how='outer',\n",
        "                        left_on = ['dayofyear', 'weekday', 'hour'],\n",
        "                        right_on = ['dayofyear', 'weekday', 'hour'],\n",
        "                        suffixes=('_orig','_dest'), sort = True)\n",
        "\n",
        "counts_union.head()"
      ],
      "execution_count": 0,
      "outputs": [
        {
          "output_type": "execute_result",
          "data": {
            "text/html": [
              "<div>\n",
              "<style scoped>\n",
              "    .dataframe tbody tr th:only-of-type {\n",
              "        vertical-align: middle;\n",
              "    }\n",
              "\n",
              "    .dataframe tbody tr th {\n",
              "        vertical-align: top;\n",
              "    }\n",
              "\n",
              "    .dataframe thead th {\n",
              "        text-align: right;\n",
              "    }\n",
              "</style>\n",
              "<table border=\"1\" class=\"dataframe\">\n",
              "  <thead>\n",
              "    <tr style=\"text-align: right;\">\n",
              "      <th></th>\n",
              "      <th>dayofyear</th>\n",
              "      <th>weekday</th>\n",
              "      <th>hour</th>\n",
              "      <th>trip_id_orig</th>\n",
              "      <th>trip_id_dest</th>\n",
              "    </tr>\n",
              "  </thead>\n",
              "  <tbody>\n",
              "    <tr>\n",
              "      <th>0</th>\n",
              "      <td>1</td>\n",
              "      <td>6</td>\n",
              "      <td>0</td>\n",
              "      <td>NaN</td>\n",
              "      <td>2.0</td>\n",
              "    </tr>\n",
              "    <tr>\n",
              "      <th>1</th>\n",
              "      <td>1</td>\n",
              "      <td>6</td>\n",
              "      <td>1</td>\n",
              "      <td>1.0</td>\n",
              "      <td>NaN</td>\n",
              "    </tr>\n",
              "    <tr>\n",
              "      <th>2</th>\n",
              "      <td>1</td>\n",
              "      <td>6</td>\n",
              "      <td>2</td>\n",
              "      <td>2.0</td>\n",
              "      <td>NaN</td>\n",
              "    </tr>\n",
              "    <tr>\n",
              "      <th>3</th>\n",
              "      <td>1</td>\n",
              "      <td>6</td>\n",
              "      <td>3</td>\n",
              "      <td>1.0</td>\n",
              "      <td>NaN</td>\n",
              "    </tr>\n",
              "    <tr>\n",
              "      <th>4</th>\n",
              "      <td>1</td>\n",
              "      <td>6</td>\n",
              "      <td>4</td>\n",
              "      <td>NaN</td>\n",
              "      <td>1.0</td>\n",
              "    </tr>\n",
              "  </tbody>\n",
              "</table>\n",
              "</div>"
            ],
            "text/plain": [
              "   dayofyear  weekday  hour  trip_id_orig  trip_id_dest\n",
              "0          1        6     0           NaN           2.0\n",
              "1          1        6     1           1.0           NaN\n",
              "2          1        6     2           2.0           NaN\n",
              "3          1        6     3           1.0           NaN\n",
              "4          1        6     4           NaN           1.0"
            ]
          },
          "metadata": {
            "tags": []
          },
          "execution_count": 46
        }
      ]
    },
    {
      "cell_type": "markdown",
      "metadata": {
        "id": "o1nIIbaeV3Pc",
        "colab_type": "text"
      },
      "source": [
        "Here we have it, for every day of the year we have the weekday number, the hour of the day and the amount of trips with Union as origin and Union as destination. Let's do some further processing to tidy up the data."
      ]
    },
    {
      "cell_type": "code",
      "metadata": {
        "id": "BmxhuTxn_YWP",
        "colab_type": "code",
        "outputId": "c7ced567-20d5-468b-a83d-2356578b314b",
        "colab": {
          "base_uri": "https://localhost:8080/",
          "height": 197
        }
      },
      "source": [
        "#Change the column names\n",
        "counts_union.columns = ['dayofyear', 'weekday', 'hour', 'count_trips_orig', 'count_trips_dest']\n",
        "\n",
        "#Fill NAs in counts_union\n",
        "counts_union.fillna(value=0, inplace=True)\n",
        "\n",
        "#Modify so all time variables start at 0\n",
        "counts_union.dayofyear = counts_union.dayofyear - 1\n",
        "\n",
        "#Preview\n",
        "counts_union.head()"
      ],
      "execution_count": 0,
      "outputs": [
        {
          "output_type": "execute_result",
          "data": {
            "text/html": [
              "<div>\n",
              "<style scoped>\n",
              "    .dataframe tbody tr th:only-of-type {\n",
              "        vertical-align: middle;\n",
              "    }\n",
              "\n",
              "    .dataframe tbody tr th {\n",
              "        vertical-align: top;\n",
              "    }\n",
              "\n",
              "    .dataframe thead th {\n",
              "        text-align: right;\n",
              "    }\n",
              "</style>\n",
              "<table border=\"1\" class=\"dataframe\">\n",
              "  <thead>\n",
              "    <tr style=\"text-align: right;\">\n",
              "      <th></th>\n",
              "      <th>dayofyear</th>\n",
              "      <th>weekday</th>\n",
              "      <th>hour</th>\n",
              "      <th>count_trips_orig</th>\n",
              "      <th>count_trips_dest</th>\n",
              "    </tr>\n",
              "  </thead>\n",
              "  <tbody>\n",
              "    <tr>\n",
              "      <th>0</th>\n",
              "      <td>0</td>\n",
              "      <td>6</td>\n",
              "      <td>0</td>\n",
              "      <td>0.0</td>\n",
              "      <td>2.0</td>\n",
              "    </tr>\n",
              "    <tr>\n",
              "      <th>1</th>\n",
              "      <td>0</td>\n",
              "      <td>6</td>\n",
              "      <td>1</td>\n",
              "      <td>1.0</td>\n",
              "      <td>0.0</td>\n",
              "    </tr>\n",
              "    <tr>\n",
              "      <th>2</th>\n",
              "      <td>0</td>\n",
              "      <td>6</td>\n",
              "      <td>2</td>\n",
              "      <td>2.0</td>\n",
              "      <td>0.0</td>\n",
              "    </tr>\n",
              "    <tr>\n",
              "      <th>3</th>\n",
              "      <td>0</td>\n",
              "      <td>6</td>\n",
              "      <td>3</td>\n",
              "      <td>1.0</td>\n",
              "      <td>0.0</td>\n",
              "    </tr>\n",
              "    <tr>\n",
              "      <th>4</th>\n",
              "      <td>0</td>\n",
              "      <td>6</td>\n",
              "      <td>4</td>\n",
              "      <td>0.0</td>\n",
              "      <td>1.0</td>\n",
              "    </tr>\n",
              "  </tbody>\n",
              "</table>\n",
              "</div>"
            ],
            "text/plain": [
              "   dayofyear  weekday  hour  count_trips_orig  count_trips_dest\n",
              "0          0        6     0               0.0               2.0\n",
              "1          0        6     1               1.0               0.0\n",
              "2          0        6     2               2.0               0.0\n",
              "3          0        6     3               1.0               0.0\n",
              "4          0        6     4               0.0               1.0"
            ]
          },
          "metadata": {
            "tags": []
          },
          "execution_count": 47
        }
      ]
    },
    {
      "cell_type": "markdown",
      "metadata": {
        "id": "Nt7Cs42839-2",
        "colab_type": "text"
      },
      "source": [
        "## Exploring the rate of change\n",
        "\n",
        "Now let's create our target variable, which is defined as the hourly rate of change of bikes stock, that is to say how many bikes are taken out vs how many bikes are taken to this station. This variable will be formulated as the substraction between `count_trips_orig` minus `count_trips_dest`.\n",
        "\n",
        "* When the rate of change is positive, we will have more bikes taken from the station (stock deficit)\n",
        "* When the rate of change is negative, that means that more bikes are arriving are more than the bikes that are leaving.\n"
      ]
    },
    {
      "cell_type": "code",
      "metadata": {
        "id": "wimZ86Q1X0HR",
        "colab_type": "code",
        "colab": {}
      },
      "source": [
        "#Create new variable\n",
        "counts_union['rate_of_change'] = counts_union.count_trips_orig - counts_union.count_trips_dest"
      ],
      "execution_count": 0,
      "outputs": []
    },
    {
      "cell_type": "code",
      "metadata": {
        "id": "_Y0LbAbU6JJE",
        "colab_type": "code",
        "outputId": "21683bde-9e2a-4bb0-ad80-8639d4325da8",
        "colab": {
          "base_uri": "https://localhost:8080/",
          "height": 176
        }
      },
      "source": [
        "#Get statistics for all days\n",
        "counts_union.rate_of_change.describe().round(1)"
      ],
      "execution_count": 0,
      "outputs": [
        {
          "output_type": "execute_result",
          "data": {
            "text/plain": [
              "count    6673.0\n",
              "mean       -1.2\n",
              "std         6.3\n",
              "min       -45.0\n",
              "25%        -2.0\n",
              "50%        -1.0\n",
              "75%         1.0\n",
              "max        26.0\n",
              "Name: rate_of_change, dtype: float64"
            ]
          },
          "metadata": {
            "tags": []
          },
          "execution_count": 55
        }
      ]
    },
    {
      "cell_type": "code",
      "metadata": {
        "id": "2c5j9olG4y6w",
        "colab_type": "code",
        "outputId": "1b308f87-7888-4694-d49d-e2504a814f23",
        "colab": {
          "base_uri": "https://localhost:8080/",
          "height": 176
        }
      },
      "source": [
        "#Get statistics for the business days\n",
        "counts_union[counts_union.weekday.isin([1,2,3,4,5])].rate_of_change.describe().round(1)"
      ],
      "execution_count": 0,
      "outputs": [
        {
          "output_type": "execute_result",
          "data": {
            "text/plain": [
              "count    4812.0\n",
              "mean       -1.4\n",
              "std         6.7\n",
              "min       -45.0\n",
              "25%        -3.0\n",
              "50%        -1.0\n",
              "75%         1.0\n",
              "max        26.0\n",
              "Name: rate_of_change, dtype: float64"
            ]
          },
          "metadata": {
            "tags": []
          },
          "execution_count": 56
        }
      ]
    },
    {
      "cell_type": "markdown",
      "metadata": {
        "id": "oR_D_jch6gfI",
        "colab_type": "text"
      },
      "source": [
        "From this we can get some interesting facts:\n",
        "\n",
        "* The overall mean value of the rate of change is negative, which means that on average 1.2 bikes are added the bike stock every hour, and this number increases to 1.4 during business days. We could conclude that for this station we will not require bike replenishment on average, on the contrary, bikes will need to be removed from the station to free capacity for incoming riders.\n",
        "\n",
        "* The maximum and minimum points are significantly high and would imply an arrival of bikes greater than the capacity of the station, which is 26 bikes and maybe the capacity of one replenishment truck. It is quite important to identify the hours of the day in which that happens so as to be prepared.\n",
        "\n",
        "Now let's check the distribution of this variable"
      ]
    },
    {
      "cell_type": "code",
      "metadata": {
        "id": "SVB7_80K6p39",
        "colab_type": "code",
        "outputId": "7074515a-5cc3-402f-cf6e-9b245526949d",
        "colab": {
          "base_uri": "https://localhost:8080/",
          "height": 312
        }
      },
      "source": [
        "ax = sns.distplot(counts_union.rate_of_change)\n",
        "\n",
        "ax.set_xlabel('Hourly rate of change')\n",
        "ax.set_title('Distribution of the hourly rate of change')"
      ],
      "execution_count": 0,
      "outputs": [
        {
          "output_type": "execute_result",
          "data": {
            "text/plain": [
              "Text(0.5, 1.0, 'Distribution of the hourly rate of change')"
            ]
          },
          "metadata": {
            "tags": []
          },
          "execution_count": 88
        },
        {
          "output_type": "display_data",
          "data": {
            "image/png": "[encoded data removed]",
            "text/plain": [
              "<Figure size 432x288 with 1 Axes>"
            ]
          },
          "metadata": {
            "tags": []
          }
        }
      ]
    },
    {
      "cell_type": "markdown",
      "metadata": {
        "id": "8DrAmlNu3vMO",
        "colab_type": "text"
      },
      "source": [
        "The variable seems to follow a normal-like distribution with a mean close to zero, however, the values to the left are up to two times the capacity of the station. These are critical hours that must be evaluated. Now let's see the behavior of the rate of change for all days of the week."
      ]
    },
    {
      "cell_type": "code",
      "metadata": {
        "id": "F2d3HYyT3uCU",
        "colab_type": "code",
        "outputId": "bf407228-1117-46df-db6a-1937abc8f588",
        "colab": {
          "base_uri": "https://localhost:8080/",
          "height": 350
        }
      },
      "source": [
        "ax = counts_union.groupby('weekday').aggregate({'rate_of_change': 'mean'}).plot(kind='bar')\n",
        "\n",
        "ax.set_xticklabels(['Monday', 'Tuesday', 'Wednesday', 'Thursday', 'Friday', 'Saturday', 'Sunday'])\n",
        "ax.set_xlabel('Day of the week')\n",
        "ax.set_ylabel('Mean hourly rate of change')"
      ],
      "execution_count": 0,
      "outputs": [
        {
          "output_type": "execute_result",
          "data": {
            "text/plain": [
              "Text(0, 0.5, 'Mean hourly rate of change')"
            ]
          },
          "metadata": {
            "tags": []
          },
          "execution_count": 20
        },
        {
          "output_type": "display_data",
          "data": {
            "image/png": "[encoded data removed]",
            "text/plain": [
              "<Figure size 432x288 with 1 Axes>"
            ]
          },
          "metadata": {
            "tags": []
          }
        }
      ]
    },
    {
      "cell_type": "markdown",
      "metadata": {
        "id": "7CgV42Zv6Dc9",
        "colab_type": "text"
      },
      "source": [
        "Here we can see that for this specific station everyday we have a bike surplus every day of the week, however, for weekends this surplus is almost negligible and the suply/demand is almost balanced. Now lets get more granual, by looking at hourly averages:"
      ]
    },
    {
      "cell_type": "code",
      "metadata": {
        "id": "hUPnjlLZQb7_",
        "colab_type": "code",
        "outputId": "b4dd0992-7569-4725-bd46-d09c71883352",
        "colab": {
          "base_uri": "https://localhost:8080/",
          "height": 368
        }
      },
      "source": [
        "fig, axarr = plt.subplots(nrows = 1, ncols=2, figsize=(10,5), sharey=True)\n",
        "\n",
        "df1 = counts_union[counts_union.weekday.isin([6,7])].groupby('hour').aggregate({'rate_of_change': ['mean', 'std']})\n",
        "df2 = counts_union[~counts_union.weekday.isin([6,7])].groupby('hour').aggregate({'rate_of_change': ['mean', 'std']})\n",
        "\n",
        "plt.sca(axarr[0])\n",
        "plt.errorbar(df1.index, df1.rate_of_change['mean'], df1.rate_of_change['std'], \n",
        "             linestyle='None', marker='^')\n",
        "\n",
        "axarr[0].set_title('Weekends')\n",
        "axarr[0].set_xlabel('Hour of the day')\n",
        "axarr[0].set_ylabel('Hourly rate of change')\n",
        "plt.grid()\n",
        "\n",
        "plt.sca(axarr[1])\n",
        "plt.errorbar(df2.index, df2.rate_of_change['mean'], df2.rate_of_change['std'], \n",
        "             linestyle='None', marker='^')\n",
        "axarr[1].set_title('Business days')\n",
        "axarr[1].set_xlabel('Hour of the day')\n",
        "plt.grid()\n",
        "plt.tight_layout()\n"
      ],
      "execution_count": 0,
      "outputs": [
        {
          "output_type": "display_data",
          "data": {
            "image/png": "[encoded data removed]",
            "text/plain": [
              "<Figure size 720x360 with 2 Axes>"
            ]
          },
          "metadata": {
            "tags": []
          }
        }
      ]
    },
    {
      "cell_type": "markdown",
      "metadata": {
        "id": "2hdJCX7ZC73O",
        "colab_type": "text"
      },
      "source": [
        "Here, we can extract a few insights:\n",
        "\n",
        "* **During weekends we see a steady rate of change around zero**, this insight is important because it will mean that on average, we will not need people replenishing or taking bikes out of Union Station (here we could have some savings in resources).\n",
        "\n",
        "* During the morning we tend to have a positive rate of change on average, and until 6 AM we have a balanced rate of change, also, we notice that for a peak demand at 7 AM the capacity of the station will satisfy the demand of about 10 bikes on average, hence the capacity is optimal for inflow of bikes during morning hours and we might not need to replenish bikes at Union Station.\n",
        "\n",
        "* During afternoon we have the opposite, with **negative rates of change from 3 PM until 10 PM**. We will need to remove a significant amount of bikes during afternoon hours, even more during peak inflow hours (from 2 to 6) the capacity of the station will be exceeded users might arrive without anywhere to park their bikes, this might lead users to incur in overage affecting the service and even the probability of churn.\n",
        "\n",
        "* One significant insight is the fact that on average, the mean and standard deviations will be within the capacity of the station, which seems to be optimal for the rate of change in general.\n"
      ]
    },
    {
      "cell_type": "markdown",
      "metadata": {
        "id": "VGG-4at366Ei",
        "colab_type": "text"
      },
      "source": [
        "**Extreme values**\n",
        "\n",
        "Let's dig deeper into where are these ouliers happenning. We are going to highlight the hours in which the rate of change is grater than the capacity of the station, given the fact that these peaks will create significant operational challenges."
      ]
    },
    {
      "cell_type": "code",
      "metadata": {
        "id": "AFEddRK58UtJ",
        "colab_type": "code",
        "colab": {}
      },
      "source": [
        "#Extract those from the dataset\n",
        "peaks = counts_union[(counts_union.rate_of_change > 26) | (counts_union.rate_of_change < -26)]"
      ],
      "execution_count": 0,
      "outputs": []
    },
    {
      "cell_type": "code",
      "metadata": {
        "id": "1eUd4WP99s9T",
        "colab_type": "code",
        "outputId": "6ab92df1-e641-484b-a94a-28c597506a9e",
        "colab": {
          "base_uri": "https://localhost:8080/",
          "height": 34
        }
      },
      "source": [
        "# Count those hours\n",
        "peaks.shape[0]"
      ],
      "execution_count": 0,
      "outputs": [
        {
          "output_type": "execute_result",
          "data": {
            "text/plain": [
              "65"
            ]
          },
          "metadata": {
            "tags": []
          },
          "execution_count": 104
        }
      ]
    },
    {
      "cell_type": "code",
      "metadata": {
        "id": "wnjZXf8OAy4B",
        "colab_type": "code",
        "outputId": "3e350926-f50f-4f3d-c976-9d5507c0846d",
        "colab": {
          "base_uri": "https://localhost:8080/",
          "height": 301
        }
      },
      "source": [
        "# How are distributed\n",
        "peaks.rate_of_change.plot(kind='hist')\n",
        "plt.xlabel('Rate of change')"
      ],
      "execution_count": 0,
      "outputs": [
        {
          "output_type": "execute_result",
          "data": {
            "text/plain": [
              "Text(0.5, 0, 'Rate of change')"
            ]
          },
          "metadata": {
            "tags": []
          },
          "execution_count": 105
        },
        {
          "output_type": "display_data",
          "data": {
            "image/png": "[encoded data removed]",
            "text/plain": [
              "<Figure size 432x288 with 1 Axes>"
            ]
          },
          "metadata": {
            "tags": []
          }
        }
      ]
    },
    {
      "cell_type": "markdown",
      "metadata": {
        "id": "fbWWEFYo9zFG",
        "colab_type": "text"
      },
      "source": [
        "So we have 65 hours in which we will have inflow of bikes (negative rate of change), let's check at how these are distributed throughout the hours of the day, days of the week and days of the year."
      ]
    },
    {
      "cell_type": "code",
      "metadata": {
        "id": "BkIC4tYy7FGr",
        "colab_type": "code",
        "outputId": "dd0578bf-4d2b-4b35-9612-764ff9781b48",
        "colab": {
          "base_uri": "https://localhost:8080/",
          "height": 315
        }
      },
      "source": [
        "fig, ax = plt.subplots(nrows=1, ncols=2, figsize=(15,4))\n",
        "\n",
        "#Check distribution during the hours of the day\n",
        "peaks.hour.value_counts().plot(kind='bar', ax=ax[0])\n",
        "ax[0].set_xlabel('Hour of the day')\n",
        "ax[0].set_title('Count of peaks')\n",
        "\n",
        "#Check distribution during the week\n",
        "peaks.weekday.value_counts().plot(kind='bar', ax=ax[1])\n",
        "ax[1].set_xlabel('Days of the week')\n",
        "ax[1].set_title('Count of peaks')"
      ],
      "execution_count": 0,
      "outputs": [
        {
          "output_type": "execute_result",
          "data": {
            "text/plain": [
              "Text(0.5, 1.0, 'Count of peaks')"
            ]
          },
          "metadata": {
            "tags": []
          },
          "execution_count": 107
        },
        {
          "output_type": "display_data",
          "data": {
            "image/png": "[encoded data removed]",
            "text/plain": [
              "<Figure size 1080x288 with 2 Axes>"
            ]
          },
          "metadata": {
            "tags": []
          }
        }
      ]
    },
    {
      "cell_type": "code",
      "metadata": {
        "colab_type": "code",
        "outputId": "1e03ad93-328f-497f-c3c1-67398cab38e0",
        "id": "djn2Y38l-6Pg",
        "colab": {
          "base_uri": "https://localhost:8080/",
          "height": 176
        }
      },
      "source": [
        "#Check distribution during the year\n",
        "peaks.dayofyear.value_counts().describe()"
      ],
      "execution_count": 0,
      "outputs": [
        {
          "output_type": "execute_result",
          "data": {
            "text/plain": [
              "count    64.000000\n",
              "mean      1.015625\n",
              "std       0.125000\n",
              "min       1.000000\n",
              "25%       1.000000\n",
              "50%       1.000000\n",
              "75%       1.000000\n",
              "max       2.000000\n",
              "Name: dayofyear, dtype: float64"
            ]
          },
          "metadata": {
            "tags": []
          },
          "execution_count": 109
        }
      ]
    },
    {
      "cell_type": "markdown",
      "metadata": {
        "id": "s2y35vW-_H9H",
        "colab_type": "text"
      },
      "source": [
        "Some observations regarding this graphs:\n",
        "\n",
        "* We see that these peaks are mostly at 4 PM (busy hour for commuting), which is consistent with the data previously reviewed. At this time of the day, a large number of bikes are taken to this station for the \"ride back home\". However, it's interesting that the \"ride to work\" is not symmetric to this number. This station is used for getting home from work but not as much for getting to work.\n",
        "* Almost every day of the week at 4 PM we will have an overflow of bikes at this station, however, at 5 PM and 8 PM is quite rare.\n",
        "* Wednesday is the day that presents the most peaks for rate of change, followed in simmilar proportion by Tuesday, Thursday and Monday. On a Friday is rare to have a bike overflow.\n",
        "* Also, we have a mean of one peak a day for this station, this insight could optimize the trips taken to Union Station to pick up bikes."
      ]
    },
    {
      "cell_type": "markdown",
      "metadata": {
        "id": "j4OIHxnRY4gG",
        "colab_type": "text"
      },
      "source": [
        "## Feature engineering for time variables\n",
        "\n",
        "Now that we have our time variables as we wanted and the trip counts for each one of those time periods, we need to make sure that our cyclical variables, namely dayofyear, weekday and hour, will preserve the cyclical characteristics of months, days and weeks, this is to say that the first day of the week is close to the last day of the following week. [LINK](http://blog.davidkaleko.com/feature-engineering-cyclical-features.html)\n",
        "\n",
        "This transformation is explained in the following picture:\n",
        "\n",
        "![alt text](http://blog.davidkaleko.com/images/unit_circle.png)\n"
      ]
    },
    {
      "cell_type": "code",
      "metadata": {
        "id": "9s2tqTbGWeuN",
        "colab_type": "code",
        "outputId": "0c5ba539-1932-45cc-b63d-4611d3500412",
        "colab": {
          "base_uri": "https://localhost:8080/",
          "height": 217
        }
      },
      "source": [
        "# Transform the three time variables into cyclical variables using sine and cosine\n",
        "\n",
        "counts_union['dayofyear_sin'] = np.sin(counts_union.dayofyear*(2.*np.pi/365))\n",
        "counts_union['dayofyear_cos'] = np.cos(counts_union.dayofyear*(2.*np.pi/365))\n",
        "counts_union['weekday_sin'] = np.sin(counts_union.weekday*(2.*np.pi/7))\n",
        "counts_union['weekday_cos'] = np.cos(counts_union.weekday*(2.*np.pi/7))\n",
        "counts_union['hour_sin'] = np.sin(counts_union.hour*(2.*np.pi/24))\n",
        "counts_union['hour_cos'] = np.cos(counts_union.hour*(2.*np.pi/24))\n",
        "\n",
        "#Preview\n",
        "counts_union.head()"
      ],
      "execution_count": 0,
      "outputs": [
        {
          "output_type": "execute_result",
          "data": {
            "text/html": [
              "<div>\n",
              "<style scoped>\n",
              "    .dataframe tbody tr th:only-of-type {\n",
              "        vertical-align: middle;\n",
              "    }\n",
              "\n",
              "    .dataframe tbody tr th {\n",
              "        vertical-align: top;\n",
              "    }\n",
              "\n",
              "    .dataframe thead th {\n",
              "        text-align: right;\n",
              "    }\n",
              "</style>\n",
              "<table border=\"1\" class=\"dataframe\">\n",
              "  <thead>\n",
              "    <tr style=\"text-align: right;\">\n",
              "      <th></th>\n",
              "      <th>dayofyear</th>\n",
              "      <th>weekday</th>\n",
              "      <th>hour</th>\n",
              "      <th>count_trips_orig</th>\n",
              "      <th>count_trips_dest</th>\n",
              "      <th>rate_of_change</th>\n",
              "      <th>dayofyear_sin</th>\n",
              "      <th>dayofyear_cos</th>\n",
              "      <th>weekday_sin</th>\n",
              "      <th>weekday_cos</th>\n",
              "      <th>hour_sin</th>\n",
              "      <th>hour_cos</th>\n",
              "    </tr>\n",
              "  </thead>\n",
              "  <tbody>\n",
              "    <tr>\n",
              "      <th>0</th>\n",
              "      <td>0</td>\n",
              "      <td>6</td>\n",
              "      <td>0</td>\n",
              "      <td>0.0</td>\n",
              "      <td>2.0</td>\n",
              "      <td>-2.0</td>\n",
              "      <td>0.0</td>\n",
              "      <td>1.0</td>\n",
              "      <td>-0.781831</td>\n",
              "      <td>0.62349</td>\n",
              "      <td>0.000000</td>\n",
              "      <td>1.000000</td>\n",
              "    </tr>\n",
              "    <tr>\n",
              "      <th>1</th>\n",
              "      <td>0</td>\n",
              "      <td>6</td>\n",
              "      <td>1</td>\n",
              "      <td>1.0</td>\n",
              "      <td>0.0</td>\n",
              "      <td>1.0</td>\n",
              "      <td>0.0</td>\n",
              "      <td>1.0</td>\n",
              "      <td>-0.781831</td>\n",
              "      <td>0.62349</td>\n",
              "      <td>0.258819</td>\n",
              "      <td>0.965926</td>\n",
              "    </tr>\n",
              "    <tr>\n",
              "      <th>2</th>\n",
              "      <td>0</td>\n",
              "      <td>6</td>\n",
              "      <td>2</td>\n",
              "      <td>2.0</td>\n",
              "      <td>0.0</td>\n",
              "      <td>2.0</td>\n",
              "      <td>0.0</td>\n",
              "      <td>1.0</td>\n",
              "      <td>-0.781831</td>\n",
              "      <td>0.62349</td>\n",
              "      <td>0.500000</td>\n",
              "      <td>0.866025</td>\n",
              "    </tr>\n",
              "    <tr>\n",
              "      <th>3</th>\n",
              "      <td>0</td>\n",
              "      <td>6</td>\n",
              "      <td>3</td>\n",
              "      <td>1.0</td>\n",
              "      <td>0.0</td>\n",
              "      <td>1.0</td>\n",
              "      <td>0.0</td>\n",
              "      <td>1.0</td>\n",
              "      <td>-0.781831</td>\n",
              "      <td>0.62349</td>\n",
              "      <td>0.707107</td>\n",
              "      <td>0.707107</td>\n",
              "    </tr>\n",
              "    <tr>\n",
              "      <th>4</th>\n",
              "      <td>0</td>\n",
              "      <td>6</td>\n",
              "      <td>4</td>\n",
              "      <td>0.0</td>\n",
              "      <td>1.0</td>\n",
              "      <td>-1.0</td>\n",
              "      <td>0.0</td>\n",
              "      <td>1.0</td>\n",
              "      <td>-0.781831</td>\n",
              "      <td>0.62349</td>\n",
              "      <td>0.866025</td>\n",
              "      <td>0.500000</td>\n",
              "    </tr>\n",
              "  </tbody>\n",
              "</table>\n",
              "</div>"
            ],
            "text/plain": [
              "   dayofyear  weekday  hour  ...  weekday_cos  hour_sin  hour_cos\n",
              "0          0        6     0  ...      0.62349  0.000000  1.000000\n",
              "1          0        6     1  ...      0.62349  0.258819  0.965926\n",
              "2          0        6     2  ...      0.62349  0.500000  0.866025\n",
              "3          0        6     3  ...      0.62349  0.707107  0.707107\n",
              "4          0        6     4  ...      0.62349  0.866025  0.500000\n",
              "\n",
              "[5 rows x 12 columns]"
            ]
          },
          "metadata": {
            "tags": []
          },
          "execution_count": 110
        }
      ]
    },
    {
      "cell_type": "markdown",
      "metadata": {
        "id": "qvlm9XcMdz7N",
        "colab_type": "text"
      },
      "source": [
        "Here we can evidence that by virtue of sines and cosines, hours will be arranged in a cyclical manner so the model can obtain this information in order to process data correctly."
      ]
    },
    {
      "cell_type": "markdown",
      "metadata": {
        "id": "tdYRxpFff0V6",
        "colab_type": "text"
      },
      "source": [
        "## Modeling using Random Forest"
      ]
    },
    {
      "cell_type": "markdown",
      "metadata": {
        "colab_type": "text",
        "id": "HaUtCNhU7XDU"
      },
      "source": [
        "Now let's use our previous dataset `counts_union` to model the rate of change in Union Station using a non-linear regression model, for this case and as a first approach we will be using Random Forest to model the regression, however, further modeling iterations must be carried out."
      ]
    },
    {
      "cell_type": "code",
      "metadata": {
        "id": "2M3JRH5EXyOJ",
        "colab_type": "code",
        "outputId": "84f65dca-df20-4860-d3b0-ab6e5208616d",
        "colab": {
          "base_uri": "https://localhost:8080/",
          "height": 127
        }
      },
      "source": [
        "#Sneak peak\n",
        "counts_union.head(2)"
      ],
      "execution_count": 0,
      "outputs": [
        {
          "output_type": "execute_result",
          "data": {
            "text/html": [
              "<div>\n",
              "<style scoped>\n",
              "    .dataframe tbody tr th:only-of-type {\n",
              "        vertical-align: middle;\n",
              "    }\n",
              "\n",
              "    .dataframe tbody tr th {\n",
              "        vertical-align: top;\n",
              "    }\n",
              "\n",
              "    .dataframe thead th {\n",
              "        text-align: right;\n",
              "    }\n",
              "</style>\n",
              "<table border=\"1\" class=\"dataframe\">\n",
              "  <thead>\n",
              "    <tr style=\"text-align: right;\">\n",
              "      <th></th>\n",
              "      <th>dayofyear</th>\n",
              "      <th>weekday</th>\n",
              "      <th>hour</th>\n",
              "      <th>count_trips_orig</th>\n",
              "      <th>count_trips_dest</th>\n",
              "      <th>rate_of_change</th>\n",
              "      <th>dayofyear_sin</th>\n",
              "      <th>dayofyear_cos</th>\n",
              "      <th>weekday_sin</th>\n",
              "      <th>weekday_cos</th>\n",
              "      <th>hour_sin</th>\n",
              "      <th>hour_cos</th>\n",
              "    </tr>\n",
              "  </thead>\n",
              "  <tbody>\n",
              "    <tr>\n",
              "      <th>0</th>\n",
              "      <td>0</td>\n",
              "      <td>6</td>\n",
              "      <td>0</td>\n",
              "      <td>0.0</td>\n",
              "      <td>2.0</td>\n",
              "      <td>-2.0</td>\n",
              "      <td>0.0</td>\n",
              "      <td>1.0</td>\n",
              "      <td>-0.781831</td>\n",
              "      <td>0.62349</td>\n",
              "      <td>0.000000</td>\n",
              "      <td>1.000000</td>\n",
              "    </tr>\n",
              "    <tr>\n",
              "      <th>1</th>\n",
              "      <td>0</td>\n",
              "      <td>6</td>\n",
              "      <td>1</td>\n",
              "      <td>1.0</td>\n",
              "      <td>0.0</td>\n",
              "      <td>1.0</td>\n",
              "      <td>0.0</td>\n",
              "      <td>1.0</td>\n",
              "      <td>-0.781831</td>\n",
              "      <td>0.62349</td>\n",
              "      <td>0.258819</td>\n",
              "      <td>0.965926</td>\n",
              "    </tr>\n",
              "  </tbody>\n",
              "</table>\n",
              "</div>"
            ],
            "text/plain": [
              "   dayofyear  weekday  hour  ...  weekday_cos  hour_sin  hour_cos\n",
              "0          0        6     0  ...      0.62349  0.000000  1.000000\n",
              "1          0        6     1  ...      0.62349  0.258819  0.965926\n",
              "\n",
              "[2 rows x 12 columns]"
            ]
          },
          "metadata": {
            "tags": []
          },
          "execution_count": 111
        }
      ]
    },
    {
      "cell_type": "markdown",
      "metadata": {
        "colab_type": "text",
        "id": "w1vN9-RE7XDY"
      },
      "source": [
        "Now let's subset our dataset for modeling by including only the variables we need. For this case our model will be only time-dependent as since it's modeled as a cyclical process, we expect that this data could account for seasonal variables such as the temperature and precipitation.\n",
        "\n",
        "Nevertheless, future stages of development could include other predictors such as ``is_holiday``, `mean_temperature`, `humidity`, `mean_windspeed`, `casual_rides`, `member_rides`, ``is_event_date``, among many others."
      ]
    },
    {
      "cell_type": "code",
      "metadata": {
        "colab_type": "code",
        "id": "TCFMHUTX7XDZ",
        "colab": {}
      },
      "source": [
        "# Set the variables\n",
        "X = counts_union[['dayofyear_sin', 'dayofyear_cos', 'weekday_sin', 'weekday_cos','hour_sin', 'hour_cos']]\n",
        "y= counts_union[['rate_of_change']]"
      ],
      "execution_count": 0,
      "outputs": []
    },
    {
      "cell_type": "markdown",
      "metadata": {
        "id": "dvd8g2a5AggG",
        "colab_type": "text"
      },
      "source": [
        "Split the dataset into training and test set for Cross validation and hyper parameters optimization"
      ]
    },
    {
      "cell_type": "code",
      "metadata": {
        "colab_type": "code",
        "id": "g3I-uLmfadtY",
        "colab": {}
      },
      "source": [
        "X_train, X_test, y_train, y_test = train_test_split(X, y, test_size=0.2, random_state=100)"
      ],
      "execution_count": 0,
      "outputs": []
    },
    {
      "cell_type": "markdown",
      "metadata": {
        "id": "1KN7MPn4Anda",
        "colab_type": "text"
      },
      "source": [
        "Now we will use ``GridSearchCV`` for evaluating a combination of hyperparameters that were previously explored. This GridSearch is already focused on a specific area of the hyperspace of parameters that was detected manually by exploring the training and cross validation $R^{2}$ one by one. These sets of parameters given should provide one optimal model derived from this data. "
      ]
    },
    {
      "cell_type": "code",
      "metadata": {
        "colab_type": "code",
        "outputId": "dcd5be36-313a-4f59-94d5-07a746d26686",
        "id": "6FrVw7G6adtc",
        "colab": {
          "base_uri": "https://localhost:8080/",
          "height": 638
        }
      },
      "source": [
        "#Create pipeline\n",
        "pipe = Pipeline([('scaler', StandardScaler()), \n",
        "                 ('rf', RandomForestRegressor(random_state=100, max_features=4))])\n",
        "\n",
        "#Create params grid\n",
        "params_list = [{'rf__n_estimators': np.linspace(30, 70, 5, endpoint=True, dtype=int),\n",
        "                'rf__max_depth' : np.linspace(1, 10, 5, endpoint=True, dtype=int),\n",
        "                'rf__min_samples_split': np.linspace(0.0001, 0.001, 5, endpoint=True),\n",
        "                'rf__min_samples_leaf': np.linspace(1, 10, 4, endpoint=True, dtype=int),\n",
        "               }]\n",
        "\n",
        "# Perform grid search\n",
        "grid_search = GridSearchCV(estimator=pipe, \n",
        "                           param_grid=params_list, \n",
        "                           cv=5, \n",
        "                           scoring='r2',\n",
        "                          verbose=2,\n",
        "                          n_jobs=-1,\n",
        "                          return_train_score=True)\n",
        "  \n",
        "grid_search.fit(X_train, y_train)"
      ],
      "execution_count": 0,
      "outputs": [
        {
          "output_type": "stream",
          "text": [
            "Fitting 5 folds for each of 500 candidates, totalling 2500 fits\n"
          ],
          "name": "stdout"
        },
        {
          "output_type": "stream",
          "text": [
            "[Parallel(n_jobs=-1)]: Using backend LokyBackend with 2 concurrent workers.\n",
            "[Parallel(n_jobs=-1)]: Done  37 tasks      | elapsed:    3.7s\n",
            "[Parallel(n_jobs=-1)]: Done 279 tasks      | elapsed:   17.4s\n",
            "[Parallel(n_jobs=-1)]: Done 685 tasks      | elapsed:   46.2s\n",
            "[Parallel(n_jobs=-1)]: Done 1251 tasks      | elapsed:  1.7min\n",
            "[Parallel(n_jobs=-1)]: Done 1981 tasks      | elapsed:  3.5min\n",
            "[Parallel(n_jobs=-1)]: Done 2497 out of 2500 | elapsed:  5.2min remaining:    0.4s\n",
            "[Parallel(n_jobs=-1)]: Done 2500 out of 2500 | elapsed:  5.2min finished\n"
          ],
          "name": "stderr"
        },
        {
          "output_type": "execute_result",
          "data": {
            "text/plain": [
              "GridSearchCV(cv=5, error_score='raise-deprecating',\n",
              "             estimator=Pipeline(memory=None,\n",
              "                                steps=[('scaler',\n",
              "                                        StandardScaler(copy=True,\n",
              "                                                       with_mean=True,\n",
              "                                                       with_std=True)),\n",
              "                                       ('rf',\n",
              "                                        RandomForestRegressor(bootstrap=True,\n",
              "                                                              criterion='mse',\n",
              "                                                              max_depth=None,\n",
              "                                                              max_features=4,\n",
              "                                                              max_leaf_nodes=None,\n",
              "                                                              min_impurity_decrease=0.0,\n",
              "                                                              min_impurity_split=None,\n",
              "                                                              min_samples_leaf=1,\n",
              "                                                              min_samples_split=...\n",
              "                                                              verbose=0,\n",
              "                                                              warm_start=False))],\n",
              "                                verbose=False),\n",
              "             iid='warn', n_jobs=-1,\n",
              "             param_grid=[{'rf__max_depth': array([ 1,  3,  5,  7, 10]),\n",
              "                          'rf__min_samples_leaf': array([ 1,  4,  7, 10]),\n",
              "                          'rf__min_samples_split': array([0.0001  , 0.000325, 0.00055 , 0.000775, 0.001   ]),\n",
              "                          'rf__n_estimators': array([30, 40, 50, 60, 70])}],\n",
              "             pre_dispatch='2*n_jobs', refit=True, return_train_score=True,\n",
              "             scoring='r2', verbose=2)"
            ]
          },
          "metadata": {
            "tags": []
          },
          "execution_count": 119
        }
      ]
    },
    {
      "cell_type": "markdown",
      "metadata": {
        "id": "WSUaNm3OBq2O",
        "colab_type": "text"
      },
      "source": [
        "First let's get the subset of optimal parameters obtained by the ``GridSearchCV`` algorithm and its score."
      ]
    },
    {
      "cell_type": "code",
      "metadata": {
        "colab_type": "code",
        "outputId": "a4c78015-72e7-400a-ea1c-ab4452b18486",
        "id": "UdrnCXwN5yUx",
        "colab": {
          "base_uri": "https://localhost:8080/",
          "height": 87
        }
      },
      "source": [
        "#Get best params\n",
        "grid_search.best_params_"
      ],
      "execution_count": 0,
      "outputs": [
        {
          "output_type": "execute_result",
          "data": {
            "text/plain": [
              "{'rf__max_depth': 10,\n",
              " 'rf__min_samples_leaf': 7,\n",
              " 'rf__min_samples_split': 0.0001,\n",
              " 'rf__n_estimators': 70}"
            ]
          },
          "metadata": {
            "tags": []
          },
          "execution_count": 120
        }
      ]
    },
    {
      "cell_type": "code",
      "metadata": {
        "colab_type": "code",
        "outputId": "671dd5eb-8606-437b-fdc7-5913e8a52dd3",
        "id": "VoJAlIjt5yU1",
        "colab": {
          "base_uri": "https://localhost:8080/",
          "height": 34
        }
      },
      "source": [
        "#Get best score\n",
        "grid_search.best_score_.round(2)"
      ],
      "execution_count": 0,
      "outputs": [
        {
          "output_type": "execute_result",
          "data": {
            "text/plain": [
              "0.69"
            ]
          },
          "metadata": {
            "tags": []
          },
          "execution_count": 139
        }
      ]
    },
    {
      "cell_type": "markdown",
      "metadata": {
        "id": "U0QiRC2NB1tr",
        "colab_type": "text"
      },
      "source": [
        "For this case we have chosen $R^{2}$ as the metric for model selection (as seen before). Hence, we will evaluate the results obtained with this metric for both training and test set."
      ]
    },
    {
      "cell_type": "code",
      "metadata": {
        "colab_type": "code",
        "outputId": "e2cc3d0e-df4f-4d3b-b0ef-6db1078cf812",
        "id": "LFRSx-TI5yU4",
        "colab": {
          "base_uri": "https://localhost:8080/",
          "height": 34
        }
      },
      "source": [
        "#Use the best model for prediction on training set and get metric\n",
        "r2_score(y_train, grid_search.predict(X_train)).round(2)"
      ],
      "execution_count": 0,
      "outputs": [
        {
          "output_type": "execute_result",
          "data": {
            "text/plain": [
              "0.77"
            ]
          },
          "metadata": {
            "tags": []
          },
          "execution_count": 137
        }
      ]
    },
    {
      "cell_type": "code",
      "metadata": {
        "colab_type": "code",
        "outputId": "95f66974-0cdc-4b78-95b8-e0e104f5dcff",
        "id": "03kauyXg5yU6",
        "colab": {
          "base_uri": "https://localhost:8080/",
          "height": 34
        }
      },
      "source": [
        "#Use the best model for prediction on test set and get metric\n",
        "r2_score(y_test, grid_search.predict(X_test)).round(2)"
      ],
      "execution_count": 0,
      "outputs": [
        {
          "output_type": "execute_result",
          "data": {
            "text/plain": [
              "0.7"
            ]
          },
          "metadata": {
            "tags": []
          },
          "execution_count": 138
        }
      ]
    },
    {
      "cell_type": "code",
      "metadata": {
        "colab_type": "code",
        "outputId": "a7ff3974-66a5-4f2a-a548-ea03fa435d24",
        "id": "8QE_53hy5yU9",
        "colab": {
          "base_uri": "https://localhost:8080/",
          "height": 227
        }
      },
      "source": [
        "# Feature importance for time series data\n",
        "pd.DataFrame(data=grid_search.best_estimator_.named_steps['rf'].feature_importances_,\n",
        "            index=X_train.columns)"
      ],
      "execution_count": 0,
      "outputs": [
        {
          "output_type": "execute_result",
          "data": {
            "text/html": [
              "<div>\n",
              "<style scoped>\n",
              "    .dataframe tbody tr th:only-of-type {\n",
              "        vertical-align: middle;\n",
              "    }\n",
              "\n",
              "    .dataframe tbody tr th {\n",
              "        vertical-align: top;\n",
              "    }\n",
              "\n",
              "    .dataframe thead th {\n",
              "        text-align: right;\n",
              "    }\n",
              "</style>\n",
              "<table border=\"1\" class=\"dataframe\">\n",
              "  <thead>\n",
              "    <tr style=\"text-align: right;\">\n",
              "      <th></th>\n",
              "      <th>0</th>\n",
              "    </tr>\n",
              "  </thead>\n",
              "  <tbody>\n",
              "    <tr>\n",
              "      <th>dayofyear_sin</th>\n",
              "      <td>0.241934</td>\n",
              "    </tr>\n",
              "    <tr>\n",
              "      <th>dayofyear_cos</th>\n",
              "      <td>0.077818</td>\n",
              "    </tr>\n",
              "    <tr>\n",
              "      <th>weekday_sin</th>\n",
              "      <td>0.136558</td>\n",
              "    </tr>\n",
              "    <tr>\n",
              "      <th>weekday_cos</th>\n",
              "      <td>0.011994</td>\n",
              "    </tr>\n",
              "    <tr>\n",
              "      <th>hour_sin</th>\n",
              "      <td>0.299072</td>\n",
              "    </tr>\n",
              "    <tr>\n",
              "      <th>hour_cos</th>\n",
              "      <td>0.232625</td>\n",
              "    </tr>\n",
              "  </tbody>\n",
              "</table>\n",
              "</div>"
            ],
            "text/plain": [
              "                      0\n",
              "dayofyear_sin  0.241934\n",
              "dayofyear_cos  0.077818\n",
              "weekday_sin    0.136558\n",
              "weekday_cos    0.011994\n",
              "hour_sin       0.299072\n",
              "hour_cos       0.232625"
            ]
          },
          "metadata": {
            "tags": []
          },
          "execution_count": 124
        }
      ]
    },
    {
      "cell_type": "markdown",
      "metadata": {
        "id": "6i9O0OvHKu-s",
        "colab_type": "text"
      },
      "source": [
        "After reviewing the results, we can evidence that indeed modeling rate of change dependent of time as a cyclic variable helps us predict with certain accuracy its behavior.\n",
        "\n",
        "Nevertheless, we must consider de following for **future work**\n",
        "\n",
        "* Even with the data at hand, the model could be improved applying a more rigorous hyperparameter optimization, which is key in stochastic algorithms. Or another alternative could be to model the demand as time series using models such as ARIMA or SARIMA and compare its performance.\n",
        "\n",
        "* To improve model metrics, we could also think of adding data from previous and following years to the model, specifically to provide more yearly seasonality information to the model, this might reduce variance.\n",
        "\n",
        "* The model is in early stages of development, to reduce model variance (overfitting) there are some solutions to be tested: restrict complexity using hyperparameters (although this was carried out) and get more data to improve generalization capability.\n",
        "\n",
        "* Using the real-time station status data available through the API, one could instantly assess model performance using real data.\n"
      ]
    },
    {
      "cell_type": "markdown",
      "metadata": {
        "id": "UDfmx_nrMIC5",
        "colab_type": "text"
      },
      "source": [
        "### Evaluating predictions for months of high demand\n",
        "\n",
        "We will compare the predictions for June, July and August into a timeline with the real data to review overall model performance."
      ]
    },
    {
      "cell_type": "code",
      "metadata": {
        "id": "PS-aE7diMR0w",
        "colab_type": "code",
        "colab": {}
      },
      "source": [
        "#Set the time range\n",
        "init_day = 152  #Jun 1st\n",
        "final_day = 243  #Aug 31st\n",
        "\n",
        "#Real data\n",
        "real_y = y.rate_of_change[(counts_union.dayofyear >= init_day) & \n",
        "                       (counts_union.dayofyear <= final_day)]\n",
        "\n",
        "#Calculate predictions\n",
        "X_subset = X[(counts_union.dayofyear >= init_day) & \n",
        "                       (counts_union.dayofyear <= final_day)]\n",
        "\n",
        "predic_y = grid_search.predict(X_subset)"
      ],
      "execution_count": 0,
      "outputs": []
    },
    {
      "cell_type": "code",
      "metadata": {
        "id": "qN__Fb_BOztq",
        "colab_type": "code",
        "outputId": "b10aa1bd-acaa-4452-d7ce-216df6850edf",
        "colab": {
          "base_uri": "https://localhost:8080/",
          "height": 367
        }
      },
      "source": [
        "#Get the indices of the data points\n",
        "x_values = counts_union.index[(counts_union.dayofyear >= init_day) & (counts_union.dayofyear <= final_day)]\n",
        "\n",
        "#Plot\n",
        "fig, axes= plt.subplots(nrows=1, ncols=1,figsize=(15,5))\n",
        "\n",
        "#Plot difference between real and predicted value\n",
        "plt.plot(x_values, real_y- predic_y, c='black')\n",
        "plt.xlabel('Data indices (hours) from June 1st to Aug 31st')\n",
        "plt.ylabel('Delta rate of change (real -  prediction)')\n",
        "plt.title('Difference between real rate of change and predicted rate of change')\n",
        "plt.show"
      ],
      "execution_count": 0,
      "outputs": [
        {
          "output_type": "execute_result",
          "data": {
            "text/plain": [
              "<function matplotlib.pyplot.show>"
            ]
          },
          "metadata": {
            "tags": []
          },
          "execution_count": 145
        },
        {
          "output_type": "display_data",
          "data": {
            "image/png": "[encoded data removed]",
            "text/plain": [
              "<Figure size 1080x360 with 1 Axes>"
            ]
          },
          "metadata": {
            "tags": []
          }
        }
      ]
    },
    {
      "cell_type": "markdown",
      "metadata": {
        "id": "zmD-u8aDFFmk",
        "colab_type": "text"
      },
      "source": [
        "### Final remarks\n",
        "\n",
        "* The most important factor for prediction is the hour of the day, both on the cosine and sine components. The dayofyear and weekday also have some influence, mainly on their sine component, since these are the variables that provide information about weekly and yearly seasonality.\n",
        "\n",
        "* In terms of prediction for months of high demand, the model seems to do a good job on most days, in which the difference between the real value and prediction are close to zero and between the $[-5,5]$ range, with a capacity of 26 bikes, this error might be acceptable (depending on the hour of the day). However, several peak points in the difference are still present, it's important identify explanatory variables for those peaks in order to improve model performance.\n",
        "\n",
        "* This model could be used for predicting the performance of other stations aswell since the data is already clean and prepared for the analysis.\n"
      ]
    },
    {
      "cell_type": "code",
      "metadata": {
        "id": "h9SFiTHCHX-X",
        "colab_type": "code",
        "colab": {}
      },
      "source": [
        ""
      ],
      "execution_count": 0,
      "outputs": []
    }
  ]
}